{
  "nbformat": 4,
  "nbformat_minor": 0,
  "metadata": {
    "colab": {
      "provenance": [],
      "machine_shape": "hm",
      "collapsed_sections": []
    },
    "kernelspec": {
      "name": "python3",
      "display_name": "Python 3"
    },
    "language_info": {
      "name": "python"
    },
    "gpuClass": "standard"
  },
  "cells": [
    {
      "cell_type": "code",
      "source": [
        "import numpy as np\n",
        "import pandas as pd\n",
        "import plotly.graph_objs as go\n",
        "import plotly.offline as py\n",
        "from keras.models import Sequential\n",
        "from keras.layers import LSTM, Dense\n",
        "from sklearn.model_selection import train_test_split\n",
        "import tensorflow as tf\n",
        "import matplotlib.pyplot as plt"
      ],
      "metadata": {
        "id": "t5m6jc-d7yKW"
      },
      "execution_count": 1,
      "outputs": []
    },
    {
      "cell_type": "code",
      "source": [],
      "metadata": {
        "id": "haBolUSOAhIJ"
      },
      "execution_count": 1,
      "outputs": []
    },
    {
      "cell_type": "code",
      "source": [
        "df_btc = pd.read_csv('BTC-USD.csv')\n",
        "df_btc.sort_values('Date', inplace=True)\n",
        "df_btc.head()"
      ],
      "metadata": {
        "colab": {
          "base_uri": "https://localhost:8080/",
          "height": 206
        },
        "id": "trwJGZSA9uWa",
        "outputId": "4c0fedc4-9f90-4dc5-c294-5aeba07238cf"
      },
      "execution_count": 2,
      "outputs": [
        {
          "output_type": "execute_result",
          "data": {
            "text/plain": [
              "         Date        Open        High         Low       Close   Adj Close  \\\n",
              "0  2014-11-17  388.348999  410.199005  377.502014  387.407990  387.407990   \n",
              "1  2014-11-18  387.785004  392.402008  371.117004  375.197998  375.197998   \n",
              "2  2014-11-19  373.895996  386.480988  373.895996  380.554993  380.554993   \n",
              "3  2014-11-20  380.307007  382.024994  356.781006  357.839996  357.839996   \n",
              "4  2014-11-21  357.878998  357.878998  344.112000  350.847992  350.847992   \n",
              "\n",
              "     Volume  \n",
              "0  41518800  \n",
              "1  32222500  \n",
              "2  18931800  \n",
              "3  25233200  \n",
              "4  29850100  "
            ],
            "text/html": [
              "\n",
              "  <div id=\"df-017256d1-87ae-42fa-b788-a2a464147e7a\">\n",
              "    <div class=\"colab-df-container\">\n",
              "      <div>\n",
              "<style scoped>\n",
              "    .dataframe tbody tr th:only-of-type {\n",
              "        vertical-align: middle;\n",
              "    }\n",
              "\n",
              "    .dataframe tbody tr th {\n",
              "        vertical-align: top;\n",
              "    }\n",
              "\n",
              "    .dataframe thead th {\n",
              "        text-align: right;\n",
              "    }\n",
              "</style>\n",
              "<table border=\"1\" class=\"dataframe\">\n",
              "  <thead>\n",
              "    <tr style=\"text-align: right;\">\n",
              "      <th></th>\n",
              "      <th>Date</th>\n",
              "      <th>Open</th>\n",
              "      <th>High</th>\n",
              "      <th>Low</th>\n",
              "      <th>Close</th>\n",
              "      <th>Adj Close</th>\n",
              "      <th>Volume</th>\n",
              "    </tr>\n",
              "  </thead>\n",
              "  <tbody>\n",
              "    <tr>\n",
              "      <th>0</th>\n",
              "      <td>2014-11-17</td>\n",
              "      <td>388.348999</td>\n",
              "      <td>410.199005</td>\n",
              "      <td>377.502014</td>\n",
              "      <td>387.407990</td>\n",
              "      <td>387.407990</td>\n",
              "      <td>41518800</td>\n",
              "    </tr>\n",
              "    <tr>\n",
              "      <th>1</th>\n",
              "      <td>2014-11-18</td>\n",
              "      <td>387.785004</td>\n",
              "      <td>392.402008</td>\n",
              "      <td>371.117004</td>\n",
              "      <td>375.197998</td>\n",
              "      <td>375.197998</td>\n",
              "      <td>32222500</td>\n",
              "    </tr>\n",
              "    <tr>\n",
              "      <th>2</th>\n",
              "      <td>2014-11-19</td>\n",
              "      <td>373.895996</td>\n",
              "      <td>386.480988</td>\n",
              "      <td>373.895996</td>\n",
              "      <td>380.554993</td>\n",
              "      <td>380.554993</td>\n",
              "      <td>18931800</td>\n",
              "    </tr>\n",
              "    <tr>\n",
              "      <th>3</th>\n",
              "      <td>2014-11-20</td>\n",
              "      <td>380.307007</td>\n",
              "      <td>382.024994</td>\n",
              "      <td>356.781006</td>\n",
              "      <td>357.839996</td>\n",
              "      <td>357.839996</td>\n",
              "      <td>25233200</td>\n",
              "    </tr>\n",
              "    <tr>\n",
              "      <th>4</th>\n",
              "      <td>2014-11-21</td>\n",
              "      <td>357.878998</td>\n",
              "      <td>357.878998</td>\n",
              "      <td>344.112000</td>\n",
              "      <td>350.847992</td>\n",
              "      <td>350.847992</td>\n",
              "      <td>29850100</td>\n",
              "    </tr>\n",
              "  </tbody>\n",
              "</table>\n",
              "</div>\n",
              "      <button class=\"colab-df-convert\" onclick=\"convertToInteractive('df-017256d1-87ae-42fa-b788-a2a464147e7a')\"\n",
              "              title=\"Convert this dataframe to an interactive table.\"\n",
              "              style=\"display:none;\">\n",
              "        \n",
              "  <svg xmlns=\"http://www.w3.org/2000/svg\" height=\"24px\"viewBox=\"0 0 24 24\"\n",
              "       width=\"24px\">\n",
              "    <path d=\"M0 0h24v24H0V0z\" fill=\"none\"/>\n",
              "    <path d=\"M18.56 5.44l.94 2.06.94-2.06 2.06-.94-2.06-.94-.94-2.06-.94 2.06-2.06.94zm-11 1L8.5 8.5l.94-2.06 2.06-.94-2.06-.94L8.5 2.5l-.94 2.06-2.06.94zm10 10l.94 2.06.94-2.06 2.06-.94-2.06-.94-.94-2.06-.94 2.06-2.06.94z\"/><path d=\"M17.41 7.96l-1.37-1.37c-.4-.4-.92-.59-1.43-.59-.52 0-1.04.2-1.43.59L10.3 9.45l-7.72 7.72c-.78.78-.78 2.05 0 2.83L4 21.41c.39.39.9.59 1.41.59.51 0 1.02-.2 1.41-.59l7.78-7.78 2.81-2.81c.8-.78.8-2.07 0-2.86zM5.41 20L4 18.59l7.72-7.72 1.47 1.35L5.41 20z\"/>\n",
              "  </svg>\n",
              "      </button>\n",
              "      \n",
              "  <style>\n",
              "    .colab-df-container {\n",
              "      display:flex;\n",
              "      flex-wrap:wrap;\n",
              "      gap: 12px;\n",
              "    }\n",
              "\n",
              "    .colab-df-convert {\n",
              "      background-color: #E8F0FE;\n",
              "      border: none;\n",
              "      border-radius: 50%;\n",
              "      cursor: pointer;\n",
              "      display: none;\n",
              "      fill: #1967D2;\n",
              "      height: 32px;\n",
              "      padding: 0 0 0 0;\n",
              "      width: 32px;\n",
              "    }\n",
              "\n",
              "    .colab-df-convert:hover {\n",
              "      background-color: #E2EBFA;\n",
              "      box-shadow: 0px 1px 2px rgba(60, 64, 67, 0.3), 0px 1px 3px 1px rgba(60, 64, 67, 0.15);\n",
              "      fill: #174EA6;\n",
              "    }\n",
              "\n",
              "    [theme=dark] .colab-df-convert {\n",
              "      background-color: #3B4455;\n",
              "      fill: #D2E3FC;\n",
              "    }\n",
              "\n",
              "    [theme=dark] .colab-df-convert:hover {\n",
              "      background-color: #434B5C;\n",
              "      box-shadow: 0px 1px 3px 1px rgba(0, 0, 0, 0.15);\n",
              "      filter: drop-shadow(0px 1px 2px rgba(0, 0, 0, 0.3));\n",
              "      fill: #FFFFFF;\n",
              "    }\n",
              "  </style>\n",
              "\n",
              "      <script>\n",
              "        const buttonEl =\n",
              "          document.querySelector('#df-017256d1-87ae-42fa-b788-a2a464147e7a button.colab-df-convert');\n",
              "        buttonEl.style.display =\n",
              "          google.colab.kernel.accessAllowed ? 'block' : 'none';\n",
              "\n",
              "        async function convertToInteractive(key) {\n",
              "          const element = document.querySelector('#df-017256d1-87ae-42fa-b788-a2a464147e7a');\n",
              "          const dataTable =\n",
              "            await google.colab.kernel.invokeFunction('convertToInteractive',\n",
              "                                                     [key], {});\n",
              "          if (!dataTable) return;\n",
              "\n",
              "          const docLinkHtml = 'Like what you see? Visit the ' +\n",
              "            '<a target=\"_blank\" href=https://colab.research.google.com/notebooks/data_table.ipynb>data table notebook</a>'\n",
              "            + ' to learn more about interactive tables.';\n",
              "          element.innerHTML = '';\n",
              "          dataTable['output_type'] = 'display_data';\n",
              "          await google.colab.output.renderOutput(dataTable, element);\n",
              "          const docLink = document.createElement('div');\n",
              "          docLink.innerHTML = docLinkHtml;\n",
              "          element.appendChild(docLink);\n",
              "        }\n",
              "      </script>\n",
              "    </div>\n",
              "  </div>\n",
              "  "
            ]
          },
          "metadata": {},
          "execution_count": 2
        }
      ]
    },
    {
      "cell_type": "code",
      "source": [
        "# Load the fear and greed sentiment data for Bitcoin\n",
        "df_eth = pd.read_csv('ETH-USD.csv')\n",
        "df_eth.sort_values('Date', inplace=True)\n",
        "df_eth.head()"
      ],
      "metadata": {
        "colab": {
          "base_uri": "https://localhost:8080/",
          "height": 206
        },
        "id": "3HgwPUXRVX10",
        "outputId": "9505fb43-38d8-48f0-ec13-63cc6cc6b822"
      },
      "execution_count": 3,
      "outputs": [
        {
          "output_type": "execute_result",
          "data": {
            "text/plain": [
              "         Date        Open        High         Low       Close   Adj Close  \\\n",
              "0  2017-11-09  308.644989  329.451996  307.056000  320.884003  320.884003   \n",
              "1  2017-11-10  320.670990  324.717987  294.541992  299.252991  299.252991   \n",
              "2  2017-11-11  298.585999  319.453003  298.191986  314.681000  314.681000   \n",
              "3  2017-11-12  314.690002  319.153015  298.513000  307.907990  307.907990   \n",
              "4  2017-11-13  307.024994  328.415009  307.024994  316.716003  316.716003   \n",
              "\n",
              "       Volume  \n",
              "0   893249984  \n",
              "1   885985984  \n",
              "2   842300992  \n",
              "3  1613479936  \n",
              "4  1041889984  "
            ],
            "text/html": [
              "\n",
              "  <div id=\"df-943b929d-a006-460f-8dc6-f81583e07d24\">\n",
              "    <div class=\"colab-df-container\">\n",
              "      <div>\n",
              "<style scoped>\n",
              "    .dataframe tbody tr th:only-of-type {\n",
              "        vertical-align: middle;\n",
              "    }\n",
              "\n",
              "    .dataframe tbody tr th {\n",
              "        vertical-align: top;\n",
              "    }\n",
              "\n",
              "    .dataframe thead th {\n",
              "        text-align: right;\n",
              "    }\n",
              "</style>\n",
              "<table border=\"1\" class=\"dataframe\">\n",
              "  <thead>\n",
              "    <tr style=\"text-align: right;\">\n",
              "      <th></th>\n",
              "      <th>Date</th>\n",
              "      <th>Open</th>\n",
              "      <th>High</th>\n",
              "      <th>Low</th>\n",
              "      <th>Close</th>\n",
              "      <th>Adj Close</th>\n",
              "      <th>Volume</th>\n",
              "    </tr>\n",
              "  </thead>\n",
              "  <tbody>\n",
              "    <tr>\n",
              "      <th>0</th>\n",
              "      <td>2017-11-09</td>\n",
              "      <td>308.644989</td>\n",
              "      <td>329.451996</td>\n",
              "      <td>307.056000</td>\n",
              "      <td>320.884003</td>\n",
              "      <td>320.884003</td>\n",
              "      <td>893249984</td>\n",
              "    </tr>\n",
              "    <tr>\n",
              "      <th>1</th>\n",
              "      <td>2017-11-10</td>\n",
              "      <td>320.670990</td>\n",
              "      <td>324.717987</td>\n",
              "      <td>294.541992</td>\n",
              "      <td>299.252991</td>\n",
              "      <td>299.252991</td>\n",
              "      <td>885985984</td>\n",
              "    </tr>\n",
              "    <tr>\n",
              "      <th>2</th>\n",
              "      <td>2017-11-11</td>\n",
              "      <td>298.585999</td>\n",
              "      <td>319.453003</td>\n",
              "      <td>298.191986</td>\n",
              "      <td>314.681000</td>\n",
              "      <td>314.681000</td>\n",
              "      <td>842300992</td>\n",
              "    </tr>\n",
              "    <tr>\n",
              "      <th>3</th>\n",
              "      <td>2017-11-12</td>\n",
              "      <td>314.690002</td>\n",
              "      <td>319.153015</td>\n",
              "      <td>298.513000</td>\n",
              "      <td>307.907990</td>\n",
              "      <td>307.907990</td>\n",
              "      <td>1613479936</td>\n",
              "    </tr>\n",
              "    <tr>\n",
              "      <th>4</th>\n",
              "      <td>2017-11-13</td>\n",
              "      <td>307.024994</td>\n",
              "      <td>328.415009</td>\n",
              "      <td>307.024994</td>\n",
              "      <td>316.716003</td>\n",
              "      <td>316.716003</td>\n",
              "      <td>1041889984</td>\n",
              "    </tr>\n",
              "  </tbody>\n",
              "</table>\n",
              "</div>\n",
              "      <button class=\"colab-df-convert\" onclick=\"convertToInteractive('df-943b929d-a006-460f-8dc6-f81583e07d24')\"\n",
              "              title=\"Convert this dataframe to an interactive table.\"\n",
              "              style=\"display:none;\">\n",
              "        \n",
              "  <svg xmlns=\"http://www.w3.org/2000/svg\" height=\"24px\"viewBox=\"0 0 24 24\"\n",
              "       width=\"24px\">\n",
              "    <path d=\"M0 0h24v24H0V0z\" fill=\"none\"/>\n",
              "    <path d=\"M18.56 5.44l.94 2.06.94-2.06 2.06-.94-2.06-.94-.94-2.06-.94 2.06-2.06.94zm-11 1L8.5 8.5l.94-2.06 2.06-.94-2.06-.94L8.5 2.5l-.94 2.06-2.06.94zm10 10l.94 2.06.94-2.06 2.06-.94-2.06-.94-.94-2.06-.94 2.06-2.06.94z\"/><path d=\"M17.41 7.96l-1.37-1.37c-.4-.4-.92-.59-1.43-.59-.52 0-1.04.2-1.43.59L10.3 9.45l-7.72 7.72c-.78.78-.78 2.05 0 2.83L4 21.41c.39.39.9.59 1.41.59.51 0 1.02-.2 1.41-.59l7.78-7.78 2.81-2.81c.8-.78.8-2.07 0-2.86zM5.41 20L4 18.59l7.72-7.72 1.47 1.35L5.41 20z\"/>\n",
              "  </svg>\n",
              "      </button>\n",
              "      \n",
              "  <style>\n",
              "    .colab-df-container {\n",
              "      display:flex;\n",
              "      flex-wrap:wrap;\n",
              "      gap: 12px;\n",
              "    }\n",
              "\n",
              "    .colab-df-convert {\n",
              "      background-color: #E8F0FE;\n",
              "      border: none;\n",
              "      border-radius: 50%;\n",
              "      cursor: pointer;\n",
              "      display: none;\n",
              "      fill: #1967D2;\n",
              "      height: 32px;\n",
              "      padding: 0 0 0 0;\n",
              "      width: 32px;\n",
              "    }\n",
              "\n",
              "    .colab-df-convert:hover {\n",
              "      background-color: #E2EBFA;\n",
              "      box-shadow: 0px 1px 2px rgba(60, 64, 67, 0.3), 0px 1px 3px 1px rgba(60, 64, 67, 0.15);\n",
              "      fill: #174EA6;\n",
              "    }\n",
              "\n",
              "    [theme=dark] .colab-df-convert {\n",
              "      background-color: #3B4455;\n",
              "      fill: #D2E3FC;\n",
              "    }\n",
              "\n",
              "    [theme=dark] .colab-df-convert:hover {\n",
              "      background-color: #434B5C;\n",
              "      box-shadow: 0px 1px 3px 1px rgba(0, 0, 0, 0.15);\n",
              "      filter: drop-shadow(0px 1px 2px rgba(0, 0, 0, 0.3));\n",
              "      fill: #FFFFFF;\n",
              "    }\n",
              "  </style>\n",
              "\n",
              "      <script>\n",
              "        const buttonEl =\n",
              "          document.querySelector('#df-943b929d-a006-460f-8dc6-f81583e07d24 button.colab-df-convert');\n",
              "        buttonEl.style.display =\n",
              "          google.colab.kernel.accessAllowed ? 'block' : 'none';\n",
              "\n",
              "        async function convertToInteractive(key) {\n",
              "          const element = document.querySelector('#df-943b929d-a006-460f-8dc6-f81583e07d24');\n",
              "          const dataTable =\n",
              "            await google.colab.kernel.invokeFunction('convertToInteractive',\n",
              "                                                     [key], {});\n",
              "          if (!dataTable) return;\n",
              "\n",
              "          const docLinkHtml = 'Like what you see? Visit the ' +\n",
              "            '<a target=\"_blank\" href=https://colab.research.google.com/notebooks/data_table.ipynb>data table notebook</a>'\n",
              "            + ' to learn more about interactive tables.';\n",
              "          element.innerHTML = '';\n",
              "          dataTable['output_type'] = 'display_data';\n",
              "          await google.colab.output.renderOutput(dataTable, element);\n",
              "          const docLink = document.createElement('div');\n",
              "          docLink.innerHTML = docLinkHtml;\n",
              "          element.appendChild(docLink);\n",
              "        }\n",
              "      </script>\n",
              "    </div>\n",
              "  </div>\n",
              "  "
            ]
          },
          "metadata": {},
          "execution_count": 3
        }
      ]
    },
    {
      "cell_type": "code",
      "source": [
        "# Load the fear and greed sentiment data for Bitcoin\n",
        "df_usdt = pd.read_csv('USDT-USD.csv')\n",
        "df_usdt.sort_values('Date', inplace=True)\n",
        "df_usdt.head()"
      ],
      "metadata": {
        "colab": {
          "base_uri": "https://localhost:8080/",
          "height": 206
        },
        "id": "HNEFpB3mVbS1",
        "outputId": "33b5e21a-ded5-4a16-ac74-4a08a2912de3"
      },
      "execution_count": 4,
      "outputs": [
        {
          "output_type": "execute_result",
          "data": {
            "text/plain": [
              "         Date     Open     High       Low    Close  Adj Close      Volume\n",
              "0  2017-11-09  1.01087  1.01327  0.996515  1.00818    1.00818   358188000\n",
              "1  2017-11-10  1.00650  1.02423  0.995486  1.00601    1.00601   756446016\n",
              "2  2017-11-11  1.00598  1.02621  0.995799  1.00899    1.00899   746227968\n",
              "3  2017-11-12  1.00602  1.10591  0.967601  1.01247    1.01247  1466060032\n",
              "4  2017-11-13  1.00448  1.02929  0.975103  1.00935    1.00935   767884032"
            ],
            "text/html": [
              "\n",
              "  <div id=\"df-2cd7891e-34d2-4282-aec7-dc926dfd10d6\">\n",
              "    <div class=\"colab-df-container\">\n",
              "      <div>\n",
              "<style scoped>\n",
              "    .dataframe tbody tr th:only-of-type {\n",
              "        vertical-align: middle;\n",
              "    }\n",
              "\n",
              "    .dataframe tbody tr th {\n",
              "        vertical-align: top;\n",
              "    }\n",
              "\n",
              "    .dataframe thead th {\n",
              "        text-align: right;\n",
              "    }\n",
              "</style>\n",
              "<table border=\"1\" class=\"dataframe\">\n",
              "  <thead>\n",
              "    <tr style=\"text-align: right;\">\n",
              "      <th></th>\n",
              "      <th>Date</th>\n",
              "      <th>Open</th>\n",
              "      <th>High</th>\n",
              "      <th>Low</th>\n",
              "      <th>Close</th>\n",
              "      <th>Adj Close</th>\n",
              "      <th>Volume</th>\n",
              "    </tr>\n",
              "  </thead>\n",
              "  <tbody>\n",
              "    <tr>\n",
              "      <th>0</th>\n",
              "      <td>2017-11-09</td>\n",
              "      <td>1.01087</td>\n",
              "      <td>1.01327</td>\n",
              "      <td>0.996515</td>\n",
              "      <td>1.00818</td>\n",
              "      <td>1.00818</td>\n",
              "      <td>358188000</td>\n",
              "    </tr>\n",
              "    <tr>\n",
              "      <th>1</th>\n",
              "      <td>2017-11-10</td>\n",
              "      <td>1.00650</td>\n",
              "      <td>1.02423</td>\n",
              "      <td>0.995486</td>\n",
              "      <td>1.00601</td>\n",
              "      <td>1.00601</td>\n",
              "      <td>756446016</td>\n",
              "    </tr>\n",
              "    <tr>\n",
              "      <th>2</th>\n",
              "      <td>2017-11-11</td>\n",
              "      <td>1.00598</td>\n",
              "      <td>1.02621</td>\n",
              "      <td>0.995799</td>\n",
              "      <td>1.00899</td>\n",
              "      <td>1.00899</td>\n",
              "      <td>746227968</td>\n",
              "    </tr>\n",
              "    <tr>\n",
              "      <th>3</th>\n",
              "      <td>2017-11-12</td>\n",
              "      <td>1.00602</td>\n",
              "      <td>1.10591</td>\n",
              "      <td>0.967601</td>\n",
              "      <td>1.01247</td>\n",
              "      <td>1.01247</td>\n",
              "      <td>1466060032</td>\n",
              "    </tr>\n",
              "    <tr>\n",
              "      <th>4</th>\n",
              "      <td>2017-11-13</td>\n",
              "      <td>1.00448</td>\n",
              "      <td>1.02929</td>\n",
              "      <td>0.975103</td>\n",
              "      <td>1.00935</td>\n",
              "      <td>1.00935</td>\n",
              "      <td>767884032</td>\n",
              "    </tr>\n",
              "  </tbody>\n",
              "</table>\n",
              "</div>\n",
              "      <button class=\"colab-df-convert\" onclick=\"convertToInteractive('df-2cd7891e-34d2-4282-aec7-dc926dfd10d6')\"\n",
              "              title=\"Convert this dataframe to an interactive table.\"\n",
              "              style=\"display:none;\">\n",
              "        \n",
              "  <svg xmlns=\"http://www.w3.org/2000/svg\" height=\"24px\"viewBox=\"0 0 24 24\"\n",
              "       width=\"24px\">\n",
              "    <path d=\"M0 0h24v24H0V0z\" fill=\"none\"/>\n",
              "    <path d=\"M18.56 5.44l.94 2.06.94-2.06 2.06-.94-2.06-.94-.94-2.06-.94 2.06-2.06.94zm-11 1L8.5 8.5l.94-2.06 2.06-.94-2.06-.94L8.5 2.5l-.94 2.06-2.06.94zm10 10l.94 2.06.94-2.06 2.06-.94-2.06-.94-.94-2.06-.94 2.06-2.06.94z\"/><path d=\"M17.41 7.96l-1.37-1.37c-.4-.4-.92-.59-1.43-.59-.52 0-1.04.2-1.43.59L10.3 9.45l-7.72 7.72c-.78.78-.78 2.05 0 2.83L4 21.41c.39.39.9.59 1.41.59.51 0 1.02-.2 1.41-.59l7.78-7.78 2.81-2.81c.8-.78.8-2.07 0-2.86zM5.41 20L4 18.59l7.72-7.72 1.47 1.35L5.41 20z\"/>\n",
              "  </svg>\n",
              "      </button>\n",
              "      \n",
              "  <style>\n",
              "    .colab-df-container {\n",
              "      display:flex;\n",
              "      flex-wrap:wrap;\n",
              "      gap: 12px;\n",
              "    }\n",
              "\n",
              "    .colab-df-convert {\n",
              "      background-color: #E8F0FE;\n",
              "      border: none;\n",
              "      border-radius: 50%;\n",
              "      cursor: pointer;\n",
              "      display: none;\n",
              "      fill: #1967D2;\n",
              "      height: 32px;\n",
              "      padding: 0 0 0 0;\n",
              "      width: 32px;\n",
              "    }\n",
              "\n",
              "    .colab-df-convert:hover {\n",
              "      background-color: #E2EBFA;\n",
              "      box-shadow: 0px 1px 2px rgba(60, 64, 67, 0.3), 0px 1px 3px 1px rgba(60, 64, 67, 0.15);\n",
              "      fill: #174EA6;\n",
              "    }\n",
              "\n",
              "    [theme=dark] .colab-df-convert {\n",
              "      background-color: #3B4455;\n",
              "      fill: #D2E3FC;\n",
              "    }\n",
              "\n",
              "    [theme=dark] .colab-df-convert:hover {\n",
              "      background-color: #434B5C;\n",
              "      box-shadow: 0px 1px 3px 1px rgba(0, 0, 0, 0.15);\n",
              "      filter: drop-shadow(0px 1px 2px rgba(0, 0, 0, 0.3));\n",
              "      fill: #FFFFFF;\n",
              "    }\n",
              "  </style>\n",
              "\n",
              "      <script>\n",
              "        const buttonEl =\n",
              "          document.querySelector('#df-2cd7891e-34d2-4282-aec7-dc926dfd10d6 button.colab-df-convert');\n",
              "        buttonEl.style.display =\n",
              "          google.colab.kernel.accessAllowed ? 'block' : 'none';\n",
              "\n",
              "        async function convertToInteractive(key) {\n",
              "          const element = document.querySelector('#df-2cd7891e-34d2-4282-aec7-dc926dfd10d6');\n",
              "          const dataTable =\n",
              "            await google.colab.kernel.invokeFunction('convertToInteractive',\n",
              "                                                     [key], {});\n",
              "          if (!dataTable) return;\n",
              "\n",
              "          const docLinkHtml = 'Like what you see? Visit the ' +\n",
              "            '<a target=\"_blank\" href=https://colab.research.google.com/notebooks/data_table.ipynb>data table notebook</a>'\n",
              "            + ' to learn more about interactive tables.';\n",
              "          element.innerHTML = '';\n",
              "          dataTable['output_type'] = 'display_data';\n",
              "          await google.colab.output.renderOutput(dataTable, element);\n",
              "          const docLink = document.createElement('div');\n",
              "          docLink.innerHTML = docLinkHtml;\n",
              "          element.appendChild(docLink);\n",
              "        }\n",
              "      </script>\n",
              "    </div>\n",
              "  </div>\n",
              "  "
            ]
          },
          "metadata": {},
          "execution_count": 4
        }
      ]
    },
    {
      "cell_type": "code",
      "source": [
        "btc_trace = go.Scatter(x=df_btc.Date, y=df_btc['Close'], name= 'Price')\n",
        "btc_trace2 = go.Scatter(x=df_eth.Date, y=df_eth['Close'], name= 'Price')\n",
        "btc_trace3 = go.Scatter(x=df_usdt.Date, y=df_usdt['Close'], name= 'Price')\n",
        "\n",
        "py.iplot([btc_trace, btc_trace2, btc_trace3])"
      ],
      "metadata": {
        "colab": {
          "base_uri": "https://localhost:8080/",
          "height": 542
        },
        "id": "NqrEsTD6Uq8Z",
        "outputId": "bc9c5297-cd8d-40b5-b303-0b78daac576b"
      },
      "execution_count": 5,
      "outputs": [
        {
          "output_type": "display_data",
          "data": {
            "text/html": [
              "<html>\n",
              "<head><meta charset=\"utf-8\" /></head>\n",
              "<body>\n",
              "    <div>            <script src=\"https://cdnjs.cloudflare.com/ajax/libs/mathjax/2.7.5/MathJax.js?config=TeX-AMS-MML_SVG\"></script><script type=\"text/javascript\">if (window.MathJax) {MathJax.Hub.Config({SVG: {font: \"STIX-Web\"}});}</script>                <script type=\"text/javascript\">window.PlotlyConfig = {MathJaxConfig: 'local'};</script>\n",
              "        <script src=\"https://cdn.plot.ly/plotly-2.8.3.min.js\"></script>                <div id=\"321b5fe3-ad40-4c0f-8eae-0e7ba9c0ad2c\" class=\"plotly-graph-div\" style=\"height:525px; width:100%;\"></div>            <script type=\"text/javascript\">                                    window.PLOTLYENV=window.PLOTLYENV || {};                                    if (document.getElementById(\"321b5fe3-ad40-4c0f-8eae-0e7ba9c0ad2c\")) {                    Plotly.newPlot(                        \"321b5fe3-ad40-4c0f-8eae-0e7ba9c0ad2c\",                        [{\"name\":\"Price\",\"x\":[\"2014-11-17\",\"2014-11-18\",\"2014-11-19\",\"2014-11-20\",\"2014-11-21\",\"2014-11-22\",\"2014-11-23\",\"2014-11-24\",\"2014-11-25\",\"2014-11-26\",\"2014-11-27\",\"2014-11-28\",\"2014-11-29\",\"2014-11-30\",\"2014-12-01\",\"2014-12-02\",\"2014-12-03\",\"2014-12-04\",\"2014-12-05\",\"2014-12-06\",\"2014-12-07\",\"2014-12-08\",\"2014-12-09\",\"2014-12-10\",\"2014-12-11\",\"2014-12-12\",\"2014-12-13\",\"2014-12-14\",\"2014-12-15\",\"2014-12-16\",\"2014-12-17\",\"2014-12-18\",\"2014-12-19\",\"2014-12-20\",\"2014-12-21\",\"2014-12-22\",\"2014-12-23\",\"2014-12-24\",\"2014-12-25\",\"2014-12-26\",\"2014-12-27\",\"2014-12-28\",\"2014-12-29\",\"2014-12-30\",\"2014-12-31\",\"2015-01-01\",\"2015-01-02\",\"2015-01-03\",\"2015-01-04\",\"2015-01-05\",\"2015-01-06\",\"2015-01-07\",\"2015-01-08\",\"2015-01-09\",\"2015-01-10\",\"2015-01-11\",\"2015-01-12\",\"2015-01-13\",\"2015-01-14\",\"2015-01-15\",\"2015-01-16\",\"2015-01-17\",\"2015-01-18\",\"2015-01-19\",\"2015-01-20\",\"2015-01-21\",\"2015-01-22\",\"2015-01-23\",\"2015-01-24\",\"2015-01-25\",\"2015-01-26\",\"2015-01-27\",\"2015-01-28\",\"2015-01-29\",\"2015-01-30\",\"2015-01-31\",\"2015-02-01\",\"2015-02-02\",\"2015-02-03\",\"2015-02-04\",\"2015-02-05\",\"2015-02-06\",\"2015-02-07\",\"2015-02-08\",\"2015-02-09\",\"2015-02-10\",\"2015-02-11\",\"2015-02-12\",\"2015-02-13\",\"2015-02-14\",\"2015-02-15\",\"2015-02-16\",\"2015-02-17\",\"2015-02-18\",\"2015-02-19\",\"2015-02-20\",\"2015-02-21\",\"2015-02-22\",\"2015-02-23\",\"2015-02-24\",\"2015-02-25\",\"2015-02-26\",\"2015-02-27\",\"2015-02-28\",\"2015-03-01\",\"2015-03-02\",\"2015-03-03\",\"2015-03-04\",\"2015-03-05\",\"2015-03-06\",\"2015-03-07\",\"2015-03-08\",\"2015-03-09\",\"2015-03-10\",\"2015-03-11\",\"2015-03-12\",\"2015-03-13\",\"2015-03-14\",\"2015-03-15\",\"2015-03-16\",\"2015-03-17\",\"2015-03-18\",\"2015-03-19\",\"2015-03-20\",\"2015-03-21\",\"2015-03-22\",\"2015-03-23\",\"2015-03-24\",\"2015-03-25\",\"2015-03-26\",\"2015-03-27\",\"2015-03-28\",\"2015-03-29\",\"2015-03-30\",\"2015-03-31\",\"2015-04-01\",\"2015-04-02\",\"2015-04-03\",\"2015-04-04\",\"2015-04-05\",\"2015-04-06\",\"2015-04-07\",\"2015-04-08\",\"2015-04-09\",\"2015-04-10\",\"2015-04-11\",\"2015-04-12\",\"2015-04-13\",\"2015-04-14\",\"2015-04-15\",\"2015-04-16\",\"2015-04-17\",\"2015-04-18\",\"2015-04-19\",\"2015-04-20\",\"2015-04-21\",\"2015-04-22\",\"2015-04-23\",\"2015-04-24\",\"2015-04-25\",\"2015-04-26\",\"2015-04-27\",\"2015-04-28\",\"2015-04-29\",\"2015-04-30\",\"2015-05-01\",\"2015-05-02\",\"2015-05-03\",\"2015-05-04\",\"2015-05-05\",\"2015-05-06\",\"2015-05-07\",\"2015-05-08\",\"2015-05-09\",\"2015-05-10\",\"2015-05-11\",\"2015-05-12\",\"2015-05-13\",\"2015-05-14\",\"2015-05-15\",\"2015-05-16\",\"2015-05-17\",\"2015-05-18\",\"2015-05-19\",\"2015-05-20\",\"2015-05-21\",\"2015-05-22\",\"2015-05-23\",\"2015-05-24\",\"2015-05-25\",\"2015-05-26\",\"2015-05-27\",\"2015-05-28\",\"2015-05-29\",\"2015-05-30\",\"2015-05-31\",\"2015-06-01\",\"2015-06-02\",\"2015-06-03\",\"2015-06-04\",\"2015-06-05\",\"2015-06-06\",\"2015-06-07\",\"2015-06-08\",\"2015-06-09\",\"2015-06-10\",\"2015-06-11\",\"2015-06-12\",\"2015-06-13\",\"2015-06-14\",\"2015-06-15\",\"2015-06-16\",\"2015-06-17\",\"2015-06-18\",\"2015-06-19\",\"2015-06-20\",\"2015-06-21\",\"2015-06-22\",\"2015-06-23\",\"2015-06-24\",\"2015-06-25\",\"2015-06-26\",\"2015-06-27\",\"2015-06-28\",\"2015-06-29\",\"2015-06-30\",\"2015-07-01\",\"2015-07-02\",\"2015-07-03\",\"2015-07-04\",\"2015-07-05\",\"2015-07-06\",\"2015-07-07\",\"2015-07-08\",\"2015-07-09\",\"2015-07-10\",\"2015-07-11\",\"2015-07-12\",\"2015-07-13\",\"2015-07-14\",\"2015-07-15\",\"2015-07-16\",\"2015-07-17\",\"2015-07-18\",\"2015-07-19\",\"2015-07-20\",\"2015-07-21\",\"2015-07-22\",\"2015-07-23\",\"2015-07-24\",\"2015-07-25\",\"2015-07-26\",\"2015-07-27\",\"2015-07-28\",\"2015-07-29\",\"2015-07-30\",\"2015-07-31\",\"2015-08-01\",\"2015-08-02\",\"2015-08-03\",\"2015-08-04\",\"2015-08-05\",\"2015-08-06\",\"2015-08-07\",\"2015-08-08\",\"2015-08-09\",\"2015-08-10\",\"2015-08-11\",\"2015-08-12\",\"2015-08-13\",\"2015-08-14\",\"2015-08-15\",\"2015-08-16\",\"2015-08-17\",\"2015-08-18\",\"2015-08-19\",\"2015-08-20\",\"2015-08-21\",\"2015-08-22\",\"2015-08-23\",\"2015-08-24\",\"2015-08-25\",\"2015-08-26\",\"2015-08-27\",\"2015-08-28\",\"2015-08-29\",\"2015-08-30\",\"2015-08-31\",\"2015-09-01\",\"2015-09-02\",\"2015-09-03\",\"2015-09-04\",\"2015-09-05\",\"2015-09-06\",\"2015-09-07\",\"2015-09-08\",\"2015-09-09\",\"2015-09-10\",\"2015-09-11\",\"2015-09-12\",\"2015-09-13\",\"2015-09-14\",\"2015-09-15\",\"2015-09-16\",\"2015-09-17\",\"2015-09-18\",\"2015-09-19\",\"2015-09-20\",\"2015-09-21\",\"2015-09-22\",\"2015-09-23\",\"2015-09-24\",\"2015-09-25\",\"2015-09-26\",\"2015-09-27\",\"2015-09-28\",\"2015-09-29\",\"2015-09-30\",\"2015-10-01\",\"2015-10-02\",\"2015-10-03\",\"2015-10-04\",\"2015-10-05\",\"2015-10-06\",\"2015-10-07\",\"2015-10-08\",\"2015-10-09\",\"2015-10-10\",\"2015-10-11\",\"2015-10-12\",\"2015-10-13\",\"2015-10-14\",\"2015-10-15\",\"2015-10-16\",\"2015-10-17\",\"2015-10-18\",\"2015-10-19\",\"2015-10-20\",\"2015-10-21\",\"2015-10-22\",\"2015-10-23\",\"2015-10-24\",\"2015-10-25\",\"2015-10-26\",\"2015-10-27\",\"2015-10-28\",\"2015-10-29\",\"2015-10-30\",\"2015-10-31\",\"2015-11-01\",\"2015-11-02\",\"2015-11-03\",\"2015-11-04\",\"2015-11-05\",\"2015-11-06\",\"2015-11-07\",\"2015-11-08\",\"2015-11-09\",\"2015-11-10\",\"2015-11-11\",\"2015-11-12\",\"2015-11-13\",\"2015-11-14\",\"2015-11-15\",\"2015-11-16\",\"2015-11-17\",\"2015-11-18\",\"2015-11-19\",\"2015-11-20\",\"2015-11-21\",\"2015-11-22\",\"2015-11-23\",\"2015-11-24\",\"2015-11-25\",\"2015-11-26\",\"2015-11-27\",\"2015-11-28\",\"2015-11-29\",\"2015-11-30\",\"2015-12-01\",\"2015-12-02\",\"2015-12-03\",\"2015-12-04\",\"2015-12-05\",\"2015-12-06\",\"2015-12-07\",\"2015-12-08\",\"2015-12-09\",\"2015-12-10\",\"2015-12-11\",\"2015-12-12\",\"2015-12-13\",\"2015-12-14\",\"2015-12-15\",\"2015-12-16\",\"2015-12-17\",\"2015-12-18\",\"2015-12-19\",\"2015-12-20\",\"2015-12-21\",\"2015-12-22\",\"2015-12-23\",\"2015-12-24\",\"2015-12-25\",\"2015-12-26\",\"2015-12-27\",\"2015-12-28\",\"2015-12-29\",\"2015-12-30\",\"2015-12-31\",\"2016-01-01\",\"2016-01-02\",\"2016-01-03\",\"2016-01-04\",\"2016-01-05\",\"2016-01-06\",\"2016-01-07\",\"2016-01-08\",\"2016-01-09\",\"2016-01-10\",\"2016-01-11\",\"2016-01-12\",\"2016-01-13\",\"2016-01-14\",\"2016-01-15\",\"2016-01-16\",\"2016-01-17\",\"2016-01-18\",\"2016-01-19\",\"2016-01-20\",\"2016-01-21\",\"2016-01-22\",\"2016-01-23\",\"2016-01-24\",\"2016-01-25\",\"2016-01-26\",\"2016-01-27\",\"2016-01-28\",\"2016-01-29\",\"2016-01-30\",\"2016-01-31\",\"2016-02-01\",\"2016-02-02\",\"2016-02-03\",\"2016-02-04\",\"2016-02-05\",\"2016-02-06\",\"2016-02-07\",\"2016-02-08\",\"2016-02-09\",\"2016-02-10\",\"2016-02-11\",\"2016-02-12\",\"2016-02-13\",\"2016-02-14\",\"2016-02-15\",\"2016-02-16\",\"2016-02-17\",\"2016-02-18\",\"2016-02-19\",\"2016-02-20\",\"2016-02-21\",\"2016-02-22\",\"2016-02-23\",\"2016-02-24\",\"2016-02-25\",\"2016-02-26\",\"2016-02-27\",\"2016-02-28\",\"2016-02-29\",\"2016-03-01\",\"2016-03-02\",\"2016-03-03\",\"2016-03-04\",\"2016-03-05\",\"2016-03-06\",\"2016-03-07\",\"2016-03-08\",\"2016-03-09\",\"2016-03-10\",\"2016-03-11\",\"2016-03-12\",\"2016-03-13\",\"2016-03-14\",\"2016-03-15\",\"2016-03-16\",\"2016-03-17\",\"2016-03-18\",\"2016-03-19\",\"2016-03-20\",\"2016-03-21\",\"2016-03-22\",\"2016-03-23\",\"2016-03-24\",\"2016-03-25\",\"2016-03-26\",\"2016-03-27\",\"2016-03-28\",\"2016-03-29\",\"2016-03-30\",\"2016-03-31\",\"2016-04-01\",\"2016-04-02\",\"2016-04-03\",\"2016-04-04\",\"2016-04-05\",\"2016-04-06\",\"2016-04-07\",\"2016-04-08\",\"2016-04-09\",\"2016-04-10\",\"2016-04-11\",\"2016-04-12\",\"2016-04-13\",\"2016-04-14\",\"2016-04-15\",\"2016-04-16\",\"2016-04-17\",\"2016-04-18\",\"2016-04-19\",\"2016-04-20\",\"2016-04-21\",\"2016-04-22\",\"2016-04-23\",\"2016-04-24\",\"2016-04-25\",\"2016-04-26\",\"2016-04-27\",\"2016-04-28\",\"2016-04-29\",\"2016-04-30\",\"2016-05-01\",\"2016-05-02\",\"2016-05-03\",\"2016-05-04\",\"2016-05-05\",\"2016-05-06\",\"2016-05-07\",\"2016-05-08\",\"2016-05-09\",\"2016-05-10\",\"2016-05-11\",\"2016-05-12\",\"2016-05-13\",\"2016-05-14\",\"2016-05-15\",\"2016-05-16\",\"2016-05-17\",\"2016-05-18\",\"2016-05-19\",\"2016-05-20\",\"2016-05-21\",\"2016-05-22\",\"2016-05-23\",\"2016-05-24\",\"2016-05-25\",\"2016-05-26\",\"2016-05-27\",\"2016-05-28\",\"2016-05-29\",\"2016-05-30\",\"2016-05-31\",\"2016-06-01\",\"2016-06-02\",\"2016-06-03\",\"2016-06-04\",\"2016-06-05\",\"2016-06-06\",\"2016-06-07\",\"2016-06-08\",\"2016-06-09\",\"2016-06-10\",\"2016-06-11\",\"2016-06-12\",\"2016-06-13\",\"2016-06-14\",\"2016-06-15\",\"2016-06-16\",\"2016-06-17\",\"2016-06-18\",\"2016-06-19\",\"2016-06-20\",\"2016-06-21\",\"2016-06-22\",\"2016-06-23\",\"2016-06-24\",\"2016-06-25\",\"2016-06-26\",\"2016-06-27\",\"2016-06-28\",\"2016-06-29\",\"2016-06-30\",\"2016-07-01\",\"2016-07-02\",\"2016-07-03\",\"2016-07-04\",\"2016-07-05\",\"2016-07-06\",\"2016-07-07\",\"2016-07-08\",\"2016-07-09\",\"2016-07-10\",\"2016-07-11\",\"2016-07-12\",\"2016-07-13\",\"2016-07-14\",\"2016-07-15\",\"2016-07-16\",\"2016-07-17\",\"2016-07-18\",\"2016-07-19\",\"2016-07-20\",\"2016-07-21\",\"2016-07-22\",\"2016-07-23\",\"2016-07-24\",\"2016-07-25\",\"2016-07-26\",\"2016-07-27\",\"2016-07-28\",\"2016-07-29\",\"2016-07-30\",\"2016-07-31\",\"2016-08-01\",\"2016-08-02\",\"2016-08-03\",\"2016-08-04\",\"2016-08-05\",\"2016-08-06\",\"2016-08-07\",\"2016-08-08\",\"2016-08-09\",\"2016-08-10\",\"2016-08-11\",\"2016-08-12\",\"2016-08-13\",\"2016-08-14\",\"2016-08-15\",\"2016-08-16\",\"2016-08-17\",\"2016-08-18\",\"2016-08-19\",\"2016-08-20\",\"2016-08-21\",\"2016-08-22\",\"2016-08-23\",\"2016-08-24\",\"2016-08-25\",\"2016-08-26\",\"2016-08-27\",\"2016-08-28\",\"2016-08-29\",\"2016-08-30\",\"2016-08-31\",\"2016-09-01\",\"2016-09-02\",\"2016-09-03\",\"2016-09-04\",\"2016-09-05\",\"2016-09-06\",\"2016-09-07\",\"2016-09-08\",\"2016-09-09\",\"2016-09-10\",\"2016-09-11\",\"2016-09-12\",\"2016-09-13\",\"2016-09-14\",\"2016-09-15\",\"2016-09-16\",\"2016-09-17\",\"2016-09-18\",\"2016-09-19\",\"2016-09-20\",\"2016-09-21\",\"2016-09-22\",\"2016-09-23\",\"2016-09-24\",\"2016-09-25\",\"2016-09-26\",\"2016-09-27\",\"2016-09-28\",\"2016-09-29\",\"2016-09-30\",\"2016-10-01\",\"2016-10-02\",\"2016-10-03\",\"2016-10-04\",\"2016-10-05\",\"2016-10-06\",\"2016-10-07\",\"2016-10-08\",\"2016-10-09\",\"2016-10-10\",\"2016-10-11\",\"2016-10-12\",\"2016-10-13\",\"2016-10-14\",\"2016-10-15\",\"2016-10-16\",\"2016-10-17\",\"2016-10-18\",\"2016-10-19\",\"2016-10-20\",\"2016-10-21\",\"2016-10-22\",\"2016-10-23\",\"2016-10-24\",\"2016-10-25\",\"2016-10-26\",\"2016-10-27\",\"2016-10-28\",\"2016-10-29\",\"2016-10-30\",\"2016-10-31\",\"2016-11-01\",\"2016-11-02\",\"2016-11-03\",\"2016-11-04\",\"2016-11-05\",\"2016-11-06\",\"2016-11-07\",\"2016-11-08\",\"2016-11-09\",\"2016-11-10\",\"2016-11-11\",\"2016-11-12\",\"2016-11-13\",\"2016-11-14\",\"2016-11-15\",\"2016-11-16\",\"2016-11-17\",\"2016-11-18\",\"2016-11-19\",\"2016-11-20\",\"2016-11-21\",\"2016-11-22\",\"2016-11-23\",\"2016-11-24\",\"2016-11-25\",\"2016-11-26\",\"2016-11-27\",\"2016-11-28\",\"2016-11-29\",\"2016-11-30\",\"2016-12-01\",\"2016-12-02\",\"2016-12-03\",\"2016-12-04\",\"2016-12-05\",\"2016-12-06\",\"2016-12-07\",\"2016-12-08\",\"2016-12-09\",\"2016-12-10\",\"2016-12-11\",\"2016-12-12\",\"2016-12-13\",\"2016-12-14\",\"2016-12-15\",\"2016-12-16\",\"2016-12-17\",\"2016-12-18\",\"2016-12-19\",\"2016-12-20\",\"2016-12-21\",\"2016-12-22\",\"2016-12-23\",\"2016-12-24\",\"2016-12-25\",\"2016-12-26\",\"2016-12-27\",\"2016-12-28\",\"2016-12-29\",\"2016-12-30\",\"2016-12-31\",\"2017-01-01\",\"2017-01-02\",\"2017-01-03\",\"2017-01-04\",\"2017-01-05\",\"2017-01-06\",\"2017-01-07\",\"2017-01-08\",\"2017-01-09\",\"2017-01-10\",\"2017-01-11\",\"2017-01-12\",\"2017-01-13\",\"2017-01-14\",\"2017-01-15\",\"2017-01-16\",\"2017-01-17\",\"2017-01-18\",\"2017-01-19\",\"2017-01-20\",\"2017-01-21\",\"2017-01-22\",\"2017-01-23\",\"2017-01-24\",\"2017-01-25\",\"2017-01-26\",\"2017-01-27\",\"2017-01-28\",\"2017-01-29\",\"2017-01-30\",\"2017-01-31\",\"2017-02-01\",\"2017-02-02\",\"2017-02-03\",\"2017-02-04\",\"2017-02-05\",\"2017-02-06\",\"2017-02-07\",\"2017-02-08\",\"2017-02-09\",\"2017-02-10\",\"2017-02-11\",\"2017-02-12\",\"2017-02-13\",\"2017-02-14\",\"2017-02-15\",\"2017-02-16\",\"2017-02-17\",\"2017-02-18\",\"2017-02-19\",\"2017-02-20\",\"2017-02-21\",\"2017-02-22\",\"2017-02-23\",\"2017-02-24\",\"2017-02-25\",\"2017-02-26\",\"2017-02-27\",\"2017-02-28\",\"2017-03-01\",\"2017-03-02\",\"2017-03-03\",\"2017-03-04\",\"2017-03-05\",\"2017-03-06\",\"2017-03-07\",\"2017-03-08\",\"2017-03-09\",\"2017-03-10\",\"2017-03-11\",\"2017-03-12\",\"2017-03-13\",\"2017-03-14\",\"2017-03-15\",\"2017-03-16\",\"2017-03-17\",\"2017-03-18\",\"2017-03-19\",\"2017-03-20\",\"2017-03-21\",\"2017-03-22\",\"2017-03-23\",\"2017-03-24\",\"2017-03-25\",\"2017-03-26\",\"2017-03-27\",\"2017-03-28\",\"2017-03-29\",\"2017-03-30\",\"2017-03-31\",\"2017-04-01\",\"2017-04-02\",\"2017-04-03\",\"2017-04-04\",\"2017-04-05\",\"2017-04-06\",\"2017-04-07\",\"2017-04-08\",\"2017-04-09\",\"2017-04-10\",\"2017-04-11\",\"2017-04-12\",\"2017-04-13\",\"2017-04-14\",\"2017-04-15\",\"2017-04-16\",\"2017-04-17\",\"2017-04-18\",\"2017-04-19\",\"2017-04-20\",\"2017-04-21\",\"2017-04-22\",\"2017-04-23\",\"2017-04-24\",\"2017-04-25\",\"2017-04-26\",\"2017-04-27\",\"2017-04-28\",\"2017-04-29\",\"2017-04-30\",\"2017-05-01\",\"2017-05-02\",\"2017-05-03\",\"2017-05-04\",\"2017-05-05\",\"2017-05-06\",\"2017-05-07\",\"2017-05-08\",\"2017-05-09\",\"2017-05-10\",\"2017-05-11\",\"2017-05-12\",\"2017-05-13\",\"2017-05-14\",\"2017-05-15\",\"2017-05-16\",\"2017-05-17\",\"2017-05-18\",\"2017-05-19\",\"2017-05-20\",\"2017-05-21\",\"2017-05-22\",\"2017-05-23\",\"2017-05-24\",\"2017-05-25\",\"2017-05-26\",\"2017-05-27\",\"2017-05-28\",\"2017-05-29\",\"2017-05-30\",\"2017-05-31\",\"2017-06-01\",\"2017-06-02\",\"2017-06-03\",\"2017-06-04\",\"2017-06-05\",\"2017-06-06\",\"2017-06-07\",\"2017-06-08\",\"2017-06-09\",\"2017-06-10\",\"2017-06-11\",\"2017-06-12\",\"2017-06-13\",\"2017-06-14\",\"2017-06-15\",\"2017-06-16\",\"2017-06-17\",\"2017-06-18\",\"2017-06-19\",\"2017-06-20\",\"2017-06-21\",\"2017-06-22\",\"2017-06-23\",\"2017-06-24\",\"2017-06-25\",\"2017-06-26\",\"2017-06-27\",\"2017-06-28\",\"2017-06-29\",\"2017-06-30\",\"2017-07-01\",\"2017-07-02\",\"2017-07-03\",\"2017-07-04\",\"2017-07-05\",\"2017-07-06\",\"2017-07-07\",\"2017-07-08\",\"2017-07-09\",\"2017-07-10\",\"2017-07-11\",\"2017-07-12\",\"2017-07-13\",\"2017-07-14\",\"2017-07-15\",\"2017-07-16\",\"2017-07-17\",\"2017-07-18\",\"2017-07-19\",\"2017-07-20\",\"2017-07-21\",\"2017-07-22\",\"2017-07-23\",\"2017-07-24\",\"2017-07-25\",\"2017-07-26\",\"2017-07-27\",\"2017-07-28\",\"2017-07-29\",\"2017-07-30\",\"2017-07-31\",\"2017-08-01\",\"2017-08-02\",\"2017-08-03\",\"2017-08-04\",\"2017-08-05\",\"2017-08-06\",\"2017-08-07\",\"2017-08-08\",\"2017-08-09\",\"2017-08-10\",\"2017-08-11\",\"2017-08-12\",\"2017-08-13\",\"2017-08-14\",\"2017-08-15\",\"2017-08-16\",\"2017-08-17\",\"2017-08-18\",\"2017-08-19\",\"2017-08-20\",\"2017-08-21\",\"2017-08-22\",\"2017-08-23\",\"2017-08-24\",\"2017-08-25\",\"2017-08-26\",\"2017-08-27\",\"2017-08-28\",\"2017-08-29\",\"2017-08-30\",\"2017-08-31\",\"2017-09-01\",\"2017-09-02\",\"2017-09-03\",\"2017-09-04\",\"2017-09-05\",\"2017-09-06\",\"2017-09-07\",\"2017-09-08\",\"2017-09-09\",\"2017-09-10\",\"2017-09-11\",\"2017-09-12\",\"2017-09-13\",\"2017-09-14\",\"2017-09-15\",\"2017-09-16\",\"2017-09-17\",\"2017-09-18\",\"2017-09-19\",\"2017-09-20\",\"2017-09-21\",\"2017-09-22\",\"2017-09-23\",\"2017-09-24\",\"2017-09-25\",\"2017-09-26\",\"2017-09-27\",\"2017-09-28\",\"2017-09-29\",\"2017-09-30\",\"2017-10-01\",\"2017-10-02\",\"2017-10-03\",\"2017-10-04\",\"2017-10-05\",\"2017-10-06\",\"2017-10-07\",\"2017-10-08\",\"2017-10-09\",\"2017-10-10\",\"2017-10-11\",\"2017-10-12\",\"2017-10-13\",\"2017-10-14\",\"2017-10-15\",\"2017-10-16\",\"2017-10-17\",\"2017-10-18\",\"2017-10-19\",\"2017-10-20\",\"2017-10-21\",\"2017-10-22\",\"2017-10-23\",\"2017-10-24\",\"2017-10-25\",\"2017-10-26\",\"2017-10-27\",\"2017-10-28\",\"2017-10-29\",\"2017-10-30\",\"2017-10-31\",\"2017-11-01\",\"2017-11-02\",\"2017-11-03\",\"2017-11-04\",\"2017-11-05\",\"2017-11-06\",\"2017-11-07\",\"2017-11-08\",\"2017-11-09\",\"2017-11-10\",\"2017-11-11\",\"2017-11-12\",\"2017-11-13\",\"2017-11-14\",\"2017-11-15\",\"2017-11-16\",\"2017-11-17\",\"2017-11-18\",\"2017-11-19\",\"2017-11-20\",\"2017-11-21\",\"2017-11-22\",\"2017-11-23\",\"2017-11-24\",\"2017-11-25\",\"2017-11-26\",\"2017-11-27\",\"2017-11-28\",\"2017-11-29\",\"2017-11-30\",\"2017-12-01\",\"2017-12-02\",\"2017-12-03\",\"2017-12-04\",\"2017-12-05\",\"2017-12-06\",\"2017-12-07\",\"2017-12-08\",\"2017-12-09\",\"2017-12-10\",\"2017-12-11\",\"2017-12-12\",\"2017-12-13\",\"2017-12-14\",\"2017-12-15\",\"2017-12-16\",\"2017-12-17\",\"2017-12-18\",\"2017-12-19\",\"2017-12-20\",\"2017-12-21\",\"2017-12-22\",\"2017-12-23\",\"2017-12-24\",\"2017-12-25\",\"2017-12-26\",\"2017-12-27\",\"2017-12-28\",\"2017-12-29\",\"2017-12-30\",\"2017-12-31\",\"2018-01-01\",\"2018-01-02\",\"2018-01-03\",\"2018-01-04\",\"2018-01-05\",\"2018-01-06\",\"2018-01-07\",\"2018-01-08\",\"2018-01-09\",\"2018-01-10\",\"2018-01-11\",\"2018-01-12\",\"2018-01-13\",\"2018-01-14\",\"2018-01-15\",\"2018-01-16\",\"2018-01-17\",\"2018-01-18\",\"2018-01-19\",\"2018-01-20\",\"2018-01-21\",\"2018-01-22\",\"2018-01-23\",\"2018-01-24\",\"2018-01-25\",\"2018-01-26\",\"2018-01-27\",\"2018-01-28\",\"2018-01-29\",\"2018-01-30\",\"2018-01-31\",\"2018-02-01\",\"2018-02-02\",\"2018-02-03\",\"2018-02-04\",\"2018-02-05\",\"2018-02-06\",\"2018-02-07\",\"2018-02-08\",\"2018-02-09\",\"2018-02-10\",\"2018-02-11\",\"2018-02-12\",\"2018-02-13\",\"2018-02-14\",\"2018-02-15\",\"2018-02-16\",\"2018-02-17\",\"2018-02-18\",\"2018-02-19\",\"2018-02-20\",\"2018-02-21\",\"2018-02-22\",\"2018-02-23\",\"2018-02-24\",\"2018-02-25\",\"2018-02-26\",\"2018-02-27\",\"2018-02-28\",\"2018-03-01\",\"2018-03-02\",\"2018-03-03\",\"2018-03-04\",\"2018-03-05\",\"2018-03-06\",\"2018-03-07\",\"2018-03-08\",\"2018-03-09\",\"2018-03-10\",\"2018-03-11\",\"2018-03-12\",\"2018-03-13\",\"2018-03-14\",\"2018-03-15\",\"2018-03-16\",\"2018-03-17\",\"2018-03-18\",\"2018-03-19\",\"2018-03-20\",\"2018-03-21\",\"2018-03-22\",\"2018-03-23\",\"2018-03-24\",\"2018-03-25\",\"2018-03-26\",\"2018-03-27\",\"2018-03-28\",\"2018-03-29\",\"2018-03-30\",\"2018-03-31\",\"2018-04-01\",\"2018-04-02\",\"2018-04-03\",\"2018-04-04\",\"2018-04-05\",\"2018-04-06\",\"2018-04-07\",\"2018-04-08\",\"2018-04-09\",\"2018-04-10\",\"2018-04-11\",\"2018-04-12\",\"2018-04-13\",\"2018-04-14\",\"2018-04-15\",\"2018-04-16\",\"2018-04-17\",\"2018-04-18\",\"2018-04-19\",\"2018-04-20\",\"2018-04-21\",\"2018-04-22\",\"2018-04-23\",\"2018-04-24\",\"2018-04-25\",\"2018-04-26\",\"2018-04-27\",\"2018-04-28\",\"2018-04-29\",\"2018-04-30\",\"2018-05-01\",\"2018-05-02\",\"2018-05-03\",\"2018-05-04\",\"2018-05-05\",\"2018-05-06\",\"2018-05-07\",\"2018-05-08\",\"2018-05-09\",\"2018-05-10\",\"2018-05-11\",\"2018-05-12\",\"2018-05-13\",\"2018-05-14\",\"2018-05-15\",\"2018-05-16\",\"2018-05-17\",\"2018-05-18\",\"2018-05-19\",\"2018-05-20\",\"2018-05-21\",\"2018-05-22\",\"2018-05-23\",\"2018-05-24\",\"2018-05-25\",\"2018-05-26\",\"2018-05-27\",\"2018-05-28\",\"2018-05-29\",\"2018-05-30\",\"2018-05-31\",\"2018-06-01\",\"2018-06-02\",\"2018-06-03\",\"2018-06-04\",\"2018-06-05\",\"2018-06-06\",\"2018-06-07\",\"2018-06-08\",\"2018-06-09\",\"2018-06-10\",\"2018-06-11\",\"2018-06-12\",\"2018-06-13\",\"2018-06-14\",\"2018-06-15\",\"2018-06-16\",\"2018-06-17\",\"2018-06-18\",\"2018-06-19\",\"2018-06-20\",\"2018-06-21\",\"2018-06-22\",\"2018-06-23\",\"2018-06-24\",\"2018-06-25\",\"2018-06-26\",\"2018-06-27\",\"2018-06-28\",\"2018-06-29\",\"2018-06-30\",\"2018-07-01\",\"2018-07-02\",\"2018-07-03\",\"2018-07-04\",\"2018-07-05\",\"2018-07-06\",\"2018-07-07\",\"2018-07-08\",\"2018-07-09\",\"2018-07-10\",\"2018-07-11\",\"2018-07-12\",\"2018-07-13\",\"2018-07-14\",\"2018-07-15\",\"2018-07-16\",\"2018-07-17\",\"2018-07-18\",\"2018-07-19\",\"2018-07-20\",\"2018-07-21\",\"2018-07-22\",\"2018-07-23\",\"2018-07-24\",\"2018-07-25\",\"2018-07-26\",\"2018-07-27\",\"2018-07-28\",\"2018-07-29\",\"2018-07-30\",\"2018-07-31\",\"2018-08-01\",\"2018-08-02\",\"2018-08-03\",\"2018-08-04\",\"2018-08-05\",\"2018-08-06\",\"2018-08-07\",\"2018-08-08\",\"2018-08-09\",\"2018-08-10\",\"2018-08-11\",\"2018-08-12\",\"2018-08-13\",\"2018-08-14\",\"2018-08-15\",\"2018-08-16\",\"2018-08-17\",\"2018-08-18\",\"2018-08-19\",\"2018-08-20\",\"2018-08-21\",\"2018-08-22\",\"2018-08-23\",\"2018-08-24\",\"2018-08-25\",\"2018-08-26\",\"2018-08-27\",\"2018-08-28\",\"2018-08-29\",\"2018-08-30\",\"2018-08-31\",\"2018-09-01\",\"2018-09-02\",\"2018-09-03\",\"2018-09-04\",\"2018-09-05\",\"2018-09-06\",\"2018-09-07\",\"2018-09-08\",\"2018-09-09\",\"2018-09-10\",\"2018-09-11\",\"2018-09-12\",\"2018-09-13\",\"2018-09-14\",\"2018-09-15\",\"2018-09-16\",\"2018-09-17\",\"2018-09-18\",\"2018-09-19\",\"2018-09-20\",\"2018-09-21\",\"2018-09-22\",\"2018-09-23\",\"2018-09-24\",\"2018-09-25\",\"2018-09-26\",\"2018-09-27\",\"2018-09-28\",\"2018-09-29\",\"2018-09-30\",\"2018-10-01\",\"2018-10-02\",\"2018-10-03\",\"2018-10-04\",\"2018-10-05\",\"2018-10-06\",\"2018-10-07\",\"2018-10-08\",\"2018-10-09\",\"2018-10-10\",\"2018-10-11\",\"2018-10-12\",\"2018-10-13\",\"2018-10-14\",\"2018-10-15\",\"2018-10-16\",\"2018-10-17\",\"2018-10-18\",\"2018-10-19\",\"2018-10-20\",\"2018-10-21\",\"2018-10-22\",\"2018-10-23\",\"2018-10-24\",\"2018-10-25\",\"2018-10-26\",\"2018-10-27\",\"2018-10-28\",\"2018-10-29\",\"2018-10-30\",\"2018-10-31\",\"2018-11-01\",\"2018-11-02\",\"2018-11-03\",\"2018-11-04\",\"2018-11-05\",\"2018-11-06\",\"2018-11-07\",\"2018-11-08\",\"2018-11-09\",\"2018-11-10\",\"2018-11-11\",\"2018-11-12\",\"2018-11-13\",\"2018-11-14\",\"2018-11-15\",\"2018-11-16\",\"2018-11-17\",\"2018-11-18\",\"2018-11-19\",\"2018-11-20\",\"2018-11-21\",\"2018-11-22\",\"2018-11-23\",\"2018-11-24\",\"2018-11-25\",\"2018-11-26\",\"2018-11-27\",\"2018-11-28\",\"2018-11-29\",\"2018-11-30\",\"2018-12-01\",\"2018-12-02\",\"2018-12-03\",\"2018-12-04\",\"2018-12-05\",\"2018-12-06\",\"2018-12-07\",\"2018-12-08\",\"2018-12-09\",\"2018-12-10\",\"2018-12-11\",\"2018-12-12\",\"2018-12-13\",\"2018-12-14\",\"2018-12-15\",\"2018-12-16\",\"2018-12-17\",\"2018-12-18\",\"2018-12-19\",\"2018-12-20\",\"2018-12-21\",\"2018-12-22\",\"2018-12-23\",\"2018-12-24\",\"2018-12-25\",\"2018-12-26\",\"2018-12-27\",\"2018-12-28\",\"2018-12-29\",\"2018-12-30\",\"2018-12-31\",\"2019-01-01\",\"2019-01-02\",\"2019-01-03\",\"2019-01-04\",\"2019-01-05\",\"2019-01-06\",\"2019-01-07\",\"2019-01-08\",\"2019-01-09\",\"2019-01-10\",\"2019-01-11\",\"2019-01-12\",\"2019-01-13\",\"2019-01-14\",\"2019-01-15\",\"2019-01-16\",\"2019-01-17\",\"2019-01-18\",\"2019-01-19\",\"2019-01-20\",\"2019-01-21\",\"2019-01-22\",\"2019-01-23\",\"2019-01-24\",\"2019-01-25\",\"2019-01-26\",\"2019-01-27\",\"2019-01-28\",\"2019-01-29\",\"2019-01-30\",\"2019-01-31\",\"2019-02-01\",\"2019-02-02\",\"2019-02-03\",\"2019-02-04\",\"2019-02-05\",\"2019-02-06\",\"2019-02-07\",\"2019-02-08\",\"2019-02-09\",\"2019-02-10\",\"2019-02-11\",\"2019-02-12\",\"2019-02-13\",\"2019-02-14\",\"2019-02-15\",\"2019-02-16\",\"2019-02-17\",\"2019-02-18\",\"2019-02-19\",\"2019-02-20\",\"2019-02-21\",\"2019-02-22\",\"2019-02-23\",\"2019-02-24\",\"2019-02-25\",\"2019-02-26\",\"2019-02-27\",\"2019-02-28\",\"2019-03-01\",\"2019-03-02\",\"2019-03-03\",\"2019-03-04\",\"2019-03-05\",\"2019-03-06\",\"2019-03-07\",\"2019-03-08\",\"2019-03-09\",\"2019-03-10\",\"2019-03-11\",\"2019-03-12\",\"2019-03-13\",\"2019-03-14\",\"2019-03-15\",\"2019-03-16\",\"2019-03-17\",\"2019-03-18\",\"2019-03-19\",\"2019-03-20\",\"2019-03-21\",\"2019-03-22\",\"2019-03-23\",\"2019-03-24\",\"2019-03-25\",\"2019-03-26\",\"2019-03-27\",\"2019-03-28\",\"2019-03-29\",\"2019-03-30\",\"2019-03-31\",\"2019-04-01\",\"2019-04-02\",\"2019-04-03\",\"2019-04-04\",\"2019-04-05\",\"2019-04-06\",\"2019-04-07\",\"2019-04-08\",\"2019-04-09\",\"2019-04-10\",\"2019-04-11\",\"2019-04-12\",\"2019-04-13\",\"2019-04-14\",\"2019-04-15\",\"2019-04-16\",\"2019-04-17\",\"2019-04-18\",\"2019-04-19\",\"2019-04-20\",\"2019-04-21\",\"2019-04-22\",\"2019-04-23\",\"2019-04-24\",\"2019-04-25\",\"2019-04-26\",\"2019-04-27\",\"2019-04-28\",\"2019-04-29\",\"2019-04-30\",\"2019-05-01\",\"2019-05-02\",\"2019-05-03\",\"2019-05-04\",\"2019-05-05\",\"2019-05-06\",\"2019-05-07\",\"2019-05-08\",\"2019-05-09\",\"2019-05-10\",\"2019-05-11\",\"2019-05-12\",\"2019-05-13\",\"2019-05-14\",\"2019-05-15\",\"2019-05-16\",\"2019-05-17\",\"2019-05-18\",\"2019-05-19\",\"2019-05-20\",\"2019-05-21\",\"2019-05-22\",\"2019-05-23\",\"2019-05-24\",\"2019-05-25\",\"2019-05-26\",\"2019-05-27\",\"2019-05-28\",\"2019-05-29\",\"2019-05-30\",\"2019-05-31\",\"2019-06-01\",\"2019-06-02\",\"2019-06-03\",\"2019-06-04\",\"2019-06-05\",\"2019-06-06\",\"2019-06-07\",\"2019-06-08\",\"2019-06-09\",\"2019-06-10\",\"2019-06-11\",\"2019-06-12\",\"2019-06-13\",\"2019-06-14\",\"2019-06-15\",\"2019-06-16\",\"2019-06-17\",\"2019-06-18\",\"2019-06-19\",\"2019-06-20\",\"2019-06-21\",\"2019-06-22\",\"2019-06-23\",\"2019-06-24\",\"2019-06-25\",\"2019-06-26\",\"2019-06-27\",\"2019-06-28\",\"2019-06-29\",\"2019-06-30\",\"2019-07-01\",\"2019-07-02\",\"2019-07-03\",\"2019-07-04\",\"2019-07-05\",\"2019-07-06\",\"2019-07-07\",\"2019-07-08\",\"2019-07-09\",\"2019-07-10\",\"2019-07-11\",\"2019-07-12\",\"2019-07-13\",\"2019-07-14\",\"2019-07-15\",\"2019-07-16\",\"2019-07-17\",\"2019-07-18\",\"2019-07-19\",\"2019-07-20\",\"2019-07-21\",\"2019-07-22\",\"2019-07-23\",\"2019-07-24\",\"2019-07-25\",\"2019-07-26\",\"2019-07-27\",\"2019-07-28\",\"2019-07-29\",\"2019-07-30\",\"2019-07-31\",\"2019-08-01\",\"2019-08-02\",\"2019-08-03\",\"2019-08-04\",\"2019-08-05\",\"2019-08-06\",\"2019-08-07\",\"2019-08-08\",\"2019-08-09\",\"2019-08-10\",\"2019-08-11\",\"2019-08-12\",\"2019-08-13\",\"2019-08-14\",\"2019-08-15\",\"2019-08-16\",\"2019-08-17\",\"2019-08-18\",\"2019-08-19\",\"2019-08-20\",\"2019-08-21\",\"2019-08-22\",\"2019-08-23\",\"2019-08-24\",\"2019-08-25\",\"2019-08-26\",\"2019-08-27\",\"2019-08-28\",\"2019-08-29\",\"2019-08-30\",\"2019-08-31\",\"2019-09-01\",\"2019-09-02\",\"2019-09-03\",\"2019-09-04\",\"2019-09-05\",\"2019-09-06\",\"2019-09-07\",\"2019-09-08\",\"2019-09-09\",\"2019-09-10\",\"2019-09-11\",\"2019-09-12\",\"2019-09-13\",\"2019-09-14\",\"2019-09-15\",\"2019-09-16\",\"2019-09-17\",\"2019-09-18\",\"2019-09-19\",\"2019-09-20\",\"2019-09-21\",\"2019-09-22\",\"2019-09-23\",\"2019-09-24\",\"2019-09-25\",\"2019-09-26\",\"2019-09-27\",\"2019-09-28\",\"2019-09-29\",\"2019-09-30\",\"2019-10-01\",\"2019-10-02\",\"2019-10-03\",\"2019-10-04\",\"2019-10-05\",\"2019-10-06\",\"2019-10-07\",\"2019-10-08\",\"2019-10-09\",\"2019-10-10\",\"2019-10-11\",\"2019-10-12\",\"2019-10-13\",\"2019-10-14\",\"2019-10-15\",\"2019-10-16\",\"2019-10-17\",\"2019-10-18\",\"2019-10-19\",\"2019-10-20\",\"2019-10-21\",\"2019-10-22\",\"2019-10-23\",\"2019-10-24\",\"2019-10-25\",\"2019-10-26\",\"2019-10-27\",\"2019-10-28\",\"2019-10-29\",\"2019-10-30\",\"2019-10-31\",\"2019-11-01\",\"2019-11-02\",\"2019-11-03\",\"2019-11-04\",\"2019-11-05\",\"2019-11-06\",\"2019-11-07\",\"2019-11-08\",\"2019-11-09\",\"2019-11-10\",\"2019-11-11\",\"2019-11-12\",\"2019-11-13\",\"2019-11-14\",\"2019-11-15\",\"2019-11-16\",\"2019-11-17\",\"2019-11-18\",\"2019-11-19\",\"2019-11-20\",\"2019-11-21\",\"2019-11-22\",\"2019-11-23\",\"2019-11-24\",\"2019-11-25\",\"2019-11-26\",\"2019-11-27\",\"2019-11-28\",\"2019-11-29\",\"2019-11-30\",\"2019-12-01\",\"2019-12-02\",\"2019-12-03\",\"2019-12-04\",\"2019-12-05\",\"2019-12-06\",\"2019-12-07\",\"2019-12-08\",\"2019-12-09\",\"2019-12-10\",\"2019-12-11\",\"2019-12-12\",\"2019-12-13\",\"2019-12-14\",\"2019-12-15\",\"2019-12-16\",\"2019-12-17\",\"2019-12-18\",\"2019-12-19\",\"2019-12-20\",\"2019-12-21\",\"2019-12-22\",\"2019-12-23\",\"2019-12-24\",\"2019-12-25\",\"2019-12-26\",\"2019-12-27\",\"2019-12-28\",\"2019-12-29\",\"2019-12-30\",\"2019-12-31\",\"2020-01-01\",\"2020-01-02\",\"2020-01-03\",\"2020-01-04\",\"2020-01-05\",\"2020-01-06\",\"2020-01-07\",\"2020-01-08\",\"2020-01-09\",\"2020-01-10\",\"2020-01-11\",\"2020-01-12\",\"2020-01-13\",\"2020-01-14\",\"2020-01-15\",\"2020-01-16\",\"2020-01-17\",\"2020-01-18\",\"2020-01-19\",\"2020-01-20\",\"2020-01-21\",\"2020-01-22\",\"2020-01-23\",\"2020-01-24\",\"2020-01-25\",\"2020-01-26\",\"2020-01-27\",\"2020-01-28\",\"2020-01-29\",\"2020-01-30\",\"2020-01-31\",\"2020-02-01\",\"2020-02-02\",\"2020-02-03\",\"2020-02-04\",\"2020-02-05\",\"2020-02-06\",\"2020-02-07\",\"2020-02-08\",\"2020-02-09\",\"2020-02-10\",\"2020-02-11\",\"2020-02-12\",\"2020-02-13\",\"2020-02-14\",\"2020-02-15\",\"2020-02-16\",\"2020-02-17\",\"2020-02-18\",\"2020-02-19\",\"2020-02-20\",\"2020-02-21\",\"2020-02-22\",\"2020-02-23\",\"2020-02-24\",\"2020-02-25\",\"2020-02-26\",\"2020-02-27\",\"2020-02-28\",\"2020-02-29\",\"2020-03-01\",\"2020-03-02\",\"2020-03-03\",\"2020-03-04\",\"2020-03-05\",\"2020-03-06\",\"2020-03-07\",\"2020-03-08\",\"2020-03-09\",\"2020-03-10\",\"2020-03-11\",\"2020-03-12\",\"2020-03-13\",\"2020-03-14\",\"2020-03-15\",\"2020-03-16\",\"2020-03-17\",\"2020-03-18\",\"2020-03-19\",\"2020-03-20\",\"2020-03-21\",\"2020-03-22\",\"2020-03-23\",\"2020-03-24\",\"2020-03-25\",\"2020-03-26\",\"2020-03-27\",\"2020-03-28\",\"2020-03-29\",\"2020-03-30\",\"2020-03-31\",\"2020-04-01\",\"2020-04-02\",\"2020-04-03\",\"2020-04-04\",\"2020-04-05\",\"2020-04-06\",\"2020-04-07\",\"2020-04-08\",\"2020-04-09\",\"2020-04-10\",\"2020-04-11\",\"2020-04-12\",\"2020-04-13\",\"2020-04-14\",\"2020-04-15\",\"2020-04-16\",\"2020-04-17\",\"2020-04-18\",\"2020-04-19\",\"2020-04-20\",\"2020-04-21\",\"2020-04-22\",\"2020-04-23\",\"2020-04-24\",\"2020-04-25\",\"2020-04-26\",\"2020-04-27\",\"2020-04-28\",\"2020-04-29\",\"2020-04-30\",\"2020-05-01\",\"2020-05-02\",\"2020-05-03\",\"2020-05-04\",\"2020-05-05\",\"2020-05-06\",\"2020-05-07\",\"2020-05-08\",\"2020-05-09\",\"2020-05-10\",\"2020-05-11\",\"2020-05-12\",\"2020-05-13\",\"2020-05-14\",\"2020-05-15\",\"2020-05-16\",\"2020-05-17\",\"2020-05-18\",\"2020-05-19\",\"2020-05-20\",\"2020-05-21\",\"2020-05-22\",\"2020-05-23\",\"2020-05-24\",\"2020-05-25\",\"2020-05-26\",\"2020-05-27\",\"2020-05-28\",\"2020-05-29\",\"2020-05-30\",\"2020-05-31\",\"2020-06-01\",\"2020-06-02\",\"2020-06-03\",\"2020-06-04\",\"2020-06-05\",\"2020-06-06\",\"2020-06-07\",\"2020-06-08\",\"2020-06-09\",\"2020-06-10\",\"2020-06-11\",\"2020-06-12\",\"2020-06-13\",\"2020-06-14\",\"2020-06-15\",\"2020-06-16\",\"2020-06-17\",\"2020-06-18\",\"2020-06-19\",\"2020-06-20\",\"2020-06-21\",\"2020-06-22\",\"2020-06-23\",\"2020-06-24\",\"2020-06-25\",\"2020-06-26\",\"2020-06-27\",\"2020-06-28\",\"2020-06-29\",\"2020-06-30\",\"2020-07-01\",\"2020-07-02\",\"2020-07-03\",\"2020-07-04\",\"2020-07-05\",\"2020-07-06\",\"2020-07-07\",\"2020-07-08\",\"2020-07-09\",\"2020-07-10\",\"2020-07-11\",\"2020-07-12\",\"2020-07-13\",\"2020-07-14\",\"2020-07-15\",\"2020-07-16\",\"2020-07-17\",\"2020-07-18\",\"2020-07-19\",\"2020-07-20\",\"2020-07-21\",\"2020-07-22\",\"2020-07-23\",\"2020-07-24\",\"2020-07-25\",\"2020-07-26\",\"2020-07-27\",\"2020-07-28\",\"2020-07-29\",\"2020-07-30\",\"2020-07-31\",\"2020-08-01\",\"2020-08-02\",\"2020-08-03\",\"2020-08-04\",\"2020-08-05\",\"2020-08-06\",\"2020-08-07\",\"2020-08-08\",\"2020-08-09\",\"2020-08-10\",\"2020-08-11\",\"2020-08-12\",\"2020-08-13\",\"2020-08-14\",\"2020-08-15\",\"2020-08-16\",\"2020-08-17\",\"2020-08-18\",\"2020-08-19\",\"2020-08-20\",\"2020-08-21\",\"2020-08-22\",\"2020-08-23\",\"2020-08-24\",\"2020-08-25\",\"2020-08-26\",\"2020-08-27\",\"2020-08-28\",\"2020-08-29\",\"2020-08-30\",\"2020-08-31\",\"2020-09-01\",\"2020-09-02\",\"2020-09-03\",\"2020-09-04\",\"2020-09-05\",\"2020-09-06\",\"2020-09-07\",\"2020-09-08\",\"2020-09-09\",\"2020-09-10\",\"2020-09-11\",\"2020-09-12\",\"2020-09-13\",\"2020-09-14\",\"2020-09-15\",\"2020-09-16\",\"2020-09-17\",\"2020-09-18\",\"2020-09-19\",\"2020-09-20\",\"2020-09-21\",\"2020-09-22\",\"2020-09-23\",\"2020-09-24\",\"2020-09-25\",\"2020-09-26\",\"2020-09-27\",\"2020-09-28\",\"2020-09-29\",\"2020-09-30\",\"2020-10-01\",\"2020-10-02\",\"2020-10-03\",\"2020-10-04\",\"2020-10-05\",\"2020-10-06\",\"2020-10-07\",\"2020-10-08\",\"2020-10-09\",\"2020-10-10\",\"2020-10-11\",\"2020-10-12\",\"2020-10-13\",\"2020-10-14\",\"2020-10-15\",\"2020-10-16\",\"2020-10-17\",\"2020-10-18\",\"2020-10-19\",\"2020-10-20\",\"2020-10-21\",\"2020-10-22\",\"2020-10-23\",\"2020-10-24\",\"2020-10-25\",\"2020-10-26\",\"2020-10-27\",\"2020-10-28\",\"2020-10-29\",\"2020-10-30\",\"2020-10-31\",\"2020-11-01\",\"2020-11-02\",\"2020-11-03\",\"2020-11-04\",\"2020-11-05\",\"2020-11-06\",\"2020-11-07\",\"2020-11-08\",\"2020-11-09\",\"2020-11-10\",\"2020-11-11\",\"2020-11-12\",\"2020-11-13\",\"2020-11-14\",\"2020-11-15\",\"2020-11-16\",\"2020-11-17\",\"2020-11-18\",\"2020-11-19\",\"2020-11-20\",\"2020-11-21\",\"2020-11-22\",\"2020-11-23\",\"2020-11-24\",\"2020-11-25\",\"2020-11-26\",\"2020-11-27\",\"2020-11-28\",\"2020-11-29\",\"2020-11-30\",\"2020-12-01\",\"2020-12-02\",\"2020-12-03\",\"2020-12-04\",\"2020-12-05\",\"2020-12-06\",\"2020-12-07\",\"2020-12-08\",\"2020-12-09\",\"2020-12-10\",\"2020-12-11\",\"2020-12-12\",\"2020-12-13\",\"2020-12-14\",\"2020-12-15\",\"2020-12-16\",\"2020-12-17\",\"2020-12-18\",\"2020-12-19\",\"2020-12-20\",\"2020-12-21\",\"2020-12-22\",\"2020-12-23\",\"2020-12-24\",\"2020-12-25\",\"2020-12-26\",\"2020-12-27\",\"2020-12-28\",\"2020-12-29\",\"2020-12-30\",\"2020-12-31\",\"2021-01-01\",\"2021-01-02\",\"2021-01-03\",\"2021-01-04\",\"2021-01-05\",\"2021-01-06\",\"2021-01-07\",\"2021-01-08\",\"2021-01-09\",\"2021-01-10\",\"2021-01-11\",\"2021-01-12\",\"2021-01-13\",\"2021-01-14\",\"2021-01-15\",\"2021-01-16\",\"2021-01-17\",\"2021-01-18\",\"2021-01-19\",\"2021-01-20\",\"2021-01-21\",\"2021-01-22\",\"2021-01-23\",\"2021-01-24\",\"2021-01-25\",\"2021-01-26\",\"2021-01-27\",\"2021-01-28\",\"2021-01-29\",\"2021-01-30\",\"2021-01-31\",\"2021-02-01\",\"2021-02-02\",\"2021-02-03\",\"2021-02-04\",\"2021-02-05\",\"2021-02-06\",\"2021-02-07\",\"2021-02-08\",\"2021-02-09\",\"2021-02-10\",\"2021-02-11\",\"2021-02-12\",\"2021-02-13\",\"2021-02-14\",\"2021-02-15\",\"2021-02-16\",\"2021-02-17\",\"2021-02-18\",\"2021-02-19\",\"2021-02-20\",\"2021-02-21\",\"2021-02-22\",\"2021-02-23\",\"2021-02-24\",\"2021-02-25\",\"2021-02-26\",\"2021-02-27\",\"2021-02-28\",\"2021-03-01\",\"2021-03-02\",\"2021-03-03\",\"2021-03-04\",\"2021-03-05\",\"2021-03-06\",\"2021-03-07\",\"2021-03-08\",\"2021-03-09\",\"2021-03-10\",\"2021-03-11\",\"2021-03-12\",\"2021-03-13\",\"2021-03-14\",\"2021-03-15\",\"2021-03-16\",\"2021-03-17\",\"2021-03-18\",\"2021-03-19\",\"2021-03-20\",\"2021-03-21\",\"2021-03-22\",\"2021-03-23\",\"2021-03-24\",\"2021-03-25\",\"2021-03-26\",\"2021-03-27\",\"2021-03-28\",\"2021-03-29\",\"2021-03-30\",\"2021-03-31\",\"2021-04-01\",\"2021-04-02\",\"2021-04-03\",\"2021-04-04\",\"2021-04-05\",\"2021-04-06\",\"2021-04-07\",\"2021-04-08\",\"2021-04-09\",\"2021-04-10\",\"2021-04-11\",\"2021-04-12\",\"2021-04-13\",\"2021-04-14\",\"2021-04-15\",\"2021-04-16\",\"2021-04-17\",\"2021-04-18\",\"2021-04-19\",\"2021-04-20\",\"2021-04-21\",\"2021-04-22\",\"2021-04-23\",\"2021-04-24\",\"2021-04-25\",\"2021-04-26\",\"2021-04-27\",\"2021-04-28\",\"2021-04-29\",\"2021-04-30\",\"2021-05-01\",\"2021-05-02\",\"2021-05-03\",\"2021-05-04\",\"2021-05-05\",\"2021-05-06\",\"2021-05-07\",\"2021-05-08\",\"2021-05-09\",\"2021-05-10\",\"2021-05-11\",\"2021-05-12\",\"2021-05-13\",\"2021-05-14\",\"2021-05-15\",\"2021-05-16\",\"2021-05-17\",\"2021-05-18\",\"2021-05-19\",\"2021-05-20\",\"2021-05-21\",\"2021-05-22\",\"2021-05-23\",\"2021-05-24\",\"2021-05-25\",\"2021-05-26\",\"2021-05-27\",\"2021-05-28\",\"2021-05-29\",\"2021-05-30\",\"2021-05-31\",\"2021-06-01\",\"2021-06-02\",\"2021-06-03\",\"2021-06-04\",\"2021-06-05\",\"2021-06-06\",\"2021-06-07\",\"2021-06-08\",\"2021-06-09\",\"2021-06-10\",\"2021-06-11\",\"2021-06-12\",\"2021-06-13\",\"2021-06-14\",\"2021-06-15\",\"2021-06-16\",\"2021-06-17\",\"2021-06-18\",\"2021-06-19\",\"2021-06-20\",\"2021-06-21\",\"2021-06-22\",\"2021-06-23\",\"2021-06-24\",\"2021-06-25\",\"2021-06-26\",\"2021-06-27\",\"2021-06-28\",\"2021-06-29\",\"2021-06-30\",\"2021-07-01\",\"2021-07-02\",\"2021-07-03\",\"2021-07-04\",\"2021-07-05\",\"2021-07-06\",\"2021-07-07\",\"2021-07-08\",\"2021-07-09\",\"2021-07-10\",\"2021-07-11\",\"2021-07-12\",\"2021-07-13\",\"2021-07-14\",\"2021-07-15\",\"2021-07-16\",\"2021-07-17\",\"2021-07-18\",\"2021-07-19\",\"2021-07-20\",\"2021-07-21\",\"2021-07-22\",\"2021-07-23\",\"2021-07-24\",\"2021-07-25\",\"2021-07-26\",\"2021-07-27\",\"2021-07-28\",\"2021-07-29\",\"2021-07-30\",\"2021-07-31\",\"2021-08-01\",\"2021-08-02\",\"2021-08-03\",\"2021-08-04\",\"2021-08-05\",\"2021-08-06\",\"2021-08-07\",\"2021-08-08\",\"2021-08-09\",\"2021-08-10\",\"2021-08-11\",\"2021-08-12\",\"2021-08-13\",\"2021-08-14\",\"2021-08-15\",\"2021-08-16\",\"2021-08-17\",\"2021-08-18\",\"2021-08-19\",\"2021-08-20\",\"2021-08-21\",\"2021-08-22\",\"2021-08-23\",\"2021-08-24\",\"2021-08-25\",\"2021-08-26\",\"2021-08-27\",\"2021-08-28\",\"2021-08-29\",\"2021-08-30\",\"2021-08-31\",\"2021-09-01\",\"2021-09-02\",\"2021-09-03\",\"2021-09-04\",\"2021-09-05\",\"2021-09-06\",\"2021-09-07\",\"2021-09-08\",\"2021-09-09\",\"2021-09-10\",\"2021-09-11\",\"2021-09-12\",\"2021-09-13\",\"2021-09-14\",\"2021-09-15\",\"2021-09-16\",\"2021-09-17\",\"2021-09-18\",\"2021-09-19\",\"2021-09-20\",\"2021-09-21\",\"2021-09-22\",\"2021-09-23\",\"2021-09-24\",\"2021-09-25\",\"2021-09-26\",\"2021-09-27\",\"2021-09-28\",\"2021-09-29\",\"2021-09-30\",\"2021-10-01\",\"2021-10-02\",\"2021-10-03\",\"2021-10-04\",\"2021-10-05\",\"2021-10-06\",\"2021-10-07\",\"2021-10-08\",\"2021-10-09\",\"2021-10-10\",\"2021-10-11\",\"2021-10-12\",\"2021-10-13\",\"2021-10-14\",\"2021-10-15\",\"2021-10-16\",\"2021-10-17\",\"2021-10-18\",\"2021-10-19\",\"2021-10-20\",\"2021-10-21\",\"2021-10-22\",\"2021-10-23\",\"2021-10-24\",\"2021-10-25\",\"2021-10-26\",\"2021-10-27\",\"2021-10-28\",\"2021-10-29\",\"2021-10-30\",\"2021-10-31\",\"2021-11-01\",\"2021-11-02\",\"2021-11-03\",\"2021-11-04\",\"2021-11-05\",\"2021-11-06\",\"2021-11-07\",\"2021-11-08\",\"2021-11-09\",\"2021-11-10\",\"2021-11-11\",\"2021-11-12\",\"2021-11-13\",\"2021-11-14\",\"2021-11-15\",\"2021-11-16\",\"2021-11-17\",\"2021-11-18\",\"2021-11-19\",\"2021-11-20\",\"2021-11-21\",\"2021-11-22\",\"2021-11-23\",\"2021-11-24\",\"2021-11-25\",\"2021-11-26\",\"2021-11-27\",\"2021-11-28\",\"2021-11-29\",\"2021-11-30\",\"2021-12-01\",\"2021-12-02\",\"2021-12-03\",\"2021-12-04\",\"2021-12-05\",\"2021-12-06\",\"2021-12-07\",\"2021-12-08\",\"2021-12-09\",\"2021-12-10\",\"2021-12-11\",\"2021-12-12\",\"2021-12-13\",\"2021-12-14\",\"2021-12-15\",\"2021-12-16\",\"2021-12-17\",\"2021-12-18\",\"2021-12-19\",\"2021-12-20\",\"2021-12-21\",\"2021-12-22\",\"2021-12-23\",\"2021-12-24\",\"2021-12-25\",\"2021-12-26\",\"2021-12-27\",\"2021-12-28\",\"2021-12-29\",\"2021-12-30\",\"2021-12-31\",\"2022-01-01\",\"2022-01-02\",\"2022-01-03\",\"2022-01-04\",\"2022-01-05\",\"2022-01-06\",\"2022-01-07\",\"2022-01-08\",\"2022-01-09\",\"2022-01-10\",\"2022-01-11\",\"2022-01-12\",\"2022-01-13\",\"2022-01-14\",\"2022-01-15\",\"2022-01-16\",\"2022-01-17\",\"2022-01-18\",\"2022-01-19\",\"2022-01-20\",\"2022-01-21\",\"2022-01-22\",\"2022-01-23\",\"2022-01-24\",\"2022-01-25\",\"2022-01-26\",\"2022-01-27\",\"2022-01-28\",\"2022-01-29\",\"2022-01-30\",\"2022-01-31\",\"2022-02-01\",\"2022-02-02\",\"2022-02-03\",\"2022-02-04\",\"2022-02-05\",\"2022-02-06\",\"2022-02-07\",\"2022-02-08\",\"2022-02-09\",\"2022-02-10\",\"2022-02-11\",\"2022-02-12\",\"2022-02-13\",\"2022-02-14\",\"2022-02-15\",\"2022-02-16\",\"2022-02-17\",\"2022-02-18\",\"2022-02-19\",\"2022-02-20\",\"2022-02-21\",\"2022-02-22\",\"2022-02-23\",\"2022-02-24\",\"2022-02-25\",\"2022-02-26\",\"2022-02-27\",\"2022-02-28\",\"2022-03-01\",\"2022-03-02\",\"2022-03-03\",\"2022-03-04\",\"2022-03-05\",\"2022-03-06\",\"2022-03-07\",\"2022-03-08\",\"2022-03-09\",\"2022-03-10\",\"2022-03-11\",\"2022-03-12\",\"2022-03-13\",\"2022-03-14\",\"2022-03-15\",\"2022-03-16\",\"2022-03-17\",\"2022-03-18\",\"2022-03-19\",\"2022-03-20\",\"2022-03-21\",\"2022-03-22\",\"2022-03-23\",\"2022-03-24\",\"2022-03-25\",\"2022-03-26\",\"2022-03-27\",\"2022-03-28\",\"2022-03-29\",\"2022-03-30\",\"2022-03-31\",\"2022-04-01\",\"2022-04-02\",\"2022-04-03\",\"2022-04-04\",\"2022-04-05\",\"2022-04-06\",\"2022-04-07\",\"2022-04-08\",\"2022-04-09\",\"2022-04-10\",\"2022-04-11\",\"2022-04-12\",\"2022-04-13\",\"2022-04-14\",\"2022-04-15\",\"2022-04-16\",\"2022-04-17\",\"2022-04-18\",\"2022-04-19\",\"2022-04-20\",\"2022-04-21\",\"2022-04-22\",\"2022-04-23\",\"2022-04-24\",\"2022-04-25\",\"2022-04-26\",\"2022-04-27\",\"2022-04-28\",\"2022-04-29\",\"2022-04-30\",\"2022-05-01\",\"2022-05-02\",\"2022-05-03\",\"2022-05-04\",\"2022-05-05\",\"2022-05-06\",\"2022-05-07\",\"2022-05-08\",\"2022-05-09\",\"2022-05-10\",\"2022-05-11\",\"2022-05-12\",\"2022-05-13\",\"2022-05-14\",\"2022-05-15\",\"2022-05-16\",\"2022-05-17\",\"2022-05-18\",\"2022-05-19\",\"2022-05-20\",\"2022-05-21\",\"2022-05-22\",\"2022-05-23\",\"2022-05-24\",\"2022-05-25\",\"2022-05-26\",\"2022-05-27\",\"2022-05-28\",\"2022-05-29\",\"2022-05-30\",\"2022-05-31\",\"2022-06-01\",\"2022-06-02\",\"2022-06-03\",\"2022-06-04\",\"2022-06-05\",\"2022-06-06\",\"2022-06-07\",\"2022-06-08\",\"2022-06-09\",\"2022-06-10\",\"2022-06-11\",\"2022-06-12\",\"2022-06-13\",\"2022-06-14\",\"2022-06-15\",\"2022-06-16\",\"2022-06-17\",\"2022-06-18\",\"2022-06-19\",\"2022-06-20\",\"2022-06-21\",\"2022-06-22\",\"2022-06-23\",\"2022-06-24\",\"2022-06-25\",\"2022-06-26\",\"2022-06-27\",\"2022-06-28\",\"2022-06-29\",\"2022-06-30\",\"2022-07-01\",\"2022-07-02\",\"2022-07-03\",\"2022-07-04\",\"2022-07-05\",\"2022-07-06\",\"2022-07-07\",\"2022-07-08\",\"2022-07-09\",\"2022-07-10\",\"2022-07-11\",\"2022-07-12\",\"2022-07-13\",\"2022-07-14\",\"2022-07-15\",\"2022-07-16\",\"2022-07-17\",\"2022-07-18\",\"2022-07-19\",\"2022-07-20\",\"2022-07-21\",\"2022-07-22\",\"2022-07-23\",\"2022-07-24\",\"2022-07-25\",\"2022-07-26\",\"2022-07-27\",\"2022-07-28\",\"2022-07-29\",\"2022-07-30\",\"2022-07-31\",\"2022-08-01\",\"2022-08-02\",\"2022-08-03\",\"2022-08-04\",\"2022-08-05\",\"2022-08-06\",\"2022-08-07\",\"2022-08-08\",\"2022-08-09\",\"2022-08-10\",\"2022-08-11\",\"2022-08-12\",\"2022-08-13\",\"2022-08-14\",\"2022-08-15\",\"2022-08-16\",\"2022-08-17\",\"2022-08-18\",\"2022-08-19\",\"2022-08-20\",\"2022-08-21\",\"2022-08-22\",\"2022-08-23\",\"2022-08-24\",\"2022-08-25\",\"2022-08-26\",\"2022-08-27\",\"2022-08-28\",\"2022-08-29\",\"2022-08-30\",\"2022-08-31\",\"2022-09-01\",\"2022-09-02\",\"2022-09-03\",\"2022-09-04\",\"2022-09-05\",\"2022-09-06\",\"2022-09-07\",\"2022-09-08\",\"2022-09-09\",\"2022-09-10\",\"2022-09-11\",\"2022-09-12\",\"2022-09-13\",\"2022-09-14\",\"2022-09-15\",\"2022-09-16\",\"2022-09-17\",\"2022-09-18\",\"2022-09-19\",\"2022-09-20\",\"2022-09-21\",\"2022-09-22\",\"2022-09-23\",\"2022-09-24\",\"2022-09-25\",\"2022-09-26\",\"2022-09-27\",\"2022-09-28\",\"2022-09-29\",\"2022-09-30\",\"2022-10-01\",\"2022-10-02\",\"2022-10-03\",\"2022-10-04\",\"2022-10-05\",\"2022-10-06\",\"2022-10-07\",\"2022-10-08\",\"2022-10-09\",\"2022-10-10\",\"2022-10-11\",\"2022-10-12\",\"2022-10-13\",\"2022-10-14\",\"2022-10-15\",\"2022-10-16\",\"2022-10-17\",\"2022-10-18\",\"2022-10-19\",\"2022-10-20\",\"2022-10-21\",\"2022-10-22\",\"2022-10-23\",\"2022-10-24\",\"2022-10-25\",\"2022-10-26\",\"2022-10-27\",\"2022-10-28\"],\"y\":[387.40799,375.197998,380.554993,357.839996,350.847992,352.920013,367.572998,376.901001,375.347992,368.369995,369.670013,376.446991,375.490997,378.046997,379.244995,381.315002,375.01001,369.604004,376.854004,374.785004,375.095001,361.908997,352.218994,346.36499,350.506012,352.541992,347.376007,351.631989,345.345001,327.062012,319.776001,311.395996,317.842987,329.955994,320.842987,331.885986,334.571991,322.533997,319.007996,327.924011,315.863007,317.239014,312.670013,310.737,320.192993,314.248993,315.032013,281.082001,264.195007,274.473999,286.188995,294.337006,283.348999,290.40799,274.79599,265.660004,267.79599,225.860992,178.102997,209.843994,208.097,199.259995,210.339005,214.860992,211.315002,226.897003,233.406006,232.878998,247.847,253.718002,273.472992,263.475006,233.914993,233.513,226.425003,217.464005,226.972,238.229004,227.268005,226.852997,217.110992,222.266006,227.753998,223.412003,220.110001,219.839005,219.184998,221.764008,235.427002,257.321014,234.824997,233.843002,243.610001,236.326004,240.283005,243.779007,244.533997,235.977005,238.891998,238.735001,237.470001,236.425995,253.828003,254.263,260.201996,275.670013,281.701996,273.09201,276.178009,272.722992,276.260986,274.354004,289.606995,291.76001,296.378998,294.354004,285.337006,281.88501,286.393005,290.592987,285.505005,256.299011,260.928009,261.748993,260.024994,267.959991,266.73999,245.595001,246.197006,248.531998,247.029007,252.798004,242.712997,247.526001,244.223999,247.272003,253.005005,254.322006,253.697006,260.597992,255.492004,253.179993,245.022003,243.675995,236.072006,236.552002,236.153,224.587006,219.158997,223.832993,228.572998,222.882004,223.356003,222.600006,224.626007,235.268997,234.175995,236.462006,231.268005,226.389999,219.429993,229.285995,225.854996,225.807999,236.145004,232.078995,234.929993,240.358002,239.018005,236.121002,229.781998,237.334,243.863007,241.832001,240.296005,242.158005,241.112,236.376999,236.929001,237.604996,236.153,236.802002,233.128006,231.947006,234.018005,235.343994,240.348007,238.871994,240.953003,237.110001,237.115997,237.283005,237.408005,237.095993,233.345001,230.190002,222.925995,225.802994,225.873993,224.324005,224.951996,225.619003,222.880997,228.488998,229.048004,228.802994,229.705002,229.981995,232.401993,233.542999,236.822998,250.895004,249.283997,249.007004,244.606003,245.212006,243.944,246.990005,244.296005,240.514999,242.798996,243.593994,250.990005,249.011002,257.063995,263.071991,258.621002,255.412003,256.335999,260.885986,271.912994,269.029999,266.207001,270.785004,269.227997,284.894012,293.11499,310.867004,292.053986,287.463989,285.82901,278.088989,279.471985,274.901001,273.614014,278.980988,275.833008,277.221985,276.049011,288.278015,288.696991,292.686005,293.623993,294.427002,289.589996,287.721985,284.649994,281.601013,282.614014,281.22699,285.217987,281.881989,278.576996,279.584991,260.997009,265.083008,264.470001,270.385986,266.376007,264.079987,265.679993,261.550995,258.506989,257.976013,211.078995,226.684006,235.350006,232.569,230.389999,228.169006,210.494995,221.608994,225.830994,224.768997,231.395996,229.779999,228.761002,230.056,228.121002,229.283997,227.182999,230.298004,235.018997,239.839996,239.847,243.606995,238.167999,238.477005,240.106995,235.229004,230.511993,230.643997,230.304001,229.091003,229.809998,232.975006,231.492996,231.212006,227.085007,230.617996,230.283005,234.529007,235.143997,234.339996,232.757004,239.141998,236.686996,236.059998,237.548996,237.292999,238.729996,238.259003,240.382996,246.063004,242.968994,242.304001,243.931,244.940994,247.050003,245.307999,249.507996,251.988998,254.320007,262.868988,270.640015,261.643005,263.437012,269.463013,266.272003,274.02301,276.496002,281.653992,283.679993,285.299988,293.787994,304.618011,313.855011,328.015015,314.165985,325.431,361.188995,403.416992,411.562988,386.354004,374.470001,386.481995,373.368011,380.256989,336.819,311.084015,338.152008,336.752991,332.906006,320.165985,330.751007,335.093994,334.589996,326.148987,322.022003,326.927002,324.536011,323.04599,320.04599,328.205994,352.68399,358.041992,357.381012,371.294006,377.321014,362.488007,359.187012,361.04599,363.183014,388.949005,388.78299,395.536011,415.562988,417.562988,415.479004,451.937988,434.997009,433.755005,444.182007,465.321014,454.93399,456.078003,463.615997,462.321991,442.684998,438.639008,436.571991,442.401001,454.984985,455.653015,417.273987,422.822998,422.278992,432.983002,426.619995,430.566986,434.334015,433.437988,430.010986,433.091003,431.959991,429.105011,458.048004,453.230011,447.610992,447.990997,448.428009,435.690002,432.371002,430.306,364.330994,387.536011,382.299011,387.167999,380.148987,420.230011,410.261993,382.492004,387.490997,402.971008,391.726013,392.153015,394.971985,380.289001,379.473999,378.255005,368.766998,373.056,374.447998,369.949005,389.593994,386.549011,376.522003,376.619995,373.446991,376.028992,381.648987,379.653992,384.263,391.859985,407.230011,400.184998,407.488007,416.321991,422.372986,420.785004,437.164001,438.798004,437.747986,420.735992,424.954987,424.544006,432.152008,432.519012,433.503998,437.696991,435.122986,423.989014,421.651001,410.938995,400.570007,407.707001,414.321014,413.971985,414.859985,417.131012,421.690002,411.623993,414.065002,416.437988,416.829987,417.010986,420.621002,409.548004,410.444,413.755005,413.307007,418.088989,418.040985,416.394012,417.177002,417.945007,426.765015,424.230988,416.515991,414.81601,416.729004,417.959991,420.872986,420.903992,421.444,424.029999,423.412994,422.744995,420.348999,419.411011,421.563995,422.483002,425.190002,423.734009,424.282013,429.713013,430.571991,427.398987,428.591003,435.509003,441.389008,449.424988,445.737,450.282013,458.554993,461.425995,466.088989,444.687012,449.010986,455.096985,448.317993,451.875,444.669006,450.303986,446.721985,447.976013,459.602997,458.536011,458.548004,460.483002,450.894989,452.727997,454.765991,455.670013,455.67099,457.567993,454.162994,453.78299,454.618988,438.714996,442.675995,443.187988,439.322998,444.154999,445.980988,449.598999,453.384003,473.463989,530.039978,526.232971,533.864014,531.385986,536.919983,537.971985,569.19397,572.72699,574.97699,585.536987,576.596985,581.64502,574.630005,577.469971,606.72699,672.783997,704.375977,685.559021,694.468994,766.307983,748.908997,756.22699,763.781006,737.226013,666.651978,596.116028,623.97699,665.299011,665.122986,629.367004,655.275024,647.000977,639.890015,673.336975,676.296021,703.702026,658.664001,683.661987,670.627014,677.330994,640.562012,666.52301,650.960022,649.359985,647.658997,664.551025,654.468018,658.078003,663.255005,660.767029,679.458984,673.106018,672.864014,665.684998,665.012024,650.619019,655.55603,661.284973,654.096985,651.783997,654.35199,655.034973,656.992004,655.046997,624.68103,606.271973,547.465027,566.35498,578.289001,575.04303,587.778015,592.690002,591.054016,587.801025,592.103027,589.119995,587.559021,585.588013,570.473022,567.23999,577.439026,573.216003,574.317993,575.630005,581.697021,581.307983,586.752991,583.414978,580.182007,577.760986,579.651001,569.947021,573.911987,574.106995,577.502991,575.471985,572.302979,575.536987,598.211975,608.633972,606.590027,610.435974,614.544006,626.315979,622.861023,623.508972,606.718994,608.242981,609.241028,610.684021,607.155029,606.973022,605.984009,609.874023,609.22699,608.312012,597.148987,596.297974,602.84198,602.625,600.825989,608.04303,606.166016,604.728027,605.692993,609.734985,613.982971,610.892029,612.132996,610.203979,612.510986,613.020996,617.120972,619.107971,616.752014,618.994019,641.072021,636.192017,636.786011,640.377991,638.645996,641.630981,639.192993,637.960022,630.52002,630.856995,632.828003,657.294006,657.070984,653.760986,657.588013,678.304016,688.312988,689.651001,714.479004,701.864014,700.971985,729.79303,740.828979,688.700012,703.234985,703.41803,711.521973,703.130981,709.848022,723.27301,715.533997,716.411011,705.054016,702.031006,705.020996,711.619019,744.197998,740.97699,751.585022,751.616028,731.026001,739.247986,751.346985,744.593994,740.289001,741.648987,735.382019,732.034973,735.812988,735.604004,745.690979,756.773987,777.94397,771.155029,773.872009,758.700012,764.223999,768.132019,770.809998,772.794006,774.650024,769.731018,780.086975,780.55603,781.481018,778.088013,784.906982,790.828979,790.530029,792.713989,800.875977,834.281006,864.539978,921.984009,898.822021,896.182983,907.609985,933.197998,975.921021,973.497009,961.237976,963.742981,998.325012,1021.75,1043.839966,1154.72998,1013.380005,902.200989,908.585022,911.198975,902.828003,907.679016,777.757019,804.833984,823.984009,818.411987,821.797974,831.533997,907.937988,886.617981,899.072998,895.026001,921.789001,924.672974,921.012024,892.687012,901.541992,917.585999,919.75,921.590027,919.495972,920.382019,970.403015,989.02301,1011.799988,1029.910034,1042.900024,1027.339966,1038.150024,1061.349976,1063.069946,994.382996,988.674011,1004.450012,999.18103,990.642029,1004.549988,1007.47998,1027.439941,1046.209961,1054.420044,1047.869995,1079.97998,1115.300049,1117.439941,1166.719971,1173.680054,1143.839966,1165.199951,1179.969971,1179.969971,1222.5,1251.01001,1274.98999,1255.150024,1267.119995,1272.829956,1223.540039,1150.0,1188.48999,1116.719971,1175.829956,1221.380005,1231.920044,1240.0,1249.609985,1187.810059,1100.22998,973.817993,1036.73999,1054.22998,1120.540039,1049.140015,1038.589966,937.52002,972.778992,966.724976,1045.77002,1047.150024,1039.969971,1026.430054,1071.790039,1080.5,1102.170044,1143.810059,1133.25,1124.780029,1182.680054,1176.900024,1175.949951,1187.869995,1187.130005,1205.01001,1200.369995,1169.280029,1167.540039,1172.52002,1182.939941,1193.910034,1211.670044,1210.290039,1229.079956,1222.050049,1231.709961,1207.209961,1250.150024,1265.48999,1281.079956,1317.72998,1316.47998,1321.790039,1347.890015,1421.599976,1452.819946,1490.089966,1537.670044,1555.449951,1578.800049,1596.709961,1723.349976,1755.359985,1787.130005,1848.569946,1724.23999,1804.910034,1808.910034,1738.430054,1734.449951,1839.089966,1888.650024,1987.709961,2084.72998,2041.199951,2173.399902,2320.419922,2443.639893,2304.97998,2202.419922,2038.869995,2155.800049,2255.610107,2175.469971,2286.409912,2407.879883,2488.550049,2515.350098,2511.810059,2686.810059,2863.199951,2732.159912,2805.620117,2823.810059,2947.709961,2958.110107,2659.629883,2717.02002,2506.370117,2464.580078,2518.560059,2655.879883,2548.290039,2589.600098,2721.790039,2689.100098,2705.409912,2744.909912,2608.719971,2589.409912,2478.449951,2552.449951,2574.790039,2539.320068,2480.840088,2434.550049,2506.469971,2564.060059,2601.639893,2601.98999,2608.560059,2518.659912,2571.340088,2518.439941,2372.560059,2337.790039,2398.840088,2357.899902,2233.340088,1998.859985,1929.819946,2228.409912,2318.879883,2273.429932,2817.600098,2667.76001,2810.120117,2730.399902,2754.860107,2576.47998,2529.449951,2671.780029,2809.01001,2726.449951,2757.179932,2875.340088,2718.26001,2710.669922,2804.72998,2895.889893,3252.909912,3213.939941,3378.939941,3419.939941,3342.469971,3381.280029,3650.620117,3884.709961,4073.26001,4325.129883,4181.930176,4376.629883,4331.689941,4160.620117,4193.700195,4087.659912,4001.73999,4100.52002,4151.52002,4334.680176,4371.600098,4352.399902,4382.879883,4382.660156,4579.02002,4565.299805,4703.390137,4892.009766,4578.77002,4582.959961,4236.310059,4376.529785,4597.120117,4599.879883,4228.75,4226.060059,4122.939941,4161.27002,4130.810059,3882.590088,3154.949951,3637.52002,3625.040039,3582.879883,4065.199951,3924.969971,3905.949951,3631.040039,3630.699951,3792.399902,3682.840088,3926.070068,3892.350098,4200.669922,4174.72998,4163.069824,4338.709961,4403.740234,4409.319824,4317.47998,4229.359863,4328.410156,4370.810059,4426.890137,4610.47998,4772.02002,4781.990234,4826.47998,5446.910156,5647.209961,5831.790039,5678.189941,5725.589844,5605.509766,5590.689941,5708.52002,6011.450195,6031.600098,6008.419922,5930.319824,5526.640137,5750.799805,5904.830078,5780.899902,5753.089844,6153.850098,6130.529785,6468.399902,6767.310059,7078.5,7207.759766,7379.950195,7407.410156,7022.759766,7144.379883,7459.689941,7143.580078,6618.140137,6357.600098,5950.069824,6559.490234,6635.75,7315.540039,7871.689941,7708.990234,7790.149902,8036.490234,8200.639648,8071.259766,8253.549805,8038.77002,8253.69043,8790.919922,9330.549805,9818.349609,10058.799805,9888.610352,10233.599609,10975.599609,11074.599609,11323.200195,11657.200195,11916.700195,14291.5,17899.699219,16569.400391,15178.200195,15455.400391,16936.800781,17415.400391,16408.199219,16564.0,17706.900391,19497.400391,19140.800781,19114.199219,17776.699219,16624.599609,15802.900391,13831.799805,14699.200195,13925.799805,14026.599609,16099.799805,15838.5,14606.5,14656.200195,12952.200195,14156.400391,13657.200195,14982.099609,15201.0,15599.200195,17429.5,17527.0,16477.599609,15170.099609,14595.400391,14973.299805,13405.799805,13980.599609,14360.200195,13772.0,13819.799805,11490.5,11188.599609,11474.900391,11607.400391,12899.200195,11600.099609,10931.400391,10868.400391,11359.400391,11259.400391,11171.400391,11440.700195,11786.299805,11296.400391,10106.299805,10221.099609,9170.540039,8830.75,9174.910156,8277.009766,6955.27002,7754.0,7621.299805,8265.589844,8736.980469,8621.900391,8129.970215,8926.570313,8598.30957,9494.629883,10166.400391,10233.900391,11112.700195,10551.799805,11225.299805,11403.700195,10690.400391,10005.0,10301.099609,9813.070313,9664.730469,10366.700195,10725.599609,10397.900391,10951.0,11086.400391,11489.700195,11512.599609,11573.299805,10779.900391,9965.570313,9395.009766,9337.549805,8866.0,9578.629883,9205.120117,9194.849609,8269.80957,8300.860352,8338.349609,7916.879883,8223.679688,8630.650391,8913.469727,8929.280273,8728.469727,8879.620117,8668.120117,8495.780273,8209.400391,7833.040039,7954.47998,7165.700195,6890.52002,6973.529785,6844.22998,7083.799805,7456.109863,6853.839844,6811.470215,6636.319824,6911.089844,7023.52002,6770.72998,6834.759766,6968.319824,7889.25,7895.959961,7986.240234,8329.110352,8058.669922,7902.089844,8163.419922,8294.30957,8845.830078,8895.580078,8802.459961,8930.879883,9697.5,8845.740234,9281.509766,8987.049805,9348.480469,9419.080078,9240.549805,9119.009766,9235.919922,9743.860352,9700.759766,9858.150391,9654.799805,9373.009766,9234.820313,9325.179688,9043.94043,8441.490234,8504.889648,8723.94043,8716.790039,8510.379883,8368.830078,8094.319824,8250.969727,8247.179688,8513.25,8418.990234,8041.779785,7557.819824,7587.339844,7480.140137,7355.879883,7368.220215,7135.990234,7472.589844,7406.52002,7494.169922,7541.450195,7643.450195,7720.25,7514.470215,7633.759766,7653.97998,7678.240234,7624.919922,7531.97998,6786.02002,6906.919922,6582.359863,6349.899902,6675.350098,6456.580078,6550.160156,6499.27002,6734.819824,6769.939941,6776.549805,6729.740234,6083.689941,6162.47998,6173.22998,6249.180176,6093.669922,6157.129883,5903.439941,6218.299805,6404.0,6385.819824,6614.180176,6529.589844,6597.549805,6639.140137,6673.5,6856.930176,6773.879883,6741.75,6329.950195,6394.709961,6228.810059,6238.049805,6276.120117,6359.640137,6741.75,7321.040039,7370.779785,7466.859863,7354.129883,7419.290039,7418.490234,7711.109863,8424.269531,8181.390137,7951.580078,8165.009766,8192.150391,8218.459961,8180.47998,7780.439941,7624.910156,7567.149902,7434.390137,7032.850098,7068.47998,6951.799805,6753.120117,6305.799805,6568.22998,6184.709961,6295.72998,6322.689941,6297.569824,6199.709961,6308.52002,6334.72998,6580.629883,6423.759766,6506.069824,6308.529785,6488.759766,6376.709961,6534.879883,6719.959961,6763.189941,6707.259766,6884.640137,7096.279785,7047.160156,6978.22998,7037.580078,7193.25,7272.720215,7260.060059,7361.660156,6792.830078,6529.169922,6467.069824,6225.97998,6300.859863,6329.700195,6321.200195,6351.799805,6517.310059,6512.709961,6543.200195,6517.180176,6281.200195,6371.299805,6398.540039,6519.669922,6734.950195,6721.97998,6710.629883,6595.410156,6446.470215,6495.0,6676.75,6644.129883,6601.959961,6625.560059,6589.620117,6556.100098,6502.589844,6576.689941,6622.47998,6588.310059,6602.950195,6652.22998,6642.640137,6585.529785,6256.240234,6274.580078,6285.990234,6290.930176,6596.540039,6596.109863,6544.430176,6476.709961,6465.410156,6489.189941,6482.350098,6487.160156,6475.740234,6495.839844,6476.290039,6474.75,6480.379883,6486.390137,6332.629883,6334.27002,6317.609863,6377.779785,6388.439941,6361.259766,6376.129883,6419.660156,6461.009766,6530.140137,6453.720215,6385.620117,6409.220215,6411.27002,6371.27002,6359.490234,5738.350098,5648.029785,5575.549805,5554.330078,5623.540039,4871.490234,4451.870117,4602.169922,4365.939941,4347.109863,3880.76001,4009.969971,3779.129883,3820.719971,4257.419922,4278.84668,4017.268555,4214.671875,4139.87793,3894.130859,3956.893799,3753.994873,3521.101807,3419.937256,3476.114746,3614.234375,3502.656006,3424.588135,3486.950195,3313.677246,3242.484863,3236.761719,3252.839111,3545.864746,3696.059082,3745.950684,4134.441406,3896.543701,4014.182617,3998.980225,4078.599121,3815.490723,3857.297607,3654.833496,3923.918701,3820.408691,3865.952637,3742.700439,3843.52002,3943.409424,3836.741211,3857.717529,3845.19458,4076.632568,4025.248291,4030.8479,4035.296387,3678.924561,3687.365479,3661.301025,3552.953125,3706.052246,3630.675293,3655.006836,3678.563965,3657.839355,3728.568359,3601.013672,3576.032471,3604.577148,3585.123047,3600.865479,3599.765869,3602.460449,3583.96582,3470.450439,3448.116943,3486.181641,3457.792725,3487.945313,3521.060791,3464.013428,3459.154053,3466.357422,3413.767822,3399.47168,3666.780273,3671.203613,3690.188232,3648.430664,3653.528564,3632.070557,3616.880859,3620.810791,3629.787598,3673.836182,3915.714355,3947.094482,3999.820557,3954.118164,4005.526611,4142.526855,3810.42749,3882.696289,3854.35791,3851.047363,3854.7854,3859.58374,3864.415039,3847.175781,3761.557129,3896.375,3903.942627,3911.484375,3901.131592,3963.313721,3951.599854,3905.227295,3909.15625,3906.717285,3924.369141,3960.911133,4048.72583,4025.229004,4032.507324,4071.190186,4087.476318,4029.326904,4023.968262,4035.826416,4022.168213,3963.070557,3985.080811,4087.066162,4069.107178,4098.374512,4106.660156,4105.404297,4158.183105,4879.87793,4973.021973,4922.798828,5036.681152,5059.817383,5198.896973,5289.770996,5204.958496,5324.551758,5064.487793,5089.539063,5096.586426,5167.722168,5067.108398,5235.55957,5251.937988,5298.385742,5303.8125,5337.88623,5314.53125,5399.365234,5572.362305,5464.866699,5210.515625,5279.348145,5268.291016,5285.13916,5247.352539,5350.726563,5402.697266,5505.283691,5768.289551,5831.16748,5795.708496,5746.807129,5829.501465,5982.45752,6174.528809,6378.849121,7204.771484,6972.371582,7814.915039,7994.416016,8205.167969,7884.90918,7343.895508,7271.208008,8197.689453,7978.309082,7963.327637,7680.066406,7881.84668,7987.371582,8052.543945,8673.21582,8805.77832,8719.961914,8659.487305,8319.472656,8574.501953,8564.016602,8742.958008,8208.995117,7707.770996,7824.231445,7822.023438,8043.951172,7954.12793,7688.077148,8000.32959,7927.714355,8145.857422,8230.923828,8693.833008,8838.375,8994.488281,9320.352539,9081.762695,9273.521484,9527.160156,10144.556641,10701.691406,10855.371094,11011.102539,11790.916992,13016.231445,11182.806641,12407.332031,11959.371094,10817.155273,10583.134766,10801.677734,11961.269531,11215.4375,10978.459961,11208.550781,11450.84668,12285.958008,12573.8125,12156.512695,11358.662109,11815.986328,11392.378906,10256.058594,10895.089844,9477.641602,9693.802734,10666.482422,10530.732422,10767.139648,10599.105469,10343.106445,9900.767578,9811.925781,9911.841797,9870.303711,9477.677734,9552.860352,9519.145508,9607.423828,10085.62793,10399.668945,10518.174805,10821.726563,10970.18457,11805.65332,11478.168945,11941.96875,11966.407227,11862.936523,11354.024414,11523.579102,11382.616211,10895.830078,10051.704102,10311.545898,10374.338867,10231.744141,10345.810547,10916.053711,10763.232422,10138.049805,10131.055664,10407.964844,10159.960938,10138.517578,10370.820313,10185.5,9754.422852,9510.200195,9598.173828,9630.664063,9757.970703,10346.760742,10623.540039,10594.493164,10575.533203,10353.302734,10517.254883,10441.276367,10334.974609,10115.975586,10178.37207,10410.126953,10360.546875,10358.048828,10347.712891,10276.793945,10241.272461,10198.248047,10266.415039,10181.641602,10019.716797,10070.392578,9729.324219,8620.566406,8486.993164,8118.967773,8251.845703,8245.915039,8104.185547,8293.868164,8343.276367,8393.041992,8259.992188,8205.939453,8151.500488,7988.155762,8245.623047,8228.783203,8595.740234,8586.473633,8321.756836,8336.555664,8321.005859,8374.686523,8205.369141,8047.526855,8103.911133,7973.20752,7988.560547,8222.078125,8243.720703,8078.203125,7514.671875,7493.48877,8660.700195,9244.972656,9551.714844,9256.148438,9427.6875,9205.726563,9199.584961,9261.104492,9324.717773,9235.354492,9412.612305,9342.527344,9360.879883,9267.561523,8804.880859,8813.582031,9055.526367,8757.788086,8815.662109,8808.262695,8708.094727,8491.992188,8550.760742,8577.975586,8309.286133,8206.145508,8027.268066,7642.75,7296.577637,7397.796875,7047.916992,7146.133789,7218.371094,7531.663574,7463.105957,7761.243652,7569.629883,7424.29248,7321.988281,7320.145508,7252.034668,7448.307617,7546.996582,7556.237793,7564.345215,7400.899414,7278.119629,7217.427246,7243.134277,7269.68457,7124.673828,7152.301758,6932.480469,6640.515137,7276.802734,7202.844238,7218.816406,7191.158691,7511.588867,7355.628418,7322.532227,7275.155762,7238.966797,7290.088379,7317.990234,7422.652832,7292.995117,7193.599121,7200.174316,6985.470215,7344.884277,7410.656738,7411.317383,7769.219238,8163.692383,8079.862793,7879.071289,8166.554199,8037.537598,8192.494141,8144.194336,8827.764648,8807.010742,8723.786133,8929.038086,8942.808594,8706.245117,8657.642578,8745.894531,8680.875977,8406.515625,8445.43457,8367.847656,8596.830078,8909.819336,9358.589844,9316.629883,9508.993164,9350.529297,9392.875,9344.365234,9293.521484,9180.962891,9613.423828,9729.801758,9795.943359,9865.119141,10116.673828,9856.611328,10208.236328,10326.054688,10214.379883,10312.116211,9889.424805,9934.433594,9690.142578,10141.996094,9633.386719,9608.475586,9686.441406,9663.181641,9924.515625,9650.174805,9341.705078,8820.522461,8784.494141,8672.455078,8599.508789,8562.454102,8869.669922,8787.786133,8755.246094,9078.762695,9122.545898,8909.954102,8108.116211,7923.644531,7909.729492,7911.430176,4970.788086,5563.707031,5200.366211,5392.314941,5014.47998,5225.629395,5238.438477,6191.192871,6198.77832,6185.066406,5830.254883,6416.314941,6734.803711,6681.062988,6716.44043,6469.79834,6242.193848,5922.042969,6429.841797,6438.644531,6606.776367,6793.624512,6733.387207,6867.527344,6791.129395,7271.78125,7176.414551,7334.098633,7302.089355,6865.493164,6859.083008,6971.091797,6845.037598,6842.427734,6642.109863,7116.804199,7096.18457,7257.665039,7189.424805,6881.958496,6880.323242,7117.20752,7429.724609,7550.900879,7569.936035,7679.867188,7795.601074,7807.058594,8801.038086,8658.553711,8864.766602,8988.59668,8897.46875,8912.654297,9003.070313,9268.761719,9951.518555,9842.666016,9593.896484,8756.430664,8601.795898,8804.477539,9269.987305,9733.72168,9328.197266,9377.013672,9670.739258,9726.575195,9729.038086,9522.981445,9081.761719,9182.577148,9209.287109,8790.368164,8906.93457,8835.052734,9181.017578,9525.750977,9439.124023,9700.414063,9461.058594,10167.268555,9529.803711,9656.717773,9800.636719,9665.533203,9653.679688,9758.852539,9771.489258,9795.700195,9870.094727,9321.78125,9480.84375,9475.277344,9386.788086,9450.702148,9538.024414,9480.254883,9411.84082,9288.018555,9332.34082,9303.629883,9648.717773,9629.658203,9313.610352,9264.813477,9162.917969,9045.390625,9143.582031,9190.854492,9137.993164,9228.325195,9123.410156,9087.303711,9132.488281,9073.942383,9375.474609,9252.277344,9428.333008,9277.967773,9278.807617,9240.34668,9276.5,9243.614258,9243.213867,9192.836914,9132.227539,9151.392578,9159.040039,9185.817383,9164.231445,9374.887695,9525.363281,9581.072266,9536.892578,9677.113281,9905.166992,10990.873047,10912.823242,11100.467773,11111.213867,11323.466797,11759.592773,11053.614258,11246.348633,11205.892578,11747.022461,11779.773438,11601.472656,11754.045898,11675.739258,11878.111328,11410.525391,11584.93457,11784.137695,11768.871094,11865.698242,11892.803711,12254.402344,11991.233398,11758.283203,11878.37207,11592.489258,11681.825195,11664.847656,11774.595703,11366.134766,11488.363281,11323.397461,11542.5,11506.865234,11711.505859,11680.820313,11970.478516,11414.03418,10245.296875,10511.813477,10169.567383,10280.351563,10369.563477,10131.516602,10242.347656,10363.138672,10400.915039,10442.170898,10323.755859,10680.837891,10796.951172,10974.905273,10948.990234,10944.585938,11094.34668,10938.271484,10462.259766,10538.459961,10246.186523,10760.066406,10692.716797,10750.723633,10775.269531,10709.652344,10844.640625,10784.491211,10619.452148,10575.974609,10549.329102,10669.583008,10793.339844,10604.40625,10668.96875,10915.685547,11064.458008,11296.361328,11384.181641,11555.363281,11425.899414,11429.506836,11495.349609,11322.123047,11358.101563,11483.359375,11742.037109,11916.334961,12823.689453,12965.891602,12931.539063,13108.0625,13031.173828,13075.248047,13654.21875,13271.285156,13437.882813,13546.522461,13780.995117,13737.109375,13550.489258,13950.300781,14133.707031,15579.848633,15565.880859,14833.753906,15479.567383,15332.31543,15290.902344,15701.339844,16276.34375,16317.808594,16068.138672,15955.587891,16716.111328,17645.40625,17804.005859,17817.089844,18621.314453,18642.232422,18370.001953,18364.121094,19107.464844,18732.121094,17150.623047,17108.402344,17717.414063,18177.484375,19625.835938,18802.998047,19201.091797,19445.398438,18699.765625,19154.230469,19345.121094,19191.630859,18321.144531,18553.916016,18264.992188,18058.904297,18803.65625,19142.382813,19246.644531,19417.076172,21310.597656,22805.162109,23137.960938,23869.832031,23477.294922,22803.082031,23783.029297,23241.345703,23735.949219,24664.791016,26437.037109,26272.294922,27084.808594,27362.4375,28840.953125,29001.720703,29374.152344,32127.267578,32782.023438,31971.914063,33992.429688,36824.363281,39371.042969,40797.609375,40254.546875,38356.441406,35566.65625,33922.960938,37316.359375,39187.328125,36825.367188,36178.140625,35791.277344,36630.074219,36069.804688,35547.75,30825.699219,33005.761719,32067.642578,32289.378906,32366.392578,32569.849609,30432.546875,33466.097656,34316.386719,34269.523438,33114.359375,33537.175781,35510.289063,37472.089844,36926.066406,38144.308594,39266.011719,38903.441406,46196.464844,46481.105469,44918.183594,47909.332031,47504.851563,47105.515625,48717.289063,47945.058594,49199.871094,52149.007813,51679.796875,55888.132813,56099.519531,57539.945313,54207.320313,48824.425781,49705.332031,47093.851563,46339.761719,46188.453125,45137.769531,49631.242188,48378.988281,50538.242188,48561.167969,48927.304688,48912.382813,51206.691406,52246.523438,54824.117188,56008.550781,57805.121094,57332.089844,61243.085938,59302.316406,55907.199219,56804.902344,58870.894531,57858.921875,58346.652344,58313.644531,57523.421875,54529.144531,54738.945313,52774.265625,51704.160156,55137.3125,55973.511719,55950.746094,57750.199219,58917.691406,58918.832031,59095.808594,59384.3125,57603.890625,58758.554688,59057.878906,58192.359375,56048.9375,58323.953125,58245.003906,59793.234375,60204.964844,59893.453125,63503.457031,63109.695313,63314.011719,61572.789063,60683.820313,56216.183594,55724.265625,56473.03125,53906.089844,51762.273438,51093.652344,50050.867188,49004.253906,54021.753906,55033.117188,54824.703125,53555.109375,57750.175781,57828.050781,56631.078125,57200.292969,53333.539063,57424.007813,56396.515625,57356.402344,58803.777344,58232.316406,55859.796875,56704.574219,49150.535156,49716.191406,49880.535156,46760.1875,46456.058594,43537.511719,42909.402344,37002.441406,40782.738281,37304.691406,37536.632813,34770.582031,38705.980469,38402.222656,39294.199219,38436.96875,35697.605469,34616.066406,35678.128906,37332.855469,36684.925781,37575.179688,39208.765625,36894.40625,35551.957031,35862.378906,33560.707031,33472.632813,37345.121094,36702.597656,37334.398438,35552.515625,39097.859375,40218.476563,40406.269531,38347.0625,38053.503906,35787.246094,35615.871094,35698.296875,31676.693359,32505.660156,33723.027344,34662.4375,31637.779297,32186.277344,34649.644531,34434.335938,35867.777344,35040.835938,33572.117188,33897.046875,34668.546875,35287.78125,33746.003906,34235.195313,33855.328125,32877.371094,33798.011719,33520.519531,34240.1875,33155.847656,32702.025391,32822.347656,31780.730469,31421.539063,31533.068359,31796.810547,30817.832031,29807.347656,32110.693359,32313.105469,33581.550781,34292.445313,35350.1875,37337.535156,39406.941406,39995.90625,40008.421875,42235.546875,41626.195313,39974.894531,39201.945313,38152.980469,39747.503906,40869.554688,42816.5,44555.800781,43798.117188,46365.402344,45585.03125,45593.636719,44428.289063,47793.320313,47096.945313,47047.003906,46004.484375,44695.359375,44801.1875,46717.578125,49339.175781,48905.492188,49321.652344,49546.148438,47706.117188,48960.789063,46942.21875,49058.667969,48902.402344,48829.832031,47054.984375,47166.6875,48847.027344,49327.722656,50025.375,49944.625,51753.410156,52633.535156,46811.128906,46091.390625,46391.421875,44883.910156,45201.457031,46063.269531,44963.074219,47092.492188,48176.347656,47783.359375,47267.519531,48278.363281,47260.21875,42843.800781,40693.675781,43574.507813,44895.097656,42839.75,42716.59375,43208.539063,42235.730469,41034.542969,41564.363281,43790.894531,48116.941406,47711.488281,48199.953125,49112.902344,51514.8125,55361.449219,53805.984375,53967.847656,54968.222656,54771.578125,57484.789063,56041.058594,57401.097656,57321.523438,61593.949219,60892.179688,61553.617188,62026.078125,64261.992188,65992.835938,62210.171875,60692.265625,61393.617188,60930.835938,63039.824219,60363.792969,58482.386719,60622.136719,62227.964844,61888.832031,61318.957031,61004.40625,63226.402344,62970.046875,61452.230469,61125.675781,61527.480469,63326.988281,67566.828125,66971.828125,64995.230469,64949.960938,64155.941406,64469.527344,65466.839844,63557.871094,60161.246094,60368.011719,56942.136719,58119.578125,59697.195313,58730.476563,56289.289063,57569.074219,56280.425781,57274.679688,53569.765625,54815.078125,57248.457031,57806.566406,57005.425781,57229.828125,56477.816406,53598.246094,49200.703125,49368.847656,50582.625,50700.085938,50504.796875,47672.121094,47243.304688,49362.507813,50098.335938,46737.480469,46612.632813,48896.722656,47665.425781,46202.144531,46848.777344,46707.015625,46880.277344,48936.613281,48628.511719,50784.539063,50822.195313,50429.859375,50809.515625,50640.417969,47588.855469,46444.710938,47178.125,46306.445313,47686.8125,47345.21875,46458.117188,45897.574219,43569.003906,43160.929688,41557.902344,41733.941406,41911.601563,41821.261719,42735.855469,43949.101563,42591.570313,43099.699219,43177.398438,43113.878906,42250.550781,42375.632813,41744.328125,40680.417969,36457.316406,35030.25,36276.804688,36654.328125,36954.003906,36852.121094,37138.234375,37784.332031,38138.179688,37917.601563,38483.125,38743.273438,36952.984375,37154.601563,41500.875,41441.164063,42412.433594,43840.285156,44118.445313,44338.796875,43565.113281,42407.9375,42244.46875,42197.515625,42586.917969,44575.203125,43961.859375,40538.011719,40030.976563,40122.15625,38431.378906,37075.28125,38286.027344,37296.570313,38332.609375,39214.21875,39105.148438,37709.785156,43193.234375,44354.636719,43924.117188,42451.789063,39137.605469,39400.585938,38419.984375,38062.039063,38737.269531,41982.925781,39437.460938,38794.972656,38904.011719,37849.664063,39666.753906,39338.785156,41143.929688,40951.378906,41801.15625,42190.652344,41247.824219,41077.996094,42358.808594,42892.957031,43960.933594,44348.730469,44500.828125,46820.492188,47128.003906,47465.730469,47062.664063,45538.675781,46281.644531,45868.949219,46453.566406,46622.675781,45555.992188,43206.738281,43503.847656,42287.664063,42782.136719,42207.671875,39521.902344,40127.183594,41166.730469,39935.515625,40553.464844,40424.484375,39716.953125,40826.214844,41502.75,41374.378906,40527.363281,39740.320313,39486.730469,39469.292969,40458.308594,38117.460938,39241.121094,39773.828125,38609.824219,37714.875,38469.09375,38529.328125,37750.453125,39698.371094,36575.140625,36040.921875,35501.953125,34059.265625,30296.953125,31022.90625,28936.355469,29047.751953,29283.103516,30101.265625,31305.113281,29862.917969,30425.857422,28720.271484,30314.333984,29200.740234,29432.226563,30323.722656,29098.910156,29655.585938,29562.361328,29267.224609,28627.574219,28814.900391,29445.957031,31726.390625,31792.310547,29799.080078,30467.488281,29704.390625,29832.914063,29906.662109,31370.671875,31155.478516,30214.355469,30111.998047,29083.804688,28360.810547,26762.648438,22487.388672,22206.792969,22572.839844,20381.650391,20471.482422,19017.642578,20553.271484,20599.537109,20710.597656,19987.029297,21085.876953,21231.65625,21502.337891,21027.294922,20735.478516,20280.634766,20104.023438,19784.726563,19269.367188,19242.255859,19297.076172,20231.261719,20190.115234,20548.246094,21637.587891,21731.117188,21592.207031,20860.449219,19970.556641,19323.914063,20212.074219,20569.919922,20836.328125,21190.316406,20779.34375,22485.689453,23389.433594,23231.732422,23164.628906,22714.978516,22465.478516,22609.164063,21361.701172,21239.753906,22930.548828,23843.886719,23804.632813,23656.207031,23336.896484,23314.199219,22978.117188,22846.507813,22630.957031,23289.314453,22961.279297,23175.890625,23809.486328,23164.318359,23947.642578,23957.529297,24402.818359,24424.068359,24319.333984,24136.972656,23883.291016,23335.998047,23212.738281,20877.552734,21166.060547,21534.121094,21398.908203,21528.087891,21395.019531,21600.904297,20260.019531,20041.738281,19616.814453,20297.994141,19796.808594,20049.763672,20127.140625,19969.771484,19832.087891,19986.712891,19812.371094,18837.667969,19290.324219,19329.833984,21381.152344,21680.539063,21769.255859,22370.449219,20296.707031,20241.089844,19701.210938,19772.583984,20127.576172,19419.505859,19544.128906,18890.789063,18547.400391,19413.550781,19297.638672,18937.011719,18802.097656,19222.671875,19110.546875,19426.720703,19573.050781,19431.789063,19312.095703,19044.107422,19623.580078,20336.84375,20160.716797,19955.443359,19546.849609,19416.568359,19446.425781,19141.484375,19051.417969,19157.445313,19382.904297,19185.65625,19067.634766,19268.09375,19550.757813,19334.416016,19139.535156,19053.740234,19172.46875,19208.189453,19567.007813,19345.572266,20095.857422,20770.441406,20285.835938,20706.109375],\"type\":\"scatter\"},{\"name\":\"Price\",\"x\":[\"2017-11-09\",\"2017-11-10\",\"2017-11-11\",\"2017-11-12\",\"2017-11-13\",\"2017-11-14\",\"2017-11-15\",\"2017-11-16\",\"2017-11-17\",\"2017-11-18\",\"2017-11-19\",\"2017-11-20\",\"2017-11-21\",\"2017-11-22\",\"2017-11-23\",\"2017-11-24\",\"2017-11-25\",\"2017-11-26\",\"2017-11-27\",\"2017-11-28\",\"2017-11-29\",\"2017-11-30\",\"2017-12-01\",\"2017-12-02\",\"2017-12-03\",\"2017-12-04\",\"2017-12-05\",\"2017-12-06\",\"2017-12-07\",\"2017-12-08\",\"2017-12-09\",\"2017-12-10\",\"2017-12-11\",\"2017-12-12\",\"2017-12-13\",\"2017-12-14\",\"2017-12-15\",\"2017-12-16\",\"2017-12-17\",\"2017-12-18\",\"2017-12-19\",\"2017-12-20\",\"2017-12-21\",\"2017-12-22\",\"2017-12-23\",\"2017-12-24\",\"2017-12-25\",\"2017-12-26\",\"2017-12-27\",\"2017-12-28\",\"2017-12-29\",\"2017-12-30\",\"2017-12-31\",\"2018-01-01\",\"2018-01-02\",\"2018-01-03\",\"2018-01-04\",\"2018-01-05\",\"2018-01-06\",\"2018-01-07\",\"2018-01-08\",\"2018-01-09\",\"2018-01-10\",\"2018-01-11\",\"2018-01-12\",\"2018-01-13\",\"2018-01-14\",\"2018-01-15\",\"2018-01-16\",\"2018-01-17\",\"2018-01-18\",\"2018-01-19\",\"2018-01-20\",\"2018-01-21\",\"2018-01-22\",\"2018-01-23\",\"2018-01-24\",\"2018-01-25\",\"2018-01-26\",\"2018-01-27\",\"2018-01-28\",\"2018-01-29\",\"2018-01-30\",\"2018-01-31\",\"2018-02-01\",\"2018-02-02\",\"2018-02-03\",\"2018-02-04\",\"2018-02-05\",\"2018-02-06\",\"2018-02-07\",\"2018-02-08\",\"2018-02-09\",\"2018-02-10\",\"2018-02-11\",\"2018-02-12\",\"2018-02-13\",\"2018-02-14\",\"2018-02-15\",\"2018-02-16\",\"2018-02-17\",\"2018-02-18\",\"2018-02-19\",\"2018-02-20\",\"2018-02-21\",\"2018-02-22\",\"2018-02-23\",\"2018-02-24\",\"2018-02-25\",\"2018-02-26\",\"2018-02-27\",\"2018-02-28\",\"2018-03-01\",\"2018-03-02\",\"2018-03-03\",\"2018-03-04\",\"2018-03-05\",\"2018-03-06\",\"2018-03-07\",\"2018-03-08\",\"2018-03-09\",\"2018-03-10\",\"2018-03-11\",\"2018-03-12\",\"2018-03-13\",\"2018-03-14\",\"2018-03-15\",\"2018-03-16\",\"2018-03-17\",\"2018-03-18\",\"2018-03-19\",\"2018-03-20\",\"2018-03-21\",\"2018-03-22\",\"2018-03-23\",\"2018-03-24\",\"2018-03-25\",\"2018-03-26\",\"2018-03-27\",\"2018-03-28\",\"2018-03-29\",\"2018-03-30\",\"2018-03-31\",\"2018-04-01\",\"2018-04-02\",\"2018-04-03\",\"2018-04-04\",\"2018-04-05\",\"2018-04-06\",\"2018-04-07\",\"2018-04-08\",\"2018-04-09\",\"2018-04-10\",\"2018-04-11\",\"2018-04-12\",\"2018-04-13\",\"2018-04-14\",\"2018-04-15\",\"2018-04-16\",\"2018-04-17\",\"2018-04-18\",\"2018-04-19\",\"2018-04-20\",\"2018-04-21\",\"2018-04-22\",\"2018-04-23\",\"2018-04-24\",\"2018-04-25\",\"2018-04-26\",\"2018-04-27\",\"2018-04-28\",\"2018-04-29\",\"2018-04-30\",\"2018-05-01\",\"2018-05-02\",\"2018-05-03\",\"2018-05-04\",\"2018-05-05\",\"2018-05-06\",\"2018-05-07\",\"2018-05-08\",\"2018-05-09\",\"2018-05-10\",\"2018-05-11\",\"2018-05-12\",\"2018-05-13\",\"2018-05-14\",\"2018-05-15\",\"2018-05-16\",\"2018-05-17\",\"2018-05-18\",\"2018-05-19\",\"2018-05-20\",\"2018-05-21\",\"2018-05-22\",\"2018-05-23\",\"2018-05-24\",\"2018-05-25\",\"2018-05-26\",\"2018-05-27\",\"2018-05-28\",\"2018-05-29\",\"2018-05-30\",\"2018-05-31\",\"2018-06-01\",\"2018-06-02\",\"2018-06-03\",\"2018-06-04\",\"2018-06-05\",\"2018-06-06\",\"2018-06-07\",\"2018-06-08\",\"2018-06-09\",\"2018-06-10\",\"2018-06-11\",\"2018-06-12\",\"2018-06-13\",\"2018-06-14\",\"2018-06-15\",\"2018-06-16\",\"2018-06-17\",\"2018-06-18\",\"2018-06-19\",\"2018-06-20\",\"2018-06-21\",\"2018-06-22\",\"2018-06-23\",\"2018-06-24\",\"2018-06-25\",\"2018-06-26\",\"2018-06-27\",\"2018-06-28\",\"2018-06-29\",\"2018-06-30\",\"2018-07-01\",\"2018-07-02\",\"2018-07-03\",\"2018-07-04\",\"2018-07-05\",\"2018-07-06\",\"2018-07-07\",\"2018-07-08\",\"2018-07-09\",\"2018-07-10\",\"2018-07-11\",\"2018-07-12\",\"2018-07-13\",\"2018-07-14\",\"2018-07-15\",\"2018-07-16\",\"2018-07-17\",\"2018-07-18\",\"2018-07-19\",\"2018-07-20\",\"2018-07-21\",\"2018-07-22\",\"2018-07-23\",\"2018-07-24\",\"2018-07-25\",\"2018-07-26\",\"2018-07-27\",\"2018-07-28\",\"2018-07-29\",\"2018-07-30\",\"2018-07-31\",\"2018-08-01\",\"2018-08-02\",\"2018-08-03\",\"2018-08-04\",\"2018-08-05\",\"2018-08-06\",\"2018-08-07\",\"2018-08-08\",\"2018-08-09\",\"2018-08-10\",\"2018-08-11\",\"2018-08-12\",\"2018-08-13\",\"2018-08-14\",\"2018-08-15\",\"2018-08-16\",\"2018-08-17\",\"2018-08-18\",\"2018-08-19\",\"2018-08-20\",\"2018-08-21\",\"2018-08-22\",\"2018-08-23\",\"2018-08-24\",\"2018-08-25\",\"2018-08-26\",\"2018-08-27\",\"2018-08-28\",\"2018-08-29\",\"2018-08-30\",\"2018-08-31\",\"2018-09-01\",\"2018-09-02\",\"2018-09-03\",\"2018-09-04\",\"2018-09-05\",\"2018-09-06\",\"2018-09-07\",\"2018-09-08\",\"2018-09-09\",\"2018-09-10\",\"2018-09-11\",\"2018-09-12\",\"2018-09-13\",\"2018-09-14\",\"2018-09-15\",\"2018-09-16\",\"2018-09-17\",\"2018-09-18\",\"2018-09-19\",\"2018-09-20\",\"2018-09-21\",\"2018-09-22\",\"2018-09-23\",\"2018-09-24\",\"2018-09-25\",\"2018-09-26\",\"2018-09-27\",\"2018-09-28\",\"2018-09-29\",\"2018-09-30\",\"2018-10-01\",\"2018-10-02\",\"2018-10-03\",\"2018-10-04\",\"2018-10-05\",\"2018-10-06\",\"2018-10-07\",\"2018-10-08\",\"2018-10-09\",\"2018-10-10\",\"2018-10-11\",\"2018-10-12\",\"2018-10-13\",\"2018-10-14\",\"2018-10-15\",\"2018-10-16\",\"2018-10-17\",\"2018-10-18\",\"2018-10-19\",\"2018-10-20\",\"2018-10-21\",\"2018-10-22\",\"2018-10-23\",\"2018-10-24\",\"2018-10-25\",\"2018-10-26\",\"2018-10-27\",\"2018-10-28\",\"2018-10-29\",\"2018-10-30\",\"2018-10-31\",\"2018-11-01\",\"2018-11-02\",\"2018-11-03\",\"2018-11-04\",\"2018-11-05\",\"2018-11-06\",\"2018-11-07\",\"2018-11-08\",\"2018-11-09\",\"2018-11-10\",\"2018-11-11\",\"2018-11-12\",\"2018-11-13\",\"2018-11-14\",\"2018-11-15\",\"2018-11-16\",\"2018-11-17\",\"2018-11-18\",\"2018-11-19\",\"2018-11-20\",\"2018-11-21\",\"2018-11-22\",\"2018-11-23\",\"2018-11-24\",\"2018-11-25\",\"2018-11-26\",\"2018-11-27\",\"2018-11-28\",\"2018-11-29\",\"2018-11-30\",\"2018-12-01\",\"2018-12-02\",\"2018-12-03\",\"2018-12-04\",\"2018-12-05\",\"2018-12-06\",\"2018-12-07\",\"2018-12-08\",\"2018-12-09\",\"2018-12-10\",\"2018-12-11\",\"2018-12-12\",\"2018-12-13\",\"2018-12-14\",\"2018-12-15\",\"2018-12-16\",\"2018-12-17\",\"2018-12-18\",\"2018-12-19\",\"2018-12-20\",\"2018-12-21\",\"2018-12-22\",\"2018-12-23\",\"2018-12-24\",\"2018-12-25\",\"2018-12-26\",\"2018-12-27\",\"2018-12-28\",\"2018-12-29\",\"2018-12-30\",\"2018-12-31\",\"2019-01-01\",\"2019-01-02\",\"2019-01-03\",\"2019-01-04\",\"2019-01-05\",\"2019-01-06\",\"2019-01-07\",\"2019-01-08\",\"2019-01-09\",\"2019-01-10\",\"2019-01-11\",\"2019-01-12\",\"2019-01-13\",\"2019-01-14\",\"2019-01-15\",\"2019-01-16\",\"2019-01-17\",\"2019-01-18\",\"2019-01-19\",\"2019-01-20\",\"2019-01-21\",\"2019-01-22\",\"2019-01-23\",\"2019-01-24\",\"2019-01-25\",\"2019-01-26\",\"2019-01-27\",\"2019-01-28\",\"2019-01-29\",\"2019-01-30\",\"2019-01-31\",\"2019-02-01\",\"2019-02-02\",\"2019-02-03\",\"2019-02-04\",\"2019-02-05\",\"2019-02-06\",\"2019-02-07\",\"2019-02-08\",\"2019-02-09\",\"2019-02-10\",\"2019-02-11\",\"2019-02-12\",\"2019-02-13\",\"2019-02-14\",\"2019-02-15\",\"2019-02-16\",\"2019-02-17\",\"2019-02-18\",\"2019-02-19\",\"2019-02-20\",\"2019-02-21\",\"2019-02-22\",\"2019-02-23\",\"2019-02-24\",\"2019-02-25\",\"2019-02-26\",\"2019-02-27\",\"2019-02-28\",\"2019-03-01\",\"2019-03-02\",\"2019-03-03\",\"2019-03-04\",\"2019-03-05\",\"2019-03-06\",\"2019-03-07\",\"2019-03-08\",\"2019-03-09\",\"2019-03-10\",\"2019-03-11\",\"2019-03-12\",\"2019-03-13\",\"2019-03-14\",\"2019-03-15\",\"2019-03-16\",\"2019-03-17\",\"2019-03-18\",\"2019-03-19\",\"2019-03-20\",\"2019-03-21\",\"2019-03-22\",\"2019-03-23\",\"2019-03-24\",\"2019-03-25\",\"2019-03-26\",\"2019-03-27\",\"2019-03-28\",\"2019-03-29\",\"2019-03-30\",\"2019-03-31\",\"2019-04-01\",\"2019-04-02\",\"2019-04-03\",\"2019-04-04\",\"2019-04-05\",\"2019-04-06\",\"2019-04-07\",\"2019-04-08\",\"2019-04-09\",\"2019-04-10\",\"2019-04-11\",\"2019-04-12\",\"2019-04-13\",\"2019-04-14\",\"2019-04-15\",\"2019-04-16\",\"2019-04-17\",\"2019-04-18\",\"2019-04-19\",\"2019-04-20\",\"2019-04-21\",\"2019-04-22\",\"2019-04-23\",\"2019-04-24\",\"2019-04-25\",\"2019-04-26\",\"2019-04-27\",\"2019-04-28\",\"2019-04-29\",\"2019-04-30\",\"2019-05-01\",\"2019-05-02\",\"2019-05-03\",\"2019-05-04\",\"2019-05-05\",\"2019-05-06\",\"2019-05-07\",\"2019-05-08\",\"2019-05-09\",\"2019-05-10\",\"2019-05-11\",\"2019-05-12\",\"2019-05-13\",\"2019-05-14\",\"2019-05-15\",\"2019-05-16\",\"2019-05-17\",\"2019-05-18\",\"2019-05-19\",\"2019-05-20\",\"2019-05-21\",\"2019-05-22\",\"2019-05-23\",\"2019-05-24\",\"2019-05-25\",\"2019-05-26\",\"2019-05-27\",\"2019-05-28\",\"2019-05-29\",\"2019-05-30\",\"2019-05-31\",\"2019-06-01\",\"2019-06-02\",\"2019-06-03\",\"2019-06-04\",\"2019-06-05\",\"2019-06-06\",\"2019-06-07\",\"2019-06-08\",\"2019-06-09\",\"2019-06-10\",\"2019-06-11\",\"2019-06-12\",\"2019-06-13\",\"2019-06-14\",\"2019-06-15\",\"2019-06-16\",\"2019-06-17\",\"2019-06-18\",\"2019-06-19\",\"2019-06-20\",\"2019-06-21\",\"2019-06-22\",\"2019-06-23\",\"2019-06-24\",\"2019-06-25\",\"2019-06-26\",\"2019-06-27\",\"2019-06-28\",\"2019-06-29\",\"2019-06-30\",\"2019-07-01\",\"2019-07-02\",\"2019-07-03\",\"2019-07-04\",\"2019-07-05\",\"2019-07-06\",\"2019-07-07\",\"2019-07-08\",\"2019-07-09\",\"2019-07-10\",\"2019-07-11\",\"2019-07-12\",\"2019-07-13\",\"2019-07-14\",\"2019-07-15\",\"2019-07-16\",\"2019-07-17\",\"2019-07-18\",\"2019-07-19\",\"2019-07-20\",\"2019-07-21\",\"2019-07-22\",\"2019-07-23\",\"2019-07-24\",\"2019-07-25\",\"2019-07-26\",\"2019-07-27\",\"2019-07-28\",\"2019-07-29\",\"2019-07-30\",\"2019-07-31\",\"2019-08-01\",\"2019-08-02\",\"2019-08-03\",\"2019-08-04\",\"2019-08-05\",\"2019-08-06\",\"2019-08-07\",\"2019-08-08\",\"2019-08-09\",\"2019-08-10\",\"2019-08-11\",\"2019-08-12\",\"2019-08-13\",\"2019-08-14\",\"2019-08-15\",\"2019-08-16\",\"2019-08-17\",\"2019-08-18\",\"2019-08-19\",\"2019-08-20\",\"2019-08-21\",\"2019-08-22\",\"2019-08-23\",\"2019-08-24\",\"2019-08-25\",\"2019-08-26\",\"2019-08-27\",\"2019-08-28\",\"2019-08-29\",\"2019-08-30\",\"2019-08-31\",\"2019-09-01\",\"2019-09-02\",\"2019-09-03\",\"2019-09-04\",\"2019-09-05\",\"2019-09-06\",\"2019-09-07\",\"2019-09-08\",\"2019-09-09\",\"2019-09-10\",\"2019-09-11\",\"2019-09-12\",\"2019-09-13\",\"2019-09-14\",\"2019-09-15\",\"2019-09-16\",\"2019-09-17\",\"2019-09-18\",\"2019-09-19\",\"2019-09-20\",\"2019-09-21\",\"2019-09-22\",\"2019-09-23\",\"2019-09-24\",\"2019-09-25\",\"2019-09-26\",\"2019-09-27\",\"2019-09-28\",\"2019-09-29\",\"2019-09-30\",\"2019-10-01\",\"2019-10-02\",\"2019-10-03\",\"2019-10-04\",\"2019-10-05\",\"2019-10-06\",\"2019-10-07\",\"2019-10-08\",\"2019-10-09\",\"2019-10-10\",\"2019-10-11\",\"2019-10-12\",\"2019-10-13\",\"2019-10-14\",\"2019-10-15\",\"2019-10-16\",\"2019-10-17\",\"2019-10-18\",\"2019-10-19\",\"2019-10-20\",\"2019-10-21\",\"2019-10-22\",\"2019-10-23\",\"2019-10-24\",\"2019-10-25\",\"2019-10-26\",\"2019-10-27\",\"2019-10-28\",\"2019-10-29\",\"2019-10-30\",\"2019-10-31\",\"2019-11-01\",\"2019-11-02\",\"2019-11-03\",\"2019-11-04\",\"2019-11-05\",\"2019-11-06\",\"2019-11-07\",\"2019-11-08\",\"2019-11-09\",\"2019-11-10\",\"2019-11-11\",\"2019-11-12\",\"2019-11-13\",\"2019-11-14\",\"2019-11-15\",\"2019-11-16\",\"2019-11-17\",\"2019-11-18\",\"2019-11-19\",\"2019-11-20\",\"2019-11-21\",\"2019-11-22\",\"2019-11-23\",\"2019-11-24\",\"2019-11-25\",\"2019-11-26\",\"2019-11-27\",\"2019-11-28\",\"2019-11-29\",\"2019-11-30\",\"2019-12-01\",\"2019-12-02\",\"2019-12-03\",\"2019-12-04\",\"2019-12-05\",\"2019-12-06\",\"2019-12-07\",\"2019-12-08\",\"2019-12-09\",\"2019-12-10\",\"2019-12-11\",\"2019-12-12\",\"2019-12-13\",\"2019-12-14\",\"2019-12-15\",\"2019-12-16\",\"2019-12-17\",\"2019-12-18\",\"2019-12-19\",\"2019-12-20\",\"2019-12-21\",\"2019-12-22\",\"2019-12-23\",\"2019-12-24\",\"2019-12-25\",\"2019-12-26\",\"2019-12-27\",\"2019-12-28\",\"2019-12-29\",\"2019-12-30\",\"2019-12-31\",\"2020-01-01\",\"2020-01-02\",\"2020-01-03\",\"2020-01-04\",\"2020-01-05\",\"2020-01-06\",\"2020-01-07\",\"2020-01-08\",\"2020-01-09\",\"2020-01-10\",\"2020-01-11\",\"2020-01-12\",\"2020-01-13\",\"2020-01-14\",\"2020-01-15\",\"2020-01-16\",\"2020-01-17\",\"2020-01-18\",\"2020-01-19\",\"2020-01-20\",\"2020-01-21\",\"2020-01-22\",\"2020-01-23\",\"2020-01-24\",\"2020-01-25\",\"2020-01-26\",\"2020-01-27\",\"2020-01-28\",\"2020-01-29\",\"2020-01-30\",\"2020-01-31\",\"2020-02-01\",\"2020-02-02\",\"2020-02-03\",\"2020-02-04\",\"2020-02-05\",\"2020-02-06\",\"2020-02-07\",\"2020-02-08\",\"2020-02-09\",\"2020-02-10\",\"2020-02-11\",\"2020-02-12\",\"2020-02-13\",\"2020-02-14\",\"2020-02-15\",\"2020-02-16\",\"2020-02-17\",\"2020-02-18\",\"2020-02-19\",\"2020-02-20\",\"2020-02-21\",\"2020-02-22\",\"2020-02-23\",\"2020-02-24\",\"2020-02-25\",\"2020-02-26\",\"2020-02-27\",\"2020-02-28\",\"2020-02-29\",\"2020-03-01\",\"2020-03-02\",\"2020-03-03\",\"2020-03-04\",\"2020-03-05\",\"2020-03-06\",\"2020-03-07\",\"2020-03-08\",\"2020-03-09\",\"2020-03-10\",\"2020-03-11\",\"2020-03-12\",\"2020-03-13\",\"2020-03-14\",\"2020-03-15\",\"2020-03-16\",\"2020-03-17\",\"2020-03-18\",\"2020-03-19\",\"2020-03-20\",\"2020-03-21\",\"2020-03-22\",\"2020-03-23\",\"2020-03-24\",\"2020-03-25\",\"2020-03-26\",\"2020-03-27\",\"2020-03-28\",\"2020-03-29\",\"2020-03-30\",\"2020-03-31\",\"2020-04-01\",\"2020-04-02\",\"2020-04-03\",\"2020-04-04\",\"2020-04-05\",\"2020-04-06\",\"2020-04-07\",\"2020-04-08\",\"2020-04-09\",\"2020-04-10\",\"2020-04-11\",\"2020-04-12\",\"2020-04-13\",\"2020-04-14\",\"2020-04-15\",\"2020-04-16\",\"2020-04-17\",\"2020-04-18\",\"2020-04-19\",\"2020-04-20\",\"2020-04-21\",\"2020-04-22\",\"2020-04-23\",\"2020-04-24\",\"2020-04-25\",\"2020-04-26\",\"2020-04-27\",\"2020-04-28\",\"2020-04-29\",\"2020-04-30\",\"2020-05-01\",\"2020-05-02\",\"2020-05-03\",\"2020-05-04\",\"2020-05-05\",\"2020-05-06\",\"2020-05-07\",\"2020-05-08\",\"2020-05-09\",\"2020-05-10\",\"2020-05-11\",\"2020-05-12\",\"2020-05-13\",\"2020-05-14\",\"2020-05-15\",\"2020-05-16\",\"2020-05-17\",\"2020-05-18\",\"2020-05-19\",\"2020-05-20\",\"2020-05-21\",\"2020-05-22\",\"2020-05-23\",\"2020-05-24\",\"2020-05-25\",\"2020-05-26\",\"2020-05-27\",\"2020-05-28\",\"2020-05-29\",\"2020-05-30\",\"2020-05-31\",\"2020-06-01\",\"2020-06-02\",\"2020-06-03\",\"2020-06-04\",\"2020-06-05\",\"2020-06-06\",\"2020-06-07\",\"2020-06-08\",\"2020-06-09\",\"2020-06-10\",\"2020-06-11\",\"2020-06-12\",\"2020-06-13\",\"2020-06-14\",\"2020-06-15\",\"2020-06-16\",\"2020-06-17\",\"2020-06-18\",\"2020-06-19\",\"2020-06-20\",\"2020-06-21\",\"2020-06-22\",\"2020-06-23\",\"2020-06-24\",\"2020-06-25\",\"2020-06-26\",\"2020-06-27\",\"2020-06-28\",\"2020-06-29\",\"2020-06-30\",\"2020-07-01\",\"2020-07-02\",\"2020-07-03\",\"2020-07-04\",\"2020-07-05\",\"2020-07-06\",\"2020-07-07\",\"2020-07-08\",\"2020-07-09\",\"2020-07-10\",\"2020-07-11\",\"2020-07-12\",\"2020-07-13\",\"2020-07-14\",\"2020-07-15\",\"2020-07-16\",\"2020-07-17\",\"2020-07-18\",\"2020-07-19\",\"2020-07-20\",\"2020-07-21\",\"2020-07-22\",\"2020-07-23\",\"2020-07-24\",\"2020-07-25\",\"2020-07-26\",\"2020-07-27\",\"2020-07-28\",\"2020-07-29\",\"2020-07-30\",\"2020-07-31\",\"2020-08-01\",\"2020-08-02\",\"2020-08-03\",\"2020-08-04\",\"2020-08-05\",\"2020-08-06\",\"2020-08-07\",\"2020-08-08\",\"2020-08-09\",\"2020-08-10\",\"2020-08-11\",\"2020-08-12\",\"2020-08-13\",\"2020-08-14\",\"2020-08-15\",\"2020-08-16\",\"2020-08-17\",\"2020-08-18\",\"2020-08-19\",\"2020-08-20\",\"2020-08-21\",\"2020-08-22\",\"2020-08-23\",\"2020-08-24\",\"2020-08-25\",\"2020-08-26\",\"2020-08-27\",\"2020-08-28\",\"2020-08-29\",\"2020-08-30\",\"2020-08-31\",\"2020-09-01\",\"2020-09-02\",\"2020-09-03\",\"2020-09-04\",\"2020-09-05\",\"2020-09-06\",\"2020-09-07\",\"2020-09-08\",\"2020-09-09\",\"2020-09-10\",\"2020-09-11\",\"2020-09-12\",\"2020-09-13\",\"2020-09-14\",\"2020-09-15\",\"2020-09-16\",\"2020-09-17\",\"2020-09-18\",\"2020-09-19\",\"2020-09-20\",\"2020-09-21\",\"2020-09-22\",\"2020-09-23\",\"2020-09-24\",\"2020-09-25\",\"2020-09-26\",\"2020-09-27\",\"2020-09-28\",\"2020-09-29\",\"2020-09-30\",\"2020-10-01\",\"2020-10-02\",\"2020-10-03\",\"2020-10-04\",\"2020-10-05\",\"2020-10-06\",\"2020-10-07\",\"2020-10-08\",\"2020-10-09\",\"2020-10-10\",\"2020-10-11\",\"2020-10-12\",\"2020-10-13\",\"2020-10-14\",\"2020-10-15\",\"2020-10-16\",\"2020-10-17\",\"2020-10-18\",\"2020-10-19\",\"2020-10-20\",\"2020-10-21\",\"2020-10-22\",\"2020-10-23\",\"2020-10-24\",\"2020-10-25\",\"2020-10-26\",\"2020-10-27\",\"2020-10-28\",\"2020-10-29\",\"2020-10-30\",\"2020-10-31\",\"2020-11-01\",\"2020-11-02\",\"2020-11-03\",\"2020-11-04\",\"2020-11-05\",\"2020-11-06\",\"2020-11-07\",\"2020-11-08\",\"2020-11-09\",\"2020-11-10\",\"2020-11-11\",\"2020-11-12\",\"2020-11-13\",\"2020-11-14\",\"2020-11-15\",\"2020-11-16\",\"2020-11-17\",\"2020-11-18\",\"2020-11-19\",\"2020-11-20\",\"2020-11-21\",\"2020-11-22\",\"2020-11-23\",\"2020-11-24\",\"2020-11-25\",\"2020-11-26\",\"2020-11-27\",\"2020-11-28\",\"2020-11-29\",\"2020-11-30\",\"2020-12-01\",\"2020-12-02\",\"2020-12-03\",\"2020-12-04\",\"2020-12-05\",\"2020-12-06\",\"2020-12-07\",\"2020-12-08\",\"2020-12-09\",\"2020-12-10\",\"2020-12-11\",\"2020-12-12\",\"2020-12-13\",\"2020-12-14\",\"2020-12-15\",\"2020-12-16\",\"2020-12-17\",\"2020-12-18\",\"2020-12-19\",\"2020-12-20\",\"2020-12-21\",\"2020-12-22\",\"2020-12-23\",\"2020-12-24\",\"2020-12-25\",\"2020-12-26\",\"2020-12-27\",\"2020-12-28\",\"2020-12-29\",\"2020-12-30\",\"2020-12-31\",\"2021-01-01\",\"2021-01-02\",\"2021-01-03\",\"2021-01-04\",\"2021-01-05\",\"2021-01-06\",\"2021-01-07\",\"2021-01-08\",\"2021-01-09\",\"2021-01-10\",\"2021-01-11\",\"2021-01-12\",\"2021-01-13\",\"2021-01-14\",\"2021-01-15\",\"2021-01-16\",\"2021-01-17\",\"2021-01-18\",\"2021-01-19\",\"2021-01-20\",\"2021-01-21\",\"2021-01-22\",\"2021-01-23\",\"2021-01-24\",\"2021-01-25\",\"2021-01-26\",\"2021-01-27\",\"2021-01-28\",\"2021-01-29\",\"2021-01-30\",\"2021-01-31\",\"2021-02-01\",\"2021-02-02\",\"2021-02-03\",\"2021-02-04\",\"2021-02-05\",\"2021-02-06\",\"2021-02-07\",\"2021-02-08\",\"2021-02-09\",\"2021-02-10\",\"2021-02-11\",\"2021-02-12\",\"2021-02-13\",\"2021-02-14\",\"2021-02-15\",\"2021-02-16\",\"2021-02-17\",\"2021-02-18\",\"2021-02-19\",\"2021-02-20\",\"2021-02-21\",\"2021-02-22\",\"2021-02-23\",\"2021-02-24\",\"2021-02-25\",\"2021-02-26\",\"2021-02-27\",\"2021-02-28\",\"2021-03-01\",\"2021-03-02\",\"2021-03-03\",\"2021-03-04\",\"2021-03-05\",\"2021-03-06\",\"2021-03-07\",\"2021-03-08\",\"2021-03-09\",\"2021-03-10\",\"2021-03-11\",\"2021-03-12\",\"2021-03-13\",\"2021-03-14\",\"2021-03-15\",\"2021-03-16\",\"2021-03-17\",\"2021-03-18\",\"2021-03-19\",\"2021-03-20\",\"2021-03-21\",\"2021-03-22\",\"2021-03-23\",\"2021-03-24\",\"2021-03-25\",\"2021-03-26\",\"2021-03-27\",\"2021-03-28\",\"2021-03-29\",\"2021-03-30\",\"2021-03-31\",\"2021-04-01\",\"2021-04-02\",\"2021-04-03\",\"2021-04-04\",\"2021-04-05\",\"2021-04-06\",\"2021-04-07\",\"2021-04-08\",\"2021-04-09\",\"2021-04-10\",\"2021-04-11\",\"2021-04-12\",\"2021-04-13\",\"2021-04-14\",\"2021-04-15\",\"2021-04-16\",\"2021-04-17\",\"2021-04-18\",\"2021-04-19\",\"2021-04-20\",\"2021-04-21\",\"2021-04-22\",\"2021-04-23\",\"2021-04-24\",\"2021-04-25\",\"2021-04-26\",\"2021-04-27\",\"2021-04-28\",\"2021-04-29\",\"2021-04-30\",\"2021-05-01\",\"2021-05-02\",\"2021-05-03\",\"2021-05-04\",\"2021-05-05\",\"2021-05-06\",\"2021-05-07\",\"2021-05-08\",\"2021-05-09\",\"2021-05-10\",\"2021-05-11\",\"2021-05-12\",\"2021-05-13\",\"2021-05-14\",\"2021-05-15\",\"2021-05-16\",\"2021-05-17\",\"2021-05-18\",\"2021-05-19\",\"2021-05-20\",\"2021-05-21\",\"2021-05-22\",\"2021-05-23\",\"2021-05-24\",\"2021-05-25\",\"2021-05-26\",\"2021-05-27\",\"2021-05-28\",\"2021-05-29\",\"2021-05-30\",\"2021-05-31\",\"2021-06-01\",\"2021-06-02\",\"2021-06-03\",\"2021-06-04\",\"2021-06-05\",\"2021-06-06\",\"2021-06-07\",\"2021-06-08\",\"2021-06-09\",\"2021-06-10\",\"2021-06-11\",\"2021-06-12\",\"2021-06-13\",\"2021-06-14\",\"2021-06-15\",\"2021-06-16\",\"2021-06-17\",\"2021-06-18\",\"2021-06-19\",\"2021-06-20\",\"2021-06-21\",\"2021-06-22\",\"2021-06-23\",\"2021-06-24\",\"2021-06-25\",\"2021-06-26\",\"2021-06-27\",\"2021-06-28\",\"2021-06-29\",\"2021-06-30\",\"2021-07-01\",\"2021-07-02\",\"2021-07-03\",\"2021-07-04\",\"2021-07-05\",\"2021-07-06\",\"2021-07-07\",\"2021-07-08\",\"2021-07-09\",\"2021-07-10\",\"2021-07-11\",\"2021-07-12\",\"2021-07-13\",\"2021-07-14\",\"2021-07-15\",\"2021-07-16\",\"2021-07-17\",\"2021-07-18\",\"2021-07-19\",\"2021-07-20\",\"2021-07-21\",\"2021-07-22\",\"2021-07-23\",\"2021-07-24\",\"2021-07-25\",\"2021-07-26\",\"2021-07-27\",\"2021-07-28\",\"2021-07-29\",\"2021-07-30\",\"2021-07-31\",\"2021-08-01\",\"2021-08-02\",\"2021-08-03\",\"2021-08-04\",\"2021-08-05\",\"2021-08-06\",\"2021-08-07\",\"2021-08-08\",\"2021-08-09\",\"2021-08-10\",\"2021-08-11\",\"2021-08-12\",\"2021-08-13\",\"2021-08-14\",\"2021-08-15\",\"2021-08-16\",\"2021-08-17\",\"2021-08-18\",\"2021-08-19\",\"2021-08-20\",\"2021-08-21\",\"2021-08-22\",\"2021-08-23\",\"2021-08-24\",\"2021-08-25\",\"2021-08-26\",\"2021-08-27\",\"2021-08-28\",\"2021-08-29\",\"2021-08-30\",\"2021-08-31\",\"2021-09-01\",\"2021-09-02\",\"2021-09-03\",\"2021-09-04\",\"2021-09-05\",\"2021-09-06\",\"2021-09-07\",\"2021-09-08\",\"2021-09-09\",\"2021-09-10\",\"2021-09-11\",\"2021-09-12\",\"2021-09-13\",\"2021-09-14\",\"2021-09-15\",\"2021-09-16\",\"2021-09-17\",\"2021-09-18\",\"2021-09-19\",\"2021-09-20\",\"2021-09-21\",\"2021-09-22\",\"2021-09-23\",\"2021-09-24\",\"2021-09-25\",\"2021-09-26\",\"2021-09-27\",\"2021-09-28\",\"2021-09-29\",\"2021-09-30\",\"2021-10-01\",\"2021-10-02\",\"2021-10-03\",\"2021-10-04\",\"2021-10-05\",\"2021-10-06\",\"2021-10-07\",\"2021-10-08\",\"2021-10-09\",\"2021-10-10\",\"2021-10-11\",\"2021-10-12\",\"2021-10-13\",\"2021-10-14\",\"2021-10-15\",\"2021-10-16\",\"2021-10-17\",\"2021-10-18\",\"2021-10-19\",\"2021-10-20\",\"2021-10-21\",\"2021-10-22\",\"2021-10-23\",\"2021-10-24\",\"2021-10-25\",\"2021-10-26\",\"2021-10-27\",\"2021-10-28\",\"2021-10-29\",\"2021-10-30\",\"2021-10-31\",\"2021-11-01\",\"2021-11-02\",\"2021-11-03\",\"2021-11-04\",\"2021-11-05\",\"2021-11-06\",\"2021-11-07\",\"2021-11-08\",\"2021-11-09\",\"2021-11-10\",\"2021-11-11\",\"2021-11-12\",\"2021-11-13\",\"2021-11-14\",\"2021-11-15\",\"2021-11-16\",\"2021-11-17\",\"2021-11-18\",\"2021-11-19\",\"2021-11-20\",\"2021-11-21\",\"2021-11-22\",\"2021-11-23\",\"2021-11-24\",\"2021-11-25\",\"2021-11-26\",\"2021-11-27\",\"2021-11-28\",\"2021-11-29\",\"2021-11-30\",\"2021-12-01\",\"2021-12-02\",\"2021-12-03\",\"2021-12-04\",\"2021-12-05\",\"2021-12-06\",\"2021-12-07\",\"2021-12-08\",\"2021-12-09\",\"2021-12-10\",\"2021-12-11\",\"2021-12-12\",\"2021-12-13\",\"2021-12-14\",\"2021-12-15\",\"2021-12-16\",\"2021-12-17\",\"2021-12-18\",\"2021-12-19\",\"2021-12-20\",\"2021-12-21\",\"2021-12-22\",\"2021-12-23\",\"2021-12-24\",\"2021-12-25\",\"2021-12-26\",\"2021-12-27\",\"2021-12-28\",\"2021-12-29\",\"2021-12-30\",\"2021-12-31\",\"2022-01-01\",\"2022-01-02\",\"2022-01-03\",\"2022-01-04\",\"2022-01-05\",\"2022-01-06\",\"2022-01-07\",\"2022-01-08\",\"2022-01-09\",\"2022-01-10\",\"2022-01-11\",\"2022-01-12\",\"2022-01-13\",\"2022-01-14\",\"2022-01-15\",\"2022-01-16\",\"2022-01-17\",\"2022-01-18\",\"2022-01-19\",\"2022-01-20\",\"2022-01-21\",\"2022-01-22\",\"2022-01-23\",\"2022-01-24\",\"2022-01-25\",\"2022-01-26\",\"2022-01-27\",\"2022-01-28\",\"2022-01-29\",\"2022-01-30\",\"2022-01-31\",\"2022-02-01\",\"2022-02-02\",\"2022-02-03\",\"2022-02-04\",\"2022-02-05\",\"2022-02-06\",\"2022-02-07\",\"2022-02-08\",\"2022-02-09\",\"2022-02-10\",\"2022-02-11\",\"2022-02-12\",\"2022-02-13\",\"2022-02-14\",\"2022-02-15\",\"2022-02-16\",\"2022-02-17\",\"2022-02-18\",\"2022-02-19\",\"2022-02-20\",\"2022-02-21\",\"2022-02-22\",\"2022-02-23\",\"2022-02-24\",\"2022-02-25\",\"2022-02-26\",\"2022-02-27\",\"2022-02-28\",\"2022-03-01\",\"2022-03-02\",\"2022-03-03\",\"2022-03-04\",\"2022-03-05\",\"2022-03-06\",\"2022-03-07\",\"2022-03-08\",\"2022-03-09\",\"2022-03-10\",\"2022-03-11\",\"2022-03-12\",\"2022-03-13\",\"2022-03-14\",\"2022-03-15\",\"2022-03-16\",\"2022-03-17\",\"2022-03-18\",\"2022-03-19\",\"2022-03-20\",\"2022-03-21\",\"2022-03-22\",\"2022-03-23\",\"2022-03-24\",\"2022-03-25\",\"2022-03-26\",\"2022-03-27\",\"2022-03-28\",\"2022-03-29\",\"2022-03-30\",\"2022-03-31\",\"2022-04-01\",\"2022-04-02\",\"2022-04-03\",\"2022-04-04\",\"2022-04-05\",\"2022-04-06\",\"2022-04-07\",\"2022-04-08\",\"2022-04-09\",\"2022-04-10\",\"2022-04-11\",\"2022-04-12\",\"2022-04-13\",\"2022-04-14\",\"2022-04-15\",\"2022-04-16\",\"2022-04-17\",\"2022-04-18\",\"2022-04-19\",\"2022-04-20\",\"2022-04-21\",\"2022-04-22\",\"2022-04-23\",\"2022-04-24\",\"2022-04-25\",\"2022-04-26\",\"2022-04-27\",\"2022-04-28\",\"2022-04-29\",\"2022-04-30\",\"2022-05-01\",\"2022-05-02\",\"2022-05-03\",\"2022-05-04\",\"2022-05-05\",\"2022-05-06\",\"2022-05-07\",\"2022-05-08\",\"2022-05-09\",\"2022-05-10\",\"2022-05-11\",\"2022-05-12\",\"2022-05-13\",\"2022-05-14\",\"2022-05-15\",\"2022-05-16\",\"2022-05-17\",\"2022-05-18\",\"2022-05-19\",\"2022-05-20\",\"2022-05-21\",\"2022-05-22\",\"2022-05-23\",\"2022-05-24\",\"2022-05-25\",\"2022-05-26\",\"2022-05-27\",\"2022-05-28\",\"2022-05-29\",\"2022-05-30\",\"2022-05-31\",\"2022-06-01\",\"2022-06-02\",\"2022-06-03\",\"2022-06-04\",\"2022-06-05\",\"2022-06-06\",\"2022-06-07\",\"2022-06-08\",\"2022-06-09\",\"2022-06-10\",\"2022-06-11\",\"2022-06-12\",\"2022-06-13\",\"2022-06-14\",\"2022-06-15\",\"2022-06-16\",\"2022-06-17\",\"2022-06-18\",\"2022-06-19\",\"2022-06-20\",\"2022-06-21\",\"2022-06-22\",\"2022-06-23\",\"2022-06-24\",\"2022-06-25\",\"2022-06-26\",\"2022-06-27\",\"2022-06-28\",\"2022-06-29\",\"2022-06-30\",\"2022-07-01\",\"2022-07-02\",\"2022-07-03\",\"2022-07-04\",\"2022-07-05\",\"2022-07-06\",\"2022-07-07\",\"2022-07-08\",\"2022-07-09\",\"2022-07-10\",\"2022-07-11\",\"2022-07-12\",\"2022-07-13\",\"2022-07-14\",\"2022-07-15\",\"2022-07-16\",\"2022-07-17\",\"2022-07-18\",\"2022-07-19\",\"2022-07-20\",\"2022-07-21\",\"2022-07-22\",\"2022-07-23\",\"2022-07-24\",\"2022-07-25\",\"2022-07-26\",\"2022-07-27\",\"2022-07-28\",\"2022-07-29\",\"2022-07-30\",\"2022-07-31\",\"2022-08-01\",\"2022-08-02\",\"2022-08-03\",\"2022-08-04\",\"2022-08-05\",\"2022-08-06\",\"2022-08-07\",\"2022-08-08\",\"2022-08-09\",\"2022-08-10\",\"2022-08-11\",\"2022-08-12\",\"2022-08-13\",\"2022-08-14\",\"2022-08-15\",\"2022-08-16\",\"2022-08-17\",\"2022-08-18\",\"2022-08-19\",\"2022-08-20\",\"2022-08-21\",\"2022-08-22\",\"2022-08-23\",\"2022-08-24\",\"2022-08-25\",\"2022-08-26\",\"2022-08-27\",\"2022-08-28\",\"2022-08-29\",\"2022-08-30\",\"2022-08-31\",\"2022-09-01\",\"2022-09-02\",\"2022-09-03\",\"2022-09-04\",\"2022-09-05\",\"2022-09-06\",\"2022-09-07\",\"2022-09-08\",\"2022-09-09\",\"2022-09-10\",\"2022-09-11\",\"2022-09-12\",\"2022-09-13\",\"2022-09-14\",\"2022-09-15\",\"2022-09-16\",\"2022-09-17\",\"2022-09-18\",\"2022-09-19\",\"2022-09-20\",\"2022-09-21\",\"2022-09-22\",\"2022-09-23\",\"2022-09-24\",\"2022-09-25\",\"2022-09-26\",\"2022-09-27\",\"2022-09-28\",\"2022-09-29\",\"2022-09-30\",\"2022-10-01\",\"2022-10-02\",\"2022-10-03\",\"2022-10-04\",\"2022-10-05\",\"2022-10-06\",\"2022-10-07\",\"2022-10-08\",\"2022-10-09\",\"2022-10-10\",\"2022-10-11\",\"2022-10-12\",\"2022-10-13\",\"2022-10-14\",\"2022-10-15\",\"2022-10-16\",\"2022-10-17\",\"2022-10-18\",\"2022-10-19\",\"2022-10-20\",\"2022-10-21\",\"2022-10-22\",\"2022-10-23\",\"2022-10-24\",\"2022-10-25\",\"2022-10-26\",\"2022-10-27\",\"2022-10-28\"],\"y\":[320.884003,299.252991,314.681,307.90799,316.716003,337.631012,333.356995,330.924011,332.394012,347.612,354.385986,366.730011,360.401001,380.652008,410.165985,474.911011,466.276001,471.329987,480.355011,472.902008,427.52301,447.114014,466.540009,463.449005,465.852997,470.20401,463.281006,428.588013,434.40799,456.031006,473.502014,441.721008,515.135986,651.43103,702.767029,695.815979,684.447998,696.208984,719.974976,794.64502,826.822998,819.085999,821.062988,674.859985,719.387024,694.14801,765.833984,773.835999,762.84198,737.02301,753.59198,717.257019,756.732971,772.640991,884.44397,962.719971,980.921997,997.719971,1041.680054,1153.170044,1148.530029,1299.73999,1255.819946,1154.930054,1273.199951,1396.420044,1366.77002,1291.920044,1053.689941,1014.25,1036.280029,1039.099976,1155.150024,1049.579956,1003.26001,986.229004,1058.780029,1056.030029,1055.170044,1107.069946,1246.01001,1182.359985,1071.130005,1118.310059,1036.790039,915.784973,964.018982,834.682007,697.950989,793.122009,757.067993,817.807007,883.86499,860.414978,814.659973,868.70697,845.257996,923.560974,936.976013,944.210022,974.11499,923.921021,943.86499,895.370972,849.971008,812.844971,864.189026,840.515015,844.809998,869.315002,878.265015,855.198975,872.200012,856.853027,857.224976,866.677979,853.684021,816.950989,752.830994,704.596008,728.916016,686.890015,723.338989,699.830994,690.827026,614.291016,611.304016,601.666016,552.778992,538.643982,556.726013,557.174988,561.731995,539.702026,539.619019,526.439026,524.286987,489.950989,450.115997,446.278992,385.967987,394.644989,396.457001,379.606995,386.424988,416.893005,380.542999,383.231995,370.285004,385.313995,400.507996,398.526001,414.243011,430.540009,492.94101,492.734985,501.477997,531.702026,511.147003,502.894012,524.789001,567.888977,615.718018,605.39502,621.859985,642.547974,708.15802,615.416016,662.809021,647.031982,683.677979,688.880981,669.924011,673.612976,687.148987,779.54303,785.624023,816.119995,792.310974,753.724976,752.856995,752.275024,727.276978,679.585999,686.047974,733.495972,730.549011,708.870972,707.049988,672.656982,694.367004,696.530029,715.369019,699.221985,647.741028,583.585022,601.755005,586.734009,587.280029,572.66803,516.036011,565.388,559.590027,577.64502,580.04303,591.807983,618.328979,592.984985,609.302979,607.124023,605.187012,601.077026,597.562012,526.479004,533.283997,496.842987,477.493988,519.742004,491.003998,499.641998,500.447998,518.890991,537.95697,536.268005,527.367004,465.816986,474.519989,457.671997,460.309998,432.772003,442.36499,422.36499,436.009003,455.179993,453.917999,475.346985,464.195007,467.317993,474.411987,474.011993,491.660004,489.118988,476.682007,434.424011,446.518005,430.074005,434.027008,436.085999,449.850006,480.65799,501.002014,480.513,469.618988,450.697998,462.436005,459.657013,450.852997,479.372986,472.493011,464.036987,469.665985,466.89801,466.665009,457.080994,433.867004,420.747009,412.621002,418.261993,407.252014,410.515991,406.65799,380.214996,356.613007,365.588013,334.175995,322.112,319.570007,286.494995,278.932007,282.364014,288.04599,315.729004,295.812012,300.834015,274.315002,281.944,271.341003,277.104004,282.96701,279.645996,275.196991,285.602997,296.498993,289.312012,284.105011,283.003998,295.341003,294.371002,289.259003,285.722992,232.330994,230.214996,217.203003,197.951004,196.923996,197.078995,185.065994,183.330994,211.354004,211.748993,223.074005,220.589005,197.875,209.975006,209.968994,224.591003,246.584,240.479996,244.330002,228.729996,218.505005,215.847,228.494003,222.401993,231.634995,232.848007,230.768005,227.181,220.488998,222.218002,227.600998,225.119995,226.119003,229.255005,227.981995,225.768997,189.498993,196.727005,199.841003,195.714996,209.703995,210.119995,207.082993,203.352005,203.727005,205.429993,205.141998,204.044006,204.335999,203.852005,202.718994,203.328995,204.210007,205.365997,197.246994,197.556,197.380997,198.871994,200.634995,200.186005,207.485992,209.091003,218.451996,217.182999,212.231003,210.074005,212.533005,211.339996,210.417999,206.826004,181.397003,180.806,175.177002,174.001007,177.067001,149.175003,130.339005,136.701004,126.706001,123.295998,113.494003,116.449997,108.334999,110.010002,122.438004,117.542648,113.171417,118.635559,116.388901,108.925018,110.214188,102.475555,91.761055,93.294563,92.159637,95.142059,91.685654,88.945305,90.5933,86.539314,84.308296,84.440811,85.2621,95.133827,101.112457,101.268578,116.216873,109.496231,116.759499,130.765259,140.238007,129.844345,131.865631,116.575912,137.647018,138.018341,139.859451,133.368256,140.819412,155.047684,149.13501,154.58194,155.638596,157.746201,151.699219,150.359634,150.803116,128.625183,127.548325,125.96653,116.897804,129.068726,122.032715,123.547066,123.74192,121.010262,124.51902,119.474831,117.157852,118.747551,117.452606,117.362885,116.378342,116.488739,113.405289,106.589973,105.598213,108.907539,107.061012,107.609787,110.43026,107.492668,107.821602,107.44352,104.919289,104.535301,119.267746,119.430885,124.806488,121.298393,122.572289,122.553604,121.390205,122.100388,123.260216,133.598877,146.098373,145.346191,149.554337,146.130844,149.092453,158.795425,135.852661,139.822861,138.089676,136.125961,136.746246,136.443619,134.206955,132.24942,127.774124,137.822388,138.789352,138.0345,135.127075,137.965332,136.758682,133.83403,134.442886,133.263077,133.711594,137.691788,142.398178,140.000549,139.374603,140.519196,140.686356,136.636063,137.181442,138.239868,136.986923,135.031021,135.460358,140.988159,139.416473,142.497421,142.092682,141.514099,141.830322,163.961746,161.458801,158.052536,165.514847,165.947205,174.531647,180.25882,176.114578,177.337479,165.497025,164.736328,164.513351,167.838516,161.574173,167.623444,166.95076,173.814026,173.708435,173.751266,170.046524,171.874664,171.4478,165.826096,154.459396,156.347092,158.434937,157.295074,155.201996,162.166031,160.818344,162.122787,167.952408,164.026581,163.450699,172.653214,169.79866,170.948166,170.289307,173.142746,194.304337,187.325317,196.846283,217.148575,247.153061,264.01001,243.764587,234.59523,261.292206,251.86441,255.215881,244.698914,245.965668,249.484985,251.759872,267.069641,272.86264,271.768707,269.455688,255.858948,268.113556,265.391266,270.225525,252.607925,241.338791,247.05101,249.474335,250.930359,245.738098,233.0867,247.520126,245.78183,260.90329,256.168793,264.087463,269.019318,269.223206,274.351105,265.051849,269.431793,271.695007,294.910278,309.38031,307.827789,310.424683,318.126312,336.753174,294.267639,311.226105,320.058899,290.695984,293.641113,291.596436,303.099976,284.523224,287.997528,287.547119,305.700562,313.251404,308.881012,290.002319,268.704041,276.276703,269.458801,227.578064,229.776001,199.188675,211.48497,226.566162,221.33342,229.119217,225.630768,217.560013,212.728516,217.046371,219.617996,219.629608,207.40831,211.186554,211.268051,210.522598,218.654144,217.808441,217.871567,222.490341,222.669724,234.215027,226.020645,226.391006,220.941864,210.488907,206.733536,216.092865,211.288071,208.709045,186.607742,188.50206,185.440079,185.687683,194.49353,203.091934,196.565414,186.891632,191.332916,194.706207,191.289566,186.842392,188.929382,187.516663,173.889969,169.516739,168.834869,172.469788,171.629425,178.347351,179.499329,175.992889,174.217133,169.956177,178.262619,181.35553,181.14946,179.78717,178.725494,181.016098,181.109726,188.105515,189.789124,197.113174,208.608749,211.393036,221.280853,218.050049,215.516205,211.54538,201.92131,168.110733,170.8927,166.727127,174.710999,174.572891,170.503479,179.872208,177.340424,180.71051,175.199341,176.985001,176.351517,173.059143,181.18634,182.021561,193.293259,191.659668,182.569687,180.826645,182.07515,186.960907,181.406067,176.013504,178.028351,173.621338,172.913025,175.534378,174.92099,172.300858,162.402786,162.168549,181.523209,179.83548,184.242218,182.662811,190.342575,184.692169,183.966919,183.969894,183.92572,182.425018,186.355194,189.304169,191.593842,187.976547,184.211472,185.028717,189.47728,185.489639,186.843414,188.258743,185.999634,180.521179,183.348358,185.119232,180.559601,177.455551,175.698349,161.462723,150.268173,153.417786,142.834702,146.476532,148.965073,153.010559,151.717575,155.304153,152.539688,151.18573,149.059158,147.956421,146.747742,149.248993,149.194443,148.768158,151.264725,148.225174,146.267044,143.608002,145.604004,144.944748,142.869232,143.11499,133.614029,122.603889,133.092194,129.321136,129.066055,128.130951,132.372513,128.61409,129.063889,126.454636,126.361221,127.214607,128.322708,134.75798,132.633484,129.610855,130.802002,127.410179,134.171707,135.069366,136.276779,144.304153,143.543991,141.258133,138.979202,143.963776,142.927109,145.873932,144.226593,165.955353,166.230682,164.391006,170.779953,175.365677,166.969849,167.120514,169.697159,168.294159,162.928558,163.051178,161.283936,168.077103,170.930893,176.370316,175.050339,184.690475,180.160172,183.67395,188.617538,189.865067,189.250595,204.23024,212.339081,222.726059,223.146515,228.578568,223.522705,235.851196,265.406128,268.099243,284.217499,264.728577,259.894714,266.363434,281.94458,259.763977,257.949463,265.600616,262.331726,273.75415,265.216431,247.817596,225.680267,226.753387,226.760498,219.848511,218.970596,230.569778,224.47963,224.517975,229.268188,243.525299,237.853088,200.689056,201.986328,200.767242,194.86853,112.347122,133.201813,123.306023,125.214302,110.605873,113.942749,114.84227,136.593857,132.737167,132.81871,123.321152,134.911606,138.761444,136.195892,138.361557,133.937943,130.986496,125.583733,132.904541,133.593567,135.634552,142.029144,142.091309,145.219391,143.546646,169.13588,165.101944,172.641739,170.807144,158.412445,158.216019,161.142426,156.279556,157.59639,153.286896,172.157379,171.63858,186.914001,181.61496,172.297165,172.737701,182.599579,185.028671,189.236938,195.515305,197.317535,197.224716,198.41539,216.968231,207.602051,214.219101,215.325378,210.933151,208.174011,206.774399,204.055786,212.289413,212.991577,211.600128,188.599564,185.912842,189.3125,199.193283,202.949097,195.622665,200.677124,207.158691,214.525055,213.451111,210.096741,199.883606,207.169189,208.694397,202.370346,205.319748,201.902313,208.863434,219.840424,220.675125,242.345596,230.975708,246.99176,237.219055,244.179321,244.426392,241.221985,241.93132,245.167252,246.309906,244.911453,247.444946,231.702667,237.49321,238.908844,234.1147,229.928909,234.416168,233.028275,232.101166,227.13829,229.274261,228.989822,242.533188,244.142151,235.772461,232.944489,229.668045,222.959793,225.347168,228.19487,226.315002,231.113419,229.392197,225.38707,229.074112,227.664597,241.510223,239.075531,246.670013,243.015961,240.984985,239.458176,242.131699,239.604584,240.211487,238.423523,233.640884,232.773087,235.48381,238.487518,236.153168,245.016724,262.190643,274.689056,279.215424,304.056763,309.643616,321.514099,316.657257,318.190887,334.586639,345.554657,385.199707,370.671722,386.295166,389.875488,401.590576,394.961945,379.512848,393.987366,391.120453,395.887573,380.384064,391.02417,428.741791,437.397827,433.354919,433.786621,429.53125,423.669312,406.463776,416.439789,389.126343,395.835144,391.384491,408.144196,384.001038,386.466125,382.632629,395.874664,399.921478,428.395721,435.079742,477.05191,440.040497,385.671936,388.24115,335.260071,353.362274,352.673492,337.602112,351.110016,368.101898,374.695587,387.183105,365.570007,377.26886,364.839203,365.812286,389.019226,384.364532,385.544373,371.052826,341.786072,344.503174,321.116302,349.355591,352.183258,355.488098,357.438507,355.159424,359.757385,359.937866,353.205902,346.238922,346.522095,352.57901,353.956787,340.815857,341.808655,350.766144,365.590485,370.96759,375.142059,387.731262,381.190765,379.484039,377.441833,366.229004,368.855927,378.213684,379.935608,369.136902,392.189972,413.77298,409.766693,412.457611,406.217773,393.888306,403.99704,388.650757,386.730103,382.819977,386.590332,396.358185,383.156738,387.602173,402.141998,414.067352,454.719299,435.713135,453.554779,444.163055,449.679626,462.960541,461.00528,474.626434,460.149841,447.559082,459.940308,480.360077,479.48407,471.630432,509.744568,549.486633,558.068115,608.454041,603.897766,570.686646,518.801147,517.493713,538.229797,575.758057,614.842529,587.324158,598.352356,616.70874,569.354187,596.595459,601.908997,591.843384,554.827759,573.479126,559.678528,545.797363,568.567322,589.663208,586.011169,589.355591,636.181824,642.868958,654.811951,659.297913,638.290833,609.817871,634.854187,583.7146,611.607178,626.410706,635.835815,682.642334,730.397339,731.520142,751.618958,737.803406,730.367554,774.534973,975.50769,1040.233032,1100.006104,1207.112183,1225.678101,1224.197144,1281.077271,1262.246704,1090.145386,1043.43457,1130.73938,1218.453003,1171.834595,1233.537598,1230.172241,1257.279541,1377.295898,1382.274048,1121.570923,1236.512207,1230.990601,1391.609375,1324.414795,1357.058105,1253.187134,1332.492188,1382.522827,1376.115479,1314.986206,1369.040527,1515.193726,1660.909546,1594.762695,1718.650879,1677.846802,1614.227783,1746.616821,1768.035034,1744.243408,1783.797974,1843.532593,1814.109863,1805.084106,1779.791016,1781.067505,1848.458252,1937.449219,1960.164795,1919.534058,1935.601074,1781.99292,1570.203979,1626.575684,1475.703735,1446.033691,1459.973145,1416.04895,1564.707642,1492.608765,1575.853149,1541.914307,1533.275024,1654.741577,1723.153809,1834.727905,1868.048828,1799.16626,1826.194946,1772.102417,1924.685425,1854.564331,1791.702271,1806.971802,1823.449341,1782.855103,1817.624146,1812.634644,1788.217041,1691.333984,1678.650146,1593.413452,1595.359253,1702.842041,1716.494629,1691.355957,1819.684937,1846.033691,1918.362061,1977.276855,2143.225586,2028.422485,2093.122803,2107.887207,2118.378906,1971.077271,2088.57373,2072.108887,2135.942139,2157.656982,2139.353271,2299.187744,2435.10498,2519.116211,2431.946533,2344.89502,2237.136963,2166.188721,2330.210938,2364.751709,2403.535156,2363.586182,2211.625732,2316.05957,2534.481689,2662.865234,2746.380127,2756.876953,2773.207031,2945.892822,2952.056152,3431.086182,3253.629395,3522.783203,3490.880371,3484.729004,3902.647705,3928.844727,3952.293945,4168.701172,3785.848633,3715.148438,4079.057373,3638.12207,3587.506104,3282.397705,3380.070068,2460.679199,2784.294189,2430.621338,2295.705566,2109.579834,2643.591064,2706.628906,2888.69873,2736.488525,2419.90625,2279.51416,2390.30542,2714.945313,2633.518311,2706.125,2855.126465,2688.195068,2630.576904,2715.092773,2590.263184,2517.438721,2608.26709,2471.518555,2353.768799,2372.484375,2508.391602,2537.891113,2610.936768,2367.663574,2372.001953,2231.733154,2178.499023,2246.364502,1888.44751,1874.950073,1989.736328,1988.456299,1813.217285,1829.239258,1978.894653,2079.657471,2160.768311,2274.547607,2113.605469,2150.040283,2226.114258,2321.724121,2198.58252,2324.679443,2315.161865,2120.026367,2146.692383,2111.403564,2139.664795,2036.721069,1940.083984,1994.331299,1911.175659,1880.382935,1898.825195,1895.552124,1817.296631,1787.510742,1990.970825,2025.202759,2124.776611,2189.21875,2191.373779,2233.366699,2298.333496,2296.54541,2380.956787,2466.961426,2536.209961,2561.852051,2610.15332,2502.349609,2724.619873,2827.328857,2890.94165,3157.23877,3013.732666,3167.856201,3141.691162,3164.245117,3043.414307,3322.21167,3265.443359,3310.50415,3156.509521,3014.845947,3020.089844,3182.702148,3286.935303,3226.083984,3242.115479,3319.257324,3172.456299,3224.915283,3100.325439,3270.60083,3244.40332,3227.002686,3224.374268,3433.732666,3834.828125,3790.98999,3940.614746,3887.828369,3952.133545,3928.379395,3426.394287,3497.315186,3427.340088,3211.505859,3270.278076,3410.134521,3285.511719,3429.169678,3615.282715,3571.294922,3398.538818,3432.018311,3329.447998,2958.993408,2764.431152,3077.86792,3155.523682,2931.669189,2925.565674,3062.265381,2934.138916,2807.296631,2853.143311,3001.678955,3307.516113,3391.694336,3418.358643,3380.089111,3518.518555,3580.562012,3587.974854,3563.759277,3575.716797,3425.852783,3545.354004,3492.573242,3606.20166,3786.01416,3862.634766,3830.38208,3847.104492,3748.760254,3877.650879,4155.992188,4054.322754,3970.181885,4171.663574,4087.903076,4217.876953,4131.102051,3930.257324,4287.318848,4414.746582,4325.650391,4288.074219,4324.626953,4584.798828,4607.193848,4537.324219,4486.243164,4521.581055,4620.554688,4812.087402,4735.068848,4636.174316,4730.384277,4667.115234,4651.460449,4626.358887,4557.503906,4216.365234,4287.59375,4000.650879,4298.306641,4409.931152,4269.73291,4088.457764,4340.763672,4239.981445,4274.743164,4030.908936,4096.912109,4294.453613,4445.10498,4631.479004,4586.990234,4511.302246,4220.706055,4119.587402,4198.322754,4358.737305,4315.061523,4439.35791,4119.815918,3908.496094,4084.452393,4134.453125,3784.226807,3745.44043,4018.388672,3962.469727,3879.486572,3960.860107,3922.592529,3933.844482,4020.26001,3982.099609,4108.015625,4047.98291,4093.281006,4067.328125,4037.547607,3800.893066,3628.531738,3713.852051,3682.632813,3769.697021,3829.564941,3761.380371,3794.056641,3550.386963,3418.408203,3193.210449,3091.972656,3157.751465,3083.0979,3238.111572,3372.258301,3248.288574,3310.001465,3330.530762,3350.921875,3212.304932,3164.025146,3095.825928,3001.120117,2557.931641,2405.181152,2535.039063,2440.352295,2455.935059,2468.030273,2423.001221,2547.092041,2597.084717,2603.466553,2688.278809,2792.117188,2682.854004,2679.162598,2983.586914,3014.648193,3057.476074,3142.470703,3122.608643,3239.457031,3077.482178,2927.383545,2917.362793,2883.463379,2933.479004,3179.877197,3127.830078,2881.481934,2785.727539,2763.701172,2628.648438,2573.816162,2639.299316,2590.359619,2598.067139,2764.535645,2781.111816,2621.801758,2919.201172,2972.485107,2950.118408,2834.468994,2617.156006,2664.831055,2555.037354,2497.77124,2576.747559,2729.783447,2608.048584,2559.562988,2574.75415,2518.94458,2590.696045,2620.149658,2772.055664,2814.854492,2945.343018,2946.25708,2860.459229,2897.976563,2973.131104,3031.067139,3108.062012,3106.671387,3143.178955,3291.577637,3336.634521,3401.987793,3385.157959,3281.642822,3449.552246,3445.059326,3522.833496,3521.241211,3411.79248,3171.691895,3233.274658,3192.073975,3261.91626,3211.866943,2981.052246,3030.376465,3118.344238,3019.909424,3040.916504,3062.310303,2993.40332,3057.606689,3104.106445,3077.74585,2987.480713,2964.835693,2938.114014,2922.732666,3009.393555,2808.29834,2888.929688,2936.940918,2815.601807,2730.186768,2827.756104,2857.4104,2783.476318,2940.644775,2749.213135,2694.979736,2636.093018,2517.459961,2245.43042,2343.510986,2072.108643,1961.701538,2014.418213,2056.273926,2145.706787,2022.725952,2090.40918,1916.656128,2018.336182,1961.315674,1974.518311,2043.170166,1972.181885,1978.982788,1944.827881,1803.91333,1724.922852,1757.941772,1812.031006,1996.441284,1942.328003,1823.569336,1834.150513,1775.078613,1801.609497,1805.204956,1859.289673,1814.04834,1793.572266,1789.82605,1665.042236,1529.663452,1445.216553,1204.582764,1211.662842,1233.206421,1067.730713,1086.519287,993.63678,1127.656494,1127.642456,1124.824585,1051.421875,1143.386719,1226.844727,1243.446899,1199.831665,1193.680664,1144.579224,1098.943848,1067.298828,1059.767334,1066.512817,1073.766968,1151.059082,1134.541016,1186.973999,1237.593384,1222.506226,1216.978271,1168.401611,1097.236572,1038.19165,1113.587158,1191.526245,1233.12915,1352.626465,1338.635742,1578.717896,1542.97522,1520.200684,1576.749512,1537.405151,1549.297485,1599.476685,1445.383423,1441.806763,1636.232666,1725.46814,1727.406982,1695.969482,1681.517334,1635.195801,1632.945435,1618.874512,1608.205811,1732.254639,1691.658081,1699.35083,1775.516113,1703.025024,1851.742676,1881.224121,1957.24646,1981.336548,1936.802002,1904.228149,1878.139404,1832.999634,1847.007813,1612.987305,1577.003784,1619.31897,1622.505859,1662.769897,1657.059204,1696.457031,1507.782837,1491.39502,1430.547363,1553.037354,1523.838867,1553.684937,1586.176758,1577.220459,1556.872681,1577.641602,1617.183228,1561.748535,1629.906372,1635.347656,1719.085449,1776.203735,1761.800049,1713.765259,1580.787964,1634.755005,1471.693481,1432.447754,1469.741699,1335.329102,1377.541382,1324.388184,1252.607788,1327.680176,1328.259521,1317.993286,1294.216797,1335.32019,1330.127686,1337.410889,1335.652344,1327.978638,1311.644409,1276.093506,1323.439209,1362.126587,1352.837158,1351.709473,1332.516968,1315.500488,1322.604248,1291.337646,1279.575684,1294.906372,1288.123901,1297.422119,1274.871704,1306.296631,1331.713623,1310.447021,1285.744263,1283.200928,1299.946411,1314.299194,1363.447021,1344.998535,1461.665405,1566.56665,1514.374878,1561.545288],\"type\":\"scatter\"},{\"name\":\"Price\",\"x\":[\"2017-11-09\",\"2017-11-10\",\"2017-11-11\",\"2017-11-12\",\"2017-11-13\",\"2017-11-14\",\"2017-11-15\",\"2017-11-16\",\"2017-11-17\",\"2017-11-18\",\"2017-11-19\",\"2017-11-20\",\"2017-11-21\",\"2017-11-22\",\"2017-11-23\",\"2017-11-24\",\"2017-11-25\",\"2017-11-26\",\"2017-11-27\",\"2017-11-28\",\"2017-11-29\",\"2017-11-30\",\"2017-12-01\",\"2017-12-02\",\"2017-12-03\",\"2017-12-04\",\"2017-12-05\",\"2017-12-06\",\"2017-12-07\",\"2017-12-08\",\"2017-12-09\",\"2017-12-10\",\"2017-12-11\",\"2017-12-12\",\"2017-12-13\",\"2017-12-14\",\"2017-12-15\",\"2017-12-16\",\"2017-12-17\",\"2017-12-18\",\"2017-12-19\",\"2017-12-20\",\"2017-12-21\",\"2017-12-22\",\"2017-12-23\",\"2017-12-24\",\"2017-12-25\",\"2017-12-26\",\"2017-12-27\",\"2017-12-28\",\"2017-12-29\",\"2017-12-30\",\"2017-12-31\",\"2018-01-01\",\"2018-01-02\",\"2018-01-03\",\"2018-01-04\",\"2018-01-05\",\"2018-01-06\",\"2018-01-07\",\"2018-01-08\",\"2018-01-09\",\"2018-01-10\",\"2018-01-11\",\"2018-01-12\",\"2018-01-13\",\"2018-01-14\",\"2018-01-15\",\"2018-01-16\",\"2018-01-17\",\"2018-01-18\",\"2018-01-19\",\"2018-01-20\",\"2018-01-21\",\"2018-01-22\",\"2018-01-23\",\"2018-01-24\",\"2018-01-25\",\"2018-01-26\",\"2018-01-27\",\"2018-01-28\",\"2018-01-29\",\"2018-01-30\",\"2018-01-31\",\"2018-02-01\",\"2018-02-02\",\"2018-02-03\",\"2018-02-04\",\"2018-02-05\",\"2018-02-06\",\"2018-02-07\",\"2018-02-08\",\"2018-02-09\",\"2018-02-10\",\"2018-02-11\",\"2018-02-12\",\"2018-02-13\",\"2018-02-14\",\"2018-02-15\",\"2018-02-16\",\"2018-02-17\",\"2018-02-18\",\"2018-02-19\",\"2018-02-20\",\"2018-02-21\",\"2018-02-22\",\"2018-02-23\",\"2018-02-24\",\"2018-02-25\",\"2018-02-26\",\"2018-02-27\",\"2018-02-28\",\"2018-03-01\",\"2018-03-02\",\"2018-03-03\",\"2018-03-04\",\"2018-03-05\",\"2018-03-06\",\"2018-03-07\",\"2018-03-08\",\"2018-03-09\",\"2018-03-10\",\"2018-03-11\",\"2018-03-12\",\"2018-03-13\",\"2018-03-14\",\"2018-03-15\",\"2018-03-16\",\"2018-03-17\",\"2018-03-18\",\"2018-03-19\",\"2018-03-20\",\"2018-03-21\",\"2018-03-22\",\"2018-03-23\",\"2018-03-24\",\"2018-03-25\",\"2018-03-26\",\"2018-03-27\",\"2018-03-28\",\"2018-03-29\",\"2018-03-30\",\"2018-03-31\",\"2018-04-01\",\"2018-04-02\",\"2018-04-03\",\"2018-04-04\",\"2018-04-05\",\"2018-04-06\",\"2018-04-07\",\"2018-04-08\",\"2018-04-09\",\"2018-04-10\",\"2018-04-11\",\"2018-04-12\",\"2018-04-13\",\"2018-04-14\",\"2018-04-15\",\"2018-04-16\",\"2018-04-17\",\"2018-04-18\",\"2018-04-19\",\"2018-04-20\",\"2018-04-21\",\"2018-04-22\",\"2018-04-23\",\"2018-04-24\",\"2018-04-25\",\"2018-04-26\",\"2018-04-27\",\"2018-04-28\",\"2018-04-29\",\"2018-04-30\",\"2018-05-01\",\"2018-05-02\",\"2018-05-03\",\"2018-05-04\",\"2018-05-05\",\"2018-05-06\",\"2018-05-07\",\"2018-05-08\",\"2018-05-09\",\"2018-05-10\",\"2018-05-11\",\"2018-05-12\",\"2018-05-13\",\"2018-05-14\",\"2018-05-15\",\"2018-05-16\",\"2018-05-17\",\"2018-05-18\",\"2018-05-19\",\"2018-05-20\",\"2018-05-21\",\"2018-05-22\",\"2018-05-23\",\"2018-05-24\",\"2018-05-25\",\"2018-05-26\",\"2018-05-27\",\"2018-05-28\",\"2018-05-29\",\"2018-05-30\",\"2018-05-31\",\"2018-06-01\",\"2018-06-02\",\"2018-06-03\",\"2018-06-04\",\"2018-06-05\",\"2018-06-06\",\"2018-06-07\",\"2018-06-08\",\"2018-06-09\",\"2018-06-10\",\"2018-06-11\",\"2018-06-12\",\"2018-06-13\",\"2018-06-14\",\"2018-06-15\",\"2018-06-16\",\"2018-06-17\",\"2018-06-18\",\"2018-06-19\",\"2018-06-20\",\"2018-06-21\",\"2018-06-22\",\"2018-06-23\",\"2018-06-24\",\"2018-06-25\",\"2018-06-26\",\"2018-06-27\",\"2018-06-28\",\"2018-06-29\",\"2018-06-30\",\"2018-07-01\",\"2018-07-02\",\"2018-07-03\",\"2018-07-04\",\"2018-07-05\",\"2018-07-06\",\"2018-07-07\",\"2018-07-08\",\"2018-07-09\",\"2018-07-10\",\"2018-07-11\",\"2018-07-12\",\"2018-07-13\",\"2018-07-14\",\"2018-07-15\",\"2018-07-16\",\"2018-07-17\",\"2018-07-18\",\"2018-07-19\",\"2018-07-20\",\"2018-07-21\",\"2018-07-22\",\"2018-07-23\",\"2018-07-24\",\"2018-07-25\",\"2018-07-26\",\"2018-07-27\",\"2018-07-28\",\"2018-07-29\",\"2018-07-30\",\"2018-07-31\",\"2018-08-01\",\"2018-08-02\",\"2018-08-03\",\"2018-08-04\",\"2018-08-05\",\"2018-08-06\",\"2018-08-07\",\"2018-08-08\",\"2018-08-09\",\"2018-08-10\",\"2018-08-11\",\"2018-08-12\",\"2018-08-13\",\"2018-08-14\",\"2018-08-15\",\"2018-08-16\",\"2018-08-17\",\"2018-08-18\",\"2018-08-19\",\"2018-08-20\",\"2018-08-21\",\"2018-08-22\",\"2018-08-23\",\"2018-08-24\",\"2018-08-25\",\"2018-08-26\",\"2018-08-27\",\"2018-08-28\",\"2018-08-29\",\"2018-08-30\",\"2018-08-31\",\"2018-09-01\",\"2018-09-02\",\"2018-09-03\",\"2018-09-04\",\"2018-09-05\",\"2018-09-06\",\"2018-09-07\",\"2018-09-08\",\"2018-09-09\",\"2018-09-10\",\"2018-09-11\",\"2018-09-12\",\"2018-09-13\",\"2018-09-14\",\"2018-09-15\",\"2018-09-16\",\"2018-09-17\",\"2018-09-18\",\"2018-09-19\",\"2018-09-20\",\"2018-09-21\",\"2018-09-22\",\"2018-09-23\",\"2018-09-24\",\"2018-09-25\",\"2018-09-26\",\"2018-09-27\",\"2018-09-28\",\"2018-09-29\",\"2018-09-30\",\"2018-10-01\",\"2018-10-02\",\"2018-10-03\",\"2018-10-04\",\"2018-10-05\",\"2018-10-06\",\"2018-10-07\",\"2018-10-08\",\"2018-10-09\",\"2018-10-10\",\"2018-10-11\",\"2018-10-12\",\"2018-10-13\",\"2018-10-14\",\"2018-10-15\",\"2018-10-16\",\"2018-10-17\",\"2018-10-18\",\"2018-10-19\",\"2018-10-20\",\"2018-10-21\",\"2018-10-22\",\"2018-10-23\",\"2018-10-24\",\"2018-10-25\",\"2018-10-26\",\"2018-10-27\",\"2018-10-28\",\"2018-10-29\",\"2018-10-30\",\"2018-10-31\",\"2018-11-01\",\"2018-11-02\",\"2018-11-03\",\"2018-11-04\",\"2018-11-05\",\"2018-11-06\",\"2018-11-07\",\"2018-11-08\",\"2018-11-09\",\"2018-11-10\",\"2018-11-11\",\"2018-11-12\",\"2018-11-13\",\"2018-11-14\",\"2018-11-15\",\"2018-11-16\",\"2018-11-17\",\"2018-11-18\",\"2018-11-19\",\"2018-11-20\",\"2018-11-21\",\"2018-11-22\",\"2018-11-23\",\"2018-11-24\",\"2018-11-25\",\"2018-11-26\",\"2018-11-27\",\"2018-11-28\",\"2018-11-29\",\"2018-11-30\",\"2018-12-01\",\"2018-12-02\",\"2018-12-03\",\"2018-12-04\",\"2018-12-05\",\"2018-12-06\",\"2018-12-07\",\"2018-12-08\",\"2018-12-09\",\"2018-12-10\",\"2018-12-11\",\"2018-12-12\",\"2018-12-13\",\"2018-12-14\",\"2018-12-15\",\"2018-12-16\",\"2018-12-17\",\"2018-12-18\",\"2018-12-19\",\"2018-12-20\",\"2018-12-21\",\"2018-12-22\",\"2018-12-23\",\"2018-12-24\",\"2018-12-25\",\"2018-12-26\",\"2018-12-27\",\"2018-12-28\",\"2018-12-29\",\"2018-12-30\",\"2018-12-31\",\"2019-01-01\",\"2019-01-02\",\"2019-01-03\",\"2019-01-04\",\"2019-01-05\",\"2019-01-06\",\"2019-01-07\",\"2019-01-08\",\"2019-01-09\",\"2019-01-10\",\"2019-01-11\",\"2019-01-12\",\"2019-01-13\",\"2019-01-14\",\"2019-01-15\",\"2019-01-16\",\"2019-01-17\",\"2019-01-18\",\"2019-01-19\",\"2019-01-20\",\"2019-01-21\",\"2019-01-22\",\"2019-01-23\",\"2019-01-24\",\"2019-01-25\",\"2019-01-26\",\"2019-01-27\",\"2019-01-28\",\"2019-01-29\",\"2019-01-30\",\"2019-01-31\",\"2019-02-01\",\"2019-02-02\",\"2019-02-03\",\"2019-02-04\",\"2019-02-05\",\"2019-02-06\",\"2019-02-07\",\"2019-02-08\",\"2019-02-09\",\"2019-02-10\",\"2019-02-11\",\"2019-02-12\",\"2019-02-13\",\"2019-02-14\",\"2019-02-15\",\"2019-02-16\",\"2019-02-17\",\"2019-02-18\",\"2019-02-19\",\"2019-02-20\",\"2019-02-21\",\"2019-02-22\",\"2019-02-23\",\"2019-02-24\",\"2019-02-25\",\"2019-02-26\",\"2019-02-27\",\"2019-02-28\",\"2019-03-01\",\"2019-03-02\",\"2019-03-03\",\"2019-03-04\",\"2019-03-05\",\"2019-03-06\",\"2019-03-07\",\"2019-03-08\",\"2019-03-09\",\"2019-03-10\",\"2019-03-11\",\"2019-03-12\",\"2019-03-13\",\"2019-03-14\",\"2019-03-15\",\"2019-03-16\",\"2019-03-17\",\"2019-03-18\",\"2019-03-19\",\"2019-03-20\",\"2019-03-21\",\"2019-03-22\",\"2019-03-23\",\"2019-03-24\",\"2019-03-25\",\"2019-03-26\",\"2019-03-27\",\"2019-03-28\",\"2019-03-29\",\"2019-03-30\",\"2019-03-31\",\"2019-04-01\",\"2019-04-02\",\"2019-04-03\",\"2019-04-04\",\"2019-04-05\",\"2019-04-06\",\"2019-04-07\",\"2019-04-08\",\"2019-04-09\",\"2019-04-10\",\"2019-04-11\",\"2019-04-12\",\"2019-04-13\",\"2019-04-14\",\"2019-04-15\",\"2019-04-16\",\"2019-04-17\",\"2019-04-18\",\"2019-04-19\",\"2019-04-20\",\"2019-04-21\",\"2019-04-22\",\"2019-04-23\",\"2019-04-24\",\"2019-04-25\",\"2019-04-26\",\"2019-04-27\",\"2019-04-28\",\"2019-04-29\",\"2019-04-30\",\"2019-05-01\",\"2019-05-02\",\"2019-05-03\",\"2019-05-04\",\"2019-05-05\",\"2019-05-06\",\"2019-05-07\",\"2019-05-08\",\"2019-05-09\",\"2019-05-10\",\"2019-05-11\",\"2019-05-12\",\"2019-05-13\",\"2019-05-14\",\"2019-05-15\",\"2019-05-16\",\"2019-05-17\",\"2019-05-18\",\"2019-05-19\",\"2019-05-20\",\"2019-05-21\",\"2019-05-22\",\"2019-05-23\",\"2019-05-24\",\"2019-05-25\",\"2019-05-26\",\"2019-05-27\",\"2019-05-28\",\"2019-05-29\",\"2019-05-30\",\"2019-05-31\",\"2019-06-01\",\"2019-06-02\",\"2019-06-03\",\"2019-06-04\",\"2019-06-05\",\"2019-06-06\",\"2019-06-07\",\"2019-06-08\",\"2019-06-09\",\"2019-06-10\",\"2019-06-11\",\"2019-06-12\",\"2019-06-13\",\"2019-06-14\",\"2019-06-15\",\"2019-06-16\",\"2019-06-17\",\"2019-06-18\",\"2019-06-19\",\"2019-06-20\",\"2019-06-21\",\"2019-06-22\",\"2019-06-23\",\"2019-06-24\",\"2019-06-25\",\"2019-06-26\",\"2019-06-27\",\"2019-06-28\",\"2019-06-29\",\"2019-06-30\",\"2019-07-01\",\"2019-07-02\",\"2019-07-03\",\"2019-07-04\",\"2019-07-05\",\"2019-07-06\",\"2019-07-07\",\"2019-07-08\",\"2019-07-09\",\"2019-07-10\",\"2019-07-11\",\"2019-07-12\",\"2019-07-13\",\"2019-07-14\",\"2019-07-15\",\"2019-07-16\",\"2019-07-17\",\"2019-07-18\",\"2019-07-19\",\"2019-07-20\",\"2019-07-21\",\"2019-07-22\",\"2019-07-23\",\"2019-07-24\",\"2019-07-25\",\"2019-07-26\",\"2019-07-27\",\"2019-07-28\",\"2019-07-29\",\"2019-07-30\",\"2019-07-31\",\"2019-08-01\",\"2019-08-02\",\"2019-08-03\",\"2019-08-04\",\"2019-08-05\",\"2019-08-06\",\"2019-08-07\",\"2019-08-08\",\"2019-08-09\",\"2019-08-10\",\"2019-08-11\",\"2019-08-12\",\"2019-08-13\",\"2019-08-14\",\"2019-08-15\",\"2019-08-16\",\"2019-08-17\",\"2019-08-18\",\"2019-08-19\",\"2019-08-20\",\"2019-08-21\",\"2019-08-22\",\"2019-08-23\",\"2019-08-24\",\"2019-08-25\",\"2019-08-26\",\"2019-08-27\",\"2019-08-28\",\"2019-08-29\",\"2019-08-30\",\"2019-08-31\",\"2019-09-01\",\"2019-09-02\",\"2019-09-03\",\"2019-09-04\",\"2019-09-05\",\"2019-09-06\",\"2019-09-07\",\"2019-09-08\",\"2019-09-09\",\"2019-09-10\",\"2019-09-11\",\"2019-09-12\",\"2019-09-13\",\"2019-09-14\",\"2019-09-15\",\"2019-09-16\",\"2019-09-17\",\"2019-09-18\",\"2019-09-19\",\"2019-09-20\",\"2019-09-21\",\"2019-09-22\",\"2019-09-23\",\"2019-09-24\",\"2019-09-25\",\"2019-09-26\",\"2019-09-27\",\"2019-09-28\",\"2019-09-29\",\"2019-09-30\",\"2019-10-01\",\"2019-10-02\",\"2019-10-03\",\"2019-10-04\",\"2019-10-05\",\"2019-10-06\",\"2019-10-07\",\"2019-10-08\",\"2019-10-09\",\"2019-10-10\",\"2019-10-11\",\"2019-10-12\",\"2019-10-13\",\"2019-10-14\",\"2019-10-15\",\"2019-10-16\",\"2019-10-17\",\"2019-10-18\",\"2019-10-19\",\"2019-10-20\",\"2019-10-21\",\"2019-10-22\",\"2019-10-23\",\"2019-10-24\",\"2019-10-25\",\"2019-10-26\",\"2019-10-27\",\"2019-10-28\",\"2019-10-29\",\"2019-10-30\",\"2019-10-31\",\"2019-11-01\",\"2019-11-02\",\"2019-11-03\",\"2019-11-04\",\"2019-11-05\",\"2019-11-06\",\"2019-11-07\",\"2019-11-08\",\"2019-11-09\",\"2019-11-10\",\"2019-11-11\",\"2019-11-12\",\"2019-11-13\",\"2019-11-14\",\"2019-11-15\",\"2019-11-16\",\"2019-11-17\",\"2019-11-18\",\"2019-11-19\",\"2019-11-20\",\"2019-11-21\",\"2019-11-22\",\"2019-11-23\",\"2019-11-24\",\"2019-11-25\",\"2019-11-26\",\"2019-11-27\",\"2019-11-28\",\"2019-11-29\",\"2019-11-30\",\"2019-12-01\",\"2019-12-02\",\"2019-12-03\",\"2019-12-04\",\"2019-12-05\",\"2019-12-06\",\"2019-12-07\",\"2019-12-08\",\"2019-12-09\",\"2019-12-10\",\"2019-12-11\",\"2019-12-12\",\"2019-12-13\",\"2019-12-14\",\"2019-12-15\",\"2019-12-16\",\"2019-12-17\",\"2019-12-18\",\"2019-12-19\",\"2019-12-20\",\"2019-12-21\",\"2019-12-22\",\"2019-12-23\",\"2019-12-24\",\"2019-12-25\",\"2019-12-26\",\"2019-12-27\",\"2019-12-28\",\"2019-12-29\",\"2019-12-30\",\"2019-12-31\",\"2020-01-01\",\"2020-01-02\",\"2020-01-03\",\"2020-01-04\",\"2020-01-05\",\"2020-01-06\",\"2020-01-07\",\"2020-01-08\",\"2020-01-09\",\"2020-01-10\",\"2020-01-11\",\"2020-01-12\",\"2020-01-13\",\"2020-01-14\",\"2020-01-15\",\"2020-01-16\",\"2020-01-17\",\"2020-01-18\",\"2020-01-19\",\"2020-01-20\",\"2020-01-21\",\"2020-01-22\",\"2020-01-23\",\"2020-01-24\",\"2020-01-25\",\"2020-01-26\",\"2020-01-27\",\"2020-01-28\",\"2020-01-29\",\"2020-01-30\",\"2020-01-31\",\"2020-02-01\",\"2020-02-02\",\"2020-02-03\",\"2020-02-04\",\"2020-02-05\",\"2020-02-06\",\"2020-02-07\",\"2020-02-08\",\"2020-02-09\",\"2020-02-10\",\"2020-02-11\",\"2020-02-12\",\"2020-02-13\",\"2020-02-14\",\"2020-02-15\",\"2020-02-16\",\"2020-02-17\",\"2020-02-18\",\"2020-02-19\",\"2020-02-20\",\"2020-02-21\",\"2020-02-22\",\"2020-02-23\",\"2020-02-24\",\"2020-02-25\",\"2020-02-26\",\"2020-02-27\",\"2020-02-28\",\"2020-02-29\",\"2020-03-01\",\"2020-03-02\",\"2020-03-03\",\"2020-03-04\",\"2020-03-05\",\"2020-03-06\",\"2020-03-07\",\"2020-03-08\",\"2020-03-09\",\"2020-03-10\",\"2020-03-11\",\"2020-03-12\",\"2020-03-13\",\"2020-03-14\",\"2020-03-15\",\"2020-03-16\",\"2020-03-17\",\"2020-03-18\",\"2020-03-19\",\"2020-03-20\",\"2020-03-21\",\"2020-03-22\",\"2020-03-23\",\"2020-03-24\",\"2020-03-25\",\"2020-03-26\",\"2020-03-27\",\"2020-03-28\",\"2020-03-29\",\"2020-03-30\",\"2020-03-31\",\"2020-04-01\",\"2020-04-02\",\"2020-04-03\",\"2020-04-04\",\"2020-04-05\",\"2020-04-06\",\"2020-04-07\",\"2020-04-08\",\"2020-04-09\",\"2020-04-10\",\"2020-04-11\",\"2020-04-12\",\"2020-04-13\",\"2020-04-14\",\"2020-04-15\",\"2020-04-16\",\"2020-04-17\",\"2020-04-18\",\"2020-04-19\",\"2020-04-20\",\"2020-04-21\",\"2020-04-22\",\"2020-04-23\",\"2020-04-24\",\"2020-04-25\",\"2020-04-26\",\"2020-04-27\",\"2020-04-28\",\"2020-04-29\",\"2020-04-30\",\"2020-05-01\",\"2020-05-02\",\"2020-05-03\",\"2020-05-04\",\"2020-05-05\",\"2020-05-06\",\"2020-05-07\",\"2020-05-08\",\"2020-05-09\",\"2020-05-10\",\"2020-05-11\",\"2020-05-12\",\"2020-05-13\",\"2020-05-14\",\"2020-05-15\",\"2020-05-16\",\"2020-05-17\",\"2020-05-18\",\"2020-05-19\",\"2020-05-20\",\"2020-05-21\",\"2020-05-22\",\"2020-05-23\",\"2020-05-24\",\"2020-05-25\",\"2020-05-26\",\"2020-05-27\",\"2020-05-28\",\"2020-05-29\",\"2020-05-30\",\"2020-05-31\",\"2020-06-01\",\"2020-06-02\",\"2020-06-03\",\"2020-06-04\",\"2020-06-05\",\"2020-06-06\",\"2020-06-07\",\"2020-06-08\",\"2020-06-09\",\"2020-06-10\",\"2020-06-11\",\"2020-06-12\",\"2020-06-13\",\"2020-06-14\",\"2020-06-15\",\"2020-06-16\",\"2020-06-17\",\"2020-06-18\",\"2020-06-19\",\"2020-06-20\",\"2020-06-21\",\"2020-06-22\",\"2020-06-23\",\"2020-06-24\",\"2020-06-25\",\"2020-06-26\",\"2020-06-27\",\"2020-06-28\",\"2020-06-29\",\"2020-06-30\",\"2020-07-01\",\"2020-07-02\",\"2020-07-03\",\"2020-07-04\",\"2020-07-05\",\"2020-07-06\",\"2020-07-07\",\"2020-07-08\",\"2020-07-09\",\"2020-07-10\",\"2020-07-11\",\"2020-07-12\",\"2020-07-13\",\"2020-07-14\",\"2020-07-15\",\"2020-07-16\",\"2020-07-17\",\"2020-07-18\",\"2020-07-19\",\"2020-07-20\",\"2020-07-21\",\"2020-07-22\",\"2020-07-23\",\"2020-07-24\",\"2020-07-25\",\"2020-07-26\",\"2020-07-27\",\"2020-07-28\",\"2020-07-29\",\"2020-07-30\",\"2020-07-31\",\"2020-08-01\",\"2020-08-02\",\"2020-08-03\",\"2020-08-04\",\"2020-08-05\",\"2020-08-06\",\"2020-08-07\",\"2020-08-08\",\"2020-08-09\",\"2020-08-10\",\"2020-08-11\",\"2020-08-12\",\"2020-08-13\",\"2020-08-14\",\"2020-08-15\",\"2020-08-16\",\"2020-08-17\",\"2020-08-18\",\"2020-08-19\",\"2020-08-20\",\"2020-08-21\",\"2020-08-22\",\"2020-08-23\",\"2020-08-24\",\"2020-08-25\",\"2020-08-26\",\"2020-08-27\",\"2020-08-28\",\"2020-08-29\",\"2020-08-30\",\"2020-08-31\",\"2020-09-01\",\"2020-09-02\",\"2020-09-03\",\"2020-09-04\",\"2020-09-05\",\"2020-09-06\",\"2020-09-07\",\"2020-09-08\",\"2020-09-09\",\"2020-09-10\",\"2020-09-11\",\"2020-09-12\",\"2020-09-13\",\"2020-09-14\",\"2020-09-15\",\"2020-09-16\",\"2020-09-17\",\"2020-09-18\",\"2020-09-19\",\"2020-09-20\",\"2020-09-21\",\"2020-09-22\",\"2020-09-23\",\"2020-09-24\",\"2020-09-25\",\"2020-09-26\",\"2020-09-27\",\"2020-09-28\",\"2020-09-29\",\"2020-09-30\",\"2020-10-01\",\"2020-10-02\",\"2020-10-03\",\"2020-10-04\",\"2020-10-05\",\"2020-10-06\",\"2020-10-07\",\"2020-10-08\",\"2020-10-09\",\"2020-10-10\",\"2020-10-11\",\"2020-10-12\",\"2020-10-13\",\"2020-10-14\",\"2020-10-15\",\"2020-10-16\",\"2020-10-17\",\"2020-10-18\",\"2020-10-19\",\"2020-10-20\",\"2020-10-21\",\"2020-10-22\",\"2020-10-23\",\"2020-10-24\",\"2020-10-25\",\"2020-10-26\",\"2020-10-27\",\"2020-10-28\",\"2020-10-29\",\"2020-10-30\",\"2020-10-31\",\"2020-11-01\",\"2020-11-02\",\"2020-11-03\",\"2020-11-04\",\"2020-11-05\",\"2020-11-06\",\"2020-11-07\",\"2020-11-08\",\"2020-11-09\",\"2020-11-10\",\"2020-11-11\",\"2020-11-12\",\"2020-11-13\",\"2020-11-14\",\"2020-11-15\",\"2020-11-16\",\"2020-11-17\",\"2020-11-18\",\"2020-11-19\",\"2020-11-20\",\"2020-11-21\",\"2020-11-22\",\"2020-11-23\",\"2020-11-24\",\"2020-11-25\",\"2020-11-26\",\"2020-11-27\",\"2020-11-28\",\"2020-11-29\",\"2020-11-30\",\"2020-12-01\",\"2020-12-02\",\"2020-12-03\",\"2020-12-04\",\"2020-12-05\",\"2020-12-06\",\"2020-12-07\",\"2020-12-08\",\"2020-12-09\",\"2020-12-10\",\"2020-12-11\",\"2020-12-12\",\"2020-12-13\",\"2020-12-14\",\"2020-12-15\",\"2020-12-16\",\"2020-12-17\",\"2020-12-18\",\"2020-12-19\",\"2020-12-20\",\"2020-12-21\",\"2020-12-22\",\"2020-12-23\",\"2020-12-24\",\"2020-12-25\",\"2020-12-26\",\"2020-12-27\",\"2020-12-28\",\"2020-12-29\",\"2020-12-30\",\"2020-12-31\",\"2021-01-01\",\"2021-01-02\",\"2021-01-03\",\"2021-01-04\",\"2021-01-05\",\"2021-01-06\",\"2021-01-07\",\"2021-01-08\",\"2021-01-09\",\"2021-01-10\",\"2021-01-11\",\"2021-01-12\",\"2021-01-13\",\"2021-01-14\",\"2021-01-15\",\"2021-01-16\",\"2021-01-17\",\"2021-01-18\",\"2021-01-19\",\"2021-01-20\",\"2021-01-21\",\"2021-01-22\",\"2021-01-23\",\"2021-01-24\",\"2021-01-25\",\"2021-01-26\",\"2021-01-27\",\"2021-01-28\",\"2021-01-29\",\"2021-01-30\",\"2021-01-31\",\"2021-02-01\",\"2021-02-02\",\"2021-02-03\",\"2021-02-04\",\"2021-02-05\",\"2021-02-06\",\"2021-02-07\",\"2021-02-08\",\"2021-02-09\",\"2021-02-10\",\"2021-02-11\",\"2021-02-12\",\"2021-02-13\",\"2021-02-14\",\"2021-02-15\",\"2021-02-16\",\"2021-02-17\",\"2021-02-18\",\"2021-02-19\",\"2021-02-20\",\"2021-02-21\",\"2021-02-22\",\"2021-02-23\",\"2021-02-24\",\"2021-02-25\",\"2021-02-26\",\"2021-02-27\",\"2021-02-28\",\"2021-03-01\",\"2021-03-02\",\"2021-03-03\",\"2021-03-04\",\"2021-03-05\",\"2021-03-06\",\"2021-03-07\",\"2021-03-08\",\"2021-03-09\",\"2021-03-10\",\"2021-03-11\",\"2021-03-12\",\"2021-03-13\",\"2021-03-14\",\"2021-03-15\",\"2021-03-16\",\"2021-03-17\",\"2021-03-18\",\"2021-03-19\",\"2021-03-20\",\"2021-03-21\",\"2021-03-22\",\"2021-03-23\",\"2021-03-24\",\"2021-03-25\",\"2021-03-26\",\"2021-03-27\",\"2021-03-28\",\"2021-03-29\",\"2021-03-30\",\"2021-03-31\",\"2021-04-01\",\"2021-04-02\",\"2021-04-03\",\"2021-04-04\",\"2021-04-05\",\"2021-04-06\",\"2021-04-07\",\"2021-04-08\",\"2021-04-09\",\"2021-04-10\",\"2021-04-11\",\"2021-04-12\",\"2021-04-13\",\"2021-04-14\",\"2021-04-15\",\"2021-04-16\",\"2021-04-17\",\"2021-04-18\",\"2021-04-19\",\"2021-04-20\",\"2021-04-21\",\"2021-04-22\",\"2021-04-23\",\"2021-04-24\",\"2021-04-25\",\"2021-04-26\",\"2021-04-27\",\"2021-04-28\",\"2021-04-29\",\"2021-04-30\",\"2021-05-01\",\"2021-05-02\",\"2021-05-03\",\"2021-05-04\",\"2021-05-05\",\"2021-05-06\",\"2021-05-07\",\"2021-05-08\",\"2021-05-09\",\"2021-05-10\",\"2021-05-11\",\"2021-05-12\",\"2021-05-13\",\"2021-05-14\",\"2021-05-15\",\"2021-05-16\",\"2021-05-17\",\"2021-05-18\",\"2021-05-19\",\"2021-05-20\",\"2021-05-21\",\"2021-05-22\",\"2021-05-23\",\"2021-05-24\",\"2021-05-25\",\"2021-05-26\",\"2021-05-27\",\"2021-05-28\",\"2021-05-29\",\"2021-05-30\",\"2021-05-31\",\"2021-06-01\",\"2021-06-02\",\"2021-06-03\",\"2021-06-04\",\"2021-06-05\",\"2021-06-06\",\"2021-06-07\",\"2021-06-08\",\"2021-06-09\",\"2021-06-10\",\"2021-06-11\",\"2021-06-12\",\"2021-06-13\",\"2021-06-14\",\"2021-06-15\",\"2021-06-16\",\"2021-06-17\",\"2021-06-18\",\"2021-06-19\",\"2021-06-20\",\"2021-06-21\",\"2021-06-22\",\"2021-06-23\",\"2021-06-24\",\"2021-06-25\",\"2021-06-26\",\"2021-06-27\",\"2021-06-28\",\"2021-06-29\",\"2021-06-30\",\"2021-07-01\",\"2021-07-02\",\"2021-07-03\",\"2021-07-04\",\"2021-07-05\",\"2021-07-06\",\"2021-07-07\",\"2021-07-08\",\"2021-07-09\",\"2021-07-10\",\"2021-07-11\",\"2021-07-12\",\"2021-07-13\",\"2021-07-14\",\"2021-07-15\",\"2021-07-16\",\"2021-07-17\",\"2021-07-18\",\"2021-07-19\",\"2021-07-20\",\"2021-07-21\",\"2021-07-22\",\"2021-07-23\",\"2021-07-24\",\"2021-07-25\",\"2021-07-26\",\"2021-07-27\",\"2021-07-28\",\"2021-07-29\",\"2021-07-30\",\"2021-07-31\",\"2021-08-01\",\"2021-08-02\",\"2021-08-03\",\"2021-08-04\",\"2021-08-05\",\"2021-08-06\",\"2021-08-07\",\"2021-08-08\",\"2021-08-09\",\"2021-08-10\",\"2021-08-11\",\"2021-08-12\",\"2021-08-13\",\"2021-08-14\",\"2021-08-15\",\"2021-08-16\",\"2021-08-17\",\"2021-08-18\",\"2021-08-19\",\"2021-08-20\",\"2021-08-21\",\"2021-08-22\",\"2021-08-23\",\"2021-08-24\",\"2021-08-25\",\"2021-08-26\",\"2021-08-27\",\"2021-08-28\",\"2021-08-29\",\"2021-08-30\",\"2021-08-31\",\"2021-09-01\",\"2021-09-02\",\"2021-09-03\",\"2021-09-04\",\"2021-09-05\",\"2021-09-06\",\"2021-09-07\",\"2021-09-08\",\"2021-09-09\",\"2021-09-10\",\"2021-09-11\",\"2021-09-12\",\"2021-09-13\",\"2021-09-14\",\"2021-09-15\",\"2021-09-16\",\"2021-09-17\",\"2021-09-18\",\"2021-09-19\",\"2021-09-20\",\"2021-09-21\",\"2021-09-22\",\"2021-09-23\",\"2021-09-24\",\"2021-09-25\",\"2021-09-26\",\"2021-09-27\",\"2021-09-28\",\"2021-09-29\",\"2021-09-30\",\"2021-10-01\",\"2021-10-02\",\"2021-10-03\",\"2021-10-04\",\"2021-10-05\",\"2021-10-06\",\"2021-10-07\",\"2021-10-08\",\"2021-10-09\",\"2021-10-10\",\"2021-10-11\",\"2021-10-12\",\"2021-10-13\",\"2021-10-14\",\"2021-10-15\",\"2021-10-16\",\"2021-10-17\",\"2021-10-18\",\"2021-10-19\",\"2021-10-20\",\"2021-10-21\",\"2021-10-22\",\"2021-10-23\",\"2021-10-24\",\"2021-10-25\",\"2021-10-26\",\"2021-10-27\",\"2021-10-28\",\"2021-10-29\",\"2021-10-30\",\"2021-10-31\",\"2021-11-01\",\"2021-11-02\",\"2021-11-03\",\"2021-11-04\",\"2021-11-05\",\"2021-11-06\",\"2021-11-07\",\"2021-11-08\",\"2021-11-09\",\"2021-11-10\",\"2021-11-11\",\"2021-11-12\",\"2021-11-13\",\"2021-11-14\",\"2021-11-15\",\"2021-11-16\",\"2021-11-17\",\"2021-11-18\",\"2021-11-19\",\"2021-11-20\",\"2021-11-21\",\"2021-11-22\",\"2021-11-23\",\"2021-11-24\",\"2021-11-25\",\"2021-11-26\",\"2021-11-27\",\"2021-11-28\",\"2021-11-29\",\"2021-11-30\",\"2021-12-01\",\"2021-12-02\",\"2021-12-03\",\"2021-12-04\",\"2021-12-05\",\"2021-12-06\",\"2021-12-07\",\"2021-12-08\",\"2021-12-09\",\"2021-12-10\",\"2021-12-11\",\"2021-12-12\",\"2021-12-13\",\"2021-12-14\",\"2021-12-15\",\"2021-12-16\",\"2021-12-17\",\"2021-12-18\",\"2021-12-19\",\"2021-12-20\",\"2021-12-21\",\"2021-12-22\",\"2021-12-23\",\"2021-12-24\",\"2021-12-25\",\"2021-12-26\",\"2021-12-27\",\"2021-12-28\",\"2021-12-29\",\"2021-12-30\",\"2021-12-31\",\"2022-01-01\",\"2022-01-02\",\"2022-01-03\",\"2022-01-04\",\"2022-01-05\",\"2022-01-06\",\"2022-01-07\",\"2022-01-08\",\"2022-01-09\",\"2022-01-10\",\"2022-01-11\",\"2022-01-12\",\"2022-01-13\",\"2022-01-14\",\"2022-01-15\",\"2022-01-16\",\"2022-01-17\",\"2022-01-18\",\"2022-01-19\",\"2022-01-20\",\"2022-01-21\",\"2022-01-22\",\"2022-01-23\",\"2022-01-24\",\"2022-01-25\",\"2022-01-26\",\"2022-01-27\",\"2022-01-28\",\"2022-01-29\",\"2022-01-30\",\"2022-01-31\",\"2022-02-01\",\"2022-02-02\",\"2022-02-03\",\"2022-02-04\",\"2022-02-05\",\"2022-02-06\",\"2022-02-07\",\"2022-02-08\",\"2022-02-09\",\"2022-02-10\",\"2022-02-11\",\"2022-02-12\",\"2022-02-13\",\"2022-02-14\",\"2022-02-15\",\"2022-02-16\",\"2022-02-17\",\"2022-02-18\",\"2022-02-19\",\"2022-02-20\",\"2022-02-21\",\"2022-02-22\",\"2022-02-23\",\"2022-02-24\",\"2022-02-25\",\"2022-02-26\",\"2022-02-27\",\"2022-02-28\",\"2022-03-01\",\"2022-03-02\",\"2022-03-03\",\"2022-03-04\",\"2022-03-05\",\"2022-03-06\",\"2022-03-07\",\"2022-03-08\",\"2022-03-09\",\"2022-03-10\",\"2022-03-11\",\"2022-03-12\",\"2022-03-13\",\"2022-03-14\",\"2022-03-15\",\"2022-03-16\",\"2022-03-17\",\"2022-03-18\",\"2022-03-19\",\"2022-03-20\",\"2022-03-21\",\"2022-03-22\",\"2022-03-23\",\"2022-03-24\",\"2022-03-25\",\"2022-03-26\",\"2022-03-27\",\"2022-03-28\",\"2022-03-29\",\"2022-03-30\",\"2022-03-31\",\"2022-04-01\",\"2022-04-02\",\"2022-04-03\",\"2022-04-04\",\"2022-04-05\",\"2022-04-06\",\"2022-04-07\",\"2022-04-08\",\"2022-04-09\",\"2022-04-10\",\"2022-04-11\",\"2022-04-12\",\"2022-04-13\",\"2022-04-14\",\"2022-04-15\",\"2022-04-16\",\"2022-04-17\",\"2022-04-18\",\"2022-04-19\",\"2022-04-20\",\"2022-04-21\",\"2022-04-22\",\"2022-04-23\",\"2022-04-24\",\"2022-04-25\",\"2022-04-26\",\"2022-04-27\",\"2022-04-28\",\"2022-04-29\",\"2022-04-30\",\"2022-05-01\",\"2022-05-02\",\"2022-05-03\",\"2022-05-04\",\"2022-05-05\",\"2022-05-06\",\"2022-05-07\",\"2022-05-08\",\"2022-05-09\",\"2022-05-10\",\"2022-05-11\",\"2022-05-12\",\"2022-05-13\",\"2022-05-14\",\"2022-05-15\",\"2022-05-16\",\"2022-05-17\",\"2022-05-18\",\"2022-05-19\",\"2022-05-20\",\"2022-05-21\",\"2022-05-22\",\"2022-05-23\",\"2022-05-24\",\"2022-05-25\",\"2022-05-26\",\"2022-05-27\",\"2022-05-28\",\"2022-05-29\",\"2022-05-30\",\"2022-05-31\",\"2022-06-01\",\"2022-06-02\",\"2022-06-03\",\"2022-06-04\",\"2022-06-05\",\"2022-06-06\",\"2022-06-07\",\"2022-06-08\",\"2022-06-09\",\"2022-06-10\",\"2022-06-11\",\"2022-06-12\",\"2022-06-13\",\"2022-06-14\",\"2022-06-15\",\"2022-06-16\",\"2022-06-17\",\"2022-06-18\",\"2022-06-19\",\"2022-06-20\",\"2022-06-21\",\"2022-06-22\",\"2022-06-23\",\"2022-06-24\",\"2022-06-25\",\"2022-06-26\",\"2022-06-27\",\"2022-06-28\",\"2022-06-29\",\"2022-06-30\",\"2022-07-01\",\"2022-07-02\",\"2022-07-03\",\"2022-07-04\",\"2022-07-05\",\"2022-07-06\",\"2022-07-07\",\"2022-07-08\",\"2022-07-09\",\"2022-07-10\",\"2022-07-11\",\"2022-07-12\",\"2022-07-13\",\"2022-07-14\",\"2022-07-15\",\"2022-07-16\",\"2022-07-17\",\"2022-07-18\",\"2022-07-19\",\"2022-07-20\",\"2022-07-21\",\"2022-07-22\",\"2022-07-23\",\"2022-07-24\",\"2022-07-25\",\"2022-07-26\",\"2022-07-27\",\"2022-07-28\",\"2022-07-29\",\"2022-07-30\",\"2022-07-31\",\"2022-08-01\",\"2022-08-02\",\"2022-08-03\",\"2022-08-04\",\"2022-08-05\",\"2022-08-06\",\"2022-08-07\",\"2022-08-08\",\"2022-08-09\",\"2022-08-10\",\"2022-08-11\",\"2022-08-12\",\"2022-08-13\",\"2022-08-14\",\"2022-08-15\",\"2022-08-16\",\"2022-08-17\",\"2022-08-18\",\"2022-08-19\",\"2022-08-20\",\"2022-08-21\",\"2022-08-22\",\"2022-08-23\",\"2022-08-24\",\"2022-08-25\",\"2022-08-26\",\"2022-08-27\",\"2022-08-28\",\"2022-08-29\",\"2022-08-30\",\"2022-08-31\",\"2022-09-01\",\"2022-09-02\",\"2022-09-03\",\"2022-09-04\",\"2022-09-05\",\"2022-09-06\",\"2022-09-07\",\"2022-09-08\",\"2022-09-09\",\"2022-09-10\",\"2022-09-11\",\"2022-09-12\",\"2022-09-13\",\"2022-09-14\",\"2022-09-15\",\"2022-09-16\",\"2022-09-17\",\"2022-09-18\",\"2022-09-19\",\"2022-09-20\",\"2022-09-21\",\"2022-09-22\",\"2022-09-23\",\"2022-09-24\",\"2022-09-25\",\"2022-09-26\",\"2022-09-27\",\"2022-09-28\",\"2022-09-29\",\"2022-09-30\",\"2022-10-01\",\"2022-10-02\",\"2022-10-03\",\"2022-10-04\",\"2022-10-05\",\"2022-10-06\",\"2022-10-07\",\"2022-10-08\",\"2022-10-09\",\"2022-10-10\",\"2022-10-11\",\"2022-10-12\",\"2022-10-13\",\"2022-10-14\",\"2022-10-15\",\"2022-10-16\",\"2022-10-17\",\"2022-10-18\",\"2022-10-19\",\"2022-10-20\",\"2022-10-21\",\"2022-10-22\",\"2022-10-23\",\"2022-10-24\",\"2022-10-25\",\"2022-10-26\",\"2022-10-27\",\"2022-10-28\"],\"y\":[1.00818,1.00601,1.00899,1.01247,1.00935,1.00683,1.00318,1.00212,1.00139,1.00231,1.00244,1.00192,0.996047,1.00015,0.994631,1.00233,1.00541,1.00868,1.00129,1.00014,0.990606,1.0081,1.00978,0.999654,1.00066,1.00367,1.00197,1.00991,1.03166,1.0176,1.01713,1.01775,1.01856,1.07788,1.02716,1.00819,1.0161,1.00742,1.00924,1.01302,1.01068,1.00018,1.00921,1.01795,1.04526,1.02303,1.01113,1.00407,1.00366,1.00659,1.00564,1.02135,1.01226,1.00728,1.0049,1.01344,1.00253,0.998634,1.00899,1.00157,1.00932,1.00599,1.00128,1.00171,1.00608,1.00202,1.01612,1.00662,1.03415,1.01453,1.02311,1.00454,1.00111,0.999861,1.00504,1.00505,0.997484,0.999595,1.00414,0.993325,0.98879,0.995319,0.986486,0.990274,0.986939,0.990747,1.00131,1.01013,0.996308,1.01009,1.0014,1.01891,1.00211,1.0037,0.999251,1.00009,1.0011,1.00077,1.00541,1.0021,1.0037,1.00519,1.00061,1.00061,1.00097,1.00409,1.00157,1.00284,1.00034,0.999561,1.00052,0.998903,1.00042,0.99973,1.00087,0.997612,0.998864,1.0005,1.00248,1.00591,1.00166,1.00519,1.00384,1.00235,0.999843,1.00275,1.00128,0.998551,1.00162,1.00308,0.989867,0.996832,0.999244,0.998982,0.990235,1.0091,0.999686,1.00341,1.00161,0.999204,0.998623,0.998943,1.00077,0.99981,1.00013,1.00037,1.00083,1.00253,1.00109,0.999644,0.996809,0.997555,0.997356,1.00025,0.996831,0.998895,0.999766,0.998602,0.997592,0.998556,0.997609,0.997185,0.998338,0.999014,0.996196,0.997847,1.00476,0.991809,0.999614,1.00415,0.999335,0.998016,0.998919,1.00349,0.997464,0.997973,0.998561,0.996284,0.997202,0.997237,1.00212,1.00051,1.00134,1.00225,1.0011,1.00325,1.00127,1.00114,0.99995,1.00019,1.00111,1.00036,0.999117,1.00297,1.00297,1.00402,0.998818,1.00044,0.99989,0.999182,1.00249,1.00068,0.999727,0.998003,1.00099,0.99353,1.0001,1.00052,1.00102,1.00069,0.99875,1.00179,1.00608,0.998215,1.00193,1.00077,1.00353,1.00395,1.00695,1.00424,1.00548,1.00283,1.00022,0.998829,1.00053,1.003,1.00198,1.0051,1.00062,1.00056,0.997935,0.997193,1.00333,0.999192,0.998821,0.998859,1.00032,0.999195,1.00614,1.00316,1.00621,1.00425,1.0075,1.0012,1.00116,0.99907,1.00142,1.00265,0.998352,0.999139,1.00013,1.00221,0.998088,1.00103,1.00004,0.999843,0.997496,0.996505,0.998791,0.997951,0.997118,0.997887,0.998919,0.99891,0.999507,0.999409,1.00066,0.999095,0.998505,0.999347,1.00095,1.00154,1.00169,1.00424,1.00158,1.00985,1.00049,1.00393,0.997543,1.00125,1.00122,0.997761,1.00286,1.00052,1.00539,1.0007,1.00035,0.998976,1.00178,1.001,0.999227,0.997802,0.999395,1.00066,1.00003,1.00351,0.996813,0.997839,0.998642,0.999517,1.00795,1.00091,1.00636,1.00428,1.00498,1.00128,1.00454,1.00125,1.00635,1.00236,1.00086,1.00096,1.00411,1.00225,1.00069,1.00154,0.994428,1.00092,0.999512,1.00063,1.00044,1.00213,0.997107,1.00142,0.999602,1.00036,0.997925,0.999741,0.998569,0.996185,0.995778,0.997177,0.996617,0.995814,0.996779,0.993502,0.993026,0.994102,0.988046,0.98957,0.980138,0.975152,0.971225,0.980858,0.987712,0.983831,0.983548,0.983998,0.987962,0.988612,0.988791,0.989789,0.993097,0.998453,0.996859,0.996671,0.988122,0.99172,0.993501,0.999433,0.988708,0.993176,0.992796,0.99327,0.994333,0.994832,0.99718,0.990462,0.989148,0.985118,0.966644,0.982022,0.987027,0.985869,0.992533,0.98273,0.968799,0.987504,0.998188,0.98257,0.980224,0.980969,0.977243,0.98426,0.998622,0.997377,0.991823,1.001052,0.998372,0.996594,1.000031,0.992966,0.998296,1.001431,1.019975,1.015502,1.016604,1.009794,1.009756,1.003378,1.002197,1.004989,1.006336,1.009941,1.012868,1.022362,1.019417,1.015506,1.020806,1.015955,1.015777,1.01905,1.01955,1.024174,1.02316,1.031473,1.019086,1.013722,1.018335,1.024012,1.019473,1.0172,1.018489,1.023578,1.013987,1.01935,1.01683,1.02346,1.023316,1.020881,1.020091,1.020856,1.020558,1.018522,1.017495,1.017251,1.016782,1.017146,1.013376,1.009036,1.008297,1.00854,1.010522,1.009264,1.008717,1.00883,1.009438,1.007188,1.00649,1.006309,1.0027,1.000047,0.999826,0.999532,1.001003,1.001078,1.001943,1.000295,1.004217,1.003165,1.003979,1.003968,1.006482,1.003441,1.003264,1.000956,1.005453,1.007616,1.006978,1.004418,1.00854,1.008529,1.012046,1.015052,1.010847,1.009045,1.010067,1.006868,1.011416,1.01022,1.011617,1.011154,1.010583,1.008475,1.009525,1.005976,1.008822,1.00878,1.006598,1.010083,1.010707,1.009801,1.010961,1.009218,1.010947,1.01401,1.010557,1.011736,1.007622,1.007352,1.005638,1.007552,1.010339,1.012253,1.010852,0.998496,1.000349,1.000559,1.003026,1.008167,1.007502,1.005421,1.00701,1.003663,1.004601,1.008983,1.007853,1.003762,1.005609,1.007195,1.006739,1.005378,1.00121,1.010522,1.006307,1.004995,1.005918,1.005203,1.006657,1.006089,1.008323,1.005564,0.992808,0.991103,0.994751,0.993873,1.00037,1.006049,1.00215,1.001149,1.001222,1.000478,1.002276,0.999546,0.998015,1.001374,0.999281,1.001102,1.000759,0.995634,1.005109,1.000001,1.002776,0.99904,0.996773,0.99664,1.01061,1.003848,1.005497,1.001399,1.004428,1.003004,1.003458,1.009858,1.004945,1.00001,1.001285,1.001971,1.003473,1.003931,1.002115,0.999562,0.995063,1.005081,1.00367,1.00665,1.004727,1.002971,1.005629,1.005074,1.002928,1.001899,1.006155,1.00556,1.002959,1.004986,0.999952,1.002128,1.000227,1.002799,0.995817,0.996691,0.997842,0.999333,0.991819,0.985739,1.000664,0.998604,0.992487,0.996052,1.00288,1.005015,0.999929,1.001669,0.99741,1.00245,1.004626,1.00222,0.999782,0.996514,1.006676,0.998694,0.999995,1.008286,0.995924,1.006266,1.008852,1.002974,1.005038,1.000783,1.000396,0.997631,1.003048,1.003127,1.003877,0.998904,1.002236,1.000521,1.003176,1.00375,1.006068,1.001748,1.004277,1.005068,1.009972,0.998211,1.001961,0.997454,0.998742,0.999664,0.99765,0.998427,0.996607,0.993267,1.002768,1.002429,1.000918,1.003422,1.004276,1.000555,0.994472,1.00298,1.003907,1.002637,0.999559,1.001347,0.999137,0.996918,1.002594,1.00209,1.003744,1.004573,1.003085,1.002552,1.002481,1.001045,1.0034,1.005914,1.005253,1.002489,0.999806,1.002407,1.002317,1.001374,1.002235,1.003904,1.001626,1.004886,1.004889,1.002989,1.000951,1.002354,1.002634,1.002548,1.007158,1.006749,1.004431,1.010344,1.004628,1.005677,1.004109,1.006396,1.004245,1.004948,1.008841,1.001932,1.012087,1.008524,1.00612,1.005719,1.003237,1.012352,1.004475,1.004942,1.004195,1.00405,1.006127,1.004207,1.002739,1.006851,1.002886,1.004178,1.00449,1.002449,1.007428,1.002172,1.001595,1.004242,1.002855,1.002135,1.005853,1.006419,1.004101,1.004758,1.004447,1.004343,1.004743,1.003033,1.005732,1.002498,1.000189,1.002694,1.002438,1.001398,1.003175,1.005582,1.001369,1.006746,1.008471,1.012008,1.008968,1.00544,1.000411,1.003045,1.01313,1.017519,1.003114,1.009773,1.005027,1.00408,1.004521,1.001703,1.002481,1.001681,1.003135,1.007939,1.010072,1.003428,1.007412,1.006376,1.004253,1.005855,1.011923,1.005837,1.001751,1.006088,1.004616,1.003986,0.993339,1.006128,1.008569,1.005842,1.005758,1.003887,1.012136,1.008587,1.004661,1.003988,1.005803,1.000307,1.00421,1.006175,0.999679,0.999836,1.001565,1.004192,1.007472,1.006197,1.002903,1.001723,1.004253,1.006573,1.001462,1.000091,1.002478,1.003347,1.001821,0.999656,0.999231,1.002879,1.002741,0.998535,1.000688,1.001418,1.000595,0.998409,1.00297,1.002113,1.000504,1.0019,1.00076,1.002296,1.001452,1.000648,1.001216,1.000544,0.998913,1.001745,1.002838,0.997216,0.997751,0.999534,1.001473,1.00064,0.998423,1.002559,0.998579,1.000114,0.999128,0.999272,0.998474,1.000759,1.001324,1.002594,1.003138,1.001829,0.998017,0.9988,1.001454,1.002742,0.998413,0.997089,1.006368,1.000498,0.995,1.002497,1.000622,1.002522,0.99843,1.000182,1.009775,0.999048,1.001721,0.998806,1.053585,0.999629,1.001621,1.001987,0.997004,0.976145,0.974248,1.003193,0.997556,1.00095,0.999032,0.996812,1.000473,0.998594,0.998483,1.013318,0.999704,1.001963,1.006534,1.003027,1.004746,1.000717,1.001712,1.004113,1.00285,0.992833,0.998629,0.999124,1.003465,1.000793,0.998116,1.008169,1.000327,0.996806,0.999529,1.002719,1.006742,1.000777,1.007704,1.004804,1.006456,1.000911,0.997692,1.007932,1.00468,1.000312,1.004091,1.007822,1.008123,1.005112,1.008137,1.003478,1.003508,1.006109,1.000856,1.017931,1.002895,1.003764,1.004818,1.001055,0.998364,1.000735,1.000232,0.99886,1.003972,1.000194,1.00159,1.001351,0.996019,0.998948,1.002001,1.002287,1.005538,1.001089,1.003199,0.998008,1.004554,1.001153,1.003355,1.000403,0.998033,1.001121,0.997524,1.000006,1.002509,1.003026,0.999303,1.003014,1.002137,1.003469,1.001436,1.000601,1.003115,1.002078,1.005447,1.002178,1.000333,1.000372,1.002018,0.993829,0.998884,1.001363,0.997925,1.003038,1.000303,1.000102,0.998956,1.004031,1.002515,1.001984,0.999904,1.001561,1.015718,0.999521,1.001078,0.998899,1.000236,0.999207,0.99986,1.003075,0.999986,1.001052,0.998634,0.999552,0.999046,0.999444,0.99998,0.999616,0.998795,0.998352,1.000602,0.998894,1.000877,0.998186,0.998993,0.998062,0.998871,1.001097,1.000854,1.00254,1.001863,1.000141,0.997013,0.997851,1.001414,1.000399,1.003089,1.000175,1.002846,1.000164,1.00317,1.001059,1.003691,1.013791,1.02021,1.001024,1.001032,1.001881,1.000111,1.00272,1.002408,1.000409,1.004549,1.000956,1.002345,1.001976,1.002365,1.001853,1.002206,1.002036,1.002824,1.001173,1.003191,1.003957,1.001828,1.005495,1.003686,1.000151,1.002838,1.000537,1.001025,1.002102,1.001457,1.001517,1.001307,0.999213,1.001289,1.002487,1.003444,1.001878,0.999502,1.002017,1.002654,1.003263,1.001444,1.000923,1.001268,1.001468,1.001832,1.001486,1.001121,1.000854,1.001364,1.000699,1.001049,1.001108,1.001359,1.000866,1.000448,1.000707,1.001252,1.00118,1.000884,1.000734,1.001302,1.001111,1.001007,1.000796,1.001047,1.000697,1.000784,1.000853,1.000985,1.001834,1.001091,1.000657,1.000909,1.000721,1.000958,1.000223,1.00034,1.000349,1.000904,1.0002,1.000379,1.000523,1.000552,1.001079,1.00042,1.000296,1.001576,1.000846,1.000653,1.001127,1.000985,1.000509,1.000345,1.000288,1.000647,1.000412,1.00084,1.000399,1.000781,1.000427,0.998874,0.999203,1.000092,0.999808,1.000053,1.002035,1.0012,1.001001,1.00089,1.000377,1.001323,1.000671,1.00084,1.000237,1.000545,1.001203,1.000571,0.999706,1.000384,1.000253,1.000458,1.000464,0.999952,0.999932,1.000917,0.999979,0.999838,1.000868,1.000499,0.999643,0.999827,0.999641,0.999426,0.999931,1.000168,0.998481,0.998854,0.998603,0.99859,1.000275,1.000598,1.001916,1.0006,1.000514,1.000128,1.002202,1.001528,1.0004,1.000045,1.002947,1.000223,1.000587,1.000414,1.000017,0.998964,0.999845,1.000195,1.000414,1.000804,1.000436,1.000686,0.999696,1.00135,1.000555,1.001417,0.999971,1.001081,1.001764,1.001543,1.000486,1.001243,1.000808,1.000645,1.001427,1.001013,1.000804,1.000131,1.001129,1.001211,1.001044,1.001232,1.000722,1.000367,1.001692,1.000828,1.000746,1.00025,1.000403,1.00037,1.000019,1.000201,1.000068,1.000332,1.000111,1.000032,1.000757,1.000149,0.999994,1.001178,1.002115,1.000409,1.001022,1.000417,1.000074,1.000819,1.00019,1.000318,1.000432,1.000668,1.000526,1.000583,1.000343,0.999845,0.999791,1.000374,1.000058,0.999083,1.000925,1.002632,1.00223,1.00128,1.001811,1.001195,1.001301,1.001016,1.001222,1.000601,1.000607,0.999759,1.000896,1.00002,1.000464,1.000576,1.003085,1.003402,1.000254,1.00168,1.001855,1.000167,1.001098,1.000469,1.002177,0.999937,0.999275,1.00159,1.000877,1.002345,1.01153,1.000104,0.999865,0.999938,0.999932,1.00009,1.000162,0.999909,0.999934,1.000042,1.000062,1.000052,0.999966,1.000009,1.000111,1.000132,1.000165,0.999951,0.999875,1.000169,1.000166,1.000078,1.000058,1.000137,0.999967,0.999993,0.999868,0.999965,0.999823,0.999975,0.999802,1.00068,1.001616,1.001852,1.001888,1.001555,1.001674,1.001472,1.001149,1.001766,1.000991,1.000481,1.000392,1.000063,1.000533,1.000109,1.00055,1.000571,1.001038,1.000313,1.00084,1.000789,1.00119,1.000572,1.000738,1.000511,1.00114,0.999733,1.000626,1.000377,1.000023,1.000745,1.001749,1.001451,1.000875,1.000089,1.001002,1.000746,1.000149,0.999845,1.001214,1.000642,0.999928,1.000024,1.000216,1.000226,1.000033,0.999956,0.999501,1.000667,1.00009,1.000708,0.9999,0.999639,0.99998,1.000225,1.000271,0.9999,1.000135,0.999947,1.000373,1.000552,1.000621,1.000093,1.000297,1.000266,1.000217,1.000326,1.000698,1.000163,1.000254,1.000132,1.000117,1.000278,1.000283,1.000272,1.000341,1.00054,1.000304,1.000094,1.000097,1.000382,1.000386,1.000249,1.000153,1.000315,1.000535,1.000542,1.00026,1.000586,1.000643,1.000438,1.000219,1.000474,0.999685,1.000668,1.00071,1.000879,1.000801,1.000263,1.000359,1.00043,1.000355,1.000627,1.001225,1.000508,1.000529,1.000321,1.000281,1.00022,1.000384,1.000261,0.999872,1.000493,1.00024,1.000146,1.00032,1.000979,0.999698,1.000235,1.000481,1.00046,1.000451,0.999648,0.999473,1.000442,0.999916,1.000088,1.00004,1.000508,1.00082,1.000989,1.000725,1.000513,1.000298,1.000282,1.000155,1.000178,1.000284,1.000201,0.999838,1.00044,1.000317,1.000375,1.000116,1.000046,1.001018,1.000696,1.000096,1.000097,1.000034,0.999152,1.00004,1.00028,1.000019,1.000117,0.99994,1.000022,0.999879,1.000823,1.000223,0.999375,1.000228,1.000791,1.000484,1.000049,1.000518,1.000376,1.000291,1.000815,1.000678,1.000857,1.001553,1.001454,1.001517,1.000443,1.000202,1.000097,1.000644,1.000114,1.000848,1.000367,1.001502,1.000675,1.000063,0.99997,1.00082,1.000362,1.000873,1.000451,1.000125,1.000697,0.999601,1.000367,1.001099,1.000125,1.000526,1.000286,1.000255,1.000174,1.000617,1.000007,1.00063,1.001362,1.000972,0.999366,1.000882,1.00174,1.000556,1.001051,1.000131,1.000648,1.000402,1.00026,1.000838,1.000183,0.999988,0.998971,1.000397,1.000332,1.000388,1.001202,0.999923,1.000449,0.999944,1.001168,1.000294,1.001036,1.000189,1.0005,1.00046,1.000165,1.000208,1.000122,1.000195,1.000252,1.000097,1.000257,1.000181,1.000362,1.00029,1.000405,1.000283,1.000642,1.000417,1.000368,1.00042,1.00049,1.000257,1.000177,1.000158,1.000491,1.000439,1.000604,1.00063,1.000344,1.000345,1.000362,1.000341,1.000485,1.000426,1.00038,1.000386,1.000563,1.000595,1.000679,1.000555,1.000619,1.000744,1.000726,1.000722,1.000601,1.000456,1.000513,1.000585,1.000397,1.000515,1.000559,1.000576,1.000408,1.000502,1.000704,1.000498,1.000636,1.000474,1.000397,1.000491,1.000351,1.000452,1.000467,1.000017,1.000197,1.000275,1.000244,1.000123,1.000282,1.000294,1.000565,1.0002,1.000081,1.000199,1.000219,1.000334,1.000435,1.0005,1.000483,1.00051,1.000427,1.000347,1.000337,1.000409,1.0006,1.000406,1.000361,1.000376,1.000412,1.00045,1.000278,1.000304,1.000358,1.000344,1.000273,1.000228,1.000194,1.000155,1.000262,1.000288,1.000372,1.000292,1.000348,1.000435,1.000275,1.000127,1.000239,1.000296,1.000314,1.000218,1.000343,1.000202,1.000157,1.000234,1.000228,1.000344,1.000145,1.000073,1.000153,1.000191,1.00002,1.000155,1.000113,0.999955,1.000045,1.000038,0.999988,0.999982,0.999921,0.999854,0.999909,0.999791,0.995872,0.997609,0.998239,0.99878,0.999069,0.998779,0.998909,0.998802,0.998971,0.998818,0.998793,0.999066,0.999088,0.999107,0.998976,0.998907,0.998863,0.999002,0.999178,0.999376,0.999388,0.99926,0.999317,0.99917,0.999313,0.999296,0.999311,0.999414,0.999262,0.999314,0.99918,0.999025,0.99908,0.998594,0.998954,0.998942,0.99893,0.999036,0.998667,0.998969,0.998957,0.999094,0.999095,0.99928,0.999325,0.999548,0.999398,0.999092,0.998832,0.998884,0.998819,0.998867,0.99896,0.999078,0.999109,0.999092,0.999098,0.999446,0.999418,0.999538,0.999465,0.999225,0.999343,0.999384,0.999407,0.999706,0.999774,0.999734,0.999777,1.000092,1.000068,1.00008,1.000052,1.000036,1.000035,1.000062,1.000047,1.000274,1.0002,1.000311,1.000289,1.000328,1.000204,1.000159,1.000204,1.000133,1.000042,1.000125,1.000144,1.000177,1.000209,1.000253,1.000406,1.000336,1.000376,1.000271,1.000174,1.000115,1.000073,0.999999,1.00006,0.999974,0.999994,0.999984,0.999992,1.000039,1.00008,1.000043,1.000019,1.000028,1.000032,1.000081,1.000016,1.00001,1.000089,1.000074,1.000061,1.000038,1.000049,1.000109,1.000102,1.000235,1.000281,1.000276,1.000204,1.000025,1.000142,1.000003,0.999981,1.000098,1.000023,1.000106,1.00006,1.000086,0.999984,0.999981,1.00005,1.000055,0.99999,0.99998,0.999976,1.000079,1.000049,1.000043,1.00006,1.000089,1.000251,1.000109,1.000143,1.000122,1.000083,1.000158,1.000018,0.999901,0.999992,1.000079,1.000074,1.000087,1.000057,1.000069,1.000106,1.00006,0.999994,1.000123,1.000085,1.000077,1.000057,1.000208,1.000199,1.000092,1.000144],\"type\":\"scatter\"}],                        {\"template\":{\"data\":{\"barpolar\":[{\"marker\":{\"line\":{\"color\":\"#E5ECF6\",\"width\":0.5},\"pattern\":{\"fillmode\":\"overlay\",\"size\":10,\"solidity\":0.2}},\"type\":\"barpolar\"}],\"bar\":[{\"error_x\":{\"color\":\"#2a3f5f\"},\"error_y\":{\"color\":\"#2a3f5f\"},\"marker\":{\"line\":{\"color\":\"#E5ECF6\",\"width\":0.5},\"pattern\":{\"fillmode\":\"overlay\",\"size\":10,\"solidity\":0.2}},\"type\":\"bar\"}],\"carpet\":[{\"aaxis\":{\"endlinecolor\":\"#2a3f5f\",\"gridcolor\":\"white\",\"linecolor\":\"white\",\"minorgridcolor\":\"white\",\"startlinecolor\":\"#2a3f5f\"},\"baxis\":{\"endlinecolor\":\"#2a3f5f\",\"gridcolor\":\"white\",\"linecolor\":\"white\",\"minorgridcolor\":\"white\",\"startlinecolor\":\"#2a3f5f\"},\"type\":\"carpet\"}],\"choropleth\":[{\"colorbar\":{\"outlinewidth\":0,\"ticks\":\"\"},\"type\":\"choropleth\"}],\"contourcarpet\":[{\"colorbar\":{\"outlinewidth\":0,\"ticks\":\"\"},\"type\":\"contourcarpet\"}],\"contour\":[{\"colorbar\":{\"outlinewidth\":0,\"ticks\":\"\"},\"colorscale\":[[0.0,\"#0d0887\"],[0.1111111111111111,\"#46039f\"],[0.2222222222222222,\"#7201a8\"],[0.3333333333333333,\"#9c179e\"],[0.4444444444444444,\"#bd3786\"],[0.5555555555555556,\"#d8576b\"],[0.6666666666666666,\"#ed7953\"],[0.7777777777777778,\"#fb9f3a\"],[0.8888888888888888,\"#fdca26\"],[1.0,\"#f0f921\"]],\"type\":\"contour\"}],\"heatmapgl\":[{\"colorbar\":{\"outlinewidth\":0,\"ticks\":\"\"},\"colorscale\":[[0.0,\"#0d0887\"],[0.1111111111111111,\"#46039f\"],[0.2222222222222222,\"#7201a8\"],[0.3333333333333333,\"#9c179e\"],[0.4444444444444444,\"#bd3786\"],[0.5555555555555556,\"#d8576b\"],[0.6666666666666666,\"#ed7953\"],[0.7777777777777778,\"#fb9f3a\"],[0.8888888888888888,\"#fdca26\"],[1.0,\"#f0f921\"]],\"type\":\"heatmapgl\"}],\"heatmap\":[{\"colorbar\":{\"outlinewidth\":0,\"ticks\":\"\"},\"colorscale\":[[0.0,\"#0d0887\"],[0.1111111111111111,\"#46039f\"],[0.2222222222222222,\"#7201a8\"],[0.3333333333333333,\"#9c179e\"],[0.4444444444444444,\"#bd3786\"],[0.5555555555555556,\"#d8576b\"],[0.6666666666666666,\"#ed7953\"],[0.7777777777777778,\"#fb9f3a\"],[0.8888888888888888,\"#fdca26\"],[1.0,\"#f0f921\"]],\"type\":\"heatmap\"}],\"histogram2dcontour\":[{\"colorbar\":{\"outlinewidth\":0,\"ticks\":\"\"},\"colorscale\":[[0.0,\"#0d0887\"],[0.1111111111111111,\"#46039f\"],[0.2222222222222222,\"#7201a8\"],[0.3333333333333333,\"#9c179e\"],[0.4444444444444444,\"#bd3786\"],[0.5555555555555556,\"#d8576b\"],[0.6666666666666666,\"#ed7953\"],[0.7777777777777778,\"#fb9f3a\"],[0.8888888888888888,\"#fdca26\"],[1.0,\"#f0f921\"]],\"type\":\"histogram2dcontour\"}],\"histogram2d\":[{\"colorbar\":{\"outlinewidth\":0,\"ticks\":\"\"},\"colorscale\":[[0.0,\"#0d0887\"],[0.1111111111111111,\"#46039f\"],[0.2222222222222222,\"#7201a8\"],[0.3333333333333333,\"#9c179e\"],[0.4444444444444444,\"#bd3786\"],[0.5555555555555556,\"#d8576b\"],[0.6666666666666666,\"#ed7953\"],[0.7777777777777778,\"#fb9f3a\"],[0.8888888888888888,\"#fdca26\"],[1.0,\"#f0f921\"]],\"type\":\"histogram2d\"}],\"histogram\":[{\"marker\":{\"pattern\":{\"fillmode\":\"overlay\",\"size\":10,\"solidity\":0.2}},\"type\":\"histogram\"}],\"mesh3d\":[{\"colorbar\":{\"outlinewidth\":0,\"ticks\":\"\"},\"type\":\"mesh3d\"}],\"parcoords\":[{\"line\":{\"colorbar\":{\"outlinewidth\":0,\"ticks\":\"\"}},\"type\":\"parcoords\"}],\"pie\":[{\"automargin\":true,\"type\":\"pie\"}],\"scatter3d\":[{\"line\":{\"colorbar\":{\"outlinewidth\":0,\"ticks\":\"\"}},\"marker\":{\"colorbar\":{\"outlinewidth\":0,\"ticks\":\"\"}},\"type\":\"scatter3d\"}],\"scattercarpet\":[{\"marker\":{\"colorbar\":{\"outlinewidth\":0,\"ticks\":\"\"}},\"type\":\"scattercarpet\"}],\"scattergeo\":[{\"marker\":{\"colorbar\":{\"outlinewidth\":0,\"ticks\":\"\"}},\"type\":\"scattergeo\"}],\"scattergl\":[{\"marker\":{\"colorbar\":{\"outlinewidth\":0,\"ticks\":\"\"}},\"type\":\"scattergl\"}],\"scattermapbox\":[{\"marker\":{\"colorbar\":{\"outlinewidth\":0,\"ticks\":\"\"}},\"type\":\"scattermapbox\"}],\"scatterpolargl\":[{\"marker\":{\"colorbar\":{\"outlinewidth\":0,\"ticks\":\"\"}},\"type\":\"scatterpolargl\"}],\"scatterpolar\":[{\"marker\":{\"colorbar\":{\"outlinewidth\":0,\"ticks\":\"\"}},\"type\":\"scatterpolar\"}],\"scatter\":[{\"marker\":{\"colorbar\":{\"outlinewidth\":0,\"ticks\":\"\"}},\"type\":\"scatter\"}],\"scatterternary\":[{\"marker\":{\"colorbar\":{\"outlinewidth\":0,\"ticks\":\"\"}},\"type\":\"scatterternary\"}],\"surface\":[{\"colorbar\":{\"outlinewidth\":0,\"ticks\":\"\"},\"colorscale\":[[0.0,\"#0d0887\"],[0.1111111111111111,\"#46039f\"],[0.2222222222222222,\"#7201a8\"],[0.3333333333333333,\"#9c179e\"],[0.4444444444444444,\"#bd3786\"],[0.5555555555555556,\"#d8576b\"],[0.6666666666666666,\"#ed7953\"],[0.7777777777777778,\"#fb9f3a\"],[0.8888888888888888,\"#fdca26\"],[1.0,\"#f0f921\"]],\"type\":\"surface\"}],\"table\":[{\"cells\":{\"fill\":{\"color\":\"#EBF0F8\"},\"line\":{\"color\":\"white\"}},\"header\":{\"fill\":{\"color\":\"#C8D4E3\"},\"line\":{\"color\":\"white\"}},\"type\":\"table\"}]},\"layout\":{\"annotationdefaults\":{\"arrowcolor\":\"#2a3f5f\",\"arrowhead\":0,\"arrowwidth\":1},\"autotypenumbers\":\"strict\",\"coloraxis\":{\"colorbar\":{\"outlinewidth\":0,\"ticks\":\"\"}},\"colorscale\":{\"diverging\":[[0,\"#8e0152\"],[0.1,\"#c51b7d\"],[0.2,\"#de77ae\"],[0.3,\"#f1b6da\"],[0.4,\"#fde0ef\"],[0.5,\"#f7f7f7\"],[0.6,\"#e6f5d0\"],[0.7,\"#b8e186\"],[0.8,\"#7fbc41\"],[0.9,\"#4d9221\"],[1,\"#276419\"]],\"sequential\":[[0.0,\"#0d0887\"],[0.1111111111111111,\"#46039f\"],[0.2222222222222222,\"#7201a8\"],[0.3333333333333333,\"#9c179e\"],[0.4444444444444444,\"#bd3786\"],[0.5555555555555556,\"#d8576b\"],[0.6666666666666666,\"#ed7953\"],[0.7777777777777778,\"#fb9f3a\"],[0.8888888888888888,\"#fdca26\"],[1.0,\"#f0f921\"]],\"sequentialminus\":[[0.0,\"#0d0887\"],[0.1111111111111111,\"#46039f\"],[0.2222222222222222,\"#7201a8\"],[0.3333333333333333,\"#9c179e\"],[0.4444444444444444,\"#bd3786\"],[0.5555555555555556,\"#d8576b\"],[0.6666666666666666,\"#ed7953\"],[0.7777777777777778,\"#fb9f3a\"],[0.8888888888888888,\"#fdca26\"],[1.0,\"#f0f921\"]]},\"colorway\":[\"#636efa\",\"#EF553B\",\"#00cc96\",\"#ab63fa\",\"#FFA15A\",\"#19d3f3\",\"#FF6692\",\"#B6E880\",\"#FF97FF\",\"#FECB52\"],\"font\":{\"color\":\"#2a3f5f\"},\"geo\":{\"bgcolor\":\"white\",\"lakecolor\":\"white\",\"landcolor\":\"#E5ECF6\",\"showlakes\":true,\"showland\":true,\"subunitcolor\":\"white\"},\"hoverlabel\":{\"align\":\"left\"},\"hovermode\":\"closest\",\"mapbox\":{\"style\":\"light\"},\"paper_bgcolor\":\"white\",\"plot_bgcolor\":\"#E5ECF6\",\"polar\":{\"angularaxis\":{\"gridcolor\":\"white\",\"linecolor\":\"white\",\"ticks\":\"\"},\"bgcolor\":\"#E5ECF6\",\"radialaxis\":{\"gridcolor\":\"white\",\"linecolor\":\"white\",\"ticks\":\"\"}},\"scene\":{\"xaxis\":{\"backgroundcolor\":\"#E5ECF6\",\"gridcolor\":\"white\",\"gridwidth\":2,\"linecolor\":\"white\",\"showbackground\":true,\"ticks\":\"\",\"zerolinecolor\":\"white\"},\"yaxis\":{\"backgroundcolor\":\"#E5ECF6\",\"gridcolor\":\"white\",\"gridwidth\":2,\"linecolor\":\"white\",\"showbackground\":true,\"ticks\":\"\",\"zerolinecolor\":\"white\"},\"zaxis\":{\"backgroundcolor\":\"#E5ECF6\",\"gridcolor\":\"white\",\"gridwidth\":2,\"linecolor\":\"white\",\"showbackground\":true,\"ticks\":\"\",\"zerolinecolor\":\"white\"}},\"shapedefaults\":{\"line\":{\"color\":\"#2a3f5f\"}},\"ternary\":{\"aaxis\":{\"gridcolor\":\"white\",\"linecolor\":\"white\",\"ticks\":\"\"},\"baxis\":{\"gridcolor\":\"white\",\"linecolor\":\"white\",\"ticks\":\"\"},\"bgcolor\":\"#E5ECF6\",\"caxis\":{\"gridcolor\":\"white\",\"linecolor\":\"white\",\"ticks\":\"\"}},\"title\":{\"x\":0.05},\"xaxis\":{\"automargin\":true,\"gridcolor\":\"white\",\"linecolor\":\"white\",\"ticks\":\"\",\"title\":{\"standoff\":15},\"zerolinecolor\":\"white\",\"zerolinewidth\":2},\"yaxis\":{\"automargin\":true,\"gridcolor\":\"white\",\"linecolor\":\"white\",\"ticks\":\"\",\"title\":{\"standoff\":15},\"zerolinecolor\":\"white\",\"zerolinewidth\":2}}}},                        {\"responsive\": true}                    ).then(function(){\n",
              "                            \n",
              "var gd = document.getElementById('321b5fe3-ad40-4c0f-8eae-0e7ba9c0ad2c');\n",
              "var x = new MutationObserver(function (mutations, observer) {{\n",
              "        var display = window.getComputedStyle(gd).display;\n",
              "        if (!display || display === 'none') {{\n",
              "            console.log([gd, 'removed!']);\n",
              "            Plotly.purge(gd);\n",
              "            observer.disconnect();\n",
              "        }}\n",
              "}});\n",
              "\n",
              "// Listen for the removal of the full notebook cells\n",
              "var notebookContainer = gd.closest('#notebook-container');\n",
              "if (notebookContainer) {{\n",
              "    x.observe(notebookContainer, {childList: true});\n",
              "}}\n",
              "\n",
              "// Listen for the clearing of the current output cell\n",
              "var outputEl = gd.closest('.output');\n",
              "if (outputEl) {{\n",
              "    x.observe(outputEl, {childList: true});\n",
              "}}\n",
              "\n",
              "                        })                };                            </script>        </div>\n",
              "</body>\n",
              "</html>"
            ]
          },
          "metadata": {}
        }
      ]
    },
    {
      "cell_type": "code",
      "source": [
        "df_usdt['Date'] = pd.to_datetime(df_usdt['Date'])\n",
        "df_eth['Date'] = pd.to_datetime(df_eth['Date'])\n",
        "df_btc['Date'] = pd.to_datetime(df_btc['Date'])"
      ],
      "metadata": {
        "id": "sL0kEjFkhfff"
      },
      "execution_count": 6,
      "outputs": []
    },
    {
      "cell_type": "code",
      "source": [
        "monthvise_high = df_btc.groupby(df_btc['Date'].dt.strftime('%Y'))['High'].max()\n",
        "#monthvise_high = monthvise_high.reindex(list(range(len(monthvise_high))), axis=0)\n",
        "\n",
        "monthvise_low = df_btc.groupby(df_btc['Date'].dt.strftime('%Y'))['Low'].min()\n",
        "#monthvise_low = monthvise_low.reindex(list(range(len(monthvise_high))), axis=0)\n",
        "\n",
        "fig = go.Figure()\n",
        "fig.add_trace(go.Bar(\n",
        "    x=monthvise_high.index,\n",
        "    y=monthvise_high,\n",
        "    name='Stock high Price',\n",
        "    marker_color='rgb(0, 153, 204)'\n",
        "))\n",
        "fig.add_trace(go.Bar(\n",
        "    x=monthvise_low.index,\n",
        "    y=monthvise_low,\n",
        "    name='Stock low Price',\n",
        "    marker_color='rgb(255, 128, 0)'\n",
        "))\n",
        "\n",
        "fig.update_layout(barmode='group', title='BTC yearwise High and Low stock price')\n",
        "fig.show()"
      ],
      "metadata": {
        "colab": {
          "base_uri": "https://localhost:8080/",
          "height": 542
        },
        "id": "1Eqev8RGUq1_",
        "outputId": "22691c3f-26bc-43fd-c583-41417970e595"
      },
      "execution_count": 7,
      "outputs": [
        {
          "output_type": "display_data",
          "data": {
            "text/html": [
              "<html>\n",
              "<head><meta charset=\"utf-8\" /></head>\n",
              "<body>\n",
              "    <div>            <script src=\"https://cdnjs.cloudflare.com/ajax/libs/mathjax/2.7.5/MathJax.js?config=TeX-AMS-MML_SVG\"></script><script type=\"text/javascript\">if (window.MathJax) {MathJax.Hub.Config({SVG: {font: \"STIX-Web\"}});}</script>                <script type=\"text/javascript\">window.PlotlyConfig = {MathJaxConfig: 'local'};</script>\n",
              "        <script src=\"https://cdn.plot.ly/plotly-2.8.3.min.js\"></script>                <div id=\"b5fe1e11-bbf6-4b9c-ad36-e426a54cbdf1\" class=\"plotly-graph-div\" style=\"height:525px; width:100%;\"></div>            <script type=\"text/javascript\">                                    window.PLOTLYENV=window.PLOTLYENV || {};                                    if (document.getElementById(\"b5fe1e11-bbf6-4b9c-ad36-e426a54cbdf1\")) {                    Plotly.newPlot(                        \"b5fe1e11-bbf6-4b9c-ad36-e426a54cbdf1\",                        [{\"marker\":{\"color\":\"rgb(0, 153, 204)\"},\"name\":\"Stock high Price\",\"x\":[\"2014\",\"2015\",\"2016\",\"2017\",\"2018\",\"2019\",\"2020\",\"2021\",\"2022\"],\"y\":[410.199005,495.562012,979.396973,20089.0,17712.400391,13796.489258,29244.876953,68789.625,48086.835938],\"type\":\"bar\"},{\"marker\":{\"color\":\"rgb(255, 128, 0)\"},\"name\":\"Stock low Price\",\"x\":[\"2014\",\"2015\",\"2016\",\"2017\",\"2018\",\"2019\",\"2020\",\"2021\",\"2022\"],\"y\":[304.231995,171.509995,354.914001,755.755981,3191.303467,3391.023682,4106.980957,28722.755859,17708.623047],\"type\":\"bar\"}],                        {\"template\":{\"data\":{\"bar\":[{\"error_x\":{\"color\":\"#2a3f5f\"},\"error_y\":{\"color\":\"#2a3f5f\"},\"marker\":{\"line\":{\"color\":\"#E5ECF6\",\"width\":0.5},\"pattern\":{\"fillmode\":\"overlay\",\"size\":10,\"solidity\":0.2}},\"type\":\"bar\"}],\"barpolar\":[{\"marker\":{\"line\":{\"color\":\"#E5ECF6\",\"width\":0.5},\"pattern\":{\"fillmode\":\"overlay\",\"size\":10,\"solidity\":0.2}},\"type\":\"barpolar\"}],\"carpet\":[{\"aaxis\":{\"endlinecolor\":\"#2a3f5f\",\"gridcolor\":\"white\",\"linecolor\":\"white\",\"minorgridcolor\":\"white\",\"startlinecolor\":\"#2a3f5f\"},\"baxis\":{\"endlinecolor\":\"#2a3f5f\",\"gridcolor\":\"white\",\"linecolor\":\"white\",\"minorgridcolor\":\"white\",\"startlinecolor\":\"#2a3f5f\"},\"type\":\"carpet\"}],\"choropleth\":[{\"colorbar\":{\"outlinewidth\":0,\"ticks\":\"\"},\"type\":\"choropleth\"}],\"contour\":[{\"colorbar\":{\"outlinewidth\":0,\"ticks\":\"\"},\"colorscale\":[[0.0,\"#0d0887\"],[0.1111111111111111,\"#46039f\"],[0.2222222222222222,\"#7201a8\"],[0.3333333333333333,\"#9c179e\"],[0.4444444444444444,\"#bd3786\"],[0.5555555555555556,\"#d8576b\"],[0.6666666666666666,\"#ed7953\"],[0.7777777777777778,\"#fb9f3a\"],[0.8888888888888888,\"#fdca26\"],[1.0,\"#f0f921\"]],\"type\":\"contour\"}],\"contourcarpet\":[{\"colorbar\":{\"outlinewidth\":0,\"ticks\":\"\"},\"type\":\"contourcarpet\"}],\"heatmap\":[{\"colorbar\":{\"outlinewidth\":0,\"ticks\":\"\"},\"colorscale\":[[0.0,\"#0d0887\"],[0.1111111111111111,\"#46039f\"],[0.2222222222222222,\"#7201a8\"],[0.3333333333333333,\"#9c179e\"],[0.4444444444444444,\"#bd3786\"],[0.5555555555555556,\"#d8576b\"],[0.6666666666666666,\"#ed7953\"],[0.7777777777777778,\"#fb9f3a\"],[0.8888888888888888,\"#fdca26\"],[1.0,\"#f0f921\"]],\"type\":\"heatmap\"}],\"heatmapgl\":[{\"colorbar\":{\"outlinewidth\":0,\"ticks\":\"\"},\"colorscale\":[[0.0,\"#0d0887\"],[0.1111111111111111,\"#46039f\"],[0.2222222222222222,\"#7201a8\"],[0.3333333333333333,\"#9c179e\"],[0.4444444444444444,\"#bd3786\"],[0.5555555555555556,\"#d8576b\"],[0.6666666666666666,\"#ed7953\"],[0.7777777777777778,\"#fb9f3a\"],[0.8888888888888888,\"#fdca26\"],[1.0,\"#f0f921\"]],\"type\":\"heatmapgl\"}],\"histogram\":[{\"marker\":{\"pattern\":{\"fillmode\":\"overlay\",\"size\":10,\"solidity\":0.2}},\"type\":\"histogram\"}],\"histogram2d\":[{\"colorbar\":{\"outlinewidth\":0,\"ticks\":\"\"},\"colorscale\":[[0.0,\"#0d0887\"],[0.1111111111111111,\"#46039f\"],[0.2222222222222222,\"#7201a8\"],[0.3333333333333333,\"#9c179e\"],[0.4444444444444444,\"#bd3786\"],[0.5555555555555556,\"#d8576b\"],[0.6666666666666666,\"#ed7953\"],[0.7777777777777778,\"#fb9f3a\"],[0.8888888888888888,\"#fdca26\"],[1.0,\"#f0f921\"]],\"type\":\"histogram2d\"}],\"histogram2dcontour\":[{\"colorbar\":{\"outlinewidth\":0,\"ticks\":\"\"},\"colorscale\":[[0.0,\"#0d0887\"],[0.1111111111111111,\"#46039f\"],[0.2222222222222222,\"#7201a8\"],[0.3333333333333333,\"#9c179e\"],[0.4444444444444444,\"#bd3786\"],[0.5555555555555556,\"#d8576b\"],[0.6666666666666666,\"#ed7953\"],[0.7777777777777778,\"#fb9f3a\"],[0.8888888888888888,\"#fdca26\"],[1.0,\"#f0f921\"]],\"type\":\"histogram2dcontour\"}],\"mesh3d\":[{\"colorbar\":{\"outlinewidth\":0,\"ticks\":\"\"},\"type\":\"mesh3d\"}],\"parcoords\":[{\"line\":{\"colorbar\":{\"outlinewidth\":0,\"ticks\":\"\"}},\"type\":\"parcoords\"}],\"pie\":[{\"automargin\":true,\"type\":\"pie\"}],\"scatter\":[{\"marker\":{\"colorbar\":{\"outlinewidth\":0,\"ticks\":\"\"}},\"type\":\"scatter\"}],\"scatter3d\":[{\"line\":{\"colorbar\":{\"outlinewidth\":0,\"ticks\":\"\"}},\"marker\":{\"colorbar\":{\"outlinewidth\":0,\"ticks\":\"\"}},\"type\":\"scatter3d\"}],\"scattercarpet\":[{\"marker\":{\"colorbar\":{\"outlinewidth\":0,\"ticks\":\"\"}},\"type\":\"scattercarpet\"}],\"scattergeo\":[{\"marker\":{\"colorbar\":{\"outlinewidth\":0,\"ticks\":\"\"}},\"type\":\"scattergeo\"}],\"scattergl\":[{\"marker\":{\"colorbar\":{\"outlinewidth\":0,\"ticks\":\"\"}},\"type\":\"scattergl\"}],\"scattermapbox\":[{\"marker\":{\"colorbar\":{\"outlinewidth\":0,\"ticks\":\"\"}},\"type\":\"scattermapbox\"}],\"scatterpolar\":[{\"marker\":{\"colorbar\":{\"outlinewidth\":0,\"ticks\":\"\"}},\"type\":\"scatterpolar\"}],\"scatterpolargl\":[{\"marker\":{\"colorbar\":{\"outlinewidth\":0,\"ticks\":\"\"}},\"type\":\"scatterpolargl\"}],\"scatterternary\":[{\"marker\":{\"colorbar\":{\"outlinewidth\":0,\"ticks\":\"\"}},\"type\":\"scatterternary\"}],\"surface\":[{\"colorbar\":{\"outlinewidth\":0,\"ticks\":\"\"},\"colorscale\":[[0.0,\"#0d0887\"],[0.1111111111111111,\"#46039f\"],[0.2222222222222222,\"#7201a8\"],[0.3333333333333333,\"#9c179e\"],[0.4444444444444444,\"#bd3786\"],[0.5555555555555556,\"#d8576b\"],[0.6666666666666666,\"#ed7953\"],[0.7777777777777778,\"#fb9f3a\"],[0.8888888888888888,\"#fdca26\"],[1.0,\"#f0f921\"]],\"type\":\"surface\"}],\"table\":[{\"cells\":{\"fill\":{\"color\":\"#EBF0F8\"},\"line\":{\"color\":\"white\"}},\"header\":{\"fill\":{\"color\":\"#C8D4E3\"},\"line\":{\"color\":\"white\"}},\"type\":\"table\"}]},\"layout\":{\"annotationdefaults\":{\"arrowcolor\":\"#2a3f5f\",\"arrowhead\":0,\"arrowwidth\":1},\"autotypenumbers\":\"strict\",\"coloraxis\":{\"colorbar\":{\"outlinewidth\":0,\"ticks\":\"\"}},\"colorscale\":{\"diverging\":[[0,\"#8e0152\"],[0.1,\"#c51b7d\"],[0.2,\"#de77ae\"],[0.3,\"#f1b6da\"],[0.4,\"#fde0ef\"],[0.5,\"#f7f7f7\"],[0.6,\"#e6f5d0\"],[0.7,\"#b8e186\"],[0.8,\"#7fbc41\"],[0.9,\"#4d9221\"],[1,\"#276419\"]],\"sequential\":[[0.0,\"#0d0887\"],[0.1111111111111111,\"#46039f\"],[0.2222222222222222,\"#7201a8\"],[0.3333333333333333,\"#9c179e\"],[0.4444444444444444,\"#bd3786\"],[0.5555555555555556,\"#d8576b\"],[0.6666666666666666,\"#ed7953\"],[0.7777777777777778,\"#fb9f3a\"],[0.8888888888888888,\"#fdca26\"],[1.0,\"#f0f921\"]],\"sequentialminus\":[[0.0,\"#0d0887\"],[0.1111111111111111,\"#46039f\"],[0.2222222222222222,\"#7201a8\"],[0.3333333333333333,\"#9c179e\"],[0.4444444444444444,\"#bd3786\"],[0.5555555555555556,\"#d8576b\"],[0.6666666666666666,\"#ed7953\"],[0.7777777777777778,\"#fb9f3a\"],[0.8888888888888888,\"#fdca26\"],[1.0,\"#f0f921\"]]},\"colorway\":[\"#636efa\",\"#EF553B\",\"#00cc96\",\"#ab63fa\",\"#FFA15A\",\"#19d3f3\",\"#FF6692\",\"#B6E880\",\"#FF97FF\",\"#FECB52\"],\"font\":{\"color\":\"#2a3f5f\"},\"geo\":{\"bgcolor\":\"white\",\"lakecolor\":\"white\",\"landcolor\":\"#E5ECF6\",\"showlakes\":true,\"showland\":true,\"subunitcolor\":\"white\"},\"hoverlabel\":{\"align\":\"left\"},\"hovermode\":\"closest\",\"mapbox\":{\"style\":\"light\"},\"paper_bgcolor\":\"white\",\"plot_bgcolor\":\"#E5ECF6\",\"polar\":{\"angularaxis\":{\"gridcolor\":\"white\",\"linecolor\":\"white\",\"ticks\":\"\"},\"bgcolor\":\"#E5ECF6\",\"radialaxis\":{\"gridcolor\":\"white\",\"linecolor\":\"white\",\"ticks\":\"\"}},\"scene\":{\"xaxis\":{\"backgroundcolor\":\"#E5ECF6\",\"gridcolor\":\"white\",\"gridwidth\":2,\"linecolor\":\"white\",\"showbackground\":true,\"ticks\":\"\",\"zerolinecolor\":\"white\"},\"yaxis\":{\"backgroundcolor\":\"#E5ECF6\",\"gridcolor\":\"white\",\"gridwidth\":2,\"linecolor\":\"white\",\"showbackground\":true,\"ticks\":\"\",\"zerolinecolor\":\"white\"},\"zaxis\":{\"backgroundcolor\":\"#E5ECF6\",\"gridcolor\":\"white\",\"gridwidth\":2,\"linecolor\":\"white\",\"showbackground\":true,\"ticks\":\"\",\"zerolinecolor\":\"white\"}},\"shapedefaults\":{\"line\":{\"color\":\"#2a3f5f\"}},\"ternary\":{\"aaxis\":{\"gridcolor\":\"white\",\"linecolor\":\"white\",\"ticks\":\"\"},\"baxis\":{\"gridcolor\":\"white\",\"linecolor\":\"white\",\"ticks\":\"\"},\"bgcolor\":\"#E5ECF6\",\"caxis\":{\"gridcolor\":\"white\",\"linecolor\":\"white\",\"ticks\":\"\"}},\"title\":{\"x\":0.05},\"xaxis\":{\"automargin\":true,\"gridcolor\":\"white\",\"linecolor\":\"white\",\"ticks\":\"\",\"title\":{\"standoff\":15},\"zerolinecolor\":\"white\",\"zerolinewidth\":2},\"yaxis\":{\"automargin\":true,\"gridcolor\":\"white\",\"linecolor\":\"white\",\"ticks\":\"\",\"title\":{\"standoff\":15},\"zerolinecolor\":\"white\",\"zerolinewidth\":2}}},\"barmode\":\"group\",\"title\":{\"text\":\"BTC yearwise High and Low stock price\"}},                        {\"responsive\": true}                    ).then(function(){\n",
              "                            \n",
              "var gd = document.getElementById('b5fe1e11-bbf6-4b9c-ad36-e426a54cbdf1');\n",
              "var x = new MutationObserver(function (mutations, observer) {{\n",
              "        var display = window.getComputedStyle(gd).display;\n",
              "        if (!display || display === 'none') {{\n",
              "            console.log([gd, 'removed!']);\n",
              "            Plotly.purge(gd);\n",
              "            observer.disconnect();\n",
              "        }}\n",
              "}});\n",
              "\n",
              "// Listen for the removal of the full notebook cells\n",
              "var notebookContainer = gd.closest('#notebook-container');\n",
              "if (notebookContainer) {{\n",
              "    x.observe(notebookContainer, {childList: true});\n",
              "}}\n",
              "\n",
              "// Listen for the clearing of the current output cell\n",
              "var outputEl = gd.closest('.output');\n",
              "if (outputEl) {{\n",
              "    x.observe(outputEl, {childList: true});\n",
              "}}\n",
              "\n",
              "                        })                };                            </script>        </div>\n",
              "</body>\n",
              "</html>"
            ]
          },
          "metadata": {}
        }
      ]
    },
    {
      "cell_type": "code",
      "source": [
        "monthvise_high = df_eth.groupby(df_eth['Date'].dt.strftime('%Y'))['High'].max()\n",
        "#monthvise_high = monthvise_high.reindex(list(range(len(monthvise_high))), axis=0)\n",
        "\n",
        "monthvise_low = df_eth.groupby(df_eth['Date'].dt.strftime('%Y'))['Low'].min()\n",
        "#monthvise_low = monthvise_low.reindex(list(range(len(monthvise_high))), axis=0)\n",
        "\n",
        "fig = go.Figure()\n",
        "fig.add_trace(go.Bar(\n",
        "    x=monthvise_high.index,\n",
        "    y=monthvise_high,\n",
        "    name='Stock high Price',\n",
        "    marker_color='rgb(0, 153, 204)'\n",
        "))\n",
        "fig.add_trace(go.Bar(\n",
        "    x=monthvise_low.index,\n",
        "    y=monthvise_low,\n",
        "    name='Stock low Price',\n",
        "    marker_color='rgb(255, 128, 0)'\n",
        "))\n",
        "\n",
        "fig.update_layout(barmode='group', title='ETH yearwise High and Low stock price')\n",
        "fig.show()"
      ],
      "metadata": {
        "colab": {
          "base_uri": "https://localhost:8080/",
          "height": 542
        },
        "id": "pLM5MqMRoMHw",
        "outputId": "cf015bdc-ba4a-493b-b4d4-f2021d0bb7a6"
      },
      "execution_count": 8,
      "outputs": [
        {
          "output_type": "display_data",
          "data": {
            "text/html": [
              "<html>\n",
              "<head><meta charset=\"utf-8\" /></head>\n",
              "<body>\n",
              "    <div>            <script src=\"https://cdnjs.cloudflare.com/ajax/libs/mathjax/2.7.5/MathJax.js?config=TeX-AMS-MML_SVG\"></script><script type=\"text/javascript\">if (window.MathJax) {MathJax.Hub.Config({SVG: {font: \"STIX-Web\"}});}</script>                <script type=\"text/javascript\">window.PlotlyConfig = {MathJaxConfig: 'local'};</script>\n",
              "        <script src=\"https://cdn.plot.ly/plotly-2.8.3.min.js\"></script>                <div id=\"1fbf479b-55ec-4324-a76d-951f34f659e1\" class=\"plotly-graph-div\" style=\"height:525px; width:100%;\"></div>            <script type=\"text/javascript\">                                    window.PLOTLYENV=window.PLOTLYENV || {};                                    if (document.getElementById(\"1fbf479b-55ec-4324-a76d-951f34f659e1\")) {                    Plotly.newPlot(                        \"1fbf479b-55ec-4324-a76d-951f34f659e1\",                        [{\"marker\":{\"color\":\"rgb(0, 153, 204)\"},\"name\":\"Stock high Price\",\"x\":[\"2017\",\"2018\",\"2019\",\"2020\",\"2021\",\"2022\"],\"y\":[881.94397,1432.880005,361.398682,754.303223,4891.70459,3876.785156],\"type\":\"bar\"},{\"marker\":{\"color\":\"rgb(255, 128, 0)\"},\"name\":\"Stock low Price\",\"x\":[\"2017\",\"2018\",\"2019\",\"2020\",\"2021\",\"2022\"],\"y\":[294.541992,82.829887,102.934563,95.184303,718.109497,896.109009],\"type\":\"bar\"}],                        {\"template\":{\"data\":{\"bar\":[{\"error_x\":{\"color\":\"#2a3f5f\"},\"error_y\":{\"color\":\"#2a3f5f\"},\"marker\":{\"line\":{\"color\":\"#E5ECF6\",\"width\":0.5},\"pattern\":{\"fillmode\":\"overlay\",\"size\":10,\"solidity\":0.2}},\"type\":\"bar\"}],\"barpolar\":[{\"marker\":{\"line\":{\"color\":\"#E5ECF6\",\"width\":0.5},\"pattern\":{\"fillmode\":\"overlay\",\"size\":10,\"solidity\":0.2}},\"type\":\"barpolar\"}],\"carpet\":[{\"aaxis\":{\"endlinecolor\":\"#2a3f5f\",\"gridcolor\":\"white\",\"linecolor\":\"white\",\"minorgridcolor\":\"white\",\"startlinecolor\":\"#2a3f5f\"},\"baxis\":{\"endlinecolor\":\"#2a3f5f\",\"gridcolor\":\"white\",\"linecolor\":\"white\",\"minorgridcolor\":\"white\",\"startlinecolor\":\"#2a3f5f\"},\"type\":\"carpet\"}],\"choropleth\":[{\"colorbar\":{\"outlinewidth\":0,\"ticks\":\"\"},\"type\":\"choropleth\"}],\"contour\":[{\"colorbar\":{\"outlinewidth\":0,\"ticks\":\"\"},\"colorscale\":[[0.0,\"#0d0887\"],[0.1111111111111111,\"#46039f\"],[0.2222222222222222,\"#7201a8\"],[0.3333333333333333,\"#9c179e\"],[0.4444444444444444,\"#bd3786\"],[0.5555555555555556,\"#d8576b\"],[0.6666666666666666,\"#ed7953\"],[0.7777777777777778,\"#fb9f3a\"],[0.8888888888888888,\"#fdca26\"],[1.0,\"#f0f921\"]],\"type\":\"contour\"}],\"contourcarpet\":[{\"colorbar\":{\"outlinewidth\":0,\"ticks\":\"\"},\"type\":\"contourcarpet\"}],\"heatmap\":[{\"colorbar\":{\"outlinewidth\":0,\"ticks\":\"\"},\"colorscale\":[[0.0,\"#0d0887\"],[0.1111111111111111,\"#46039f\"],[0.2222222222222222,\"#7201a8\"],[0.3333333333333333,\"#9c179e\"],[0.4444444444444444,\"#bd3786\"],[0.5555555555555556,\"#d8576b\"],[0.6666666666666666,\"#ed7953\"],[0.7777777777777778,\"#fb9f3a\"],[0.8888888888888888,\"#fdca26\"],[1.0,\"#f0f921\"]],\"type\":\"heatmap\"}],\"heatmapgl\":[{\"colorbar\":{\"outlinewidth\":0,\"ticks\":\"\"},\"colorscale\":[[0.0,\"#0d0887\"],[0.1111111111111111,\"#46039f\"],[0.2222222222222222,\"#7201a8\"],[0.3333333333333333,\"#9c179e\"],[0.4444444444444444,\"#bd3786\"],[0.5555555555555556,\"#d8576b\"],[0.6666666666666666,\"#ed7953\"],[0.7777777777777778,\"#fb9f3a\"],[0.8888888888888888,\"#fdca26\"],[1.0,\"#f0f921\"]],\"type\":\"heatmapgl\"}],\"histogram\":[{\"marker\":{\"pattern\":{\"fillmode\":\"overlay\",\"size\":10,\"solidity\":0.2}},\"type\":\"histogram\"}],\"histogram2d\":[{\"colorbar\":{\"outlinewidth\":0,\"ticks\":\"\"},\"colorscale\":[[0.0,\"#0d0887\"],[0.1111111111111111,\"#46039f\"],[0.2222222222222222,\"#7201a8\"],[0.3333333333333333,\"#9c179e\"],[0.4444444444444444,\"#bd3786\"],[0.5555555555555556,\"#d8576b\"],[0.6666666666666666,\"#ed7953\"],[0.7777777777777778,\"#fb9f3a\"],[0.8888888888888888,\"#fdca26\"],[1.0,\"#f0f921\"]],\"type\":\"histogram2d\"}],\"histogram2dcontour\":[{\"colorbar\":{\"outlinewidth\":0,\"ticks\":\"\"},\"colorscale\":[[0.0,\"#0d0887\"],[0.1111111111111111,\"#46039f\"],[0.2222222222222222,\"#7201a8\"],[0.3333333333333333,\"#9c179e\"],[0.4444444444444444,\"#bd3786\"],[0.5555555555555556,\"#d8576b\"],[0.6666666666666666,\"#ed7953\"],[0.7777777777777778,\"#fb9f3a\"],[0.8888888888888888,\"#fdca26\"],[1.0,\"#f0f921\"]],\"type\":\"histogram2dcontour\"}],\"mesh3d\":[{\"colorbar\":{\"outlinewidth\":0,\"ticks\":\"\"},\"type\":\"mesh3d\"}],\"parcoords\":[{\"line\":{\"colorbar\":{\"outlinewidth\":0,\"ticks\":\"\"}},\"type\":\"parcoords\"}],\"pie\":[{\"automargin\":true,\"type\":\"pie\"}],\"scatter\":[{\"marker\":{\"colorbar\":{\"outlinewidth\":0,\"ticks\":\"\"}},\"type\":\"scatter\"}],\"scatter3d\":[{\"line\":{\"colorbar\":{\"outlinewidth\":0,\"ticks\":\"\"}},\"marker\":{\"colorbar\":{\"outlinewidth\":0,\"ticks\":\"\"}},\"type\":\"scatter3d\"}],\"scattercarpet\":[{\"marker\":{\"colorbar\":{\"outlinewidth\":0,\"ticks\":\"\"}},\"type\":\"scattercarpet\"}],\"scattergeo\":[{\"marker\":{\"colorbar\":{\"outlinewidth\":0,\"ticks\":\"\"}},\"type\":\"scattergeo\"}],\"scattergl\":[{\"marker\":{\"colorbar\":{\"outlinewidth\":0,\"ticks\":\"\"}},\"type\":\"scattergl\"}],\"scattermapbox\":[{\"marker\":{\"colorbar\":{\"outlinewidth\":0,\"ticks\":\"\"}},\"type\":\"scattermapbox\"}],\"scatterpolar\":[{\"marker\":{\"colorbar\":{\"outlinewidth\":0,\"ticks\":\"\"}},\"type\":\"scatterpolar\"}],\"scatterpolargl\":[{\"marker\":{\"colorbar\":{\"outlinewidth\":0,\"ticks\":\"\"}},\"type\":\"scatterpolargl\"}],\"scatterternary\":[{\"marker\":{\"colorbar\":{\"outlinewidth\":0,\"ticks\":\"\"}},\"type\":\"scatterternary\"}],\"surface\":[{\"colorbar\":{\"outlinewidth\":0,\"ticks\":\"\"},\"colorscale\":[[0.0,\"#0d0887\"],[0.1111111111111111,\"#46039f\"],[0.2222222222222222,\"#7201a8\"],[0.3333333333333333,\"#9c179e\"],[0.4444444444444444,\"#bd3786\"],[0.5555555555555556,\"#d8576b\"],[0.6666666666666666,\"#ed7953\"],[0.7777777777777778,\"#fb9f3a\"],[0.8888888888888888,\"#fdca26\"],[1.0,\"#f0f921\"]],\"type\":\"surface\"}],\"table\":[{\"cells\":{\"fill\":{\"color\":\"#EBF0F8\"},\"line\":{\"color\":\"white\"}},\"header\":{\"fill\":{\"color\":\"#C8D4E3\"},\"line\":{\"color\":\"white\"}},\"type\":\"table\"}]},\"layout\":{\"annotationdefaults\":{\"arrowcolor\":\"#2a3f5f\",\"arrowhead\":0,\"arrowwidth\":1},\"autotypenumbers\":\"strict\",\"coloraxis\":{\"colorbar\":{\"outlinewidth\":0,\"ticks\":\"\"}},\"colorscale\":{\"diverging\":[[0,\"#8e0152\"],[0.1,\"#c51b7d\"],[0.2,\"#de77ae\"],[0.3,\"#f1b6da\"],[0.4,\"#fde0ef\"],[0.5,\"#f7f7f7\"],[0.6,\"#e6f5d0\"],[0.7,\"#b8e186\"],[0.8,\"#7fbc41\"],[0.9,\"#4d9221\"],[1,\"#276419\"]],\"sequential\":[[0.0,\"#0d0887\"],[0.1111111111111111,\"#46039f\"],[0.2222222222222222,\"#7201a8\"],[0.3333333333333333,\"#9c179e\"],[0.4444444444444444,\"#bd3786\"],[0.5555555555555556,\"#d8576b\"],[0.6666666666666666,\"#ed7953\"],[0.7777777777777778,\"#fb9f3a\"],[0.8888888888888888,\"#fdca26\"],[1.0,\"#f0f921\"]],\"sequentialminus\":[[0.0,\"#0d0887\"],[0.1111111111111111,\"#46039f\"],[0.2222222222222222,\"#7201a8\"],[0.3333333333333333,\"#9c179e\"],[0.4444444444444444,\"#bd3786\"],[0.5555555555555556,\"#d8576b\"],[0.6666666666666666,\"#ed7953\"],[0.7777777777777778,\"#fb9f3a\"],[0.8888888888888888,\"#fdca26\"],[1.0,\"#f0f921\"]]},\"colorway\":[\"#636efa\",\"#EF553B\",\"#00cc96\",\"#ab63fa\",\"#FFA15A\",\"#19d3f3\",\"#FF6692\",\"#B6E880\",\"#FF97FF\",\"#FECB52\"],\"font\":{\"color\":\"#2a3f5f\"},\"geo\":{\"bgcolor\":\"white\",\"lakecolor\":\"white\",\"landcolor\":\"#E5ECF6\",\"showlakes\":true,\"showland\":true,\"subunitcolor\":\"white\"},\"hoverlabel\":{\"align\":\"left\"},\"hovermode\":\"closest\",\"mapbox\":{\"style\":\"light\"},\"paper_bgcolor\":\"white\",\"plot_bgcolor\":\"#E5ECF6\",\"polar\":{\"angularaxis\":{\"gridcolor\":\"white\",\"linecolor\":\"white\",\"ticks\":\"\"},\"bgcolor\":\"#E5ECF6\",\"radialaxis\":{\"gridcolor\":\"white\",\"linecolor\":\"white\",\"ticks\":\"\"}},\"scene\":{\"xaxis\":{\"backgroundcolor\":\"#E5ECF6\",\"gridcolor\":\"white\",\"gridwidth\":2,\"linecolor\":\"white\",\"showbackground\":true,\"ticks\":\"\",\"zerolinecolor\":\"white\"},\"yaxis\":{\"backgroundcolor\":\"#E5ECF6\",\"gridcolor\":\"white\",\"gridwidth\":2,\"linecolor\":\"white\",\"showbackground\":true,\"ticks\":\"\",\"zerolinecolor\":\"white\"},\"zaxis\":{\"backgroundcolor\":\"#E5ECF6\",\"gridcolor\":\"white\",\"gridwidth\":2,\"linecolor\":\"white\",\"showbackground\":true,\"ticks\":\"\",\"zerolinecolor\":\"white\"}},\"shapedefaults\":{\"line\":{\"color\":\"#2a3f5f\"}},\"ternary\":{\"aaxis\":{\"gridcolor\":\"white\",\"linecolor\":\"white\",\"ticks\":\"\"},\"baxis\":{\"gridcolor\":\"white\",\"linecolor\":\"white\",\"ticks\":\"\"},\"bgcolor\":\"#E5ECF6\",\"caxis\":{\"gridcolor\":\"white\",\"linecolor\":\"white\",\"ticks\":\"\"}},\"title\":{\"x\":0.05},\"xaxis\":{\"automargin\":true,\"gridcolor\":\"white\",\"linecolor\":\"white\",\"ticks\":\"\",\"title\":{\"standoff\":15},\"zerolinecolor\":\"white\",\"zerolinewidth\":2},\"yaxis\":{\"automargin\":true,\"gridcolor\":\"white\",\"linecolor\":\"white\",\"ticks\":\"\",\"title\":{\"standoff\":15},\"zerolinecolor\":\"white\",\"zerolinewidth\":2}}},\"barmode\":\"group\",\"title\":{\"text\":\"ETH yearwise High and Low stock price\"}},                        {\"responsive\": true}                    ).then(function(){\n",
              "                            \n",
              "var gd = document.getElementById('1fbf479b-55ec-4324-a76d-951f34f659e1');\n",
              "var x = new MutationObserver(function (mutations, observer) {{\n",
              "        var display = window.getComputedStyle(gd).display;\n",
              "        if (!display || display === 'none') {{\n",
              "            console.log([gd, 'removed!']);\n",
              "            Plotly.purge(gd);\n",
              "            observer.disconnect();\n",
              "        }}\n",
              "}});\n",
              "\n",
              "// Listen for the removal of the full notebook cells\n",
              "var notebookContainer = gd.closest('#notebook-container');\n",
              "if (notebookContainer) {{\n",
              "    x.observe(notebookContainer, {childList: true});\n",
              "}}\n",
              "\n",
              "// Listen for the clearing of the current output cell\n",
              "var outputEl = gd.closest('.output');\n",
              "if (outputEl) {{\n",
              "    x.observe(outputEl, {childList: true});\n",
              "}}\n",
              "\n",
              "                        })                };                            </script>        </div>\n",
              "</body>\n",
              "</html>"
            ]
          },
          "metadata": {}
        }
      ]
    },
    {
      "cell_type": "code",
      "source": [
        "monthvise_high = df_usdt.groupby(df_usdt['Date'].dt.strftime('%Y'))['High'].max()\n",
        "#monthvise_high = monthvise_high.reindex(list(range(len(monthvise_high))), axis=0)\n",
        "\n",
        "monthvise_low = df_usdt.groupby(df_usdt['Date'].dt.strftime('%Y'))['Low'].min()\n",
        "#monthvise_low = monthvise_low.reindex(list(range(len(monthvise_high))), axis=0)\n",
        "\n",
        "fig = go.Figure()\n",
        "fig.add_trace(go.Bar(\n",
        "    x=monthvise_high.index,\n",
        "    y=monthvise_high,\n",
        "    name='Stock high Price',\n",
        "    marker_color='rgb(0, 153, 204)'\n",
        "))\n",
        "fig.add_trace(go.Bar(\n",
        "    x=monthvise_low.index,\n",
        "    y=monthvise_low,\n",
        "    name='Stock low Price',\n",
        "    marker_color='rgb(255, 128, 0)'\n",
        "))\n",
        "\n",
        "fig.update_layout(barmode='group', title='USDT yearwise High and Low stock price')\n",
        "fig.show()"
      ],
      "metadata": {
        "colab": {
          "base_uri": "https://localhost:8080/",
          "height": 542
        },
        "id": "xNgrr-ntoPqT",
        "outputId": "c2ee2e42-49b2-4284-e78b-f442a1f29132"
      },
      "execution_count": 9,
      "outputs": [
        {
          "output_type": "display_data",
          "data": {
            "text/html": [
              "<html>\n",
              "<head><meta charset=\"utf-8\" /></head>\n",
              "<body>\n",
              "    <div>            <script src=\"https://cdnjs.cloudflare.com/ajax/libs/mathjax/2.7.5/MathJax.js?config=TeX-AMS-MML_SVG\"></script><script type=\"text/javascript\">if (window.MathJax) {MathJax.Hub.Config({SVG: {font: \"STIX-Web\"}});}</script>                <script type=\"text/javascript\">window.PlotlyConfig = {MathJaxConfig: 'local'};</script>\n",
              "        <script src=\"https://cdn.plot.ly/plotly-2.8.3.min.js\"></script>                <div id=\"585e07b1-0b30-439d-a750-4ced3b9ae835\" class=\"plotly-graph-div\" style=\"height:525px; width:100%;\"></div>            <script type=\"text/javascript\">                                    window.PLOTLYENV=window.PLOTLYENV || {};                                    if (document.getElementById(\"585e07b1-0b30-439d-a750-4ced3b9ae835\")) {                    Plotly.newPlot(                        \"585e07b1-0b30-439d-a750-4ced3b9ae835\",                        [{\"marker\":{\"color\":\"rgb(0, 153, 204)\"},\"name\":\"Stock high Price\",\"x\":[\"2017\",\"2018\",\"2019\",\"2020\",\"2021\",\"2022\"],\"y\":[1.10591,1.06989,1.057203,1.084802,1.033019,1.002683],\"type\":\"bar\"},{\"marker\":{\"color\":\"rgb(255, 128, 0)\"},\"name\":\"Stock low Price\",\"x\":[\"2017\",\"2018\",\"2019\",\"2020\",\"2021\",\"2022\"],\"y\":[0.955618,0.925144,0.969353,0.89949,0.993953,0.948486],\"type\":\"bar\"}],                        {\"template\":{\"data\":{\"bar\":[{\"error_x\":{\"color\":\"#2a3f5f\"},\"error_y\":{\"color\":\"#2a3f5f\"},\"marker\":{\"line\":{\"color\":\"#E5ECF6\",\"width\":0.5},\"pattern\":{\"fillmode\":\"overlay\",\"size\":10,\"solidity\":0.2}},\"type\":\"bar\"}],\"barpolar\":[{\"marker\":{\"line\":{\"color\":\"#E5ECF6\",\"width\":0.5},\"pattern\":{\"fillmode\":\"overlay\",\"size\":10,\"solidity\":0.2}},\"type\":\"barpolar\"}],\"carpet\":[{\"aaxis\":{\"endlinecolor\":\"#2a3f5f\",\"gridcolor\":\"white\",\"linecolor\":\"white\",\"minorgridcolor\":\"white\",\"startlinecolor\":\"#2a3f5f\"},\"baxis\":{\"endlinecolor\":\"#2a3f5f\",\"gridcolor\":\"white\",\"linecolor\":\"white\",\"minorgridcolor\":\"white\",\"startlinecolor\":\"#2a3f5f\"},\"type\":\"carpet\"}],\"choropleth\":[{\"colorbar\":{\"outlinewidth\":0,\"ticks\":\"\"},\"type\":\"choropleth\"}],\"contour\":[{\"colorbar\":{\"outlinewidth\":0,\"ticks\":\"\"},\"colorscale\":[[0.0,\"#0d0887\"],[0.1111111111111111,\"#46039f\"],[0.2222222222222222,\"#7201a8\"],[0.3333333333333333,\"#9c179e\"],[0.4444444444444444,\"#bd3786\"],[0.5555555555555556,\"#d8576b\"],[0.6666666666666666,\"#ed7953\"],[0.7777777777777778,\"#fb9f3a\"],[0.8888888888888888,\"#fdca26\"],[1.0,\"#f0f921\"]],\"type\":\"contour\"}],\"contourcarpet\":[{\"colorbar\":{\"outlinewidth\":0,\"ticks\":\"\"},\"type\":\"contourcarpet\"}],\"heatmap\":[{\"colorbar\":{\"outlinewidth\":0,\"ticks\":\"\"},\"colorscale\":[[0.0,\"#0d0887\"],[0.1111111111111111,\"#46039f\"],[0.2222222222222222,\"#7201a8\"],[0.3333333333333333,\"#9c179e\"],[0.4444444444444444,\"#bd3786\"],[0.5555555555555556,\"#d8576b\"],[0.6666666666666666,\"#ed7953\"],[0.7777777777777778,\"#fb9f3a\"],[0.8888888888888888,\"#fdca26\"],[1.0,\"#f0f921\"]],\"type\":\"heatmap\"}],\"heatmapgl\":[{\"colorbar\":{\"outlinewidth\":0,\"ticks\":\"\"},\"colorscale\":[[0.0,\"#0d0887\"],[0.1111111111111111,\"#46039f\"],[0.2222222222222222,\"#7201a8\"],[0.3333333333333333,\"#9c179e\"],[0.4444444444444444,\"#bd3786\"],[0.5555555555555556,\"#d8576b\"],[0.6666666666666666,\"#ed7953\"],[0.7777777777777778,\"#fb9f3a\"],[0.8888888888888888,\"#fdca26\"],[1.0,\"#f0f921\"]],\"type\":\"heatmapgl\"}],\"histogram\":[{\"marker\":{\"pattern\":{\"fillmode\":\"overlay\",\"size\":10,\"solidity\":0.2}},\"type\":\"histogram\"}],\"histogram2d\":[{\"colorbar\":{\"outlinewidth\":0,\"ticks\":\"\"},\"colorscale\":[[0.0,\"#0d0887\"],[0.1111111111111111,\"#46039f\"],[0.2222222222222222,\"#7201a8\"],[0.3333333333333333,\"#9c179e\"],[0.4444444444444444,\"#bd3786\"],[0.5555555555555556,\"#d8576b\"],[0.6666666666666666,\"#ed7953\"],[0.7777777777777778,\"#fb9f3a\"],[0.8888888888888888,\"#fdca26\"],[1.0,\"#f0f921\"]],\"type\":\"histogram2d\"}],\"histogram2dcontour\":[{\"colorbar\":{\"outlinewidth\":0,\"ticks\":\"\"},\"colorscale\":[[0.0,\"#0d0887\"],[0.1111111111111111,\"#46039f\"],[0.2222222222222222,\"#7201a8\"],[0.3333333333333333,\"#9c179e\"],[0.4444444444444444,\"#bd3786\"],[0.5555555555555556,\"#d8576b\"],[0.6666666666666666,\"#ed7953\"],[0.7777777777777778,\"#fb9f3a\"],[0.8888888888888888,\"#fdca26\"],[1.0,\"#f0f921\"]],\"type\":\"histogram2dcontour\"}],\"mesh3d\":[{\"colorbar\":{\"outlinewidth\":0,\"ticks\":\"\"},\"type\":\"mesh3d\"}],\"parcoords\":[{\"line\":{\"colorbar\":{\"outlinewidth\":0,\"ticks\":\"\"}},\"type\":\"parcoords\"}],\"pie\":[{\"automargin\":true,\"type\":\"pie\"}],\"scatter\":[{\"marker\":{\"colorbar\":{\"outlinewidth\":0,\"ticks\":\"\"}},\"type\":\"scatter\"}],\"scatter3d\":[{\"line\":{\"colorbar\":{\"outlinewidth\":0,\"ticks\":\"\"}},\"marker\":{\"colorbar\":{\"outlinewidth\":0,\"ticks\":\"\"}},\"type\":\"scatter3d\"}],\"scattercarpet\":[{\"marker\":{\"colorbar\":{\"outlinewidth\":0,\"ticks\":\"\"}},\"type\":\"scattercarpet\"}],\"scattergeo\":[{\"marker\":{\"colorbar\":{\"outlinewidth\":0,\"ticks\":\"\"}},\"type\":\"scattergeo\"}],\"scattergl\":[{\"marker\":{\"colorbar\":{\"outlinewidth\":0,\"ticks\":\"\"}},\"type\":\"scattergl\"}],\"scattermapbox\":[{\"marker\":{\"colorbar\":{\"outlinewidth\":0,\"ticks\":\"\"}},\"type\":\"scattermapbox\"}],\"scatterpolar\":[{\"marker\":{\"colorbar\":{\"outlinewidth\":0,\"ticks\":\"\"}},\"type\":\"scatterpolar\"}],\"scatterpolargl\":[{\"marker\":{\"colorbar\":{\"outlinewidth\":0,\"ticks\":\"\"}},\"type\":\"scatterpolargl\"}],\"scatterternary\":[{\"marker\":{\"colorbar\":{\"outlinewidth\":0,\"ticks\":\"\"}},\"type\":\"scatterternary\"}],\"surface\":[{\"colorbar\":{\"outlinewidth\":0,\"ticks\":\"\"},\"colorscale\":[[0.0,\"#0d0887\"],[0.1111111111111111,\"#46039f\"],[0.2222222222222222,\"#7201a8\"],[0.3333333333333333,\"#9c179e\"],[0.4444444444444444,\"#bd3786\"],[0.5555555555555556,\"#d8576b\"],[0.6666666666666666,\"#ed7953\"],[0.7777777777777778,\"#fb9f3a\"],[0.8888888888888888,\"#fdca26\"],[1.0,\"#f0f921\"]],\"type\":\"surface\"}],\"table\":[{\"cells\":{\"fill\":{\"color\":\"#EBF0F8\"},\"line\":{\"color\":\"white\"}},\"header\":{\"fill\":{\"color\":\"#C8D4E3\"},\"line\":{\"color\":\"white\"}},\"type\":\"table\"}]},\"layout\":{\"annotationdefaults\":{\"arrowcolor\":\"#2a3f5f\",\"arrowhead\":0,\"arrowwidth\":1},\"autotypenumbers\":\"strict\",\"coloraxis\":{\"colorbar\":{\"outlinewidth\":0,\"ticks\":\"\"}},\"colorscale\":{\"diverging\":[[0,\"#8e0152\"],[0.1,\"#c51b7d\"],[0.2,\"#de77ae\"],[0.3,\"#f1b6da\"],[0.4,\"#fde0ef\"],[0.5,\"#f7f7f7\"],[0.6,\"#e6f5d0\"],[0.7,\"#b8e186\"],[0.8,\"#7fbc41\"],[0.9,\"#4d9221\"],[1,\"#276419\"]],\"sequential\":[[0.0,\"#0d0887\"],[0.1111111111111111,\"#46039f\"],[0.2222222222222222,\"#7201a8\"],[0.3333333333333333,\"#9c179e\"],[0.4444444444444444,\"#bd3786\"],[0.5555555555555556,\"#d8576b\"],[0.6666666666666666,\"#ed7953\"],[0.7777777777777778,\"#fb9f3a\"],[0.8888888888888888,\"#fdca26\"],[1.0,\"#f0f921\"]],\"sequentialminus\":[[0.0,\"#0d0887\"],[0.1111111111111111,\"#46039f\"],[0.2222222222222222,\"#7201a8\"],[0.3333333333333333,\"#9c179e\"],[0.4444444444444444,\"#bd3786\"],[0.5555555555555556,\"#d8576b\"],[0.6666666666666666,\"#ed7953\"],[0.7777777777777778,\"#fb9f3a\"],[0.8888888888888888,\"#fdca26\"],[1.0,\"#f0f921\"]]},\"colorway\":[\"#636efa\",\"#EF553B\",\"#00cc96\",\"#ab63fa\",\"#FFA15A\",\"#19d3f3\",\"#FF6692\",\"#B6E880\",\"#FF97FF\",\"#FECB52\"],\"font\":{\"color\":\"#2a3f5f\"},\"geo\":{\"bgcolor\":\"white\",\"lakecolor\":\"white\",\"landcolor\":\"#E5ECF6\",\"showlakes\":true,\"showland\":true,\"subunitcolor\":\"white\"},\"hoverlabel\":{\"align\":\"left\"},\"hovermode\":\"closest\",\"mapbox\":{\"style\":\"light\"},\"paper_bgcolor\":\"white\",\"plot_bgcolor\":\"#E5ECF6\",\"polar\":{\"angularaxis\":{\"gridcolor\":\"white\",\"linecolor\":\"white\",\"ticks\":\"\"},\"bgcolor\":\"#E5ECF6\",\"radialaxis\":{\"gridcolor\":\"white\",\"linecolor\":\"white\",\"ticks\":\"\"}},\"scene\":{\"xaxis\":{\"backgroundcolor\":\"#E5ECF6\",\"gridcolor\":\"white\",\"gridwidth\":2,\"linecolor\":\"white\",\"showbackground\":true,\"ticks\":\"\",\"zerolinecolor\":\"white\"},\"yaxis\":{\"backgroundcolor\":\"#E5ECF6\",\"gridcolor\":\"white\",\"gridwidth\":2,\"linecolor\":\"white\",\"showbackground\":true,\"ticks\":\"\",\"zerolinecolor\":\"white\"},\"zaxis\":{\"backgroundcolor\":\"#E5ECF6\",\"gridcolor\":\"white\",\"gridwidth\":2,\"linecolor\":\"white\",\"showbackground\":true,\"ticks\":\"\",\"zerolinecolor\":\"white\"}},\"shapedefaults\":{\"line\":{\"color\":\"#2a3f5f\"}},\"ternary\":{\"aaxis\":{\"gridcolor\":\"white\",\"linecolor\":\"white\",\"ticks\":\"\"},\"baxis\":{\"gridcolor\":\"white\",\"linecolor\":\"white\",\"ticks\":\"\"},\"bgcolor\":\"#E5ECF6\",\"caxis\":{\"gridcolor\":\"white\",\"linecolor\":\"white\",\"ticks\":\"\"}},\"title\":{\"x\":0.05},\"xaxis\":{\"automargin\":true,\"gridcolor\":\"white\",\"linecolor\":\"white\",\"ticks\":\"\",\"title\":{\"standoff\":15},\"zerolinecolor\":\"white\",\"zerolinewidth\":2},\"yaxis\":{\"automargin\":true,\"gridcolor\":\"white\",\"linecolor\":\"white\",\"ticks\":\"\",\"title\":{\"standoff\":15},\"zerolinecolor\":\"white\",\"zerolinewidth\":2}}},\"barmode\":\"group\",\"title\":{\"text\":\"USDT yearwise High and Low stock price\"}},                        {\"responsive\": true}                    ).then(function(){\n",
              "                            \n",
              "var gd = document.getElementById('585e07b1-0b30-439d-a750-4ced3b9ae835');\n",
              "var x = new MutationObserver(function (mutations, observer) {{\n",
              "        var display = window.getComputedStyle(gd).display;\n",
              "        if (!display || display === 'none') {{\n",
              "            console.log([gd, 'removed!']);\n",
              "            Plotly.purge(gd);\n",
              "            observer.disconnect();\n",
              "        }}\n",
              "}});\n",
              "\n",
              "// Listen for the removal of the full notebook cells\n",
              "var notebookContainer = gd.closest('#notebook-container');\n",
              "if (notebookContainer) {{\n",
              "    x.observe(notebookContainer, {childList: true});\n",
              "}}\n",
              "\n",
              "// Listen for the clearing of the current output cell\n",
              "var outputEl = gd.closest('.output');\n",
              "if (outputEl) {{\n",
              "    x.observe(outputEl, {childList: true});\n",
              "}}\n",
              "\n",
              "                        })                };                            </script>        </div>\n",
              "</body>\n",
              "</html>"
            ]
          },
          "metadata": {}
        }
      ]
    },
    {
      "cell_type": "code",
      "source": [],
      "metadata": {
        "id": "NEQtY4u2odv4"
      },
      "execution_count": null,
      "outputs": []
    },
    {
      "cell_type": "code",
      "source": [],
      "metadata": {
        "id": "J0MSY-TrXUXr"
      },
      "execution_count": 9,
      "outputs": []
    },
    {
      "cell_type": "code",
      "source": [
        "# split a univariate sequence into samples\n",
        "def split_sequence(sequence, n_steps):\n",
        "\tX, y = list(), list()\n",
        "\tfor i in range(len(sequence)):\n",
        "\t\t# find the end of this pattern\n",
        "\t\tend_ix = i + n_steps\n",
        "\t\t# check if we are beyond the sequence\n",
        "\t\tif end_ix > len(sequence)-1:\n",
        "\t\t\tbreak\n",
        "\t\t# gather input and output parts of the pattern\n",
        "\t\tseq_x, seq_y = sequence[i:end_ix], sequence[end_ix]\n",
        "\t\tX.append(seq_x)\n",
        "\t\ty.append(seq_y)\n",
        "\treturn np.array(X), np.array(y)"
      ],
      "metadata": {
        "id": "a0-dDcVghzya"
      },
      "execution_count": 10,
      "outputs": []
    },
    {
      "cell_type": "code",
      "source": [
        "dataset_usdt = df_usdt['Close'].to_list()\n",
        "dataset_eth = df_eth['Close'].to_list()\n",
        "dataset_btc = df_btc['Close'].to_list()"
      ],
      "metadata": {
        "id": "6J4wFrk7f8L9"
      },
      "execution_count": 11,
      "outputs": []
    },
    {
      "cell_type": "code",
      "source": [],
      "metadata": {
        "id": "X2rDqcgjh5B-"
      },
      "execution_count": 11,
      "outputs": []
    },
    {
      "cell_type": "code",
      "source": [
        "n_steps = 7\n",
        "\n",
        "X_usdt, y_usdt = split_sequence(dataset_usdt, n_steps=n_steps)\n",
        "X_eth, y_eth = split_sequence(dataset_eth, n_steps=n_steps)\n",
        "X_btc, y_btc = split_sequence(dataset_btc, n_steps=n_steps)"
      ],
      "metadata": {
        "id": "yhrfISBcjao7"
      },
      "execution_count": 12,
      "outputs": []
    },
    {
      "cell_type": "code",
      "source": [],
      "metadata": {
        "id": "wabqWMYumSyG"
      },
      "execution_count": 12,
      "outputs": []
    },
    {
      "cell_type": "code",
      "source": [
        "n_features = 1"
      ],
      "metadata": {
        "id": "SDYtjJIrqaqd"
      },
      "execution_count": 13,
      "outputs": []
    },
    {
      "cell_type": "code",
      "source": [
        "X_usdt = X_usdt.reshape((X_usdt.shape[0], X_usdt.shape[1], n_features))\n",
        "X_eth = X_eth.reshape((X_eth.shape[0], X_eth.shape[1], n_features))\n",
        "X_btc = X_btc.reshape((X_btc.shape[0], X_btc.shape[1], n_features))"
      ],
      "metadata": {
        "id": "R5bSeLD7pvBe"
      },
      "execution_count": 14,
      "outputs": []
    },
    {
      "cell_type": "code",
      "source": [
        "X_usdt_train, X_usdt_test, y_usdt_train, y_usdt_test = train_test_split(X_usdt, y_usdt, test_size=0.1, random_state=42)\n",
        "X_eth_train, X_eth_test, y_eth_train, y_eth_test = train_test_split(X_eth, y_eth, test_size=0.1, random_state=42)\n",
        "X_btc_train, X_btc_test, y_btc_train, y_btc_test = train_test_split(X_btc, y_btc, test_size=0.1, random_state=42)"
      ],
      "metadata": {
        "id": "jmzHSPzBmX4u"
      },
      "execution_count": 15,
      "outputs": []
    },
    {
      "cell_type": "code",
      "source": [
        "def stacked_lstm():\n",
        "           \n",
        "  # define model\n",
        "  model = Sequential()\n",
        "  model.add(LSTM(300, activation='relu', return_sequences=True, input_shape=(n_steps, n_features)))\n",
        "  model.add(LSTM(250, activation='relu', return_sequences=True, input_shape=(n_steps, n_features)))\n",
        "  model.add(LSTM(100, activation='relu'))\n",
        "  model.add(Dense(1))\n",
        "  \n",
        "  return model"
      ],
      "metadata": {
        "id": "c11sc-KsvLDE"
      },
      "execution_count": 16,
      "outputs": []
    },
    {
      "cell_type": "code",
      "source": [
        "model_btc = stacked_lstm()\n",
        "model_eth = stacked_lstm()\n",
        "model_usdt = stacked_lstm()\n",
        "\n",
        "model_btc.compile(optimizer=tf.keras.optimizers.Adam(0.0001), loss='mse')\n",
        "model_eth.compile(optimizer=tf.keras.optimizers.Adam(0.0001), loss='mse')\n",
        "model_usdt.compile(optimizer=tf.keras.optimizers.Adam(0.0001), loss='mse')"
      ],
      "metadata": {
        "id": "MxKVyLLp9opa"
      },
      "execution_count": 19,
      "outputs": []
    },
    {
      "cell_type": "code",
      "source": [],
      "metadata": {
        "id": "uMEyMFs8sT26"
      },
      "execution_count": 19,
      "outputs": []
    },
    {
      "cell_type": "code",
      "source": [
        "\n",
        "#callbacks\n",
        "checkpoiter = tf.keras.callbacks.ModelCheckpoint('/content/drive/MyDrive/Cryptocurrency prediction/BTC.hdf5', verbose = 1, save_best_only = True,  monitor='val_loss', mode='min')\n",
        "early_stop = [tf.keras.callbacks.EarlyStopping(patience = 15, monitor = 'val_loss') ]\n",
        "reduce_lr = tf.keras.callbacks.ReduceLROnPlateau(monitor='val_loss', factor=0.2, patience=3, min_lr=0.000001)\n",
        "\n",
        "history = model_btc.fit(X_btc_train, y_btc_train, epochs=200, verbose=1, validation_split=0.1, callbacks=[checkpoiter,\n",
        "                                                                                    early_stop, reduce_lr])"
      ],
      "metadata": {
        "id": "4g6ph_uGsWjW",
        "colab": {
          "base_uri": "https://localhost:8080/"
        },
        "outputId": "7a9ac09f-b5e7-481c-ed8a-d9ed6757c8cd"
      },
      "execution_count": 20,
      "outputs": [
        {
          "output_type": "stream",
          "name": "stdout",
          "text": [
            "Epoch 1/200\n",
            "73/74 [============================>.] - ETA: 0s - loss: 426675968.0000\n",
            "Epoch 1: val_loss improved from inf to 416348224.00000, saving model to /content/drive/MyDrive/Cryptocurrency prediction/BTC.hdf5\n",
            "74/74 [==============================] - 9s 71ms/step - loss: 426489280.0000 - val_loss: 416348224.0000 - lr: 1.0000e-04\n",
            "Epoch 2/200\n",
            "73/74 [============================>.] - ETA: 0s - loss: 255571408.0000\n",
            "Epoch 2: val_loss improved from 416348224.00000 to 4205380.00000, saving model to /content/drive/MyDrive/Cryptocurrency prediction/BTC.hdf5\n",
            "74/74 [==============================] - 4s 56ms/step - loss: 254673600.0000 - val_loss: 4205380.0000 - lr: 1.0000e-04\n",
            "Epoch 3/200\n",
            "73/74 [============================>.] - ETA: 0s - loss: 4247120.0000\n",
            "Epoch 3: val_loss improved from 4205380.00000 to 2813367.50000, saving model to /content/drive/MyDrive/Cryptocurrency prediction/BTC.hdf5\n",
            "74/74 [==============================] - 4s 54ms/step - loss: 4236655.0000 - val_loss: 2813367.5000 - lr: 1.0000e-04\n",
            "Epoch 4/200\n",
            "73/74 [============================>.] - ETA: 0s - loss: 7861604.0000\n",
            "Epoch 4: val_loss did not improve from 2813367.50000\n",
            "74/74 [==============================] - 4s 54ms/step - loss: 7839586.0000 - val_loss: 10119405.0000 - lr: 1.0000e-04\n",
            "Epoch 5/200\n",
            "73/74 [============================>.] - ETA: 0s - loss: 5164172.5000\n",
            "Epoch 5: val_loss did not improve from 2813367.50000\n",
            "74/74 [==============================] - 4s 54ms/step - loss: 5149960.5000 - val_loss: 4132307.0000 - lr: 1.0000e-04\n",
            "Epoch 6/200\n",
            "73/74 [============================>.] - ETA: 0s - loss: 6327875.5000\n",
            "Epoch 6: val_loss did not improve from 2813367.50000\n",
            "74/74 [==============================] - 4s 56ms/step - loss: 6334486.0000 - val_loss: 5250542.5000 - lr: 1.0000e-04\n",
            "Epoch 7/200\n",
            "74/74 [==============================] - ETA: 0s - loss: 5174115.0000\n",
            "Epoch 7: val_loss did not improve from 2813367.50000\n",
            "74/74 [==============================] - 4s 54ms/step - loss: 5174115.0000 - val_loss: 7439233.0000 - lr: 2.0000e-05\n",
            "Epoch 8/200\n",
            "74/74 [==============================] - ETA: 0s - loss: 6837386.0000\n",
            "Epoch 8: val_loss did not improve from 2813367.50000\n",
            "74/74 [==============================] - 4s 56ms/step - loss: 6837386.0000 - val_loss: 5542112.5000 - lr: 2.0000e-05\n",
            "Epoch 9/200\n",
            "73/74 [============================>.] - ETA: 0s - loss: 6207868.5000\n",
            "Epoch 9: val_loss did not improve from 2813367.50000\n",
            "74/74 [==============================] - 4s 58ms/step - loss: 6225808.0000 - val_loss: 9253817.0000 - lr: 2.0000e-05\n",
            "Epoch 10/200\n",
            "73/74 [============================>.] - ETA: 0s - loss: 5729324.5000\n",
            "Epoch 10: val_loss did not improve from 2813367.50000\n",
            "74/74 [==============================] - 4s 56ms/step - loss: 5715324.0000 - val_loss: 6195185.5000 - lr: 4.0000e-06\n",
            "Epoch 11/200\n",
            "74/74 [==============================] - ETA: 0s - loss: 4728852.5000\n",
            "Epoch 11: val_loss did not improve from 2813367.50000\n",
            "74/74 [==============================] - 5s 71ms/step - loss: 4728852.5000 - val_loss: 4089449.5000 - lr: 4.0000e-06\n",
            "Epoch 12/200\n",
            "73/74 [============================>.] - ETA: 0s - loss: 4587564.5000\n",
            "Epoch 12: val_loss did not improve from 2813367.50000\n",
            "74/74 [==============================] - 5s 74ms/step - loss: 4571265.0000 - val_loss: 4768210.5000 - lr: 4.0000e-06\n",
            "Epoch 13/200\n",
            "74/74 [==============================] - ETA: 0s - loss: 4428505.0000\n",
            "Epoch 13: val_loss did not improve from 2813367.50000\n",
            "74/74 [==============================] - 5s 72ms/step - loss: 4428505.0000 - val_loss: 4374944.0000 - lr: 1.0000e-06\n",
            "Epoch 14/200\n",
            "73/74 [============================>.] - ETA: 0s - loss: 4360098.0000\n",
            "Epoch 14: val_loss did not improve from 2813367.50000\n",
            "74/74 [==============================] - 4s 55ms/step - loss: 4344055.5000 - val_loss: 4789556.0000 - lr: 1.0000e-06\n",
            "Epoch 15/200\n",
            "73/74 [============================>.] - ETA: 0s - loss: 4427679.5000\n",
            "Epoch 15: val_loss did not improve from 2813367.50000\n",
            "74/74 [==============================] - 4s 60ms/step - loss: 4445345.5000 - val_loss: 4411756.5000 - lr: 1.0000e-06\n",
            "Epoch 16/200\n",
            "73/74 [============================>.] - ETA: 0s - loss: 4267101.5000\n",
            "Epoch 16: val_loss did not improve from 2813367.50000\n",
            "74/74 [==============================] - 4s 59ms/step - loss: 4256101.0000 - val_loss: 4363248.0000 - lr: 1.0000e-06\n",
            "Epoch 17/200\n",
            "73/74 [============================>.] - ETA: 0s - loss: 4072442.2500\n",
            "Epoch 17: val_loss did not improve from 2813367.50000\n",
            "74/74 [==============================] - 4s 55ms/step - loss: 4074231.7500 - val_loss: 4562652.5000 - lr: 1.0000e-06\n",
            "Epoch 18/200\n",
            "73/74 [============================>.] - ETA: 0s - loss: 4176407.7500\n",
            "Epoch 18: val_loss did not improve from 2813367.50000\n",
            "74/74 [==============================] - 4s 59ms/step - loss: 4256497.0000 - val_loss: 4652979.5000 - lr: 1.0000e-06\n"
          ]
        }
      ]
    },
    {
      "cell_type": "code",
      "source": [],
      "metadata": {
        "id": "H8UJ3x2w1b0d"
      },
      "execution_count": 20,
      "outputs": []
    },
    {
      "cell_type": "code",
      "source": [
        "model_btc.load_weights('/content/drive/MyDrive/Cryptocurrency prediction/BTC.hdf5')                     \n",
        "model_btc.save('/content/drive/MyDrive/Cryptocurrency prediction/BTC.h5')            "
      ],
      "metadata": {
        "id": "Cn-ijPy41bo3"
      },
      "execution_count": 21,
      "outputs": []
    },
    {
      "cell_type": "code",
      "source": [],
      "metadata": {
        "id": "0YxD7V9kz16G"
      },
      "execution_count": null,
      "outputs": []
    },
    {
      "cell_type": "code",
      "source": [
        "# summarize history for loss\n",
        "plt.plot(history.history['loss'])\n",
        "plt.plot(history.history['val_loss'])\n",
        "plt.title('model loss')\n",
        "plt.ylabel('loss')\n",
        "plt.xlabel('epoch')\n",
        "plt.legend(['train', 'validation'], loc='upper left')\n",
        "plt.show()"
      ],
      "metadata": {
        "colab": {
          "base_uri": "https://localhost:8080/",
          "height": 295
        },
        "id": "8_0I_PBXyahq",
        "outputId": "2915edd9-ef6f-4420-f235-655e24696e80"
      },
      "execution_count": 22,
      "outputs": [
        {
          "output_type": "display_data",
          "data": {
            "text/plain": [
              "<Figure size 432x288 with 1 Axes>"
            ],
            "image/png": "[encoded data removed]"
          },
          "metadata": {
            "needs_background": "light"
          }
        }
      ]
    },
    {
      "cell_type": "code",
      "source": [],
      "metadata": {
        "id": "b4W1TgKPdFPL"
      },
      "execution_count": null,
      "outputs": []
    },
    {
      "cell_type": "code",
      "source": [
        "yhat_btc = model_btc.predict(X_btc_test)\n",
        "yhat_btc = yhat_btc.reshape(yhat_btc.shape[0])\n",
        "\n",
        "btc_trace = go.Scatter(x=list(df_btc['Date'].astype(str)[-100:]), y=yhat_btc[-100:], name= 'Predicted Price')\n",
        "btc_trace2 = go.Scatter(x=list(df_btc['Date'].astype(str)[-100:]), y=y_btc_test[-100:], name= 'Real Price')\n",
        "\n",
        "py.iplot([btc_trace, btc_trace2])\n"
      ],
      "metadata": {
        "colab": {
          "base_uri": "https://localhost:8080/",
          "height": 559
        },
        "id": "SsLFTM9OqFaW",
        "outputId": "239cb020-16cc-4871-c51d-a1bd968735f9"
      },
      "execution_count": 30,
      "outputs": [
        {
          "output_type": "stream",
          "name": "stdout",
          "text": [
            "10/10 [==============================] - 0s 21ms/step\n"
          ]
        },
        {
          "output_type": "display_data",
          "data": {
            "text/html": [
              "<html>\n",
              "<head><meta charset=\"utf-8\" /></head>\n",
              "<body>\n",
              "    <div>            <script src=\"https://cdnjs.cloudflare.com/ajax/libs/mathjax/2.7.5/MathJax.js?config=TeX-AMS-MML_SVG\"></script><script type=\"text/javascript\">if (window.MathJax) {MathJax.Hub.Config({SVG: {font: \"STIX-Web\"}});}</script>                <script type=\"text/javascript\">window.PlotlyConfig = {MathJaxConfig: 'local'};</script>\n",
              "        <script src=\"https://cdn.plot.ly/plotly-2.8.3.min.js\"></script>                <div id=\"93b450b7-3c6b-4030-bd41-4b6c59a1bfda\" class=\"plotly-graph-div\" style=\"height:525px; width:100%;\"></div>            <script type=\"text/javascript\">                                    window.PLOTLYENV=window.PLOTLYENV || {};                                    if (document.getElementById(\"93b450b7-3c6b-4030-bd41-4b6c59a1bfda\")) {                    Plotly.newPlot(                        \"93b450b7-3c6b-4030-bd41-4b6c59a1bfda\",                        [{\"name\":\"Predicted Price\",\"x\":[\"2022-07-21\",\"2022-07-22\",\"2022-07-23\",\"2022-07-24\",\"2022-07-25\",\"2022-07-26\",\"2022-07-27\",\"2022-07-28\",\"2022-07-29\",\"2022-07-30\",\"2022-07-31\",\"2022-08-01\",\"2022-08-02\",\"2022-08-03\",\"2022-08-04\",\"2022-08-05\",\"2022-08-06\",\"2022-08-07\",\"2022-08-08\",\"2022-08-09\",\"2022-08-10\",\"2022-08-11\",\"2022-08-12\",\"2022-08-13\",\"2022-08-14\",\"2022-08-15\",\"2022-08-16\",\"2022-08-17\",\"2022-08-18\",\"2022-08-19\",\"2022-08-20\",\"2022-08-21\",\"2022-08-22\",\"2022-08-23\",\"2022-08-24\",\"2022-08-25\",\"2022-08-26\",\"2022-08-27\",\"2022-08-28\",\"2022-08-29\",\"2022-08-30\",\"2022-08-31\",\"2022-09-01\",\"2022-09-02\",\"2022-09-03\",\"2022-09-04\",\"2022-09-05\",\"2022-09-06\",\"2022-09-07\",\"2022-09-08\",\"2022-09-09\",\"2022-09-10\",\"2022-09-11\",\"2022-09-12\",\"2022-09-13\",\"2022-09-14\",\"2022-09-15\",\"2022-09-16\",\"2022-09-17\",\"2022-09-18\",\"2022-09-19\",\"2022-09-20\",\"2022-09-21\",\"2022-09-22\",\"2022-09-23\",\"2022-09-24\",\"2022-09-25\",\"2022-09-26\",\"2022-09-27\",\"2022-09-28\",\"2022-09-29\",\"2022-09-30\",\"2022-10-01\",\"2022-10-02\",\"2022-10-03\",\"2022-10-04\",\"2022-10-05\",\"2022-10-06\",\"2022-10-07\",\"2022-10-08\",\"2022-10-09\",\"2022-10-10\",\"2022-10-11\",\"2022-10-12\",\"2022-10-13\",\"2022-10-14\",\"2022-10-15\",\"2022-10-16\",\"2022-10-17\",\"2022-10-18\",\"2022-10-19\",\"2022-10-20\",\"2022-10-21\",\"2022-10-22\",\"2022-10-23\",\"2022-10-24\",\"2022-10-25\",\"2022-10-26\",\"2022-10-27\",\"2022-10-28\"],\"y\":[275.6447448730469,58783.1328125,43676.53515625,59226.26953125,235.39608764648438,867.6453247070312,26948.9609375,443.021484375,18661.7265625,3957.910888671875,6408.76318359375,9916.9091796875,304.3568115234375,249.4264373779297,428.682861328125,265.6421813964844,3643.761474609375,260.6755676269531,39079.27734375,28171.068359375,44681.26171875,30865.98828125,5305.4248046875,39416.30859375,252.54412841796875,24038.767578125,253.28335571289062,48742.671875,36248.29296875,5226.4677734375,6596.03125,6239.9091796875,3551.716796875,7785.6162109375,1263.3006591796875,20593.6953125,384.9533996582031,8849.255859375,4953.8720703125,10935.6650390625,7760.74267578125,445.16363525390625,5666.54296875,435.142822265625,23424.296875,9549.4931640625,8663.736328125,48279.79296875,821.8876953125,42791.92578125,38843.77734375,37227.1015625,7290.08837890625,7108.56396484375,646.7991943359375,3702.77001953125,723.7890625,7423.56005859375,18941.40625,3958.7392578125,616.39501953125,4712.35498046875,37832.390625,249.49327087402344,8906.1376953125,4164.85205078125,16269.728515625,326.02337646484375,410.3364562988281,13255.4765625,48956.36328125,763.1019287109375,9753.697265625,402.86199951171875,62671.984375,6384.23828125,263.0439758300781,4027.726806640625,8604.6318359375,249.5432891845703,2020.2913818359375,433.1496276855469,9533.01171875,9518.28515625,21008.728515625,6247.89306640625,41005.90234375,4463.68017578125,7558.03759765625,1042.9945068359375,648.9310302734375,4502.59423828125,966.236572265625,278.7328186035156,8450.3623046875,8160.5927734375,9463.396484375,3676.389892578125,262.4454040527344,8974.5341796875],\"type\":\"scatter\"},{\"name\":\"Real Price\",\"x\":[\"2022-07-21\",\"2022-07-22\",\"2022-07-23\",\"2022-07-24\",\"2022-07-25\",\"2022-07-26\",\"2022-07-27\",\"2022-07-28\",\"2022-07-29\",\"2022-07-30\",\"2022-07-31\",\"2022-08-01\",\"2022-08-02\",\"2022-08-03\",\"2022-08-04\",\"2022-08-05\",\"2022-08-06\",\"2022-08-07\",\"2022-08-08\",\"2022-08-09\",\"2022-08-10\",\"2022-08-11\",\"2022-08-12\",\"2022-08-13\",\"2022-08-14\",\"2022-08-15\",\"2022-08-16\",\"2022-08-17\",\"2022-08-18\",\"2022-08-19\",\"2022-08-20\",\"2022-08-21\",\"2022-08-22\",\"2022-08-23\",\"2022-08-24\",\"2022-08-25\",\"2022-08-26\",\"2022-08-27\",\"2022-08-28\",\"2022-08-29\",\"2022-08-30\",\"2022-08-31\",\"2022-09-01\",\"2022-09-02\",\"2022-09-03\",\"2022-09-04\",\"2022-09-05\",\"2022-09-06\",\"2022-09-07\",\"2022-09-08\",\"2022-09-09\",\"2022-09-10\",\"2022-09-11\",\"2022-09-12\",\"2022-09-13\",\"2022-09-14\",\"2022-09-15\",\"2022-09-16\",\"2022-09-17\",\"2022-09-18\",\"2022-09-19\",\"2022-09-20\",\"2022-09-21\",\"2022-09-22\",\"2022-09-23\",\"2022-09-24\",\"2022-09-25\",\"2022-09-26\",\"2022-09-27\",\"2022-09-28\",\"2022-09-29\",\"2022-09-30\",\"2022-10-01\",\"2022-10-02\",\"2022-10-03\",\"2022-10-04\",\"2022-10-05\",\"2022-10-06\",\"2022-10-07\",\"2022-10-08\",\"2022-10-09\",\"2022-10-10\",\"2022-10-11\",\"2022-10-12\",\"2022-10-13\",\"2022-10-14\",\"2022-10-15\",\"2022-10-16\",\"2022-10-17\",\"2022-10-18\",\"2022-10-19\",\"2022-10-20\",\"2022-10-21\",\"2022-10-22\",\"2022-10-23\",\"2022-10-24\",\"2022-10-25\",\"2022-10-26\",\"2022-10-27\",\"2022-10-28\"],\"y\":[272.722992,57321.523438,45585.03125,61593.949219,228.488998,651.783997,20553.271484,387.167999,20095.857422,3476.114746,6332.629883,9360.879883,294.337006,236.686996,454.93399,266.272003,3706.052246,247.050003,39105.148438,29432.226563,45868.949219,30432.546875,5167.722168,41166.730469,237.470001,23241.345703,233.128006,43503.847656,33155.847656,5725.589844,6588.310059,6763.189941,3745.950684,7456.109863,1187.869995,19345.572266,410.261993,8929.280273,3880.76001,11478.168945,7711.109863,453.230011,5572.362305,432.519012,23735.949219,9045.390625,8790.919922,47588.855469,658.078003,38794.972656,39208.765625,41500.875,7406.52002,6741.75,606.590027,4065.199951,685.559021,7302.089355,19701.210938,4193.700195,574.106995,5831.790039,35862.378906,238.229004,8406.515625,4130.810059,15802.900391,214.860992,420.872986,14026.599609,47783.359375,610.892029,10975.599609,420.621002,60204.964844,6411.27002,251.988998,3630.699951,8897.46875,232.975006,2320.419922,447.610992,10397.900391,10144.556641,19323.914063,6378.849121,48116.941406,4597.120117,6792.830078,1029.910034,606.72699,5059.817383,921.789001,285.82901,8000.32959,8621.900391,8504.889648,3926.070068,263.071991,10366.700195],\"type\":\"scatter\"}],                        {\"template\":{\"data\":{\"barpolar\":[{\"marker\":{\"line\":{\"color\":\"#E5ECF6\",\"width\":0.5},\"pattern\":{\"fillmode\":\"overlay\",\"size\":10,\"solidity\":0.2}},\"type\":\"barpolar\"}],\"bar\":[{\"error_x\":{\"color\":\"#2a3f5f\"},\"error_y\":{\"color\":\"#2a3f5f\"},\"marker\":{\"line\":{\"color\":\"#E5ECF6\",\"width\":0.5},\"pattern\":{\"fillmode\":\"overlay\",\"size\":10,\"solidity\":0.2}},\"type\":\"bar\"}],\"carpet\":[{\"aaxis\":{\"endlinecolor\":\"#2a3f5f\",\"gridcolor\":\"white\",\"linecolor\":\"white\",\"minorgridcolor\":\"white\",\"startlinecolor\":\"#2a3f5f\"},\"baxis\":{\"endlinecolor\":\"#2a3f5f\",\"gridcolor\":\"white\",\"linecolor\":\"white\",\"minorgridcolor\":\"white\",\"startlinecolor\":\"#2a3f5f\"},\"type\":\"carpet\"}],\"choropleth\":[{\"colorbar\":{\"outlinewidth\":0,\"ticks\":\"\"},\"type\":\"choropleth\"}],\"contourcarpet\":[{\"colorbar\":{\"outlinewidth\":0,\"ticks\":\"\"},\"type\":\"contourcarpet\"}],\"contour\":[{\"colorbar\":{\"outlinewidth\":0,\"ticks\":\"\"},\"colorscale\":[[0.0,\"#0d0887\"],[0.1111111111111111,\"#46039f\"],[0.2222222222222222,\"#7201a8\"],[0.3333333333333333,\"#9c179e\"],[0.4444444444444444,\"#bd3786\"],[0.5555555555555556,\"#d8576b\"],[0.6666666666666666,\"#ed7953\"],[0.7777777777777778,\"#fb9f3a\"],[0.8888888888888888,\"#fdca26\"],[1.0,\"#f0f921\"]],\"type\":\"contour\"}],\"heatmapgl\":[{\"colorbar\":{\"outlinewidth\":0,\"ticks\":\"\"},\"colorscale\":[[0.0,\"#0d0887\"],[0.1111111111111111,\"#46039f\"],[0.2222222222222222,\"#7201a8\"],[0.3333333333333333,\"#9c179e\"],[0.4444444444444444,\"#bd3786\"],[0.5555555555555556,\"#d8576b\"],[0.6666666666666666,\"#ed7953\"],[0.7777777777777778,\"#fb9f3a\"],[0.8888888888888888,\"#fdca26\"],[1.0,\"#f0f921\"]],\"type\":\"heatmapgl\"}],\"heatmap\":[{\"colorbar\":{\"outlinewidth\":0,\"ticks\":\"\"},\"colorscale\":[[0.0,\"#0d0887\"],[0.1111111111111111,\"#46039f\"],[0.2222222222222222,\"#7201a8\"],[0.3333333333333333,\"#9c179e\"],[0.4444444444444444,\"#bd3786\"],[0.5555555555555556,\"#d8576b\"],[0.6666666666666666,\"#ed7953\"],[0.7777777777777778,\"#fb9f3a\"],[0.8888888888888888,\"#fdca26\"],[1.0,\"#f0f921\"]],\"type\":\"heatmap\"}],\"histogram2dcontour\":[{\"colorbar\":{\"outlinewidth\":0,\"ticks\":\"\"},\"colorscale\":[[0.0,\"#0d0887\"],[0.1111111111111111,\"#46039f\"],[0.2222222222222222,\"#7201a8\"],[0.3333333333333333,\"#9c179e\"],[0.4444444444444444,\"#bd3786\"],[0.5555555555555556,\"#d8576b\"],[0.6666666666666666,\"#ed7953\"],[0.7777777777777778,\"#fb9f3a\"],[0.8888888888888888,\"#fdca26\"],[1.0,\"#f0f921\"]],\"type\":\"histogram2dcontour\"}],\"histogram2d\":[{\"colorbar\":{\"outlinewidth\":0,\"ticks\":\"\"},\"colorscale\":[[0.0,\"#0d0887\"],[0.1111111111111111,\"#46039f\"],[0.2222222222222222,\"#7201a8\"],[0.3333333333333333,\"#9c179e\"],[0.4444444444444444,\"#bd3786\"],[0.5555555555555556,\"#d8576b\"],[0.6666666666666666,\"#ed7953\"],[0.7777777777777778,\"#fb9f3a\"],[0.8888888888888888,\"#fdca26\"],[1.0,\"#f0f921\"]],\"type\":\"histogram2d\"}],\"histogram\":[{\"marker\":{\"pattern\":{\"fillmode\":\"overlay\",\"size\":10,\"solidity\":0.2}},\"type\":\"histogram\"}],\"mesh3d\":[{\"colorbar\":{\"outlinewidth\":0,\"ticks\":\"\"},\"type\":\"mesh3d\"}],\"parcoords\":[{\"line\":{\"colorbar\":{\"outlinewidth\":0,\"ticks\":\"\"}},\"type\":\"parcoords\"}],\"pie\":[{\"automargin\":true,\"type\":\"pie\"}],\"scatter3d\":[{\"line\":{\"colorbar\":{\"outlinewidth\":0,\"ticks\":\"\"}},\"marker\":{\"colorbar\":{\"outlinewidth\":0,\"ticks\":\"\"}},\"type\":\"scatter3d\"}],\"scattercarpet\":[{\"marker\":{\"colorbar\":{\"outlinewidth\":0,\"ticks\":\"\"}},\"type\":\"scattercarpet\"}],\"scattergeo\":[{\"marker\":{\"colorbar\":{\"outlinewidth\":0,\"ticks\":\"\"}},\"type\":\"scattergeo\"}],\"scattergl\":[{\"marker\":{\"colorbar\":{\"outlinewidth\":0,\"ticks\":\"\"}},\"type\":\"scattergl\"}],\"scattermapbox\":[{\"marker\":{\"colorbar\":{\"outlinewidth\":0,\"ticks\":\"\"}},\"type\":\"scattermapbox\"}],\"scatterpolargl\":[{\"marker\":{\"colorbar\":{\"outlinewidth\":0,\"ticks\":\"\"}},\"type\":\"scatterpolargl\"}],\"scatterpolar\":[{\"marker\":{\"colorbar\":{\"outlinewidth\":0,\"ticks\":\"\"}},\"type\":\"scatterpolar\"}],\"scatter\":[{\"marker\":{\"colorbar\":{\"outlinewidth\":0,\"ticks\":\"\"}},\"type\":\"scatter\"}],\"scatterternary\":[{\"marker\":{\"colorbar\":{\"outlinewidth\":0,\"ticks\":\"\"}},\"type\":\"scatterternary\"}],\"surface\":[{\"colorbar\":{\"outlinewidth\":0,\"ticks\":\"\"},\"colorscale\":[[0.0,\"#0d0887\"],[0.1111111111111111,\"#46039f\"],[0.2222222222222222,\"#7201a8\"],[0.3333333333333333,\"#9c179e\"],[0.4444444444444444,\"#bd3786\"],[0.5555555555555556,\"#d8576b\"],[0.6666666666666666,\"#ed7953\"],[0.7777777777777778,\"#fb9f3a\"],[0.8888888888888888,\"#fdca26\"],[1.0,\"#f0f921\"]],\"type\":\"surface\"}],\"table\":[{\"cells\":{\"fill\":{\"color\":\"#EBF0F8\"},\"line\":{\"color\":\"white\"}},\"header\":{\"fill\":{\"color\":\"#C8D4E3\"},\"line\":{\"color\":\"white\"}},\"type\":\"table\"}]},\"layout\":{\"annotationdefaults\":{\"arrowcolor\":\"#2a3f5f\",\"arrowhead\":0,\"arrowwidth\":1},\"autotypenumbers\":\"strict\",\"coloraxis\":{\"colorbar\":{\"outlinewidth\":0,\"ticks\":\"\"}},\"colorscale\":{\"diverging\":[[0,\"#8e0152\"],[0.1,\"#c51b7d\"],[0.2,\"#de77ae\"],[0.3,\"#f1b6da\"],[0.4,\"#fde0ef\"],[0.5,\"#f7f7f7\"],[0.6,\"#e6f5d0\"],[0.7,\"#b8e186\"],[0.8,\"#7fbc41\"],[0.9,\"#4d9221\"],[1,\"#276419\"]],\"sequential\":[[0.0,\"#0d0887\"],[0.1111111111111111,\"#46039f\"],[0.2222222222222222,\"#7201a8\"],[0.3333333333333333,\"#9c179e\"],[0.4444444444444444,\"#bd3786\"],[0.5555555555555556,\"#d8576b\"],[0.6666666666666666,\"#ed7953\"],[0.7777777777777778,\"#fb9f3a\"],[0.8888888888888888,\"#fdca26\"],[1.0,\"#f0f921\"]],\"sequentialminus\":[[0.0,\"#0d0887\"],[0.1111111111111111,\"#46039f\"],[0.2222222222222222,\"#7201a8\"],[0.3333333333333333,\"#9c179e\"],[0.4444444444444444,\"#bd3786\"],[0.5555555555555556,\"#d8576b\"],[0.6666666666666666,\"#ed7953\"],[0.7777777777777778,\"#fb9f3a\"],[0.8888888888888888,\"#fdca26\"],[1.0,\"#f0f921\"]]},\"colorway\":[\"#636efa\",\"#EF553B\",\"#00cc96\",\"#ab63fa\",\"#FFA15A\",\"#19d3f3\",\"#FF6692\",\"#B6E880\",\"#FF97FF\",\"#FECB52\"],\"font\":{\"color\":\"#2a3f5f\"},\"geo\":{\"bgcolor\":\"white\",\"lakecolor\":\"white\",\"landcolor\":\"#E5ECF6\",\"showlakes\":true,\"showland\":true,\"subunitcolor\":\"white\"},\"hoverlabel\":{\"align\":\"left\"},\"hovermode\":\"closest\",\"mapbox\":{\"style\":\"light\"},\"paper_bgcolor\":\"white\",\"plot_bgcolor\":\"#E5ECF6\",\"polar\":{\"angularaxis\":{\"gridcolor\":\"white\",\"linecolor\":\"white\",\"ticks\":\"\"},\"bgcolor\":\"#E5ECF6\",\"radialaxis\":{\"gridcolor\":\"white\",\"linecolor\":\"white\",\"ticks\":\"\"}},\"scene\":{\"xaxis\":{\"backgroundcolor\":\"#E5ECF6\",\"gridcolor\":\"white\",\"gridwidth\":2,\"linecolor\":\"white\",\"showbackground\":true,\"ticks\":\"\",\"zerolinecolor\":\"white\"},\"yaxis\":{\"backgroundcolor\":\"#E5ECF6\",\"gridcolor\":\"white\",\"gridwidth\":2,\"linecolor\":\"white\",\"showbackground\":true,\"ticks\":\"\",\"zerolinecolor\":\"white\"},\"zaxis\":{\"backgroundcolor\":\"#E5ECF6\",\"gridcolor\":\"white\",\"gridwidth\":2,\"linecolor\":\"white\",\"showbackground\":true,\"ticks\":\"\",\"zerolinecolor\":\"white\"}},\"shapedefaults\":{\"line\":{\"color\":\"#2a3f5f\"}},\"ternary\":{\"aaxis\":{\"gridcolor\":\"white\",\"linecolor\":\"white\",\"ticks\":\"\"},\"baxis\":{\"gridcolor\":\"white\",\"linecolor\":\"white\",\"ticks\":\"\"},\"bgcolor\":\"#E5ECF6\",\"caxis\":{\"gridcolor\":\"white\",\"linecolor\":\"white\",\"ticks\":\"\"}},\"title\":{\"x\":0.05},\"xaxis\":{\"automargin\":true,\"gridcolor\":\"white\",\"linecolor\":\"white\",\"ticks\":\"\",\"title\":{\"standoff\":15},\"zerolinecolor\":\"white\",\"zerolinewidth\":2},\"yaxis\":{\"automargin\":true,\"gridcolor\":\"white\",\"linecolor\":\"white\",\"ticks\":\"\",\"title\":{\"standoff\":15},\"zerolinecolor\":\"white\",\"zerolinewidth\":2}}}},                        {\"responsive\": true}                    ).then(function(){\n",
              "                            \n",
              "var gd = document.getElementById('93b450b7-3c6b-4030-bd41-4b6c59a1bfda');\n",
              "var x = new MutationObserver(function (mutations, observer) {{\n",
              "        var display = window.getComputedStyle(gd).display;\n",
              "        if (!display || display === 'none') {{\n",
              "            console.log([gd, 'removed!']);\n",
              "            Plotly.purge(gd);\n",
              "            observer.disconnect();\n",
              "        }}\n",
              "}});\n",
              "\n",
              "// Listen for the removal of the full notebook cells\n",
              "var notebookContainer = gd.closest('#notebook-container');\n",
              "if (notebookContainer) {{\n",
              "    x.observe(notebookContainer, {childList: true});\n",
              "}}\n",
              "\n",
              "// Listen for the clearing of the current output cell\n",
              "var outputEl = gd.closest('.output');\n",
              "if (outputEl) {{\n",
              "    x.observe(outputEl, {childList: true});\n",
              "}}\n",
              "\n",
              "                        })                };                            </script>        </div>\n",
              "</body>\n",
              "</html>"
            ]
          },
          "metadata": {}
        }
      ]
    },
    {
      "cell_type": "code",
      "source": [],
      "metadata": {
        "id": "5KnLVs7Opnim"
      },
      "execution_count": null,
      "outputs": []
    },
    {
      "cell_type": "code",
      "source": [],
      "metadata": {
        "id": "m8UePS98gc-A"
      },
      "execution_count": null,
      "outputs": []
    },
    {
      "cell_type": "code",
      "source": [
        "\n",
        "#callbacks\n",
        "checkpoiter = tf.keras.callbacks.ModelCheckpoint('/content/drive/MyDrive/Cryptocurrency prediction/ETH.hdf5', verbose = 1, save_best_only = True,  monitor='val_loss', mode='min')\n",
        "\n",
        "history_eth = model_eth.fit(X_btc_train, y_btc_train, epochs=200, verbose=1, validation_split=0.1, callbacks=[checkpoiter,\n",
        "                                                                                    early_stop, reduce_lr])"
      ],
      "metadata": {
        "colab": {
          "base_uri": "https://localhost:8080/"
        },
        "id": "XbcqVjmJgTfV",
        "outputId": "12bc39e1-1484-4e2a-ed94-b5fda0aa51db"
      },
      "execution_count": 31,
      "outputs": [
        {
          "output_type": "stream",
          "name": "stdout",
          "text": [
            "Epoch 1/200\n",
            "73/74 [============================>.] - ETA: 0s - loss: 408496160.0000\n",
            "Epoch 1: val_loss improved from inf to 382884032.00000, saving model to /content/drive/MyDrive/Cryptocurrency prediction/ETH.hdf5\n",
            "74/74 [==============================] - 9s 66ms/step - loss: 407970496.0000 - val_loss: 382884032.0000 - lr: 1.0000e-04\n",
            "Epoch 2/200\n",
            "74/74 [==============================] - ETA: 0s - loss: 126696448.0000\n",
            "Epoch 2: val_loss improved from 382884032.00000 to 29442186.00000, saving model to /content/drive/MyDrive/Cryptocurrency prediction/ETH.hdf5\n",
            "74/74 [==============================] - 5s 61ms/step - loss: 126696448.0000 - val_loss: 29442186.0000 - lr: 1.0000e-04\n",
            "Epoch 3/200\n",
            "73/74 [============================>.] - ETA: 0s - loss: 10701441.0000\n",
            "Epoch 3: val_loss improved from 29442186.00000 to 5377155.00000, saving model to /content/drive/MyDrive/Cryptocurrency prediction/ETH.hdf5\n",
            "74/74 [==============================] - 5s 62ms/step - loss: 10728892.0000 - val_loss: 5377155.0000 - lr: 1.0000e-04\n",
            "Epoch 4/200\n",
            "73/74 [============================>.] - ETA: 0s - loss: 14216146.0000\n",
            "Epoch 4: val_loss did not improve from 5377155.00000\n",
            "74/74 [==============================] - 5s 68ms/step - loss: 14234179.0000 - val_loss: 18362950.0000 - lr: 1.0000e-04\n",
            "Epoch 5/200\n",
            "73/74 [============================>.] - ETA: 0s - loss: 28662254.0000\n",
            "Epoch 5: val_loss did not improve from 5377155.00000\n",
            "74/74 [==============================] - 5s 66ms/step - loss: 28568034.0000 - val_loss: 13100634.0000 - lr: 1.0000e-04\n",
            "Epoch 6/200\n",
            "73/74 [============================>.] - ETA: 0s - loss: 7977557.0000\n",
            "Epoch 6: val_loss did not improve from 5377155.00000\n",
            "74/74 [==============================] - 4s 57ms/step - loss: 7950898.5000 - val_loss: 6144613.0000 - lr: 1.0000e-04\n",
            "Epoch 7/200\n",
            "73/74 [============================>.] - ETA: 0s - loss: 4226649.5000\n",
            "Epoch 7: val_loss improved from 5377155.00000 to 5156045.00000, saving model to /content/drive/MyDrive/Cryptocurrency prediction/ETH.hdf5\n",
            "74/74 [==============================] - 5s 68ms/step - loss: 4243508.5000 - val_loss: 5156045.0000 - lr: 2.0000e-05\n",
            "Epoch 8/200\n",
            "73/74 [============================>.] - ETA: 0s - loss: 3357695.7500\n",
            "Epoch 8: val_loss improved from 5156045.00000 to 3214744.25000, saving model to /content/drive/MyDrive/Cryptocurrency prediction/ETH.hdf5\n",
            "74/74 [==============================] - 4s 55ms/step - loss: 3348966.7500 - val_loss: 3214744.2500 - lr: 2.0000e-05\n",
            "Epoch 9/200\n",
            "73/74 [============================>.] - ETA: 0s - loss: 3303008.0000\n",
            "Epoch 9: val_loss did not improve from 3214744.25000\n",
            "74/74 [==============================] - 5s 62ms/step - loss: 3299748.5000 - val_loss: 3273082.5000 - lr: 2.0000e-05\n",
            "Epoch 10/200\n",
            "73/74 [============================>.] - ETA: 0s - loss: 3335623.2500\n",
            "Epoch 10: val_loss improved from 3214744.25000 to 3167470.00000, saving model to /content/drive/MyDrive/Cryptocurrency prediction/ETH.hdf5\n",
            "74/74 [==============================] - 5s 66ms/step - loss: 3323253.2500 - val_loss: 3167470.0000 - lr: 2.0000e-05\n",
            "Epoch 11/200\n",
            "73/74 [============================>.] - ETA: 0s - loss: 3211931.7500\n",
            "Epoch 11: val_loss did not improve from 3167470.00000\n",
            "74/74 [==============================] - 4s 57ms/step - loss: 3200258.0000 - val_loss: 3272716.5000 - lr: 2.0000e-05\n",
            "Epoch 12/200\n",
            "73/74 [============================>.] - ETA: 0s - loss: 3259704.0000\n",
            "Epoch 12: val_loss did not improve from 3167470.00000\n",
            "74/74 [==============================] - 4s 58ms/step - loss: 3252547.2500 - val_loss: 4118721.7500 - lr: 2.0000e-05\n",
            "Epoch 13/200\n",
            "73/74 [============================>.] - ETA: 0s - loss: 3427366.0000\n",
            "Epoch 13: val_loss improved from 3167470.00000 to 2672694.00000, saving model to /content/drive/MyDrive/Cryptocurrency prediction/ETH.hdf5\n",
            "74/74 [==============================] - 5s 66ms/step - loss: 3416740.5000 - val_loss: 2672694.0000 - lr: 2.0000e-05\n",
            "Epoch 14/200\n",
            "73/74 [============================>.] - ETA: 0s - loss: 2788680.7500\n",
            "Epoch 14: val_loss did not improve from 2672694.00000\n",
            "74/74 [==============================] - 4s 56ms/step - loss: 2807880.2500 - val_loss: 3341859.2500 - lr: 2.0000e-05\n",
            "Epoch 15/200\n",
            "73/74 [============================>.] - ETA: 0s - loss: 2922457.0000\n",
            "Epoch 15: val_loss did not improve from 2672694.00000\n",
            "74/74 [==============================] - 5s 67ms/step - loss: 2918270.7500 - val_loss: 7982920.5000 - lr: 2.0000e-05\n",
            "Epoch 16/200\n",
            "73/74 [============================>.] - ETA: 0s - loss: 5249057.0000\n",
            "Epoch 16: val_loss did not improve from 2672694.00000\n",
            "74/74 [==============================] - 4s 57ms/step - loss: 5299101.0000 - val_loss: 5901521.5000 - lr: 2.0000e-05\n",
            "Epoch 17/200\n",
            "73/74 [============================>.] - ETA: 0s - loss: 4369967.0000\n",
            "Epoch 17: val_loss did not improve from 2672694.00000\n",
            "74/74 [==============================] - 4s 55ms/step - loss: 4356093.5000 - val_loss: 6284064.0000 - lr: 4.0000e-06\n",
            "Epoch 18/200\n",
            "73/74 [============================>.] - ETA: 0s - loss: 4219240.5000\n",
            "Epoch 18: val_loss did not improve from 2672694.00000\n",
            "74/74 [==============================] - 4s 55ms/step - loss: 4239147.0000 - val_loss: 5831661.5000 - lr: 4.0000e-06\n",
            "Epoch 19/200\n",
            "73/74 [============================>.] - ETA: 0s - loss: 4111093.0000\n",
            "Epoch 19: val_loss did not improve from 2672694.00000\n",
            "74/74 [==============================] - 4s 54ms/step - loss: 4142870.7500 - val_loss: 6589202.0000 - lr: 4.0000e-06\n",
            "Epoch 20/200\n",
            "73/74 [============================>.] - ETA: 0s - loss: 4023357.7500\n",
            "Epoch 20: val_loss did not improve from 2672694.00000\n",
            "74/74 [==============================] - 4s 54ms/step - loss: 4016663.7500 - val_loss: 6555310.0000 - lr: 1.0000e-06\n",
            "Epoch 21/200\n",
            "73/74 [============================>.] - ETA: 0s - loss: 4005919.0000\n",
            "Epoch 21: val_loss did not improve from 2672694.00000\n",
            "74/74 [==============================] - 4s 54ms/step - loss: 4010758.2500 - val_loss: 6393489.0000 - lr: 1.0000e-06\n",
            "Epoch 22/200\n",
            "73/74 [============================>.] - ETA: 0s - loss: 4025273.7500\n",
            "Epoch 22: val_loss did not improve from 2672694.00000\n",
            "74/74 [==============================] - 4s 55ms/step - loss: 4011103.7500 - val_loss: 6140680.0000 - lr: 1.0000e-06\n",
            "Epoch 23/200\n",
            "73/74 [============================>.] - ETA: 0s - loss: 4079940.5000\n",
            "Epoch 23: val_loss did not improve from 2672694.00000\n",
            "74/74 [==============================] - 4s 55ms/step - loss: 4075021.0000 - val_loss: 5902770.0000 - lr: 1.0000e-06\n",
            "Epoch 24/200\n",
            "73/74 [============================>.] - ETA: 0s - loss: 4059510.2500\n",
            "Epoch 24: val_loss did not improve from 2672694.00000\n",
            "74/74 [==============================] - 4s 55ms/step - loss: 4058762.7500 - val_loss: 6602591.0000 - lr: 1.0000e-06\n",
            "Epoch 25/200\n",
            "73/74 [============================>.] - ETA: 0s - loss: 4003738.7500\n",
            "Epoch 25: val_loss did not improve from 2672694.00000\n",
            "74/74 [==============================] - 4s 54ms/step - loss: 4028568.0000 - val_loss: 6506803.0000 - lr: 1.0000e-06\n",
            "Epoch 26/200\n",
            "73/74 [============================>.] - ETA: 0s - loss: 4030665.7500\n",
            "Epoch 26: val_loss did not improve from 2672694.00000\n",
            "74/74 [==============================] - 4s 58ms/step - loss: 4017333.2500 - val_loss: 5716660.5000 - lr: 1.0000e-06\n",
            "Epoch 27/200\n",
            "73/74 [============================>.] - ETA: 0s - loss: 4088750.0000\n",
            "Epoch 27: val_loss did not improve from 2672694.00000\n",
            "74/74 [==============================] - 4s 60ms/step - loss: 4075104.2500 - val_loss: 5479623.5000 - lr: 1.0000e-06\n",
            "Epoch 28/200\n",
            "73/74 [============================>.] - ETA: 0s - loss: 4136996.5000\n",
            "Epoch 28: val_loss did not improve from 2672694.00000\n",
            "74/74 [==============================] - 4s 58ms/step - loss: 4124371.5000 - val_loss: 5630400.5000 - lr: 1.0000e-06\n"
          ]
        }
      ]
    },
    {
      "cell_type": "code",
      "source": [],
      "metadata": {
        "id": "M70Jg1iUgg7i"
      },
      "execution_count": null,
      "outputs": []
    },
    {
      "cell_type": "code",
      "source": [
        "model_eth.load_weights('/content/drive/MyDrive/Cryptocurrency prediction/ETH.hdf5')                     \n",
        "model_eth.save('/content/drive/MyDrive/Cryptocurrency prediction/ETH.h5')            "
      ],
      "metadata": {
        "id": "du88VPakgcXO"
      },
      "execution_count": 33,
      "outputs": []
    },
    {
      "cell_type": "code",
      "source": [],
      "metadata": {
        "id": "BCeukNfFgpi0"
      },
      "execution_count": null,
      "outputs": []
    },
    {
      "cell_type": "code",
      "source": [
        "# summarize history for loss\n",
        "plt.plot(history_eth.history['loss'])\n",
        "plt.plot(history_eth.history['val_loss'])\n",
        "plt.title('model loss')\n",
        "plt.ylabel('loss')\n",
        "plt.xlabel('epoch')\n",
        "plt.legend(['train', 'validation'], loc='upper left')\n",
        "plt.show()"
      ],
      "metadata": {
        "colab": {
          "base_uri": "https://localhost:8080/",
          "height": 295
        },
        "id": "jrX30-Yigihw",
        "outputId": "20ae1ef7-d90b-4642-eed3-bb41c80da8d0"
      },
      "execution_count": 34,
      "outputs": [
        {
          "output_type": "display_data",
          "data": {
            "text/plain": [
              "<Figure size 432x288 with 1 Axes>"
            ],
            "image/png": "[encoded data removed]"
          },
          "metadata": {
            "needs_background": "light"
          }
        }
      ]
    },
    {
      "cell_type": "code",
      "source": [],
      "metadata": {
        "id": "S5l2NAB2hsW3"
      },
      "execution_count": null,
      "outputs": []
    },
    {
      "cell_type": "code",
      "source": [
        "yhat_eth = model_eth.predict(X_eth_test)\n",
        "yhat_eth = yhat_eth.reshape(yhat_eth.shape[0])\n",
        "\n",
        "eth_trace = go.Scatter(x=list(df_eth['Date'].astype(str)[-100:]), y=yhat_eth[-100:], name= 'Predicted Price')\n",
        "eth_trace2 = go.Scatter(x=list(df_eth['Date'].astype(str)[-100:]), y=y_eth_test[-100:], name= 'Real Price')\n",
        "\n",
        "py.iplot([eth_trace, eth_trace2])"
      ],
      "metadata": {
        "colab": {
          "base_uri": "https://localhost:8080/",
          "height": 559
        },
        "id": "t4SaWiGcgTcn",
        "outputId": "9f9767a3-4751-4f47-8be9-233384f81ccb"
      },
      "execution_count": 39,
      "outputs": [
        {
          "output_type": "stream",
          "name": "stdout",
          "text": [
            "6/6 [==============================] - 0s 33ms/step\n"
          ]
        },
        {
          "output_type": "display_data",
          "data": {
            "text/html": [
              "<html>\n",
              "<head><meta charset=\"utf-8\" /></head>\n",
              "<body>\n",
              "    <div>            <script src=\"https://cdnjs.cloudflare.com/ajax/libs/mathjax/2.7.5/MathJax.js?config=TeX-AMS-MML_SVG\"></script><script type=\"text/javascript\">if (window.MathJax) {MathJax.Hub.Config({SVG: {font: \"STIX-Web\"}});}</script>                <script type=\"text/javascript\">window.PlotlyConfig = {MathJaxConfig: 'local'};</script>\n",
              "        <script src=\"https://cdn.plot.ly/plotly-2.8.3.min.js\"></script>                <div id=\"d4950cf8-20b6-4128-914d-de79d2195ec9\" class=\"plotly-graph-div\" style=\"height:525px; width:100%;\"></div>            <script type=\"text/javascript\">                                    window.PLOTLYENV=window.PLOTLYENV || {};                                    if (document.getElementById(\"d4950cf8-20b6-4128-914d-de79d2195ec9\")) {                    Plotly.newPlot(                        \"d4950cf8-20b6-4128-914d-de79d2195ec9\",                        [{\"name\":\"Predicted Price\",\"x\":[\"2022-07-21\",\"2022-07-22\",\"2022-07-23\",\"2022-07-24\",\"2022-07-25\",\"2022-07-26\",\"2022-07-27\",\"2022-07-28\",\"2022-07-29\",\"2022-07-30\",\"2022-07-31\",\"2022-08-01\",\"2022-08-02\",\"2022-08-03\",\"2022-08-04\",\"2022-08-05\",\"2022-08-06\",\"2022-08-07\",\"2022-08-08\",\"2022-08-09\",\"2022-08-10\",\"2022-08-11\",\"2022-08-12\",\"2022-08-13\",\"2022-08-14\",\"2022-08-15\",\"2022-08-16\",\"2022-08-17\",\"2022-08-18\",\"2022-08-19\",\"2022-08-20\",\"2022-08-21\",\"2022-08-22\",\"2022-08-23\",\"2022-08-24\",\"2022-08-25\",\"2022-08-26\",\"2022-08-27\",\"2022-08-28\",\"2022-08-29\",\"2022-08-30\",\"2022-08-31\",\"2022-09-01\",\"2022-09-02\",\"2022-09-03\",\"2022-09-04\",\"2022-09-05\",\"2022-09-06\",\"2022-09-07\",\"2022-09-08\",\"2022-09-09\",\"2022-09-10\",\"2022-09-11\",\"2022-09-12\",\"2022-09-13\",\"2022-09-14\",\"2022-09-15\",\"2022-09-16\",\"2022-09-17\",\"2022-09-18\",\"2022-09-19\",\"2022-09-20\",\"2022-09-21\",\"2022-09-22\",\"2022-09-23\",\"2022-09-24\",\"2022-09-25\",\"2022-09-26\",\"2022-09-27\",\"2022-09-28\",\"2022-09-29\",\"2022-09-30\",\"2022-10-01\",\"2022-10-02\",\"2022-10-03\",\"2022-10-04\",\"2022-10-05\",\"2022-10-06\",\"2022-10-07\",\"2022-10-08\",\"2022-10-09\",\"2022-10-10\",\"2022-10-11\",\"2022-10-12\",\"2022-10-13\",\"2022-10-14\",\"2022-10-15\",\"2022-10-16\",\"2022-10-17\",\"2022-10-18\",\"2022-10-19\",\"2022-10-20\",\"2022-10-21\",\"2022-10-22\",\"2022-10-23\",\"2022-10-24\",\"2022-10-25\",\"2022-10-26\",\"2022-10-27\",\"2022-10-28\"],\"y\":[121.23612976074219,170.2364044189453,210.14239501953125,2555.8681640625,281.7854309082031,1993.3477783203125,433.8418273925781,169.4158477783203,122.99829864501953,2081.7900390625,272.22869873046875,1821.922119140625,4268.11767578125,1911.47265625,371.4747314453125,3388.833251953125,346.8232421875,3193.607421875,2984.427734375,130.41909790039062,217.5757598876953,1596.395751953125,4206.62890625,136.0369873046875,515.4899291992188,1958.8004150390625,1368.9429931640625,114.36439514160156,534.1490478515625,309.70477294921875,195.4495391845703,4371.5009765625,214.05389404296875,2884.85400390625,433.6725769042969,1989.3238525390625,172.68675231933594,246.3656463623047,1485.23876953125,112.18148803710938,315.07647705078125,715.376708984375,1393.207763671875,2808.93017578125,133.96327209472656,3026.34521484375,2497.93017578125,326.6300048828125,1666.1085205078125,2016.3558349609375,419.9947814941406,381.1962585449219,445.34442138671875,324.908935546875,225.77154541015625,3229.4853515625,2991.54833984375,123.7038345336914,972.4791870117188,583.49169921875,3802.1748046875,120.22586822509766,888.625244140625,364.42279052734375,1582.2012939453125,171.08387756347656,195.93580627441406,266.6333312988281,3163.4912109375,116.58560180664062,222.47357177734375,215.407470703125,117.24286651611328,189.13185119628906,1241.2998046875,323.4473571777344,1009.5360717773438,419.7923583984375,208.94876098632812,2860.561767578125,1019.4686279296875,193.55809020996094,954.77783203125,576.340087890625,165.182861328125,5149.6337890625,2943.42626953125,2172.042236328125,3773.53173828125,1164.8387451171875,408.7843017578125,3224.026611328125,107.96127319335938,231.3519287109375,3613.348388671875,915.6842041015625,1175.4085693359375,207.8423309326172,195.7038116455078,205.19264221191406],\"type\":\"scatter\"},{\"name\":\"Real Price\",\"x\":[\"2022-07-21\",\"2022-07-22\",\"2022-07-23\",\"2022-07-24\",\"2022-07-25\",\"2022-07-26\",\"2022-07-27\",\"2022-07-28\",\"2022-07-29\",\"2022-07-30\",\"2022-07-31\",\"2022-08-01\",\"2022-08-02\",\"2022-08-03\",\"2022-08-04\",\"2022-08-05\",\"2022-08-06\",\"2022-08-07\",\"2022-08-08\",\"2022-08-09\",\"2022-08-10\",\"2022-08-11\",\"2022-08-12\",\"2022-08-13\",\"2022-08-14\",\"2022-08-15\",\"2022-08-16\",\"2022-08-17\",\"2022-08-18\",\"2022-08-19\",\"2022-08-20\",\"2022-08-21\",\"2022-08-22\",\"2022-08-23\",\"2022-08-24\",\"2022-08-25\",\"2022-08-26\",\"2022-08-27\",\"2022-08-28\",\"2022-08-29\",\"2022-08-30\",\"2022-08-31\",\"2022-09-01\",\"2022-09-02\",\"2022-09-03\",\"2022-09-04\",\"2022-09-05\",\"2022-09-06\",\"2022-09-07\",\"2022-09-08\",\"2022-09-09\",\"2022-09-10\",\"2022-09-11\",\"2022-09-12\",\"2022-09-13\",\"2022-09-14\",\"2022-09-15\",\"2022-09-16\",\"2022-09-17\",\"2022-09-18\",\"2022-09-19\",\"2022-09-20\",\"2022-09-21\",\"2022-09-22\",\"2022-09-23\",\"2022-09-24\",\"2022-09-25\",\"2022-09-26\",\"2022-09-27\",\"2022-09-28\",\"2022-09-29\",\"2022-09-30\",\"2022-10-01\",\"2022-10-02\",\"2022-10-03\",\"2022-10-04\",\"2022-10-05\",\"2022-10-06\",\"2022-10-07\",\"2022-10-08\",\"2022-10-09\",\"2022-10-10\",\"2022-10-11\",\"2022-10-12\",\"2022-10-13\",\"2022-10-14\",\"2022-10-15\",\"2022-10-16\",\"2022-10-17\",\"2022-10-18\",\"2022-10-19\",\"2022-10-20\",\"2022-10-21\",\"2022-10-22\",\"2022-10-23\",\"2022-10-24\",\"2022-10-25\",\"2022-10-26\",\"2022-10-27\",\"2022-10-28\"],\"y\":[143.963776,150.268173,194.86853,2353.768799,291.596436,2633.518311,473.502014,170.503479,134.206955,2274.547607,295.812012,1957.24646,4134.453125,1978.894653,365.590485,3336.634521,286.494995,3013.732666,2455.935059,172.641739,200.689056,1814.109863,4067.328125,152.539688,499.641998,1678.650146,1553.684937,133.937943,519.742004,310.424683,203.328995,4620.554688,243.525299,3391.694336,462.436005,2090.40918,197.113174,268.113556,1776.203735,140.819412,268.704041,723.338989,1351.709473,2945.343018,146.267044,2827.756104,2662.865234,320.058899,1846.033691,1475.703735,472.493011,414.067352,434.027008,294.267639,241.221985,3019.909424,3902.647705,145.873932,1143.386719,557.174988,3432.018311,135.031021,980.921997,340.815857,1695.969482,174.92099,205.141998,305.700562,3014.845947,133.711594,196.923996,222.218002,116.449997,197.875,1317.993286,334.586639,915.784973,446.518005,207.40831,3179.877197,1246.01001,200.634995,1058.780029,647.031982,217.148575,4667.115234,2617.156006,1988.456299,3427.340088,1257.279541,491.660004,3212.304932,122.032715,249.484985,3380.089111,1118.310059,993.63678,265.406128,175.177002,212.728516],\"type\":\"scatter\"}],                        {\"template\":{\"data\":{\"barpolar\":[{\"marker\":{\"line\":{\"color\":\"#E5ECF6\",\"width\":0.5},\"pattern\":{\"fillmode\":\"overlay\",\"size\":10,\"solidity\":0.2}},\"type\":\"barpolar\"}],\"bar\":[{\"error_x\":{\"color\":\"#2a3f5f\"},\"error_y\":{\"color\":\"#2a3f5f\"},\"marker\":{\"line\":{\"color\":\"#E5ECF6\",\"width\":0.5},\"pattern\":{\"fillmode\":\"overlay\",\"size\":10,\"solidity\":0.2}},\"type\":\"bar\"}],\"carpet\":[{\"aaxis\":{\"endlinecolor\":\"#2a3f5f\",\"gridcolor\":\"white\",\"linecolor\":\"white\",\"minorgridcolor\":\"white\",\"startlinecolor\":\"#2a3f5f\"},\"baxis\":{\"endlinecolor\":\"#2a3f5f\",\"gridcolor\":\"white\",\"linecolor\":\"white\",\"minorgridcolor\":\"white\",\"startlinecolor\":\"#2a3f5f\"},\"type\":\"carpet\"}],\"choropleth\":[{\"colorbar\":{\"outlinewidth\":0,\"ticks\":\"\"},\"type\":\"choropleth\"}],\"contourcarpet\":[{\"colorbar\":{\"outlinewidth\":0,\"ticks\":\"\"},\"type\":\"contourcarpet\"}],\"contour\":[{\"colorbar\":{\"outlinewidth\":0,\"ticks\":\"\"},\"colorscale\":[[0.0,\"#0d0887\"],[0.1111111111111111,\"#46039f\"],[0.2222222222222222,\"#7201a8\"],[0.3333333333333333,\"#9c179e\"],[0.4444444444444444,\"#bd3786\"],[0.5555555555555556,\"#d8576b\"],[0.6666666666666666,\"#ed7953\"],[0.7777777777777778,\"#fb9f3a\"],[0.8888888888888888,\"#fdca26\"],[1.0,\"#f0f921\"]],\"type\":\"contour\"}],\"heatmapgl\":[{\"colorbar\":{\"outlinewidth\":0,\"ticks\":\"\"},\"colorscale\":[[0.0,\"#0d0887\"],[0.1111111111111111,\"#46039f\"],[0.2222222222222222,\"#7201a8\"],[0.3333333333333333,\"#9c179e\"],[0.4444444444444444,\"#bd3786\"],[0.5555555555555556,\"#d8576b\"],[0.6666666666666666,\"#ed7953\"],[0.7777777777777778,\"#fb9f3a\"],[0.8888888888888888,\"#fdca26\"],[1.0,\"#f0f921\"]],\"type\":\"heatmapgl\"}],\"heatmap\":[{\"colorbar\":{\"outlinewidth\":0,\"ticks\":\"\"},\"colorscale\":[[0.0,\"#0d0887\"],[0.1111111111111111,\"#46039f\"],[0.2222222222222222,\"#7201a8\"],[0.3333333333333333,\"#9c179e\"],[0.4444444444444444,\"#bd3786\"],[0.5555555555555556,\"#d8576b\"],[0.6666666666666666,\"#ed7953\"],[0.7777777777777778,\"#fb9f3a\"],[0.8888888888888888,\"#fdca26\"],[1.0,\"#f0f921\"]],\"type\":\"heatmap\"}],\"histogram2dcontour\":[{\"colorbar\":{\"outlinewidth\":0,\"ticks\":\"\"},\"colorscale\":[[0.0,\"#0d0887\"],[0.1111111111111111,\"#46039f\"],[0.2222222222222222,\"#7201a8\"],[0.3333333333333333,\"#9c179e\"],[0.4444444444444444,\"#bd3786\"],[0.5555555555555556,\"#d8576b\"],[0.6666666666666666,\"#ed7953\"],[0.7777777777777778,\"#fb9f3a\"],[0.8888888888888888,\"#fdca26\"],[1.0,\"#f0f921\"]],\"type\":\"histogram2dcontour\"}],\"histogram2d\":[{\"colorbar\":{\"outlinewidth\":0,\"ticks\":\"\"},\"colorscale\":[[0.0,\"#0d0887\"],[0.1111111111111111,\"#46039f\"],[0.2222222222222222,\"#7201a8\"],[0.3333333333333333,\"#9c179e\"],[0.4444444444444444,\"#bd3786\"],[0.5555555555555556,\"#d8576b\"],[0.6666666666666666,\"#ed7953\"],[0.7777777777777778,\"#fb9f3a\"],[0.8888888888888888,\"#fdca26\"],[1.0,\"#f0f921\"]],\"type\":\"histogram2d\"}],\"histogram\":[{\"marker\":{\"pattern\":{\"fillmode\":\"overlay\",\"size\":10,\"solidity\":0.2}},\"type\":\"histogram\"}],\"mesh3d\":[{\"colorbar\":{\"outlinewidth\":0,\"ticks\":\"\"},\"type\":\"mesh3d\"}],\"parcoords\":[{\"line\":{\"colorbar\":{\"outlinewidth\":0,\"ticks\":\"\"}},\"type\":\"parcoords\"}],\"pie\":[{\"automargin\":true,\"type\":\"pie\"}],\"scatter3d\":[{\"line\":{\"colorbar\":{\"outlinewidth\":0,\"ticks\":\"\"}},\"marker\":{\"colorbar\":{\"outlinewidth\":0,\"ticks\":\"\"}},\"type\":\"scatter3d\"}],\"scattercarpet\":[{\"marker\":{\"colorbar\":{\"outlinewidth\":0,\"ticks\":\"\"}},\"type\":\"scattercarpet\"}],\"scattergeo\":[{\"marker\":{\"colorbar\":{\"outlinewidth\":0,\"ticks\":\"\"}},\"type\":\"scattergeo\"}],\"scattergl\":[{\"marker\":{\"colorbar\":{\"outlinewidth\":0,\"ticks\":\"\"}},\"type\":\"scattergl\"}],\"scattermapbox\":[{\"marker\":{\"colorbar\":{\"outlinewidth\":0,\"ticks\":\"\"}},\"type\":\"scattermapbox\"}],\"scatterpolargl\":[{\"marker\":{\"colorbar\":{\"outlinewidth\":0,\"ticks\":\"\"}},\"type\":\"scatterpolargl\"}],\"scatterpolar\":[{\"marker\":{\"colorbar\":{\"outlinewidth\":0,\"ticks\":\"\"}},\"type\":\"scatterpolar\"}],\"scatter\":[{\"marker\":{\"colorbar\":{\"outlinewidth\":0,\"ticks\":\"\"}},\"type\":\"scatter\"}],\"scatterternary\":[{\"marker\":{\"colorbar\":{\"outlinewidth\":0,\"ticks\":\"\"}},\"type\":\"scatterternary\"}],\"surface\":[{\"colorbar\":{\"outlinewidth\":0,\"ticks\":\"\"},\"colorscale\":[[0.0,\"#0d0887\"],[0.1111111111111111,\"#46039f\"],[0.2222222222222222,\"#7201a8\"],[0.3333333333333333,\"#9c179e\"],[0.4444444444444444,\"#bd3786\"],[0.5555555555555556,\"#d8576b\"],[0.6666666666666666,\"#ed7953\"],[0.7777777777777778,\"#fb9f3a\"],[0.8888888888888888,\"#fdca26\"],[1.0,\"#f0f921\"]],\"type\":\"surface\"}],\"table\":[{\"cells\":{\"fill\":{\"color\":\"#EBF0F8\"},\"line\":{\"color\":\"white\"}},\"header\":{\"fill\":{\"color\":\"#C8D4E3\"},\"line\":{\"color\":\"white\"}},\"type\":\"table\"}]},\"layout\":{\"annotationdefaults\":{\"arrowcolor\":\"#2a3f5f\",\"arrowhead\":0,\"arrowwidth\":1},\"autotypenumbers\":\"strict\",\"coloraxis\":{\"colorbar\":{\"outlinewidth\":0,\"ticks\":\"\"}},\"colorscale\":{\"diverging\":[[0,\"#8e0152\"],[0.1,\"#c51b7d\"],[0.2,\"#de77ae\"],[0.3,\"#f1b6da\"],[0.4,\"#fde0ef\"],[0.5,\"#f7f7f7\"],[0.6,\"#e6f5d0\"],[0.7,\"#b8e186\"],[0.8,\"#7fbc41\"],[0.9,\"#4d9221\"],[1,\"#276419\"]],\"sequential\":[[0.0,\"#0d0887\"],[0.1111111111111111,\"#46039f\"],[0.2222222222222222,\"#7201a8\"],[0.3333333333333333,\"#9c179e\"],[0.4444444444444444,\"#bd3786\"],[0.5555555555555556,\"#d8576b\"],[0.6666666666666666,\"#ed7953\"],[0.7777777777777778,\"#fb9f3a\"],[0.8888888888888888,\"#fdca26\"],[1.0,\"#f0f921\"]],\"sequentialminus\":[[0.0,\"#0d0887\"],[0.1111111111111111,\"#46039f\"],[0.2222222222222222,\"#7201a8\"],[0.3333333333333333,\"#9c179e\"],[0.4444444444444444,\"#bd3786\"],[0.5555555555555556,\"#d8576b\"],[0.6666666666666666,\"#ed7953\"],[0.7777777777777778,\"#fb9f3a\"],[0.8888888888888888,\"#fdca26\"],[1.0,\"#f0f921\"]]},\"colorway\":[\"#636efa\",\"#EF553B\",\"#00cc96\",\"#ab63fa\",\"#FFA15A\",\"#19d3f3\",\"#FF6692\",\"#B6E880\",\"#FF97FF\",\"#FECB52\"],\"font\":{\"color\":\"#2a3f5f\"},\"geo\":{\"bgcolor\":\"white\",\"lakecolor\":\"white\",\"landcolor\":\"#E5ECF6\",\"showlakes\":true,\"showland\":true,\"subunitcolor\":\"white\"},\"hoverlabel\":{\"align\":\"left\"},\"hovermode\":\"closest\",\"mapbox\":{\"style\":\"light\"},\"paper_bgcolor\":\"white\",\"plot_bgcolor\":\"#E5ECF6\",\"polar\":{\"angularaxis\":{\"gridcolor\":\"white\",\"linecolor\":\"white\",\"ticks\":\"\"},\"bgcolor\":\"#E5ECF6\",\"radialaxis\":{\"gridcolor\":\"white\",\"linecolor\":\"white\",\"ticks\":\"\"}},\"scene\":{\"xaxis\":{\"backgroundcolor\":\"#E5ECF6\",\"gridcolor\":\"white\",\"gridwidth\":2,\"linecolor\":\"white\",\"showbackground\":true,\"ticks\":\"\",\"zerolinecolor\":\"white\"},\"yaxis\":{\"backgroundcolor\":\"#E5ECF6\",\"gridcolor\":\"white\",\"gridwidth\":2,\"linecolor\":\"white\",\"showbackground\":true,\"ticks\":\"\",\"zerolinecolor\":\"white\"},\"zaxis\":{\"backgroundcolor\":\"#E5ECF6\",\"gridcolor\":\"white\",\"gridwidth\":2,\"linecolor\":\"white\",\"showbackground\":true,\"ticks\":\"\",\"zerolinecolor\":\"white\"}},\"shapedefaults\":{\"line\":{\"color\":\"#2a3f5f\"}},\"ternary\":{\"aaxis\":{\"gridcolor\":\"white\",\"linecolor\":\"white\",\"ticks\":\"\"},\"baxis\":{\"gridcolor\":\"white\",\"linecolor\":\"white\",\"ticks\":\"\"},\"bgcolor\":\"#E5ECF6\",\"caxis\":{\"gridcolor\":\"white\",\"linecolor\":\"white\",\"ticks\":\"\"}},\"title\":{\"x\":0.05},\"xaxis\":{\"automargin\":true,\"gridcolor\":\"white\",\"linecolor\":\"white\",\"ticks\":\"\",\"title\":{\"standoff\":15},\"zerolinecolor\":\"white\",\"zerolinewidth\":2},\"yaxis\":{\"automargin\":true,\"gridcolor\":\"white\",\"linecolor\":\"white\",\"ticks\":\"\",\"title\":{\"standoff\":15},\"zerolinecolor\":\"white\",\"zerolinewidth\":2}}}},                        {\"responsive\": true}                    ).then(function(){\n",
              "                            \n",
              "var gd = document.getElementById('d4950cf8-20b6-4128-914d-de79d2195ec9');\n",
              "var x = new MutationObserver(function (mutations, observer) {{\n",
              "        var display = window.getComputedStyle(gd).display;\n",
              "        if (!display || display === 'none') {{\n",
              "            console.log([gd, 'removed!']);\n",
              "            Plotly.purge(gd);\n",
              "            observer.disconnect();\n",
              "        }}\n",
              "}});\n",
              "\n",
              "// Listen for the removal of the full notebook cells\n",
              "var notebookContainer = gd.closest('#notebook-container');\n",
              "if (notebookContainer) {{\n",
              "    x.observe(notebookContainer, {childList: true});\n",
              "}}\n",
              "\n",
              "// Listen for the clearing of the current output cell\n",
              "var outputEl = gd.closest('.output');\n",
              "if (outputEl) {{\n",
              "    x.observe(outputEl, {childList: true});\n",
              "}}\n",
              "\n",
              "                        })                };                            </script>        </div>\n",
              "</body>\n",
              "</html>"
            ]
          },
          "metadata": {}
        }
      ]
    },
    {
      "cell_type": "code",
      "source": [],
      "metadata": {
        "id": "dOVWbdQugTaM"
      },
      "execution_count": null,
      "outputs": []
    },
    {
      "cell_type": "code",
      "source": [],
      "metadata": {
        "id": "ilO8rmX8gTYD"
      },
      "execution_count": null,
      "outputs": []
    },
    {
      "cell_type": "code",
      "source": [
        "\n",
        "#callbacks\n",
        "checkpoiter = tf.keras.callbacks.ModelCheckpoint('/content/drive/MyDrive/Cryptocurrency prediction/USDT.hdf5', verbose = 1, save_best_only = True,  monitor='val_loss', mode='min')\n",
        "\n",
        "history_usdt = model_usdt.fit(X_usdt_train, y_usdt_train, epochs=200, verbose=1, validation_split=0.1, callbacks=[checkpoiter,\n",
        "                                                                                    early_stop, reduce_lr])"
      ],
      "metadata": {
        "colab": {
          "base_uri": "https://localhost:8080/"
        },
        "id": "0QIHsT2rgTVr",
        "outputId": "eb594e83-9762-43ec-fb76-2d2d93c49379"
      },
      "execution_count": 40,
      "outputs": [
        {
          "output_type": "stream",
          "name": "stdout",
          "text": [
            "Epoch 1/200\n",
            "46/46 [==============================] - ETA: 0s - loss: 0.8617\n",
            "Epoch 1: val_loss improved from inf to 0.63380, saving model to /content/drive/MyDrive/Cryptocurrency prediction/USDT.hdf5\n",
            "46/46 [==============================] - 7s 77ms/step - loss: 0.8617 - val_loss: 0.6338 - lr: 1.0000e-04\n",
            "Epoch 2/200\n",
            "45/46 [============================>.] - ETA: 0s - loss: 0.2010\n",
            "Epoch 2: val_loss improved from 0.63380 to 0.00655, saving model to /content/drive/MyDrive/Cryptocurrency prediction/USDT.hdf5\n",
            "46/46 [==============================] - 3s 65ms/step - loss: 0.1978 - val_loss: 0.0065 - lr: 1.0000e-04\n",
            "Epoch 3/200\n",
            "46/46 [==============================] - ETA: 0s - loss: 0.0015\n",
            "Epoch 3: val_loss improved from 0.00655 to 0.00002, saving model to /content/drive/MyDrive/Cryptocurrency prediction/USDT.hdf5\n",
            "46/46 [==============================] - 3s 57ms/step - loss: 0.0015 - val_loss: 2.2701e-05 - lr: 1.0000e-04\n",
            "Epoch 4/200\n",
            "46/46 [==============================] - ETA: 0s - loss: 3.4547e-05\n",
            "Epoch 4: val_loss improved from 0.00002 to 0.00002, saving model to /content/drive/MyDrive/Cryptocurrency prediction/USDT.hdf5\n",
            "46/46 [==============================] - 3s 67ms/step - loss: 3.4547e-05 - val_loss: 2.1945e-05 - lr: 1.0000e-04\n",
            "Epoch 5/200\n",
            "46/46 [==============================] - ETA: 0s - loss: 2.5875e-05\n",
            "Epoch 5: val_loss improved from 0.00002 to 0.00002, saving model to /content/drive/MyDrive/Cryptocurrency prediction/USDT.hdf5\n",
            "46/46 [==============================] - 3s 73ms/step - loss: 2.5875e-05 - val_loss: 2.1373e-05 - lr: 1.0000e-04\n",
            "Epoch 6/200\n",
            "46/46 [==============================] - ETA: 0s - loss: 2.5865e-05\n",
            "Epoch 6: val_loss did not improve from 0.00002\n",
            "46/46 [==============================] - 3s 68ms/step - loss: 2.5865e-05 - val_loss: 2.2037e-05 - lr: 1.0000e-04\n",
            "Epoch 7/200\n",
            "46/46 [==============================] - ETA: 0s - loss: 2.5808e-05\n",
            "Epoch 7: val_loss improved from 0.00002 to 0.00002, saving model to /content/drive/MyDrive/Cryptocurrency prediction/USDT.hdf5\n",
            "46/46 [==============================] - 3s 68ms/step - loss: 2.5808e-05 - val_loss: 2.1294e-05 - lr: 2.0000e-05\n",
            "Epoch 8/200\n",
            "46/46 [==============================] - ETA: 0s - loss: 2.5838e-05\n",
            "Epoch 8: val_loss did not improve from 0.00002\n",
            "46/46 [==============================] - 3s 69ms/step - loss: 2.5838e-05 - val_loss: 2.1364e-05 - lr: 2.0000e-05\n",
            "Epoch 9/200\n",
            "45/46 [============================>.] - ETA: 0s - loss: 2.5994e-05\n",
            "Epoch 9: val_loss did not improve from 0.00002\n",
            "46/46 [==============================] - 3s 65ms/step - loss: 2.5854e-05 - val_loss: 2.1805e-05 - lr: 2.0000e-05\n",
            "Epoch 10/200\n",
            "45/46 [============================>.] - ETA: 0s - loss: 2.5948e-05\n",
            "Epoch 10: val_loss did not improve from 0.00002\n",
            "46/46 [==============================] - 3s 57ms/step - loss: 2.5808e-05 - val_loss: 2.1585e-05 - lr: 4.0000e-06\n",
            "Epoch 11/200\n",
            "45/46 [============================>.] - ETA: 0s - loss: 2.5916e-05\n",
            "Epoch 11: val_loss did not improve from 0.00002\n",
            "46/46 [==============================] - 3s 55ms/step - loss: 2.5800e-05 - val_loss: 2.1547e-05 - lr: 4.0000e-06\n",
            "Epoch 12/200\n",
            "45/46 [============================>.] - ETA: 0s - loss: 2.5395e-05\n",
            "Epoch 12: val_loss did not improve from 0.00002\n",
            "46/46 [==============================] - 3s 55ms/step - loss: 2.5795e-05 - val_loss: 2.1666e-05 - lr: 4.0000e-06\n",
            "Epoch 13/200\n",
            "46/46 [==============================] - ETA: 0s - loss: 2.5769e-05\n",
            "Epoch 13: val_loss did not improve from 0.00002\n",
            "46/46 [==============================] - 3s 55ms/step - loss: 2.5769e-05 - val_loss: 2.1661e-05 - lr: 1.0000e-06\n",
            "Epoch 14/200\n",
            "46/46 [==============================] - ETA: 0s - loss: 2.5777e-05\n",
            "Epoch 14: val_loss did not improve from 0.00002\n",
            "46/46 [==============================] - 3s 62ms/step - loss: 2.5777e-05 - val_loss: 2.1653e-05 - lr: 1.0000e-06\n",
            "Epoch 15/200\n",
            "46/46 [==============================] - ETA: 0s - loss: 2.5768e-05\n",
            "Epoch 15: val_loss did not improve from 0.00002\n",
            "46/46 [==============================] - 3s 66ms/step - loss: 2.5768e-05 - val_loss: 2.1630e-05 - lr: 1.0000e-06\n",
            "Epoch 16/200\n",
            "45/46 [============================>.] - ETA: 0s - loss: 2.5449e-05\n",
            "Epoch 16: val_loss did not improve from 0.00002\n",
            "46/46 [==============================] - 4s 77ms/step - loss: 2.5765e-05 - val_loss: 2.1615e-05 - lr: 1.0000e-06\n",
            "Epoch 17/200\n",
            "46/46 [==============================] - ETA: 0s - loss: 2.5767e-05\n",
            "Epoch 17: val_loss did not improve from 0.00002\n",
            "46/46 [==============================] - 4s 86ms/step - loss: 2.5767e-05 - val_loss: 2.1609e-05 - lr: 1.0000e-06\n",
            "Epoch 18/200\n",
            "45/46 [============================>.] - ETA: 0s - loss: 2.5872e-05\n",
            "Epoch 18: val_loss did not improve from 0.00002\n",
            "46/46 [==============================] - 3s 65ms/step - loss: 2.5767e-05 - val_loss: 2.1614e-05 - lr: 1.0000e-06\n",
            "Epoch 19/200\n",
            "46/46 [==============================] - ETA: 0s - loss: 2.5771e-05\n",
            "Epoch 19: val_loss did not improve from 0.00002\n",
            "46/46 [==============================] - 3s 56ms/step - loss: 2.5771e-05 - val_loss: 2.1603e-05 - lr: 1.0000e-06\n",
            "Epoch 20/200\n",
            "46/46 [==============================] - ETA: 0s - loss: 2.5767e-05\n",
            "Epoch 20: val_loss did not improve from 0.00002\n",
            "46/46 [==============================] - 4s 89ms/step - loss: 2.5767e-05 - val_loss: 2.1608e-05 - lr: 1.0000e-06\n",
            "Epoch 21/200\n",
            "46/46 [==============================] - ETA: 0s - loss: 2.5774e-05\n",
            "Epoch 21: val_loss did not improve from 0.00002\n",
            "46/46 [==============================] - 3s 66ms/step - loss: 2.5774e-05 - val_loss: 2.1567e-05 - lr: 1.0000e-06\n",
            "Epoch 22/200\n",
            "46/46 [==============================] - ETA: 0s - loss: 2.5772e-05\n",
            "Epoch 22: val_loss did not improve from 0.00002\n",
            "46/46 [==============================] - 3s 71ms/step - loss: 2.5772e-05 - val_loss: 2.1640e-05 - lr: 1.0000e-06\n"
          ]
        }
      ]
    },
    {
      "cell_type": "code",
      "source": [],
      "metadata": {
        "id": "vlpDtIkaiPvy"
      },
      "execution_count": null,
      "outputs": []
    },
    {
      "cell_type": "code",
      "source": [
        "model_usdt.load_weights('/content/drive/MyDrive/Cryptocurrency prediction/USDT.hdf5')                     \n",
        "model_usdt.save('/content/drive/MyDrive/Cryptocurrency prediction/USDT.h5')            "
      ],
      "metadata": {
        "id": "FCV9_zc8gTTQ"
      },
      "execution_count": 41,
      "outputs": []
    },
    {
      "cell_type": "code",
      "source": [
        "# summarize history for loss\n",
        "plt.plot(history_usdt.history['loss'])\n",
        "plt.plot(history_usdt.history['val_loss'])\n",
        "plt.title('model loss')\n",
        "plt.ylabel('loss')\n",
        "plt.xlabel('epoch')\n",
        "plt.legend(['train', 'validation'], loc='upper left')\n",
        "plt.show()"
      ],
      "metadata": {
        "colab": {
          "base_uri": "https://localhost:8080/",
          "height": 295
        },
        "id": "dJW4HGOAgTRG",
        "outputId": "7054fb43-2c95-4788-9b51-71550c070ee6"
      },
      "execution_count": 42,
      "outputs": [
        {
          "output_type": "display_data",
          "data": {
            "text/plain": [
              "<Figure size 432x288 with 1 Axes>"
            ],
            "image/png": "[encoded data removed]"
          },
          "metadata": {
            "needs_background": "light"
          }
        }
      ]
    },
    {
      "cell_type": "code",
      "source": [
        "yhat_usdt = model_usdt.predict(X_usdt_test)\n",
        "yhat_usdt = yhat_usdt.reshape(yhat_usdt.shape[0])\n",
        "\n",
        "usdt_trace = go.Scatter(x=list(df_usdt['Date'].astype(str)[-100:]), y=yhat_usdt[-100:], name= 'Predicted Price')\n",
        "usdt_trace2 = go.Scatter(x=list(df_usdt['Date'].astype(str)[-100:]), y=y_usdt_test[-100:], name= 'Real Price')\n",
        "\n",
        "py.iplot([usdt_trace, usdt_trace2])"
      ],
      "metadata": {
        "colab": {
          "base_uri": "https://localhost:8080/",
          "height": 559
        },
        "id": "PxVd25aQiTnc",
        "outputId": "90c20f0c-6b02-4538-91c4-201f78b42a4a"
      },
      "execution_count": 44,
      "outputs": [
        {
          "output_type": "stream",
          "name": "stdout",
          "text": [
            "6/6 [==============================] - 0s 18ms/step\n"
          ]
        },
        {
          "output_type": "display_data",
          "data": {
            "text/html": [
              "<html>\n",
              "<head><meta charset=\"utf-8\" /></head>\n",
              "<body>\n",
              "    <div>            <script src=\"https://cdnjs.cloudflare.com/ajax/libs/mathjax/2.7.5/MathJax.js?config=TeX-AMS-MML_SVG\"></script><script type=\"text/javascript\">if (window.MathJax) {MathJax.Hub.Config({SVG: {font: \"STIX-Web\"}});}</script>                <script type=\"text/javascript\">window.PlotlyConfig = {MathJaxConfig: 'local'};</script>\n",
              "        <script src=\"https://cdn.plot.ly/plotly-2.8.3.min.js\"></script>                <div id=\"fbe9a317-598a-49df-b5d1-995dfb3e1c23\" class=\"plotly-graph-div\" style=\"height:525px; width:100%;\"></div>            <script type=\"text/javascript\">                                    window.PLOTLYENV=window.PLOTLYENV || {};                                    if (document.getElementById(\"fbe9a317-598a-49df-b5d1-995dfb3e1c23\")) {                    Plotly.newPlot(                        \"fbe9a317-598a-49df-b5d1-995dfb3e1c23\",                        [{\"name\":\"Predicted Price\",\"x\":[\"2022-07-21\",\"2022-07-22\",\"2022-07-23\",\"2022-07-24\",\"2022-07-25\",\"2022-07-26\",\"2022-07-27\",\"2022-07-28\",\"2022-07-29\",\"2022-07-30\",\"2022-07-31\",\"2022-08-01\",\"2022-08-02\",\"2022-08-03\",\"2022-08-04\",\"2022-08-05\",\"2022-08-06\",\"2022-08-07\",\"2022-08-08\",\"2022-08-09\",\"2022-08-10\",\"2022-08-11\",\"2022-08-12\",\"2022-08-13\",\"2022-08-14\",\"2022-08-15\",\"2022-08-16\",\"2022-08-17\",\"2022-08-18\",\"2022-08-19\",\"2022-08-20\",\"2022-08-21\",\"2022-08-22\",\"2022-08-23\",\"2022-08-24\",\"2022-08-25\",\"2022-08-26\",\"2022-08-27\",\"2022-08-28\",\"2022-08-29\",\"2022-08-30\",\"2022-08-31\",\"2022-09-01\",\"2022-09-02\",\"2022-09-03\",\"2022-09-04\",\"2022-09-05\",\"2022-09-06\",\"2022-09-07\",\"2022-09-08\",\"2022-09-09\",\"2022-09-10\",\"2022-09-11\",\"2022-09-12\",\"2022-09-13\",\"2022-09-14\",\"2022-09-15\",\"2022-09-16\",\"2022-09-17\",\"2022-09-18\",\"2022-09-19\",\"2022-09-20\",\"2022-09-21\",\"2022-09-22\",\"2022-09-23\",\"2022-09-24\",\"2022-09-25\",\"2022-09-26\",\"2022-09-27\",\"2022-09-28\",\"2022-09-29\",\"2022-09-30\",\"2022-10-01\",\"2022-10-02\",\"2022-10-03\",\"2022-10-04\",\"2022-10-05\",\"2022-10-06\",\"2022-10-07\",\"2022-10-08\",\"2022-10-09\",\"2022-10-10\",\"2022-10-11\",\"2022-10-12\",\"2022-10-13\",\"2022-10-14\",\"2022-10-15\",\"2022-10-16\",\"2022-10-17\",\"2022-10-18\",\"2022-10-19\",\"2022-10-20\",\"2022-10-21\",\"2022-10-22\",\"2022-10-23\",\"2022-10-24\",\"2022-10-25\",\"2022-10-26\",\"2022-10-27\",\"2022-10-28\"],\"y\":[1.005785584449768,1.0072999000549316,1.0015285015106201,1.000842571258545,0.9937865138053894,1.001147985458374,1.0043666362762451,1.00532066822052,1.0128542184829712,1.0004405975341797,1.0039641857147217,1.0000807046890259,1.0008296966552734,1.0006135702133179,1.001132845878601,1.0003924369812012,1.0024628639221191,1.0003119707107544,1.0003411769866943,1.0025933980941772,0.9995310306549072,1.0011965036392212,0.9998863935470581,1.012300729751587,1.002751350402832,1.0006619691848755,0.999981164932251,0.9985930323600769,1.0013712644577026,1.0020561218261719,0.9831628203392029,1.0006299018859863,1.0003836154937744,1.0006588697433472,1.000329852104187,0.9977062940597534,1.0019553899765015,1.0049504041671753,1.0000070333480835,1.0255934000015259,1.0008015632629395,1.0001516342163086,1.0000122785568237,1.0001654624938965,1.0071686506271362,1.0001466274261475,0.9999206066131592,0.9953821301460266,1.0011950731277466,1.000086784362793,1.000128149986267,1.0005077123641968,1.0050041675567627,0.9988961219787598,1.0006998777389526,1.0002894401550293,1.0000289678573608,1.0046322345733643,0.9986682534217834,1.0008137226104736,1.0003641843795776,1.0130324363708496,1.0116870403289795,1.0011227130889893,1.0000169277191162,1.0052074193954468,0.9780609011650085,0.9977986216545105,1.0004478693008423,1.0096499919891357,1.0005518198013306,0.9990648627281189,0.9823586344718933,1.003218412399292,1.0000065565109253,0.9986617565155029,0.9940184354782104,1.0039507150650024,1.0021140575408936,1.0007133483886719,1.002029538154602,0.992586076259613,1.012770175933838,0.9979479908943176,0.9996038675308228,1.0012892484664917,1.0004327297210693,1.0011990070343018,1.0002270936965942,1.0000792741775513,0.999472439289093,1.0002912282943726,1.0238773822784424,1.001609206199646,1.0003060102462769,0.9970797300338745,0.998681366443634,0.9996939301490784,0.9897801280021667,1.0032981634140015],\"type\":\"scatter\"},{\"name\":\"Real Price\",\"x\":[\"2022-07-21\",\"2022-07-22\",\"2022-07-23\",\"2022-07-24\",\"2022-07-25\",\"2022-07-26\",\"2022-07-27\",\"2022-07-28\",\"2022-07-29\",\"2022-07-30\",\"2022-07-31\",\"2022-08-01\",\"2022-08-02\",\"2022-08-03\",\"2022-08-04\",\"2022-08-05\",\"2022-08-06\",\"2022-08-07\",\"2022-08-08\",\"2022-08-09\",\"2022-08-10\",\"2022-08-11\",\"2022-08-12\",\"2022-08-13\",\"2022-08-14\",\"2022-08-15\",\"2022-08-16\",\"2022-08-17\",\"2022-08-18\",\"2022-08-19\",\"2022-08-20\",\"2022-08-21\",\"2022-08-22\",\"2022-08-23\",\"2022-08-24\",\"2022-08-25\",\"2022-08-26\",\"2022-08-27\",\"2022-08-28\",\"2022-08-29\",\"2022-08-30\",\"2022-08-31\",\"2022-09-01\",\"2022-09-02\",\"2022-09-03\",\"2022-09-04\",\"2022-09-05\",\"2022-09-06\",\"2022-09-07\",\"2022-09-08\",\"2022-09-09\",\"2022-09-10\",\"2022-09-11\",\"2022-09-12\",\"2022-09-13\",\"2022-09-14\",\"2022-09-15\",\"2022-09-16\",\"2022-09-17\",\"2022-09-18\",\"2022-09-19\",\"2022-09-20\",\"2022-09-21\",\"2022-09-22\",\"2022-09-23\",\"2022-09-24\",\"2022-09-25\",\"2022-09-26\",\"2022-09-27\",\"2022-09-28\",\"2022-09-29\",\"2022-09-30\",\"2022-10-01\",\"2022-10-02\",\"2022-10-03\",\"2022-10-04\",\"2022-10-05\",\"2022-10-06\",\"2022-10-07\",\"2022-10-08\",\"2022-10-09\",\"2022-10-10\",\"2022-10-11\",\"2022-10-12\",\"2022-10-13\",\"2022-10-14\",\"2022-10-15\",\"2022-10-16\",\"2022-10-17\",\"2022-10-18\",\"2022-10-19\",\"2022-10-20\",\"2022-10-21\",\"2022-10-22\",\"2022-10-23\",\"2022-10-24\",\"2022-10-25\",\"2022-10-26\",\"2022-10-27\",\"2022-10-28\"],\"y\":[1.001462,1.003045,0.998806,1.000511,1.00288,1.000109,1.01713,1.005677,1.011416,1.000216,1.00286,1.000336,1.001051,1.000642,1.00118,1.000412,1.00393,1.000249,1.000604,0.999124,1.009775,1.000828,1.000449,1.001703,1.00424,1.001195,1.000016,1.013318,1.00395,0.997842,0.989789,1.001517,0.99843,1.000284,1.00004,0.998909,1.001626,1.003473,1.000281,1.018335,0.996514,1.00384,1.000143,1.000483,1.005855,1.000113,1.000062,0.998604,1.000896,1.000149,0.998791,1.00042,1.00142,0.985739,1.003026,1.000127,1.000078,1.002478,0.99928,0.996832,0.999473,1.007552,1.00253,1.000448,1.000289,1.004178,0.983548,1.00245,1.000219,1.010707,1.00498,0.996185,0.980969,1.00411,1.00005,1.001863,0.990747,1.00116,0.998904,1.000585,0.98879,0.993501,0.997484,1.00415,1.000001,1.000114,1.000197,1.000149,1.000146,1.000804,1.00621,1.000368,1.020558,1.003004,0.999838,0.990274,0.998667,1.002559,0.987027,0.997631],\"type\":\"scatter\"}],                        {\"template\":{\"data\":{\"barpolar\":[{\"marker\":{\"line\":{\"color\":\"#E5ECF6\",\"width\":0.5},\"pattern\":{\"fillmode\":\"overlay\",\"size\":10,\"solidity\":0.2}},\"type\":\"barpolar\"}],\"bar\":[{\"error_x\":{\"color\":\"#2a3f5f\"},\"error_y\":{\"color\":\"#2a3f5f\"},\"marker\":{\"line\":{\"color\":\"#E5ECF6\",\"width\":0.5},\"pattern\":{\"fillmode\":\"overlay\",\"size\":10,\"solidity\":0.2}},\"type\":\"bar\"}],\"carpet\":[{\"aaxis\":{\"endlinecolor\":\"#2a3f5f\",\"gridcolor\":\"white\",\"linecolor\":\"white\",\"minorgridcolor\":\"white\",\"startlinecolor\":\"#2a3f5f\"},\"baxis\":{\"endlinecolor\":\"#2a3f5f\",\"gridcolor\":\"white\",\"linecolor\":\"white\",\"minorgridcolor\":\"white\",\"startlinecolor\":\"#2a3f5f\"},\"type\":\"carpet\"}],\"choropleth\":[{\"colorbar\":{\"outlinewidth\":0,\"ticks\":\"\"},\"type\":\"choropleth\"}],\"contourcarpet\":[{\"colorbar\":{\"outlinewidth\":0,\"ticks\":\"\"},\"type\":\"contourcarpet\"}],\"contour\":[{\"colorbar\":{\"outlinewidth\":0,\"ticks\":\"\"},\"colorscale\":[[0.0,\"#0d0887\"],[0.1111111111111111,\"#46039f\"],[0.2222222222222222,\"#7201a8\"],[0.3333333333333333,\"#9c179e\"],[0.4444444444444444,\"#bd3786\"],[0.5555555555555556,\"#d8576b\"],[0.6666666666666666,\"#ed7953\"],[0.7777777777777778,\"#fb9f3a\"],[0.8888888888888888,\"#fdca26\"],[1.0,\"#f0f921\"]],\"type\":\"contour\"}],\"heatmapgl\":[{\"colorbar\":{\"outlinewidth\":0,\"ticks\":\"\"},\"colorscale\":[[0.0,\"#0d0887\"],[0.1111111111111111,\"#46039f\"],[0.2222222222222222,\"#7201a8\"],[0.3333333333333333,\"#9c179e\"],[0.4444444444444444,\"#bd3786\"],[0.5555555555555556,\"#d8576b\"],[0.6666666666666666,\"#ed7953\"],[0.7777777777777778,\"#fb9f3a\"],[0.8888888888888888,\"#fdca26\"],[1.0,\"#f0f921\"]],\"type\":\"heatmapgl\"}],\"heatmap\":[{\"colorbar\":{\"outlinewidth\":0,\"ticks\":\"\"},\"colorscale\":[[0.0,\"#0d0887\"],[0.1111111111111111,\"#46039f\"],[0.2222222222222222,\"#7201a8\"],[0.3333333333333333,\"#9c179e\"],[0.4444444444444444,\"#bd3786\"],[0.5555555555555556,\"#d8576b\"],[0.6666666666666666,\"#ed7953\"],[0.7777777777777778,\"#fb9f3a\"],[0.8888888888888888,\"#fdca26\"],[1.0,\"#f0f921\"]],\"type\":\"heatmap\"}],\"histogram2dcontour\":[{\"colorbar\":{\"outlinewidth\":0,\"ticks\":\"\"},\"colorscale\":[[0.0,\"#0d0887\"],[0.1111111111111111,\"#46039f\"],[0.2222222222222222,\"#7201a8\"],[0.3333333333333333,\"#9c179e\"],[0.4444444444444444,\"#bd3786\"],[0.5555555555555556,\"#d8576b\"],[0.6666666666666666,\"#ed7953\"],[0.7777777777777778,\"#fb9f3a\"],[0.8888888888888888,\"#fdca26\"],[1.0,\"#f0f921\"]],\"type\":\"histogram2dcontour\"}],\"histogram2d\":[{\"colorbar\":{\"outlinewidth\":0,\"ticks\":\"\"},\"colorscale\":[[0.0,\"#0d0887\"],[0.1111111111111111,\"#46039f\"],[0.2222222222222222,\"#7201a8\"],[0.3333333333333333,\"#9c179e\"],[0.4444444444444444,\"#bd3786\"],[0.5555555555555556,\"#d8576b\"],[0.6666666666666666,\"#ed7953\"],[0.7777777777777778,\"#fb9f3a\"],[0.8888888888888888,\"#fdca26\"],[1.0,\"#f0f921\"]],\"type\":\"histogram2d\"}],\"histogram\":[{\"marker\":{\"pattern\":{\"fillmode\":\"overlay\",\"size\":10,\"solidity\":0.2}},\"type\":\"histogram\"}],\"mesh3d\":[{\"colorbar\":{\"outlinewidth\":0,\"ticks\":\"\"},\"type\":\"mesh3d\"}],\"parcoords\":[{\"line\":{\"colorbar\":{\"outlinewidth\":0,\"ticks\":\"\"}},\"type\":\"parcoords\"}],\"pie\":[{\"automargin\":true,\"type\":\"pie\"}],\"scatter3d\":[{\"line\":{\"colorbar\":{\"outlinewidth\":0,\"ticks\":\"\"}},\"marker\":{\"colorbar\":{\"outlinewidth\":0,\"ticks\":\"\"}},\"type\":\"scatter3d\"}],\"scattercarpet\":[{\"marker\":{\"colorbar\":{\"outlinewidth\":0,\"ticks\":\"\"}},\"type\":\"scattercarpet\"}],\"scattergeo\":[{\"marker\":{\"colorbar\":{\"outlinewidth\":0,\"ticks\":\"\"}},\"type\":\"scattergeo\"}],\"scattergl\":[{\"marker\":{\"colorbar\":{\"outlinewidth\":0,\"ticks\":\"\"}},\"type\":\"scattergl\"}],\"scattermapbox\":[{\"marker\":{\"colorbar\":{\"outlinewidth\":0,\"ticks\":\"\"}},\"type\":\"scattermapbox\"}],\"scatterpolargl\":[{\"marker\":{\"colorbar\":{\"outlinewidth\":0,\"ticks\":\"\"}},\"type\":\"scatterpolargl\"}],\"scatterpolar\":[{\"marker\":{\"colorbar\":{\"outlinewidth\":0,\"ticks\":\"\"}},\"type\":\"scatterpolar\"}],\"scatter\":[{\"marker\":{\"colorbar\":{\"outlinewidth\":0,\"ticks\":\"\"}},\"type\":\"scatter\"}],\"scatterternary\":[{\"marker\":{\"colorbar\":{\"outlinewidth\":0,\"ticks\":\"\"}},\"type\":\"scatterternary\"}],\"surface\":[{\"colorbar\":{\"outlinewidth\":0,\"ticks\":\"\"},\"colorscale\":[[0.0,\"#0d0887\"],[0.1111111111111111,\"#46039f\"],[0.2222222222222222,\"#7201a8\"],[0.3333333333333333,\"#9c179e\"],[0.4444444444444444,\"#bd3786\"],[0.5555555555555556,\"#d8576b\"],[0.6666666666666666,\"#ed7953\"],[0.7777777777777778,\"#fb9f3a\"],[0.8888888888888888,\"#fdca26\"],[1.0,\"#f0f921\"]],\"type\":\"surface\"}],\"table\":[{\"cells\":{\"fill\":{\"color\":\"#EBF0F8\"},\"line\":{\"color\":\"white\"}},\"header\":{\"fill\":{\"color\":\"#C8D4E3\"},\"line\":{\"color\":\"white\"}},\"type\":\"table\"}]},\"layout\":{\"annotationdefaults\":{\"arrowcolor\":\"#2a3f5f\",\"arrowhead\":0,\"arrowwidth\":1},\"autotypenumbers\":\"strict\",\"coloraxis\":{\"colorbar\":{\"outlinewidth\":0,\"ticks\":\"\"}},\"colorscale\":{\"diverging\":[[0,\"#8e0152\"],[0.1,\"#c51b7d\"],[0.2,\"#de77ae\"],[0.3,\"#f1b6da\"],[0.4,\"#fde0ef\"],[0.5,\"#f7f7f7\"],[0.6,\"#e6f5d0\"],[0.7,\"#b8e186\"],[0.8,\"#7fbc41\"],[0.9,\"#4d9221\"],[1,\"#276419\"]],\"sequential\":[[0.0,\"#0d0887\"],[0.1111111111111111,\"#46039f\"],[0.2222222222222222,\"#7201a8\"],[0.3333333333333333,\"#9c179e\"],[0.4444444444444444,\"#bd3786\"],[0.5555555555555556,\"#d8576b\"],[0.6666666666666666,\"#ed7953\"],[0.7777777777777778,\"#fb9f3a\"],[0.8888888888888888,\"#fdca26\"],[1.0,\"#f0f921\"]],\"sequentialminus\":[[0.0,\"#0d0887\"],[0.1111111111111111,\"#46039f\"],[0.2222222222222222,\"#7201a8\"],[0.3333333333333333,\"#9c179e\"],[0.4444444444444444,\"#bd3786\"],[0.5555555555555556,\"#d8576b\"],[0.6666666666666666,\"#ed7953\"],[0.7777777777777778,\"#fb9f3a\"],[0.8888888888888888,\"#fdca26\"],[1.0,\"#f0f921\"]]},\"colorway\":[\"#636efa\",\"#EF553B\",\"#00cc96\",\"#ab63fa\",\"#FFA15A\",\"#19d3f3\",\"#FF6692\",\"#B6E880\",\"#FF97FF\",\"#FECB52\"],\"font\":{\"color\":\"#2a3f5f\"},\"geo\":{\"bgcolor\":\"white\",\"lakecolor\":\"white\",\"landcolor\":\"#E5ECF6\",\"showlakes\":true,\"showland\":true,\"subunitcolor\":\"white\"},\"hoverlabel\":{\"align\":\"left\"},\"hovermode\":\"closest\",\"mapbox\":{\"style\":\"light\"},\"paper_bgcolor\":\"white\",\"plot_bgcolor\":\"#E5ECF6\",\"polar\":{\"angularaxis\":{\"gridcolor\":\"white\",\"linecolor\":\"white\",\"ticks\":\"\"},\"bgcolor\":\"#E5ECF6\",\"radialaxis\":{\"gridcolor\":\"white\",\"linecolor\":\"white\",\"ticks\":\"\"}},\"scene\":{\"xaxis\":{\"backgroundcolor\":\"#E5ECF6\",\"gridcolor\":\"white\",\"gridwidth\":2,\"linecolor\":\"white\",\"showbackground\":true,\"ticks\":\"\",\"zerolinecolor\":\"white\"},\"yaxis\":{\"backgroundcolor\":\"#E5ECF6\",\"gridcolor\":\"white\",\"gridwidth\":2,\"linecolor\":\"white\",\"showbackground\":true,\"ticks\":\"\",\"zerolinecolor\":\"white\"},\"zaxis\":{\"backgroundcolor\":\"#E5ECF6\",\"gridcolor\":\"white\",\"gridwidth\":2,\"linecolor\":\"white\",\"showbackground\":true,\"ticks\":\"\",\"zerolinecolor\":\"white\"}},\"shapedefaults\":{\"line\":{\"color\":\"#2a3f5f\"}},\"ternary\":{\"aaxis\":{\"gridcolor\":\"white\",\"linecolor\":\"white\",\"ticks\":\"\"},\"baxis\":{\"gridcolor\":\"white\",\"linecolor\":\"white\",\"ticks\":\"\"},\"bgcolor\":\"#E5ECF6\",\"caxis\":{\"gridcolor\":\"white\",\"linecolor\":\"white\",\"ticks\":\"\"}},\"title\":{\"x\":0.05},\"xaxis\":{\"automargin\":true,\"gridcolor\":\"white\",\"linecolor\":\"white\",\"ticks\":\"\",\"title\":{\"standoff\":15},\"zerolinecolor\":\"white\",\"zerolinewidth\":2},\"yaxis\":{\"automargin\":true,\"gridcolor\":\"white\",\"linecolor\":\"white\",\"ticks\":\"\",\"title\":{\"standoff\":15},\"zerolinecolor\":\"white\",\"zerolinewidth\":2}}}},                        {\"responsive\": true}                    ).then(function(){\n",
              "                            \n",
              "var gd = document.getElementById('fbe9a317-598a-49df-b5d1-995dfb3e1c23');\n",
              "var x = new MutationObserver(function (mutations, observer) {{\n",
              "        var display = window.getComputedStyle(gd).display;\n",
              "        if (!display || display === 'none') {{\n",
              "            console.log([gd, 'removed!']);\n",
              "            Plotly.purge(gd);\n",
              "            observer.disconnect();\n",
              "        }}\n",
              "}});\n",
              "\n",
              "// Listen for the removal of the full notebook cells\n",
              "var notebookContainer = gd.closest('#notebook-container');\n",
              "if (notebookContainer) {{\n",
              "    x.observe(notebookContainer, {childList: true});\n",
              "}}\n",
              "\n",
              "// Listen for the clearing of the current output cell\n",
              "var outputEl = gd.closest('.output');\n",
              "if (outputEl) {{\n",
              "    x.observe(outputEl, {childList: true});\n",
              "}}\n",
              "\n",
              "                        })                };                            </script>        </div>\n",
              "</body>\n",
              "</html>"
            ]
          },
          "metadata": {}
        }
      ]
    },
    {
      "cell_type": "code",
      "source": [],
      "metadata": {
        "id": "yEdytbociTlG"
      },
      "execution_count": null,
      "outputs": []
    },
    {
      "cell_type": "code",
      "source": [],
      "metadata": {
        "id": "WRAtDx9KiTiH"
      },
      "execution_count": null,
      "outputs": []
    }
  ]
}